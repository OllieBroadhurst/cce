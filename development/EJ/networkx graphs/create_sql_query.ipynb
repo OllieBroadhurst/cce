{
 "cells": [
  {
   "cell_type": "code",
   "execution_count": 1,
   "metadata": {},
   "outputs": [],
   "source": [
    "#import required packages\n",
    "import pandas as pd\n",
    "import numpy as np\n",
    "import networkx as nx\n",
    "import matplotlib.pyplot as plt\n",
    "import pandas_gbq\n",
    "import plotly.graph_objs as go\n",
    "import plotly as ply\n",
    "import chart_studio.plotly as py\n",
    "import dash\n",
    "import dash_html_components as html\n",
    "import dash_core_components as dcc\n",
    "from dash.dependencies import Input, Output\n",
    "from datetime import datetime as dt, timedelta"
   ]
  },
  {
   "cell_type": "code",
   "execution_count": 2,
   "metadata": {},
   "outputs": [],
   "source": [
    "def service_options():\n",
    "    service_sql = \"\"\"SELECT DISTINCT SERVICE_TYPE value FROM\n",
    "    `bcx-insights.telkom_customerexperience.customerdata_20190902_00_anon`\n",
    "    WHERE SERVICE_TYPE is not NULL AND CUSTOMER_NO_ANON in\n",
    "    (SELECT DISTINCT ACCOUNT_NO_ANON FROM\n",
    "    `bcx-insights.telkom_customerexperience.orders_20190903_00_anon`)\"\"\"\n",
    "\n",
    "    options = pd.io.gbq.read_gbq(service_sql,\n",
    "                                    project_id='bcx-insights',\n",
    "                                    dialect='standard').fillna('N/A')\n",
    "\n",
    "    options['label'] = options['value'].str.title()\n",
    "\n",
    "    options = [{'label': x['label'],\n",
    "                'value': x['value']} for _, x in options.iterrows()]\n",
    "\n",
    "    return options\n"
   ]
  },
  {
   "cell_type": "code",
   "execution_count": 3,
   "metadata": {},
   "outputs": [
    {
     "data": {
      "text/plain": [
       "[{'label': 'Fixed', 'value': 'FIXED'}, {'label': 'Mobile', 'value': 'MOBILE'}]"
      ]
     },
     "execution_count": 3,
     "metadata": {},
     "output_type": "execute_result"
    }
   ],
   "source": [
    "service_options()"
   ]
  },
  {
   "cell_type": "code",
   "execution_count": 4,
   "metadata": {},
   "outputs": [],
   "source": [
    "def customer_type():\n",
    "    type_sql = \"\"\"SELECT DISTINCT CUSTOMER_TYPE_DESC value FROM\n",
    "    `bcx-insights.telkom_customerexperience.customerdata_20190902_00_anon`\n",
    "    WHERE CUSTOMER_TYPE_DESC is not NULL AND CUSTOMER_NO_ANON in\n",
    "    (SELECT DISTINCT ACCOUNT_NO_ANON FROM\n",
    "    `bcx-insights.telkom_customerexperience.orders_20190903_00_anon`)\n",
    "    ORDER BY CUSTOMER_TYPE_DESC\"\"\"\n",
    "\n",
    "    types = pd.io.gbq.read_gbq(type_sql,\n",
    "                                    project_id='bcx-insights',\n",
    "                                    dialect='standard').fillna('N/A')\n",
    "\n",
    "    types['label'] = types['value'].str.title()\n",
    "\n",
    "    types = [{'label': x['label'],\n",
    "                'value': x['value']} for _, x in types.iterrows()]\n",
    "\n",
    "    return types"
   ]
  },
  {
   "cell_type": "code",
   "execution_count": 5,
   "metadata": {},
   "outputs": [
    {
     "data": {
      "text/plain": [
       "[{'label': 'Bcx Provincial Government', 'value': 'BCX Provincial Government'},\n",
       " {'label': 'Budget Control', 'value': 'Budget Control'},\n",
       " {'label': 'Bus. Default', 'value': 'Bus. Default'},\n",
       " {'label': 'Central', 'value': 'Central'},\n",
       " {'label': 'Central Sales Gp L Fs', 'value': 'Central Sales GP L FS'}]"
      ]
     },
     "execution_count": 5,
     "metadata": {},
     "output_type": "execute_result"
    }
   ],
   "source": [
    "customer_type()[:5]"
   ]
  },
  {
   "cell_type": "code",
   "execution_count": 6,
   "metadata": {},
   "outputs": [],
   "source": [
    "def has_dispute():\n",
    "    return [{'label': 'Either', 'value': 'Either'},\n",
    "            {'label': 'Yes', 'value': 'Yes'},\n",
    "            {'label': 'No', 'value': 'No'}]"
   ]
  },
  {
   "cell_type": "code",
   "execution_count": 7,
   "metadata": {},
   "outputs": [
    {
     "data": {
      "text/plain": [
       "[{'label': 'Either', 'value': 'Either'},\n",
       " {'label': 'Yes', 'value': 'Yes'},\n",
       " {'label': 'No', 'value': 'No'}]"
      ]
     },
     "execution_count": 7,
     "metadata": {},
     "output_type": "execute_result"
    }
   ],
   "source": [
    "has_dispute()"
   ]
  },
  {
   "cell_type": "code",
   "execution_count": 8,
   "metadata": {},
   "outputs": [],
   "source": [
    "def has_fault():\n",
    "    return [{'label': 'Either', 'value': 'Either'},\n",
    "            {'label': 'Yes', 'value': 'Yes'},\n",
    "            {'label': 'No', 'value': 'No'}]"
   ]
  },
  {
   "cell_type": "code",
   "execution_count": 9,
   "metadata": {},
   "outputs": [
    {
     "data": {
      "text/plain": [
       "[{'label': 'Either', 'value': 'Either'},\n",
       " {'label': 'Yes', 'value': 'Yes'},\n",
       " {'label': 'No', 'value': 'No'}]"
      ]
     },
     "execution_count": 9,
     "metadata": {},
     "output_type": "execute_result"
    }
   ],
   "source": [
    "has_fault()"
   ]
  },
  {
   "cell_type": "code",
   "execution_count": 10,
   "metadata": {},
   "outputs": [],
   "source": [
    "def deal_desc():\n",
    "    type_sql = r\"\"\"SELECT distinct DEAL_DESC,\n",
    "    TRIM(REGEXP_REPLACE(DEAL_DESC, '(\\\\(|\\\\)|\\\\bR\\\\d*|\\\\d*(GB|MB|@|Mbps)|\\\\s\\\\d|\\\\+|\\\\b\\\\d\\\\b)', '')) DEAL\n",
    "    FROM `bcx-insights.telkom_customerexperience.orders_20190926_00_anon`\"\"\"\n",
    "\n",
    "    df = pd.io.gbq.read_gbq(type_sql,\n",
    "                            project_id='bcx-insights',\n",
    "                            dialect='standard').dropna().drop_duplicates()\n",
    "\n",
    "\n",
    "    df['DEAL']  = df['DEAL'].str.split(' on')\n",
    "\n",
    "    options = []\n",
    "    for r in df['DEAL'] :\n",
    "      options.append(r[-1].strip())\n",
    "\n",
    "    df['DEAL'] = options\n",
    "    deal_map = df.groupby('DEAL')['DEAL_DESC'].apply(list)\n",
    "    deal_map = deal_map.to_dict()\n",
    "\n",
    "    options = [{'label': k, 'value': str(v)} for k, v in deal_map.items()]\n",
    "\n",
    "    return options"
   ]
  },
  {
   "cell_type": "code",
   "execution_count": 11,
   "metadata": {},
   "outputs": [
    {
     "data": {
      "text/plain": [
       "[{'label': 'TI Do Uncapped Advanced', 'value': \"['TI Do Uncapped Advanced']\"},\n",
       " {'label': 'BizTalk700 VoIP', 'value': \"['BizTalk 2700 VoIP']\"},\n",
       " {'label': 'SmartInternet - Deal TMI1604072',\n",
       "  'value': \"['SmartInternet - 1GB Deal TMI1604072']\"},\n",
       " {'label': 'BizTalk Term Contract', 'value': \"['BizTalk Term Contract']\"},\n",
       " {'label': 'Hosted Storage', 'value': \"['Hosted Storage']\"}]"
      ]
     },
     "execution_count": 11,
     "metadata": {},
     "output_type": "execute_result"
    }
   ],
   "source": [
    "deal_desc()[:5]"
   ]
  },
  {
   "cell_type": "code",
   "execution_count": 12,
   "metadata": {},
   "outputs": [],
   "source": [
    "def action_status():\n",
    "    type_sql = r\"\"\"SELECT distinct ACTION_STATUS_DESC\n",
    "    FROM `bcx-insights.telkom_customerexperience.orders_20190926_00_anon`\n",
    "    ORDER BY ACTION_STATUS_DESC\"\"\"\n",
    "\n",
    "    df = pd.io.gbq.read_gbq(type_sql,\n",
    "                            project_id='bcx-insights',\n",
    "                            dialect='standard').dropna().drop_duplicates()\n",
    "\n",
    "    df = df['ACTION_STATUS_DESC'].tolist()\n",
    "\n",
    "    options = [{'label': v, 'value': v} for v in df]\n",
    "\n",
    "    return options"
   ]
  },
  {
   "cell_type": "code",
   "execution_count": 13,
   "metadata": {},
   "outputs": [
    {
     "data": {
      "text/plain": [
       "[{'label': 'Amended', 'value': 'Amended'},\n",
       " {'label': 'Being Amended', 'value': 'Being Amended'},\n",
       " {'label': 'Cancelled', 'value': 'Cancelled'},\n",
       " {'label': 'Completion', 'value': 'Completion'},\n",
       " {'label': 'Delivery', 'value': 'Delivery'},\n",
       " {'label': 'Discontinued', 'value': 'Discontinued'},\n",
       " {'label': 'Done', 'value': 'Done'},\n",
       " {'label': 'Initial', 'value': 'Initial'},\n",
       " {'label': 'Negotiation', 'value': 'Negotiation'},\n",
       " {'label': 'To Be Cancelled', 'value': 'To Be Cancelled'}]"
      ]
     },
     "execution_count": 13,
     "metadata": {},
     "output_type": "execute_result"
    }
   ],
   "source": [
    "action_status()"
   ]
  },
  {
   "cell_type": "code",
   "execution_count": 14,
   "metadata": {},
   "outputs": [
    {
     "name": "stdout",
     "output_type": "stream",
     "text": [
      "[{'label': 'Fixed', 'value': 'FIXED'}, {'label': 'Mobile', 'value': 'MOBILE'}]\n"
     ]
    }
   ],
   "source": [
    "def action_type():\n",
    "    type_sql = r\"\"\"SELECT distinct ACTION_TYPE_DESC\n",
    "    FROM `bcx-insights.telkom_customerexperience.orders_20190926_00_anon`\n",
    "    order by ACTION_TYPE_DESC\"\"\"\n",
    "\n",
    "    df = pd.io.gbq.read_gbq(type_sql,\n",
    "                            project_id='bcx-insights',\n",
    "                            dialect='standard')\n",
    "\n",
    "    df['ACTION_TYPE_DESC'] = df['ACTION_TYPE_DESC'].str.title().drop_duplicates()\n",
    "\n",
    "    df = df['ACTION_TYPE_DESC'].dropna().tolist()\n",
    "\n",
    "    options = [{'label': v, 'value': v} for v in df]\n",
    "\n",
    "    return options\n",
    "\n",
    "if __name__ == '__main__':\n",
    "    print(service_options())"
   ]
  },
  {
   "cell_type": "code",
   "execution_count": 15,
   "metadata": {},
   "outputs": [
    {
     "data": {
      "text/plain": [
       "[{'label': 'Automatic Update Billing', 'value': 'Automatic Update Billing'},\n",
       " {'label': 'Cease', 'value': 'Cease'},\n",
       " {'label': 'Cease Part Of Migrate', 'value': 'Cease Part Of Migrate'},\n",
       " {'label': 'Cease Part Of Move', 'value': 'Cease Part Of Move'},\n",
       " {'label': 'Cease Part Of Replace Offer',\n",
       "  'value': 'Cease Part Of Replace Offer'},\n",
       " {'label': 'Cease Due To Collection', 'value': 'Cease Due To Collection'},\n",
       " {'label': 'Change', 'value': 'Change'},\n",
       " {'label': 'Change - Dispatchable', 'value': 'Change - Dispatchable'},\n",
       " {'label': 'Change - No Dispatch', 'value': 'Change - No Dispatch'},\n",
       " {'label': 'Change - T&M Dispatch', 'value': 'Change - T&M Dispatch'},\n",
       " {'label': 'Change Ban To Ban', 'value': 'Change Ban To Ban'},\n",
       " {'label': 'Change Network', 'value': 'Change Network'},\n",
       " {'label': 'Change Ownership', 'value': 'Change Ownership'},\n",
       " {'label': 'Change Part Of Replace Offer',\n",
       "  'value': 'Change Part Of Replace Offer'},\n",
       " {'label': 'Change Sn', 'value': 'Change Sn'},\n",
       " {'label': 'Collection Cease', 'value': 'Collection Cease'},\n",
       " {'label': 'Collection Resume', 'value': 'Collection Resume'},\n",
       " {'label': 'Collection Suspend', 'value': 'Collection Suspend'},\n",
       " {'label': 'Hard Suspend', 'value': 'Hard Suspend'},\n",
       " {'label': 'Indoor Transfer', 'value': 'Indoor Transfer'},\n",
       " {'label': 'Migrate', 'value': 'Migrate'},\n",
       " {'label': 'Modify Address', 'value': 'Modify Address'},\n",
       " {'label': 'Move', 'value': 'Move'},\n",
       " {'label': 'Move And Migrate', 'value': 'Move And Migrate'},\n",
       " {'label': 'Move Outdoor Other Exchange',\n",
       "  'value': 'Move Outdoor Other Exchange'},\n",
       " {'label': 'Move Outdoor Same Exchange',\n",
       "  'value': 'Move Outdoor Same Exchange'},\n",
       " {'label': 'Outdoor Transfer', 'value': 'Outdoor Transfer'},\n",
       " {'label': 'Provide', 'value': 'Provide'},\n",
       " {'label': 'Provide Part Of Migrate', 'value': 'Provide Part Of Migrate'},\n",
       " {'label': 'Provide Part Of Move', 'value': 'Provide Part Of Move'},\n",
       " {'label': 'Provide Part Of Move And Migrate',\n",
       "  'value': 'Provide Part Of Move And Migrate'},\n",
       " {'label': 'Provide Same As', 'value': 'Provide Same As'},\n",
       " {'label': 'Re-Establish', 'value': 'Re-Establish'},\n",
       " {'label': 'Receive  Ownership', 'value': 'Receive  Ownership'},\n",
       " {'label': 'Reestablish', 'value': 'Reestablish'},\n",
       " {'label': 'Replace Offer', 'value': 'Replace Offer'},\n",
       " {'label': 'Resume', 'value': 'Resume'},\n",
       " {'label': 'Resume From Suspension Due To Collection',\n",
       "  'value': 'Resume From Suspension Due To Collection'},\n",
       " {'label': 'Soft Suspend', 'value': 'Soft Suspend'},\n",
       " {'label': 'Suspend', 'value': 'Suspend'},\n",
       " {'label': 'Update Billing Attribute', 'value': 'Update Billing Attribute'},\n",
       " {'label': 'Update Pis', 'value': 'Update Pis'}]"
      ]
     },
     "execution_count": 15,
     "metadata": {},
     "output_type": "execute_result"
    }
   ],
   "source": [
    "action_type()"
   ]
  },
  {
   "cell_type": "code",
   "execution_count": 16,
   "metadata": {},
   "outputs": [],
   "source": [
    "def build_query(iterable, field_name):\n",
    "    if iterable is not None:\n",
    "        if len(iterable) > 0:\n",
    "            iterable = ','.join([\"'\" + s + \"'\" for s in iterable])\n",
    "            iterable = 'and {} IN ({})'.format(field_name, iterable)\n",
    "            return iterable\n",
    "        else:\n",
    "            return ''\n",
    "    else:\n",
    "        return ''"
   ]
  },
  {
   "cell_type": "code",
   "execution_count": 17,
   "metadata": {},
   "outputs": [],
   "source": [
    "def dispute_query(dispute_val, start_date_val, end_date_val):\n",
    "    sql = \"\"\"\n",
    "        (SELECT DISTINCT ACCOUNT_NO_ANON dispute_id FROM\n",
    "        `bcx-insights.telkom_customerexperience.disputes_20190903_00_anon`\n",
    "        WHERE RESOLUTION_DATE BETWEEN '{}' AND '{}') as disputes\n",
    "        on orders.ACCOUNT_NO_ANON = disputes.dispute_id\"\"\".format(start_date_val, end_date_val)\n",
    "\n",
    "    if dispute_val == 'Yes':\n",
    "        join_type = 'JOIN '\n",
    "        return join_type + sql, ''\n",
    "    elif dispute_val == 'No':\n",
    "        join_type = 'LEFT JOIN '\n",
    "\n",
    "        return join_type + sql, \"AND dispute_id is Null\"\n",
    "    else:\n",
    "        return '', ''"
   ]
  },
  {
   "cell_type": "code",
   "execution_count": 18,
   "metadata": {},
   "outputs": [
    {
     "data": {
      "text/plain": [
       "('', '')"
      ]
     },
     "execution_count": 18,
     "metadata": {},
     "output_type": "execute_result"
    }
   ],
   "source": [
    "dispute_query(None, None, None)"
   ]
  },
  {
   "cell_type": "code",
   "execution_count": 19,
   "metadata": {},
   "outputs": [],
   "source": [
    "def fault_query(fault_val, start_date_val, end_date_val):\n",
    "    sql = \"\"\"\n",
    "        (SELECT DISTINCT SERVICE_KEY_ANON fault_id FROM\n",
    "        `bcx-insights.telkom_customerexperience.faults_20190903_00_anon`\n",
    "        WHERE DATDRGT BETWEEN '{}' AND '{}') as faults\n",
    "        on orders.ACCOUNT_NO_ANON = faults.fault_id\"\"\".format(start_date_val, end_date_val)\n",
    "\n",
    "    if fault_val == 'Yes':\n",
    "        join_type = 'JOIN '\n",
    "        return join_type + sql, ''\n",
    "    elif fault_val == 'No':\n",
    "        join_type = 'LEFT JOIN '\n",
    "\n",
    "        return join_type + sql, \"AND fault_id is Null\"\n",
    "    else:\n",
    "        return '', ''"
   ]
  },
  {
   "cell_type": "code",
   "execution_count": 20,
   "metadata": {},
   "outputs": [
    {
     "data": {
      "text/plain": [
       "('', '')"
      ]
     },
     "execution_count": 20,
     "metadata": {},
     "output_type": "execute_result"
    }
   ],
   "source": [
    "fault_query(None, None, None)"
   ]
  },
  {
   "cell_type": "code",
   "execution_count": 21,
   "metadata": {},
   "outputs": [],
   "source": [
    "def between_date_query(start_date_val, end_date_val):\n",
    "    date_range = \"\"\"AND orders.ORDER_CREATION_DATE BETWEEN '{}' AND '{}'\"\"\".format(start_date_val, end_date_val)\n",
    "\n",
    "    return \"{}\".format(date_range)"
   ]
  },
  {
   "cell_type": "code",
   "execution_count": 22,
   "metadata": {},
   "outputs": [],
   "source": [
    "def between_date_query(start_date_val, end_date_val):\n",
    "    date_range = \"\"\"AND orders.ORDER_CREATION_DATE BETWEEN '{}' AND '{}'\"\"\".format(start_date_val, end_date_val)\n",
    "\n",
    "    return \"{}\".format(date_range)"
   ]
  },
  {
   "cell_type": "markdown",
   "metadata": {},
   "source": [
    "## Calling SQL"
   ]
  },
  {
   "cell_type": "code",
   "execution_count": 23,
   "metadata": {},
   "outputs": [],
   "source": [
    "def sql_query_call(service_type, \n",
    "                   customer_type, \n",
    "                   deal_desc, \n",
    "                   action_status,\n",
    "                   start_date_val, \n",
    "                   end_date_val, \n",
    "                   dispute_val,\n",
    "                   fault_val,\n",
    "                   #action_filter,\n",
    "                   #min_hours, \n",
    "                   #has_action\n",
    "                  ):\n",
    "    \n",
    "    service_type = build_query(service_type, 'SERVICE_TYPE')\n",
    "    customer_type = build_query(customer_type, 'CUSTOMER_TYPE_DESC')\n",
    "    deal_desc = build_query(deal_desc, 'DEAL_DESC')                           #add add hoc deal\n",
    "    #deal_type = \"'TBiz BB Capped Advanced'\"\n",
    "    #has_action = includes_action(has_action, start_date_val, end_date_val)\n",
    "\n",
    "    dispute_join, dispute_where = dispute_query(dispute_val, start_date_val, end_date_val)\n",
    "    fault_join, fault_where = fault_query(fault_val, start_date_val, end_date_val)\n",
    "    #hours_sql_field, hours_where = build_min_hours(min_hours)\n",
    "    #action_status_subquery, action_status_where = last_status_or_action_query(action_status, action_filter)\n",
    "\n",
    "    if start_date_val is not None and end_date_val is not None:\n",
    "        date_range = between_date_query(start_date_val, end_date_val)\n",
    "    else:\n",
    "        date_range = ''\n",
    "\n",
    "        \n",
    "    query = \"\"\"\n",
    "    SELECT *\n",
    "    FROM `bcx-insights.telkom_customerexperience.orders_20190926_00_anon` as orders\n",
    "    LEFT JOIN\n",
    "    (SELECT DISTINCT CUSTOMER_NO_ANON, SERVICE_TYPE, CUSTOMER_TYPE_DESC FROM\n",
    "    `bcx-insights.telkom_customerexperience.customerdata_20190902_00_anon`) as custs\n",
    "    ON custs.CUSTOMER_NO_ANON = orders.ACCOUNT_NO_ANON\n",
    "    WHERE 1=1\n",
    "    AND orders.SOURCE = \"F\"\n",
    "    {}\n",
    "    {}\n",
    "    {}\n",
    "    {}\n",
    "    {}\n",
    "    {}\n",
    "    ORDER BY ORDER_CREATION_DATE, ACTION_CREATION_DATE, ORDER_ID_ANON\n",
    "    \"\"\".format(deal_desc,customer_type, service_type, dispute_where, fault_where, date_range)\n",
    "    \n",
    "    return query"
   ]
  },
  {
   "cell_type": "code",
   "execution_count": 24,
   "metadata": {},
   "outputs": [],
   "source": [
    "query_called = sql_query_call(None,                      # service type ['FIXED']\n",
    "                None,                                    # customer type ['Small']\n",
    "                ['TBiz BB Capped Advanced'],                  # deal type ['TBiz BB Capped Advanced']\n",
    "                None,                        #not used        # action status ['Done']\n",
    "                None,    # start date\n",
    "                None,                            # end date\n",
    "                None,                                         # has dispute\n",
    "                None                                          # has fault\n",
    "                )"
   ]
  },
  {
   "cell_type": "code",
   "execution_count": 25,
   "metadata": {},
   "outputs": [
    {
     "name": "stdout",
     "output_type": "stream",
     "text": [
      "\n",
      "    SELECT *\n",
      "    FROM `bcx-insights.telkom_customerexperience.orders_20190926_00_anon` as orders\n",
      "    LEFT JOIN\n",
      "    (SELECT DISTINCT CUSTOMER_NO_ANON, SERVICE_TYPE, CUSTOMER_TYPE_DESC FROM\n",
      "    `bcx-insights.telkom_customerexperience.customerdata_20190902_00_anon`) as custs\n",
      "    ON custs.CUSTOMER_NO_ANON = orders.ACCOUNT_NO_ANON\n",
      "    WHERE 1=1\n",
      "    AND orders.SOURCE = \"F\"\n",
      "    and DEAL_DESC IN ('TBiz BB Capped Advanced')\n",
      "    \n",
      "    \n",
      "    \n",
      "    \n",
      "    \n",
      "    ORDER BY ORDER_CREATION_DATE, ACTION_CREATION_DATE, ORDER_ID_ANON\n",
      "    \n"
     ]
    }
   ],
   "source": [
    "print(query_called)"
   ]
  },
  {
   "cell_type": "code",
   "execution_count": 26,
   "metadata": {},
   "outputs": [],
   "source": [
    "#create order dataframe\n",
    "orders_df = pd.read_gbq(query_called,\n",
    "                project_id = 'bcx-insights',\n",
    "                dialect = 'standard')"
   ]
  },
  {
   "cell_type": "code",
   "execution_count": 27,
   "metadata": {},
   "outputs": [
    {
     "data": {
      "text/html": [
       "<div>\n",
       "<style scoped>\n",
       "    .dataframe tbody tr th:only-of-type {\n",
       "        vertical-align: middle;\n",
       "    }\n",
       "\n",
       "    .dataframe tbody tr th {\n",
       "        vertical-align: top;\n",
       "    }\n",
       "\n",
       "    .dataframe thead th {\n",
       "        text-align: right;\n",
       "    }\n",
       "</style>\n",
       "<table border=\"1\" class=\"dataframe\">\n",
       "  <thead>\n",
       "    <tr style=\"text-align: right;\">\n",
       "      <th></th>\n",
       "      <th>ORDER_STATUS_DESC</th>\n",
       "      <th>ORDER_CREATION_DATE</th>\n",
       "      <th>ACTION_STATUS_DESC</th>\n",
       "      <th>ACTION_TYPE</th>\n",
       "      <th>ACTION_TYPE_DESC</th>\n",
       "      <th>ACTION_CREATION_DATE</th>\n",
       "      <th>ORIGINAL_SALES_CHANNEL_DESC</th>\n",
       "      <th>CURRENT_SALES_CHANNEL_DESC</th>\n",
       "      <th>DEAL_DESC</th>\n",
       "      <th>PROV_DATE</th>\n",
       "      <th>CLOSE_DATE</th>\n",
       "      <th>OPEN_CLOSE_INDIC</th>\n",
       "      <th>SOURCE</th>\n",
       "      <th>ORDER_ID_ANON</th>\n",
       "      <th>ACCOUNT_NO_ANON</th>\n",
       "      <th>MSISDN_ANON</th>\n",
       "      <th>ORDER_ACTION_ID_ANON</th>\n",
       "      <th>CUSTOMER_NO_ANON</th>\n",
       "      <th>SERVICE_TYPE</th>\n",
       "      <th>CUSTOMER_TYPE_DESC</th>\n",
       "    </tr>\n",
       "  </thead>\n",
       "  <tbody>\n",
       "    <tr>\n",
       "      <th>0</th>\n",
       "      <td>Done</td>\n",
       "      <td>2018-09-19 00:01:40+00:00</td>\n",
       "      <td>Done</td>\n",
       "      <td>CR</td>\n",
       "      <td>Resume from Suspension due to Collection</td>\n",
       "      <td>2018-09-19 00:00:34+00:00</td>\n",
       "      <td>Call Center</td>\n",
       "      <td>Call Center</td>\n",
       "      <td>TBiz BB Capped Advanced</td>\n",
       "      <td>2018-09-19 23:59:59+00:00</td>\n",
       "      <td>2018-09-19 02:02:36+00:00</td>\n",
       "      <td>C</td>\n",
       "      <td>F</td>\n",
       "      <td>8014743664010143874</td>\n",
       "      <td>4880988462641041588</td>\n",
       "      <td>8267334465643049670</td>\n",
       "      <td>-22945164240823800</td>\n",
       "      <td>NaN</td>\n",
       "      <td>None</td>\n",
       "      <td>None</td>\n",
       "    </tr>\n",
       "    <tr>\n",
       "      <th>1</th>\n",
       "      <td>Done</td>\n",
       "      <td>2018-09-19 00:01:40+00:00</td>\n",
       "      <td>Done</td>\n",
       "      <td>CR</td>\n",
       "      <td>Resume from Suspension due to Collection</td>\n",
       "      <td>2018-09-19 00:00:34+00:00</td>\n",
       "      <td>Call Center</td>\n",
       "      <td>Call Center</td>\n",
       "      <td>TBiz BB Capped Advanced</td>\n",
       "      <td>2018-09-19 23:59:59+00:00</td>\n",
       "      <td>2018-09-19 02:02:36+00:00</td>\n",
       "      <td>C</td>\n",
       "      <td>F</td>\n",
       "      <td>8014743664010143874</td>\n",
       "      <td>4880988462641041588</td>\n",
       "      <td>8267334465643049670</td>\n",
       "      <td>-22945164240823800</td>\n",
       "      <td>NaN</td>\n",
       "      <td>None</td>\n",
       "      <td>None</td>\n",
       "    </tr>\n",
       "    <tr>\n",
       "      <th>2</th>\n",
       "      <td>Done</td>\n",
       "      <td>2018-09-19 00:08:19+00:00</td>\n",
       "      <td>Done</td>\n",
       "      <td>CR</td>\n",
       "      <td>Resume from Suspension due to Collection</td>\n",
       "      <td>2018-09-19 00:02:30+00:00</td>\n",
       "      <td>Call Center</td>\n",
       "      <td>Call Center</td>\n",
       "      <td>TBiz BB Capped Advanced</td>\n",
       "      <td>2018-09-19 23:59:59+00:00</td>\n",
       "      <td>2018-09-19 02:02:46+00:00</td>\n",
       "      <td>C</td>\n",
       "      <td>F</td>\n",
       "      <td>4896610020755115874</td>\n",
       "      <td>4880988462641041588</td>\n",
       "      <td>5883010122451860359</td>\n",
       "      <td>6206333873489587611</td>\n",
       "      <td>NaN</td>\n",
       "      <td>None</td>\n",
       "      <td>None</td>\n",
       "    </tr>\n",
       "    <tr>\n",
       "      <th>3</th>\n",
       "      <td>Done</td>\n",
       "      <td>2018-09-19 00:08:19+00:00</td>\n",
       "      <td>Done</td>\n",
       "      <td>CR</td>\n",
       "      <td>Resume from Suspension due to Collection</td>\n",
       "      <td>2018-09-19 00:02:30+00:00</td>\n",
       "      <td>Call Center</td>\n",
       "      <td>Call Center</td>\n",
       "      <td>TBiz BB Capped Advanced</td>\n",
       "      <td>2018-09-19 23:59:59+00:00</td>\n",
       "      <td>2018-09-19 02:02:46+00:00</td>\n",
       "      <td>C</td>\n",
       "      <td>F</td>\n",
       "      <td>4896610020755115874</td>\n",
       "      <td>4880988462641041588</td>\n",
       "      <td>5883010122451860359</td>\n",
       "      <td>6206333873489587611</td>\n",
       "      <td>NaN</td>\n",
       "      <td>None</td>\n",
       "      <td>None</td>\n",
       "    </tr>\n",
       "    <tr>\n",
       "      <th>4</th>\n",
       "      <td>Done</td>\n",
       "      <td>2018-09-19 00:08:22+00:00</td>\n",
       "      <td>Done</td>\n",
       "      <td>CR</td>\n",
       "      <td>Resume from Suspension due to Collection</td>\n",
       "      <td>2018-09-19 00:08:04+00:00</td>\n",
       "      <td>Call Center</td>\n",
       "      <td>Call Center</td>\n",
       "      <td>TBiz BB Capped Advanced</td>\n",
       "      <td>2018-09-19 23:59:59+00:00</td>\n",
       "      <td>2018-09-19 02:03:30+00:00</td>\n",
       "      <td>C</td>\n",
       "      <td>F</td>\n",
       "      <td>-7402119597778060068</td>\n",
       "      <td>-7190704940419402037</td>\n",
       "      <td>6881390640784013810</td>\n",
       "      <td>1589287855847731834</td>\n",
       "      <td>NaN</td>\n",
       "      <td>None</td>\n",
       "      <td>None</td>\n",
       "    </tr>\n",
       "  </tbody>\n",
       "</table>\n",
       "</div>"
      ],
      "text/plain": [
       "  ORDER_STATUS_DESC       ORDER_CREATION_DATE ACTION_STATUS_DESC ACTION_TYPE  \\\n",
       "0              Done 2018-09-19 00:01:40+00:00               Done          CR   \n",
       "1              Done 2018-09-19 00:01:40+00:00               Done          CR   \n",
       "2              Done 2018-09-19 00:08:19+00:00               Done          CR   \n",
       "3              Done 2018-09-19 00:08:19+00:00               Done          CR   \n",
       "4              Done 2018-09-19 00:08:22+00:00               Done          CR   \n",
       "\n",
       "                           ACTION_TYPE_DESC      ACTION_CREATION_DATE  \\\n",
       "0  Resume from Suspension due to Collection 2018-09-19 00:00:34+00:00   \n",
       "1  Resume from Suspension due to Collection 2018-09-19 00:00:34+00:00   \n",
       "2  Resume from Suspension due to Collection 2018-09-19 00:02:30+00:00   \n",
       "3  Resume from Suspension due to Collection 2018-09-19 00:02:30+00:00   \n",
       "4  Resume from Suspension due to Collection 2018-09-19 00:08:04+00:00   \n",
       "\n",
       "  ORIGINAL_SALES_CHANNEL_DESC CURRENT_SALES_CHANNEL_DESC  \\\n",
       "0                 Call Center                Call Center   \n",
       "1                 Call Center                Call Center   \n",
       "2                 Call Center                Call Center   \n",
       "3                 Call Center                Call Center   \n",
       "4                 Call Center                Call Center   \n",
       "\n",
       "                 DEAL_DESC                 PROV_DATE  \\\n",
       "0  TBiz BB Capped Advanced 2018-09-19 23:59:59+00:00   \n",
       "1  TBiz BB Capped Advanced 2018-09-19 23:59:59+00:00   \n",
       "2  TBiz BB Capped Advanced 2018-09-19 23:59:59+00:00   \n",
       "3  TBiz BB Capped Advanced 2018-09-19 23:59:59+00:00   \n",
       "4  TBiz BB Capped Advanced 2018-09-19 23:59:59+00:00   \n",
       "\n",
       "                 CLOSE_DATE OPEN_CLOSE_INDIC SOURCE        ORDER_ID_ANON  \\\n",
       "0 2018-09-19 02:02:36+00:00                C      F  8014743664010143874   \n",
       "1 2018-09-19 02:02:36+00:00                C      F  8014743664010143874   \n",
       "2 2018-09-19 02:02:46+00:00                C      F  4896610020755115874   \n",
       "3 2018-09-19 02:02:46+00:00                C      F  4896610020755115874   \n",
       "4 2018-09-19 02:03:30+00:00                C      F -7402119597778060068   \n",
       "\n",
       "       ACCOUNT_NO_ANON          MSISDN_ANON  ORDER_ACTION_ID_ANON  \\\n",
       "0  4880988462641041588  8267334465643049670    -22945164240823800   \n",
       "1  4880988462641041588  8267334465643049670    -22945164240823800   \n",
       "2  4880988462641041588  5883010122451860359   6206333873489587611   \n",
       "3  4880988462641041588  5883010122451860359   6206333873489587611   \n",
       "4 -7190704940419402037  6881390640784013810   1589287855847731834   \n",
       "\n",
       "   CUSTOMER_NO_ANON SERVICE_TYPE CUSTOMER_TYPE_DESC  \n",
       "0               NaN         None               None  \n",
       "1               NaN         None               None  \n",
       "2               NaN         None               None  \n",
       "3               NaN         None               None  \n",
       "4               NaN         None               None  "
      ]
     },
     "execution_count": 27,
     "metadata": {},
     "output_type": "execute_result"
    }
   ],
   "source": [
    "orders_df.head()"
   ]
  },
  {
   "cell_type": "code",
   "execution_count": 28,
   "metadata": {},
   "outputs": [
    {
     "data": {
      "text/plain": [
       "7892"
      ]
     },
     "execution_count": 28,
     "metadata": {},
     "output_type": "execute_result"
    }
   ],
   "source": [
    "len(orders_df)"
   ]
  },
  {
   "cell_type": "code",
   "execution_count": 29,
   "metadata": {},
   "outputs": [],
   "source": [
    "orders_df = orders_df.drop_duplicates()"
   ]
  },
  {
   "cell_type": "code",
   "execution_count": 30,
   "metadata": {},
   "outputs": [
    {
     "data": {
      "text/plain": [
       "6851"
      ]
     },
     "execution_count": 30,
     "metadata": {},
     "output_type": "execute_result"
    }
   ],
   "source": [
    "len(orders_df)"
   ]
  },
  {
   "cell_type": "code",
   "execution_count": 31,
   "metadata": {},
   "outputs": [
    {
     "data": {
      "text/html": [
       "<div>\n",
       "<style scoped>\n",
       "    .dataframe tbody tr th:only-of-type {\n",
       "        vertical-align: middle;\n",
       "    }\n",
       "\n",
       "    .dataframe tbody tr th {\n",
       "        vertical-align: top;\n",
       "    }\n",
       "\n",
       "    .dataframe thead th {\n",
       "        text-align: right;\n",
       "    }\n",
       "</style>\n",
       "<table border=\"1\" class=\"dataframe\">\n",
       "  <thead>\n",
       "    <tr style=\"text-align: right;\">\n",
       "      <th></th>\n",
       "      <th>ORDER_STATUS_DESC</th>\n",
       "      <th>ORDER_CREATION_DATE</th>\n",
       "      <th>ACTION_STATUS_DESC</th>\n",
       "      <th>ACTION_TYPE</th>\n",
       "      <th>ACTION_TYPE_DESC</th>\n",
       "      <th>ACTION_CREATION_DATE</th>\n",
       "      <th>ORIGINAL_SALES_CHANNEL_DESC</th>\n",
       "      <th>CURRENT_SALES_CHANNEL_DESC</th>\n",
       "      <th>DEAL_DESC</th>\n",
       "      <th>PROV_DATE</th>\n",
       "      <th>CLOSE_DATE</th>\n",
       "      <th>OPEN_CLOSE_INDIC</th>\n",
       "      <th>SOURCE</th>\n",
       "      <th>ORDER_ID_ANON</th>\n",
       "      <th>ACCOUNT_NO_ANON</th>\n",
       "      <th>MSISDN_ANON</th>\n",
       "      <th>ORDER_ACTION_ID_ANON</th>\n",
       "      <th>CUSTOMER_NO_ANON</th>\n",
       "      <th>SERVICE_TYPE</th>\n",
       "      <th>CUSTOMER_TYPE_DESC</th>\n",
       "    </tr>\n",
       "  </thead>\n",
       "  <tbody>\n",
       "    <tr>\n",
       "      <th>0</th>\n",
       "      <td>Done</td>\n",
       "      <td>2018-09-19 00:01:40+00:00</td>\n",
       "      <td>Done</td>\n",
       "      <td>CR</td>\n",
       "      <td>Resume from Suspension due to Collection</td>\n",
       "      <td>2018-09-19 00:00:34+00:00</td>\n",
       "      <td>Call Center</td>\n",
       "      <td>Call Center</td>\n",
       "      <td>TBiz BB Capped Advanced</td>\n",
       "      <td>2018-09-19 23:59:59+00:00</td>\n",
       "      <td>2018-09-19 02:02:36+00:00</td>\n",
       "      <td>C</td>\n",
       "      <td>F</td>\n",
       "      <td>8014743664010143874</td>\n",
       "      <td>4880988462641041588</td>\n",
       "      <td>8267334465643049670</td>\n",
       "      <td>-22945164240823800</td>\n",
       "      <td>NaN</td>\n",
       "      <td>None</td>\n",
       "      <td>None</td>\n",
       "    </tr>\n",
       "    <tr>\n",
       "      <th>2</th>\n",
       "      <td>Done</td>\n",
       "      <td>2018-09-19 00:08:19+00:00</td>\n",
       "      <td>Done</td>\n",
       "      <td>CR</td>\n",
       "      <td>Resume from Suspension due to Collection</td>\n",
       "      <td>2018-09-19 00:02:30+00:00</td>\n",
       "      <td>Call Center</td>\n",
       "      <td>Call Center</td>\n",
       "      <td>TBiz BB Capped Advanced</td>\n",
       "      <td>2018-09-19 23:59:59+00:00</td>\n",
       "      <td>2018-09-19 02:02:46+00:00</td>\n",
       "      <td>C</td>\n",
       "      <td>F</td>\n",
       "      <td>4896610020755115874</td>\n",
       "      <td>4880988462641041588</td>\n",
       "      <td>5883010122451860359</td>\n",
       "      <td>6206333873489587611</td>\n",
       "      <td>NaN</td>\n",
       "      <td>None</td>\n",
       "      <td>None</td>\n",
       "    </tr>\n",
       "    <tr>\n",
       "      <th>4</th>\n",
       "      <td>Done</td>\n",
       "      <td>2018-09-19 00:08:22+00:00</td>\n",
       "      <td>Done</td>\n",
       "      <td>CR</td>\n",
       "      <td>Resume from Suspension due to Collection</td>\n",
       "      <td>2018-09-19 00:08:04+00:00</td>\n",
       "      <td>Call Center</td>\n",
       "      <td>Call Center</td>\n",
       "      <td>TBiz BB Capped Advanced</td>\n",
       "      <td>2018-09-19 23:59:59+00:00</td>\n",
       "      <td>2018-09-19 02:03:30+00:00</td>\n",
       "      <td>C</td>\n",
       "      <td>F</td>\n",
       "      <td>-7402119597778060068</td>\n",
       "      <td>-7190704940419402037</td>\n",
       "      <td>6881390640784013810</td>\n",
       "      <td>1589287855847731834</td>\n",
       "      <td>NaN</td>\n",
       "      <td>None</td>\n",
       "      <td>None</td>\n",
       "    </tr>\n",
       "    <tr>\n",
       "      <th>6</th>\n",
       "      <td>Done</td>\n",
       "      <td>2018-09-19 00:11:18+00:00</td>\n",
       "      <td>Done</td>\n",
       "      <td>CR</td>\n",
       "      <td>Resume from Suspension due to Collection</td>\n",
       "      <td>2018-09-19 00:11:16+00:00</td>\n",
       "      <td>Call Center</td>\n",
       "      <td>Call Center</td>\n",
       "      <td>TBiz BB Capped Advanced</td>\n",
       "      <td>2018-09-19 23:59:59+00:00</td>\n",
       "      <td>2018-09-19 02:35:04+00:00</td>\n",
       "      <td>C</td>\n",
       "      <td>F</td>\n",
       "      <td>-891254573908734095</td>\n",
       "      <td>-1202927280942112478</td>\n",
       "      <td>-7917274003366893655</td>\n",
       "      <td>7874500299927321830</td>\n",
       "      <td>NaN</td>\n",
       "      <td>None</td>\n",
       "      <td>None</td>\n",
       "    </tr>\n",
       "    <tr>\n",
       "      <th>8</th>\n",
       "      <td>Done</td>\n",
       "      <td>2018-09-19 00:11:26+00:00</td>\n",
       "      <td>Done</td>\n",
       "      <td>CR</td>\n",
       "      <td>Resume from Suspension due to Collection</td>\n",
       "      <td>2018-09-19 00:11:25+00:00</td>\n",
       "      <td>Call Center</td>\n",
       "      <td>Call Center</td>\n",
       "      <td>TBiz BB Capped Advanced</td>\n",
       "      <td>2018-09-19 23:59:59+00:00</td>\n",
       "      <td>2018-09-19 02:08:45+00:00</td>\n",
       "      <td>C</td>\n",
       "      <td>F</td>\n",
       "      <td>-4980229336441433325</td>\n",
       "      <td>-1202927280942112478</td>\n",
       "      <td>-3858268071889160291</td>\n",
       "      <td>-6140598406575839500</td>\n",
       "      <td>NaN</td>\n",
       "      <td>None</td>\n",
       "      <td>None</td>\n",
       "    </tr>\n",
       "  </tbody>\n",
       "</table>\n",
       "</div>"
      ],
      "text/plain": [
       "  ORDER_STATUS_DESC       ORDER_CREATION_DATE ACTION_STATUS_DESC ACTION_TYPE  \\\n",
       "0              Done 2018-09-19 00:01:40+00:00               Done          CR   \n",
       "2              Done 2018-09-19 00:08:19+00:00               Done          CR   \n",
       "4              Done 2018-09-19 00:08:22+00:00               Done          CR   \n",
       "6              Done 2018-09-19 00:11:18+00:00               Done          CR   \n",
       "8              Done 2018-09-19 00:11:26+00:00               Done          CR   \n",
       "\n",
       "                           ACTION_TYPE_DESC      ACTION_CREATION_DATE  \\\n",
       "0  Resume from Suspension due to Collection 2018-09-19 00:00:34+00:00   \n",
       "2  Resume from Suspension due to Collection 2018-09-19 00:02:30+00:00   \n",
       "4  Resume from Suspension due to Collection 2018-09-19 00:08:04+00:00   \n",
       "6  Resume from Suspension due to Collection 2018-09-19 00:11:16+00:00   \n",
       "8  Resume from Suspension due to Collection 2018-09-19 00:11:25+00:00   \n",
       "\n",
       "  ORIGINAL_SALES_CHANNEL_DESC CURRENT_SALES_CHANNEL_DESC  \\\n",
       "0                 Call Center                Call Center   \n",
       "2                 Call Center                Call Center   \n",
       "4                 Call Center                Call Center   \n",
       "6                 Call Center                Call Center   \n",
       "8                 Call Center                Call Center   \n",
       "\n",
       "                 DEAL_DESC                 PROV_DATE  \\\n",
       "0  TBiz BB Capped Advanced 2018-09-19 23:59:59+00:00   \n",
       "2  TBiz BB Capped Advanced 2018-09-19 23:59:59+00:00   \n",
       "4  TBiz BB Capped Advanced 2018-09-19 23:59:59+00:00   \n",
       "6  TBiz BB Capped Advanced 2018-09-19 23:59:59+00:00   \n",
       "8  TBiz BB Capped Advanced 2018-09-19 23:59:59+00:00   \n",
       "\n",
       "                 CLOSE_DATE OPEN_CLOSE_INDIC SOURCE        ORDER_ID_ANON  \\\n",
       "0 2018-09-19 02:02:36+00:00                C      F  8014743664010143874   \n",
       "2 2018-09-19 02:02:46+00:00                C      F  4896610020755115874   \n",
       "4 2018-09-19 02:03:30+00:00                C      F -7402119597778060068   \n",
       "6 2018-09-19 02:35:04+00:00                C      F  -891254573908734095   \n",
       "8 2018-09-19 02:08:45+00:00                C      F -4980229336441433325   \n",
       "\n",
       "       ACCOUNT_NO_ANON          MSISDN_ANON  ORDER_ACTION_ID_ANON  \\\n",
       "0  4880988462641041588  8267334465643049670    -22945164240823800   \n",
       "2  4880988462641041588  5883010122451860359   6206333873489587611   \n",
       "4 -7190704940419402037  6881390640784013810   1589287855847731834   \n",
       "6 -1202927280942112478 -7917274003366893655   7874500299927321830   \n",
       "8 -1202927280942112478 -3858268071889160291  -6140598406575839500   \n",
       "\n",
       "   CUSTOMER_NO_ANON SERVICE_TYPE CUSTOMER_TYPE_DESC  \n",
       "0               NaN         None               None  \n",
       "2               NaN         None               None  \n",
       "4               NaN         None               None  \n",
       "6               NaN         None               None  \n",
       "8               NaN         None               None  "
      ]
     },
     "execution_count": 31,
     "metadata": {},
     "output_type": "execute_result"
    }
   ],
   "source": [
    "orders_df.head()"
   ]
  },
  {
   "cell_type": "code",
   "execution_count": 32,
   "metadata": {},
   "outputs": [],
   "source": [
    "orders_df['MSISDN_ANON'] = orders_df['MSISDN_ANON'].astype(str)"
   ]
  },
  {
   "cell_type": "code",
   "execution_count": 33,
   "metadata": {},
   "outputs": [],
   "source": [
    "orders_df['ORDER_ID_ANON'] = orders_df['ORDER_ID_ANON'].astype(str)"
   ]
  },
  {
   "cell_type": "code",
   "execution_count": 34,
   "metadata": {},
   "outputs": [],
   "source": [
    "unique_col = 'combo'"
   ]
  },
  {
   "cell_type": "code",
   "execution_count": 35,
   "metadata": {},
   "outputs": [],
   "source": [
    "orders_df[unique_col] = orders_df['MSISDN_ANON']+'_'+orders_df['ORDER_ID_ANON']"
   ]
  },
  {
   "cell_type": "code",
   "execution_count": 36,
   "metadata": {},
   "outputs": [],
   "source": [
    "orders_df['stage'] = orders_df.groupby(unique_col).cumcount()+1"
   ]
  },
  {
   "cell_type": "code",
   "execution_count": 37,
   "metadata": {},
   "outputs": [],
   "source": [
    "final_stage = orders_df[[unique_col,'stage', 'ORDER_CREATION_DATE']].groupby(unique_col).agg({'stage': 'max', 'ORDER_CREATION_DATE': ['min', 'max']})"
   ]
  },
  {
   "cell_type": "code",
   "execution_count": 38,
   "metadata": {},
   "outputs": [
    {
     "data": {
      "text/html": [
       "<div>\n",
       "<style scoped>\n",
       "    .dataframe tbody tr th:only-of-type {\n",
       "        vertical-align: middle;\n",
       "    }\n",
       "\n",
       "    .dataframe tbody tr th {\n",
       "        vertical-align: top;\n",
       "    }\n",
       "\n",
       "    .dataframe thead tr th {\n",
       "        text-align: left;\n",
       "    }\n",
       "\n",
       "    .dataframe thead tr:last-of-type th {\n",
       "        text-align: right;\n",
       "    }\n",
       "</style>\n",
       "<table border=\"1\" class=\"dataframe\">\n",
       "  <thead>\n",
       "    <tr>\n",
       "      <th></th>\n",
       "      <th>stage</th>\n",
       "      <th colspan=\"2\" halign=\"left\">ORDER_CREATION_DATE</th>\n",
       "    </tr>\n",
       "    <tr>\n",
       "      <th></th>\n",
       "      <th>max</th>\n",
       "      <th>min</th>\n",
       "      <th>max</th>\n",
       "    </tr>\n",
       "    <tr>\n",
       "      <th>combo</th>\n",
       "      <th></th>\n",
       "      <th></th>\n",
       "      <th></th>\n",
       "    </tr>\n",
       "  </thead>\n",
       "  <tbody>\n",
       "    <tr>\n",
       "      <th>-1002689210467033689_-4097911263059863394</th>\n",
       "      <td>2</td>\n",
       "      <td>2019-06-10 13:55:28+00:00</td>\n",
       "      <td>2019-07-02 10:07:27+00:00</td>\n",
       "    </tr>\n",
       "    <tr>\n",
       "      <th>-1002689210467033689_-4708518482210045078</th>\n",
       "      <td>1</td>\n",
       "      <td>2019-06-10 13:44:49+00:00</td>\n",
       "      <td>2019-06-10 13:44:49+00:00</td>\n",
       "    </tr>\n",
       "    <tr>\n",
       "      <th>-1002689210467033689_-6805338612372424491</th>\n",
       "      <td>1</td>\n",
       "      <td>2019-08-29 06:26:56+00:00</td>\n",
       "      <td>2019-08-29 06:26:56+00:00</td>\n",
       "    </tr>\n",
       "    <tr>\n",
       "      <th>-1002689210467033689_4694949585886651643</th>\n",
       "      <td>1</td>\n",
       "      <td>2019-07-16 02:47:00+00:00</td>\n",
       "      <td>2019-07-16 02:47:00+00:00</td>\n",
       "    </tr>\n",
       "    <tr>\n",
       "      <th>-1002689210467033689_6330235094427327840</th>\n",
       "      <td>1</td>\n",
       "      <td>2019-08-29 10:21:36+00:00</td>\n",
       "      <td>2019-08-29 10:21:36+00:00</td>\n",
       "    </tr>\n",
       "  </tbody>\n",
       "</table>\n",
       "</div>"
      ],
      "text/plain": [
       "                                          stage       ORDER_CREATION_DATE  \\\n",
       "                                            max                       min   \n",
       "combo                                                                       \n",
       "-1002689210467033689_-4097911263059863394     2 2019-06-10 13:55:28+00:00   \n",
       "-1002689210467033689_-4708518482210045078     1 2019-06-10 13:44:49+00:00   \n",
       "-1002689210467033689_-6805338612372424491     1 2019-08-29 06:26:56+00:00   \n",
       "-1002689210467033689_4694949585886651643      1 2019-07-16 02:47:00+00:00   \n",
       "-1002689210467033689_6330235094427327840      1 2019-08-29 10:21:36+00:00   \n",
       "\n",
       "                                                                     \n",
       "                                                                max  \n",
       "combo                                                                \n",
       "-1002689210467033689_-4097911263059863394 2019-07-02 10:07:27+00:00  \n",
       "-1002689210467033689_-4708518482210045078 2019-06-10 13:44:49+00:00  \n",
       "-1002689210467033689_-6805338612372424491 2019-08-29 06:26:56+00:00  \n",
       "-1002689210467033689_4694949585886651643  2019-07-16 02:47:00+00:00  \n",
       "-1002689210467033689_6330235094427327840  2019-08-29 10:21:36+00:00  "
      ]
     },
     "execution_count": 38,
     "metadata": {},
     "output_type": "execute_result"
    }
   ],
   "source": [
    "final_stage.head()"
   ]
  },
  {
   "cell_type": "code",
   "execution_count": 39,
   "metadata": {},
   "outputs": [],
   "source": [
    "final_stage.columns = [\"_\".join(pair) for pair in final_stage.columns]"
   ]
  },
  {
   "cell_type": "code",
   "execution_count": 40,
   "metadata": {},
   "outputs": [],
   "source": [
    "final_stage.rename(columns={'stage_max':'final_stage', 'ORDER_CREATION_DATE_min':'first_date', 'ORDER_CREATION_DATE_max':'last_date'}, inplace=True)"
   ]
  },
  {
   "cell_type": "code",
   "execution_count": 41,
   "metadata": {},
   "outputs": [
    {
     "data": {
      "text/html": [
       "<div>\n",
       "<style scoped>\n",
       "    .dataframe tbody tr th:only-of-type {\n",
       "        vertical-align: middle;\n",
       "    }\n",
       "\n",
       "    .dataframe tbody tr th {\n",
       "        vertical-align: top;\n",
       "    }\n",
       "\n",
       "    .dataframe thead th {\n",
       "        text-align: right;\n",
       "    }\n",
       "</style>\n",
       "<table border=\"1\" class=\"dataframe\">\n",
       "  <thead>\n",
       "    <tr style=\"text-align: right;\">\n",
       "      <th></th>\n",
       "      <th>final_stage</th>\n",
       "      <th>first_date</th>\n",
       "      <th>last_date</th>\n",
       "    </tr>\n",
       "    <tr>\n",
       "      <th>combo</th>\n",
       "      <th></th>\n",
       "      <th></th>\n",
       "      <th></th>\n",
       "    </tr>\n",
       "  </thead>\n",
       "  <tbody>\n",
       "    <tr>\n",
       "      <th>-1002689210467033689_-4097911263059863394</th>\n",
       "      <td>2</td>\n",
       "      <td>2019-06-10 13:55:28+00:00</td>\n",
       "      <td>2019-07-02 10:07:27+00:00</td>\n",
       "    </tr>\n",
       "    <tr>\n",
       "      <th>-1002689210467033689_-4708518482210045078</th>\n",
       "      <td>1</td>\n",
       "      <td>2019-06-10 13:44:49+00:00</td>\n",
       "      <td>2019-06-10 13:44:49+00:00</td>\n",
       "    </tr>\n",
       "    <tr>\n",
       "      <th>-1002689210467033689_-6805338612372424491</th>\n",
       "      <td>1</td>\n",
       "      <td>2019-08-29 06:26:56+00:00</td>\n",
       "      <td>2019-08-29 06:26:56+00:00</td>\n",
       "    </tr>\n",
       "    <tr>\n",
       "      <th>-1002689210467033689_4694949585886651643</th>\n",
       "      <td>1</td>\n",
       "      <td>2019-07-16 02:47:00+00:00</td>\n",
       "      <td>2019-07-16 02:47:00+00:00</td>\n",
       "    </tr>\n",
       "    <tr>\n",
       "      <th>-1002689210467033689_6330235094427327840</th>\n",
       "      <td>1</td>\n",
       "      <td>2019-08-29 10:21:36+00:00</td>\n",
       "      <td>2019-08-29 10:21:36+00:00</td>\n",
       "    </tr>\n",
       "  </tbody>\n",
       "</table>\n",
       "</div>"
      ],
      "text/plain": [
       "                                           final_stage  \\\n",
       "combo                                                    \n",
       "-1002689210467033689_-4097911263059863394            2   \n",
       "-1002689210467033689_-4708518482210045078            1   \n",
       "-1002689210467033689_-6805338612372424491            1   \n",
       "-1002689210467033689_4694949585886651643             1   \n",
       "-1002689210467033689_6330235094427327840             1   \n",
       "\n",
       "                                                         first_date  \\\n",
       "combo                                                                 \n",
       "-1002689210467033689_-4097911263059863394 2019-06-10 13:55:28+00:00   \n",
       "-1002689210467033689_-4708518482210045078 2019-06-10 13:44:49+00:00   \n",
       "-1002689210467033689_-6805338612372424491 2019-08-29 06:26:56+00:00   \n",
       "-1002689210467033689_4694949585886651643  2019-07-16 02:47:00+00:00   \n",
       "-1002689210467033689_6330235094427327840  2019-08-29 10:21:36+00:00   \n",
       "\n",
       "                                                          last_date  \n",
       "combo                                                                \n",
       "-1002689210467033689_-4097911263059863394 2019-07-02 10:07:27+00:00  \n",
       "-1002689210467033689_-4708518482210045078 2019-06-10 13:44:49+00:00  \n",
       "-1002689210467033689_-6805338612372424491 2019-08-29 06:26:56+00:00  \n",
       "-1002689210467033689_4694949585886651643  2019-07-16 02:47:00+00:00  \n",
       "-1002689210467033689_6330235094427327840  2019-08-29 10:21:36+00:00  "
      ]
     },
     "execution_count": 41,
     "metadata": {},
     "output_type": "execute_result"
    }
   ],
   "source": [
    "final_stage.head()"
   ]
  },
  {
   "cell_type": "code",
   "execution_count": 42,
   "metadata": {},
   "outputs": [],
   "source": [
    "#final_stage['total_journey_length'] = final_stage['last_date'] - final_stage['first_date']"
   ]
  },
  {
   "cell_type": "code",
   "execution_count": 43,
   "metadata": {},
   "outputs": [
    {
     "data": {
      "text/html": [
       "<div>\n",
       "<style scoped>\n",
       "    .dataframe tbody tr th:only-of-type {\n",
       "        vertical-align: middle;\n",
       "    }\n",
       "\n",
       "    .dataframe tbody tr th {\n",
       "        vertical-align: top;\n",
       "    }\n",
       "\n",
       "    .dataframe thead th {\n",
       "        text-align: right;\n",
       "    }\n",
       "</style>\n",
       "<table border=\"1\" class=\"dataframe\">\n",
       "  <thead>\n",
       "    <tr style=\"text-align: right;\">\n",
       "      <th></th>\n",
       "      <th>final_stage</th>\n",
       "      <th>first_date</th>\n",
       "      <th>last_date</th>\n",
       "    </tr>\n",
       "    <tr>\n",
       "      <th>combo</th>\n",
       "      <th></th>\n",
       "      <th></th>\n",
       "      <th></th>\n",
       "    </tr>\n",
       "  </thead>\n",
       "  <tbody>\n",
       "    <tr>\n",
       "      <th>-1002689210467033689_-4097911263059863394</th>\n",
       "      <td>2</td>\n",
       "      <td>2019-06-10 13:55:28+00:00</td>\n",
       "      <td>2019-07-02 10:07:27+00:00</td>\n",
       "    </tr>\n",
       "    <tr>\n",
       "      <th>-1002689210467033689_-4708518482210045078</th>\n",
       "      <td>1</td>\n",
       "      <td>2019-06-10 13:44:49+00:00</td>\n",
       "      <td>2019-06-10 13:44:49+00:00</td>\n",
       "    </tr>\n",
       "    <tr>\n",
       "      <th>-1002689210467033689_-6805338612372424491</th>\n",
       "      <td>1</td>\n",
       "      <td>2019-08-29 06:26:56+00:00</td>\n",
       "      <td>2019-08-29 06:26:56+00:00</td>\n",
       "    </tr>\n",
       "    <tr>\n",
       "      <th>-1002689210467033689_4694949585886651643</th>\n",
       "      <td>1</td>\n",
       "      <td>2019-07-16 02:47:00+00:00</td>\n",
       "      <td>2019-07-16 02:47:00+00:00</td>\n",
       "    </tr>\n",
       "    <tr>\n",
       "      <th>-1002689210467033689_6330235094427327840</th>\n",
       "      <td>1</td>\n",
       "      <td>2019-08-29 10:21:36+00:00</td>\n",
       "      <td>2019-08-29 10:21:36+00:00</td>\n",
       "    </tr>\n",
       "  </tbody>\n",
       "</table>\n",
       "</div>"
      ],
      "text/plain": [
       "                                           final_stage  \\\n",
       "combo                                                    \n",
       "-1002689210467033689_-4097911263059863394            2   \n",
       "-1002689210467033689_-4708518482210045078            1   \n",
       "-1002689210467033689_-6805338612372424491            1   \n",
       "-1002689210467033689_4694949585886651643             1   \n",
       "-1002689210467033689_6330235094427327840             1   \n",
       "\n",
       "                                                         first_date  \\\n",
       "combo                                                                 \n",
       "-1002689210467033689_-4097911263059863394 2019-06-10 13:55:28+00:00   \n",
       "-1002689210467033689_-4708518482210045078 2019-06-10 13:44:49+00:00   \n",
       "-1002689210467033689_-6805338612372424491 2019-08-29 06:26:56+00:00   \n",
       "-1002689210467033689_4694949585886651643  2019-07-16 02:47:00+00:00   \n",
       "-1002689210467033689_6330235094427327840  2019-08-29 10:21:36+00:00   \n",
       "\n",
       "                                                          last_date  \n",
       "combo                                                                \n",
       "-1002689210467033689_-4097911263059863394 2019-07-02 10:07:27+00:00  \n",
       "-1002689210467033689_-4708518482210045078 2019-06-10 13:44:49+00:00  \n",
       "-1002689210467033689_-6805338612372424491 2019-08-29 06:26:56+00:00  \n",
       "-1002689210467033689_4694949585886651643  2019-07-16 02:47:00+00:00  \n",
       "-1002689210467033689_6330235094427327840  2019-08-29 10:21:36+00:00  "
      ]
     },
     "execution_count": 43,
     "metadata": {},
     "output_type": "execute_result"
    }
   ],
   "source": [
    "final_stage.head()"
   ]
  },
  {
   "cell_type": "code",
   "execution_count": 44,
   "metadata": {},
   "outputs": [],
   "source": [
    "orders_df = pd.merge(orders_df, final_stage, on=unique_col, how='outer')"
   ]
  },
  {
   "cell_type": "code",
   "execution_count": 45,
   "metadata": {},
   "outputs": [
    {
     "data": {
      "text/html": [
       "<div>\n",
       "<style scoped>\n",
       "    .dataframe tbody tr th:only-of-type {\n",
       "        vertical-align: middle;\n",
       "    }\n",
       "\n",
       "    .dataframe tbody tr th {\n",
       "        vertical-align: top;\n",
       "    }\n",
       "\n",
       "    .dataframe thead th {\n",
       "        text-align: right;\n",
       "    }\n",
       "</style>\n",
       "<table border=\"1\" class=\"dataframe\">\n",
       "  <thead>\n",
       "    <tr style=\"text-align: right;\">\n",
       "      <th></th>\n",
       "      <th>ORDER_STATUS_DESC</th>\n",
       "      <th>ORDER_CREATION_DATE</th>\n",
       "      <th>ACTION_STATUS_DESC</th>\n",
       "      <th>ACTION_TYPE</th>\n",
       "      <th>ACTION_TYPE_DESC</th>\n",
       "      <th>ACTION_CREATION_DATE</th>\n",
       "      <th>ORIGINAL_SALES_CHANNEL_DESC</th>\n",
       "      <th>CURRENT_SALES_CHANNEL_DESC</th>\n",
       "      <th>DEAL_DESC</th>\n",
       "      <th>PROV_DATE</th>\n",
       "      <th>...</th>\n",
       "      <th>MSISDN_ANON</th>\n",
       "      <th>ORDER_ACTION_ID_ANON</th>\n",
       "      <th>CUSTOMER_NO_ANON</th>\n",
       "      <th>SERVICE_TYPE</th>\n",
       "      <th>CUSTOMER_TYPE_DESC</th>\n",
       "      <th>combo</th>\n",
       "      <th>stage</th>\n",
       "      <th>final_stage</th>\n",
       "      <th>first_date</th>\n",
       "      <th>last_date</th>\n",
       "    </tr>\n",
       "  </thead>\n",
       "  <tbody>\n",
       "    <tr>\n",
       "      <th>0</th>\n",
       "      <td>Done</td>\n",
       "      <td>2018-09-19 00:01:40+00:00</td>\n",
       "      <td>Done</td>\n",
       "      <td>CR</td>\n",
       "      <td>Resume from Suspension due to Collection</td>\n",
       "      <td>2018-09-19 00:00:34+00:00</td>\n",
       "      <td>Call Center</td>\n",
       "      <td>Call Center</td>\n",
       "      <td>TBiz BB Capped Advanced</td>\n",
       "      <td>2018-09-19 23:59:59+00:00</td>\n",
       "      <td>...</td>\n",
       "      <td>8267334465643049670</td>\n",
       "      <td>-22945164240823800</td>\n",
       "      <td>NaN</td>\n",
       "      <td>None</td>\n",
       "      <td>None</td>\n",
       "      <td>8267334465643049670_8014743664010143874</td>\n",
       "      <td>1</td>\n",
       "      <td>1</td>\n",
       "      <td>2018-09-19 00:01:40+00:00</td>\n",
       "      <td>2018-09-19 00:01:40+00:00</td>\n",
       "    </tr>\n",
       "    <tr>\n",
       "      <th>1</th>\n",
       "      <td>Done</td>\n",
       "      <td>2018-09-19 00:08:19+00:00</td>\n",
       "      <td>Done</td>\n",
       "      <td>CR</td>\n",
       "      <td>Resume from Suspension due to Collection</td>\n",
       "      <td>2018-09-19 00:02:30+00:00</td>\n",
       "      <td>Call Center</td>\n",
       "      <td>Call Center</td>\n",
       "      <td>TBiz BB Capped Advanced</td>\n",
       "      <td>2018-09-19 23:59:59+00:00</td>\n",
       "      <td>...</td>\n",
       "      <td>5883010122451860359</td>\n",
       "      <td>6206333873489587611</td>\n",
       "      <td>NaN</td>\n",
       "      <td>None</td>\n",
       "      <td>None</td>\n",
       "      <td>5883010122451860359_4896610020755115874</td>\n",
       "      <td>1</td>\n",
       "      <td>1</td>\n",
       "      <td>2018-09-19 00:08:19+00:00</td>\n",
       "      <td>2018-09-19 00:08:19+00:00</td>\n",
       "    </tr>\n",
       "    <tr>\n",
       "      <th>2</th>\n",
       "      <td>Done</td>\n",
       "      <td>2018-09-19 00:08:22+00:00</td>\n",
       "      <td>Done</td>\n",
       "      <td>CR</td>\n",
       "      <td>Resume from Suspension due to Collection</td>\n",
       "      <td>2018-09-19 00:08:04+00:00</td>\n",
       "      <td>Call Center</td>\n",
       "      <td>Call Center</td>\n",
       "      <td>TBiz BB Capped Advanced</td>\n",
       "      <td>2018-09-19 23:59:59+00:00</td>\n",
       "      <td>...</td>\n",
       "      <td>6881390640784013810</td>\n",
       "      <td>1589287855847731834</td>\n",
       "      <td>NaN</td>\n",
       "      <td>None</td>\n",
       "      <td>None</td>\n",
       "      <td>6881390640784013810_-7402119597778060068</td>\n",
       "      <td>1</td>\n",
       "      <td>1</td>\n",
       "      <td>2018-09-19 00:08:22+00:00</td>\n",
       "      <td>2018-09-19 00:08:22+00:00</td>\n",
       "    </tr>\n",
       "    <tr>\n",
       "      <th>3</th>\n",
       "      <td>Done</td>\n",
       "      <td>2018-09-19 00:11:18+00:00</td>\n",
       "      <td>Done</td>\n",
       "      <td>CR</td>\n",
       "      <td>Resume from Suspension due to Collection</td>\n",
       "      <td>2018-09-19 00:11:16+00:00</td>\n",
       "      <td>Call Center</td>\n",
       "      <td>Call Center</td>\n",
       "      <td>TBiz BB Capped Advanced</td>\n",
       "      <td>2018-09-19 23:59:59+00:00</td>\n",
       "      <td>...</td>\n",
       "      <td>-7917274003366893655</td>\n",
       "      <td>7874500299927321830</td>\n",
       "      <td>NaN</td>\n",
       "      <td>None</td>\n",
       "      <td>None</td>\n",
       "      <td>-7917274003366893655_-891254573908734095</td>\n",
       "      <td>1</td>\n",
       "      <td>1</td>\n",
       "      <td>2018-09-19 00:11:18+00:00</td>\n",
       "      <td>2018-09-19 00:11:18+00:00</td>\n",
       "    </tr>\n",
       "    <tr>\n",
       "      <th>4</th>\n",
       "      <td>Done</td>\n",
       "      <td>2018-09-19 00:11:26+00:00</td>\n",
       "      <td>Done</td>\n",
       "      <td>CR</td>\n",
       "      <td>Resume from Suspension due to Collection</td>\n",
       "      <td>2018-09-19 00:11:25+00:00</td>\n",
       "      <td>Call Center</td>\n",
       "      <td>Call Center</td>\n",
       "      <td>TBiz BB Capped Advanced</td>\n",
       "      <td>2018-09-19 23:59:59+00:00</td>\n",
       "      <td>...</td>\n",
       "      <td>-3858268071889160291</td>\n",
       "      <td>-6140598406575839500</td>\n",
       "      <td>NaN</td>\n",
       "      <td>None</td>\n",
       "      <td>None</td>\n",
       "      <td>-3858268071889160291_-4980229336441433325</td>\n",
       "      <td>1</td>\n",
       "      <td>1</td>\n",
       "      <td>2018-09-19 00:11:26+00:00</td>\n",
       "      <td>2018-09-19 00:11:26+00:00</td>\n",
       "    </tr>\n",
       "  </tbody>\n",
       "</table>\n",
       "<p>5 rows × 25 columns</p>\n",
       "</div>"
      ],
      "text/plain": [
       "  ORDER_STATUS_DESC       ORDER_CREATION_DATE ACTION_STATUS_DESC ACTION_TYPE  \\\n",
       "0              Done 2018-09-19 00:01:40+00:00               Done          CR   \n",
       "1              Done 2018-09-19 00:08:19+00:00               Done          CR   \n",
       "2              Done 2018-09-19 00:08:22+00:00               Done          CR   \n",
       "3              Done 2018-09-19 00:11:18+00:00               Done          CR   \n",
       "4              Done 2018-09-19 00:11:26+00:00               Done          CR   \n",
       "\n",
       "                           ACTION_TYPE_DESC      ACTION_CREATION_DATE  \\\n",
       "0  Resume from Suspension due to Collection 2018-09-19 00:00:34+00:00   \n",
       "1  Resume from Suspension due to Collection 2018-09-19 00:02:30+00:00   \n",
       "2  Resume from Suspension due to Collection 2018-09-19 00:08:04+00:00   \n",
       "3  Resume from Suspension due to Collection 2018-09-19 00:11:16+00:00   \n",
       "4  Resume from Suspension due to Collection 2018-09-19 00:11:25+00:00   \n",
       "\n",
       "  ORIGINAL_SALES_CHANNEL_DESC CURRENT_SALES_CHANNEL_DESC  \\\n",
       "0                 Call Center                Call Center   \n",
       "1                 Call Center                Call Center   \n",
       "2                 Call Center                Call Center   \n",
       "3                 Call Center                Call Center   \n",
       "4                 Call Center                Call Center   \n",
       "\n",
       "                 DEAL_DESC                 PROV_DATE  \\\n",
       "0  TBiz BB Capped Advanced 2018-09-19 23:59:59+00:00   \n",
       "1  TBiz BB Capped Advanced 2018-09-19 23:59:59+00:00   \n",
       "2  TBiz BB Capped Advanced 2018-09-19 23:59:59+00:00   \n",
       "3  TBiz BB Capped Advanced 2018-09-19 23:59:59+00:00   \n",
       "4  TBiz BB Capped Advanced 2018-09-19 23:59:59+00:00   \n",
       "\n",
       "             ...                      MSISDN_ANON ORDER_ACTION_ID_ANON  \\\n",
       "0            ...              8267334465643049670   -22945164240823800   \n",
       "1            ...              5883010122451860359  6206333873489587611   \n",
       "2            ...              6881390640784013810  1589287855847731834   \n",
       "3            ...             -7917274003366893655  7874500299927321830   \n",
       "4            ...             -3858268071889160291 -6140598406575839500   \n",
       "\n",
       "  CUSTOMER_NO_ANON SERVICE_TYPE  CUSTOMER_TYPE_DESC  \\\n",
       "0              NaN         None                None   \n",
       "1              NaN         None                None   \n",
       "2              NaN         None                None   \n",
       "3              NaN         None                None   \n",
       "4              NaN         None                None   \n",
       "\n",
       "                                       combo  stage  final_stage  \\\n",
       "0    8267334465643049670_8014743664010143874      1            1   \n",
       "1    5883010122451860359_4896610020755115874      1            1   \n",
       "2   6881390640784013810_-7402119597778060068      1            1   \n",
       "3   -7917274003366893655_-891254573908734095      1            1   \n",
       "4  -3858268071889160291_-4980229336441433325      1            1   \n",
       "\n",
       "                 first_date                 last_date  \n",
       "0 2018-09-19 00:01:40+00:00 2018-09-19 00:01:40+00:00  \n",
       "1 2018-09-19 00:08:19+00:00 2018-09-19 00:08:19+00:00  \n",
       "2 2018-09-19 00:08:22+00:00 2018-09-19 00:08:22+00:00  \n",
       "3 2018-09-19 00:11:18+00:00 2018-09-19 00:11:18+00:00  \n",
       "4 2018-09-19 00:11:26+00:00 2018-09-19 00:11:26+00:00  \n",
       "\n",
       "[5 rows x 25 columns]"
      ]
     },
     "execution_count": 45,
     "metadata": {},
     "output_type": "execute_result"
    }
   ],
   "source": [
    "orders_df.head()"
   ]
  },
  {
   "cell_type": "code",
   "execution_count": 46,
   "metadata": {},
   "outputs": [],
   "source": [
    "orders_df['total_time'] = orders_df['ORDER_CREATION_DATE']-orders_df['first_date'] #add journey time rename this to accumulated time"
   ]
  },
  {
   "cell_type": "code",
   "execution_count": 47,
   "metadata": {},
   "outputs": [
    {
     "data": {
      "text/html": [
       "<div>\n",
       "<style scoped>\n",
       "    .dataframe tbody tr th:only-of-type {\n",
       "        vertical-align: middle;\n",
       "    }\n",
       "\n",
       "    .dataframe tbody tr th {\n",
       "        vertical-align: top;\n",
       "    }\n",
       "\n",
       "    .dataframe thead th {\n",
       "        text-align: right;\n",
       "    }\n",
       "</style>\n",
       "<table border=\"1\" class=\"dataframe\">\n",
       "  <thead>\n",
       "    <tr style=\"text-align: right;\">\n",
       "      <th></th>\n",
       "      <th>ORDER_STATUS_DESC</th>\n",
       "      <th>ORDER_CREATION_DATE</th>\n",
       "      <th>ACTION_STATUS_DESC</th>\n",
       "      <th>ACTION_TYPE</th>\n",
       "      <th>ACTION_TYPE_DESC</th>\n",
       "      <th>ACTION_CREATION_DATE</th>\n",
       "      <th>ORIGINAL_SALES_CHANNEL_DESC</th>\n",
       "      <th>CURRENT_SALES_CHANNEL_DESC</th>\n",
       "      <th>DEAL_DESC</th>\n",
       "      <th>PROV_DATE</th>\n",
       "      <th>...</th>\n",
       "      <th>ORDER_ACTION_ID_ANON</th>\n",
       "      <th>CUSTOMER_NO_ANON</th>\n",
       "      <th>SERVICE_TYPE</th>\n",
       "      <th>CUSTOMER_TYPE_DESC</th>\n",
       "      <th>combo</th>\n",
       "      <th>stage</th>\n",
       "      <th>final_stage</th>\n",
       "      <th>first_date</th>\n",
       "      <th>last_date</th>\n",
       "      <th>total_time</th>\n",
       "    </tr>\n",
       "  </thead>\n",
       "  <tbody>\n",
       "    <tr>\n",
       "      <th>52</th>\n",
       "      <td>Cancelled</td>\n",
       "      <td>2018-09-19 10:20:39+00:00</td>\n",
       "      <td>Cancelled</td>\n",
       "      <td>CI</td>\n",
       "      <td>Cease Part Of Migrate</td>\n",
       "      <td>2018-09-19 00:00:00+00:00</td>\n",
       "      <td>Call Center</td>\n",
       "      <td>Call Center</td>\n",
       "      <td>TBiz BB Capped Advanced</td>\n",
       "      <td>1950-01-01 00:00:00+00:00</td>\n",
       "      <td>...</td>\n",
       "      <td>8269386966561002079</td>\n",
       "      <td>NaN</td>\n",
       "      <td>None</td>\n",
       "      <td>None</td>\n",
       "      <td>-163301983679457663_-798146561363310271</td>\n",
       "      <td>1</td>\n",
       "      <td>2</td>\n",
       "      <td>2018-09-19 10:20:39+00:00</td>\n",
       "      <td>2018-09-19 10:41:39+00:00</td>\n",
       "      <td>0 days 00:00:00</td>\n",
       "    </tr>\n",
       "    <tr>\n",
       "      <th>53</th>\n",
       "      <td>Done</td>\n",
       "      <td>2018-09-19 10:41:39+00:00</td>\n",
       "      <td>Done</td>\n",
       "      <td>CI</td>\n",
       "      <td>Cease Part Of Migrate</td>\n",
       "      <td>2018-09-19 00:00:00+00:00</td>\n",
       "      <td>Call Center</td>\n",
       "      <td>Call Center</td>\n",
       "      <td>TBiz BB Capped Advanced</td>\n",
       "      <td>2018-09-19 12:41:55+00:00</td>\n",
       "      <td>...</td>\n",
       "      <td>-8038438834520941868</td>\n",
       "      <td>NaN</td>\n",
       "      <td>None</td>\n",
       "      <td>None</td>\n",
       "      <td>-163301983679457663_-798146561363310271</td>\n",
       "      <td>2</td>\n",
       "      <td>2</td>\n",
       "      <td>2018-09-19 10:20:39+00:00</td>\n",
       "      <td>2018-09-19 10:41:39+00:00</td>\n",
       "      <td>0 days 00:21:00</td>\n",
       "    </tr>\n",
       "    <tr>\n",
       "      <th>147</th>\n",
       "      <td>Cancelled</td>\n",
       "      <td>2018-09-21 15:00:41+00:00</td>\n",
       "      <td>Cancelled</td>\n",
       "      <td>CI</td>\n",
       "      <td>Cease Part Of Migrate</td>\n",
       "      <td>2018-09-21 00:00:00+00:00</td>\n",
       "      <td>WNS SMBS Outbound</td>\n",
       "      <td>WNS SMBS Outbound</td>\n",
       "      <td>TBiz BB Capped Advanced</td>\n",
       "      <td>1950-01-01 00:00:00+00:00</td>\n",
       "      <td>...</td>\n",
       "      <td>-6211388984143561759</td>\n",
       "      <td>NaN</td>\n",
       "      <td>None</td>\n",
       "      <td>None</td>\n",
       "      <td>-5476603457303044367_1927791018406881593</td>\n",
       "      <td>1</td>\n",
       "      <td>2</td>\n",
       "      <td>2018-09-21 15:00:41+00:00</td>\n",
       "      <td>2018-09-25 12:46:42+00:00</td>\n",
       "      <td>0 days 00:00:00</td>\n",
       "    </tr>\n",
       "    <tr>\n",
       "      <th>148</th>\n",
       "      <td>Done</td>\n",
       "      <td>2018-09-25 12:46:42+00:00</td>\n",
       "      <td>Done</td>\n",
       "      <td>CI</td>\n",
       "      <td>Cease Part Of Migrate</td>\n",
       "      <td>2018-09-21 00:00:00+00:00</td>\n",
       "      <td>WNS SMBS Outbound</td>\n",
       "      <td>WNS SMBS Outbound</td>\n",
       "      <td>TBiz BB Capped Advanced</td>\n",
       "      <td>2018-09-25 13:18:32+00:00</td>\n",
       "      <td>...</td>\n",
       "      <td>-7765968125154275429</td>\n",
       "      <td>NaN</td>\n",
       "      <td>None</td>\n",
       "      <td>None</td>\n",
       "      <td>-5476603457303044367_1927791018406881593</td>\n",
       "      <td>2</td>\n",
       "      <td>2</td>\n",
       "      <td>2018-09-21 15:00:41+00:00</td>\n",
       "      <td>2018-09-25 12:46:42+00:00</td>\n",
       "      <td>3 days 21:46:01</td>\n",
       "    </tr>\n",
       "    <tr>\n",
       "      <th>160</th>\n",
       "      <td>Done</td>\n",
       "      <td>2018-09-22 23:09:25+00:00</td>\n",
       "      <td>Done</td>\n",
       "      <td>CR</td>\n",
       "      <td>Resume from Suspension due to Collection</td>\n",
       "      <td>2018-09-22 23:09:25+00:00</td>\n",
       "      <td>Call Center</td>\n",
       "      <td>Call Center</td>\n",
       "      <td>TBiz BB Capped Advanced</td>\n",
       "      <td>2018-09-22 23:59:59+00:00</td>\n",
       "      <td>...</td>\n",
       "      <td>8394661561114069656</td>\n",
       "      <td>3.158067e+18</td>\n",
       "      <td>FIXED</td>\n",
       "      <td>Bus. Default</td>\n",
       "      <td>1753552838791919187_8148727144105914151</td>\n",
       "      <td>1</td>\n",
       "      <td>2</td>\n",
       "      <td>2018-09-22 23:09:25+00:00</td>\n",
       "      <td>2018-09-22 23:09:25+00:00</td>\n",
       "      <td>0 days 00:00:00</td>\n",
       "    </tr>\n",
       "  </tbody>\n",
       "</table>\n",
       "<p>5 rows × 26 columns</p>\n",
       "</div>"
      ],
      "text/plain": [
       "    ORDER_STATUS_DESC       ORDER_CREATION_DATE ACTION_STATUS_DESC  \\\n",
       "52          Cancelled 2018-09-19 10:20:39+00:00          Cancelled   \n",
       "53               Done 2018-09-19 10:41:39+00:00               Done   \n",
       "147         Cancelled 2018-09-21 15:00:41+00:00          Cancelled   \n",
       "148              Done 2018-09-25 12:46:42+00:00               Done   \n",
       "160              Done 2018-09-22 23:09:25+00:00               Done   \n",
       "\n",
       "    ACTION_TYPE                          ACTION_TYPE_DESC  \\\n",
       "52           CI                     Cease Part Of Migrate   \n",
       "53           CI                     Cease Part Of Migrate   \n",
       "147          CI                     Cease Part Of Migrate   \n",
       "148          CI                     Cease Part Of Migrate   \n",
       "160          CR  Resume from Suspension due to Collection   \n",
       "\n",
       "         ACTION_CREATION_DATE ORIGINAL_SALES_CHANNEL_DESC  \\\n",
       "52  2018-09-19 00:00:00+00:00                 Call Center   \n",
       "53  2018-09-19 00:00:00+00:00                 Call Center   \n",
       "147 2018-09-21 00:00:00+00:00           WNS SMBS Outbound   \n",
       "148 2018-09-21 00:00:00+00:00           WNS SMBS Outbound   \n",
       "160 2018-09-22 23:09:25+00:00                 Call Center   \n",
       "\n",
       "    CURRENT_SALES_CHANNEL_DESC                DEAL_DESC  \\\n",
       "52                 Call Center  TBiz BB Capped Advanced   \n",
       "53                 Call Center  TBiz BB Capped Advanced   \n",
       "147          WNS SMBS Outbound  TBiz BB Capped Advanced   \n",
       "148          WNS SMBS Outbound  TBiz BB Capped Advanced   \n",
       "160                Call Center  TBiz BB Capped Advanced   \n",
       "\n",
       "                    PROV_DATE       ...       ORDER_ACTION_ID_ANON  \\\n",
       "52  1950-01-01 00:00:00+00:00       ...        8269386966561002079   \n",
       "53  2018-09-19 12:41:55+00:00       ...       -8038438834520941868   \n",
       "147 1950-01-01 00:00:00+00:00       ...       -6211388984143561759   \n",
       "148 2018-09-25 13:18:32+00:00       ...       -7765968125154275429   \n",
       "160 2018-09-22 23:59:59+00:00       ...        8394661561114069656   \n",
       "\n",
       "    CUSTOMER_NO_ANON SERVICE_TYPE CUSTOMER_TYPE_DESC  \\\n",
       "52               NaN         None               None   \n",
       "53               NaN         None               None   \n",
       "147              NaN         None               None   \n",
       "148              NaN         None               None   \n",
       "160     3.158067e+18        FIXED       Bus. Default   \n",
       "\n",
       "                                        combo stage  final_stage  \\\n",
       "52    -163301983679457663_-798146561363310271     1            2   \n",
       "53    -163301983679457663_-798146561363310271     2            2   \n",
       "147  -5476603457303044367_1927791018406881593     1            2   \n",
       "148  -5476603457303044367_1927791018406881593     2            2   \n",
       "160   1753552838791919187_8148727144105914151     1            2   \n",
       "\n",
       "                   first_date                 last_date      total_time  \n",
       "52  2018-09-19 10:20:39+00:00 2018-09-19 10:41:39+00:00 0 days 00:00:00  \n",
       "53  2018-09-19 10:20:39+00:00 2018-09-19 10:41:39+00:00 0 days 00:21:00  \n",
       "147 2018-09-21 15:00:41+00:00 2018-09-25 12:46:42+00:00 0 days 00:00:00  \n",
       "148 2018-09-21 15:00:41+00:00 2018-09-25 12:46:42+00:00 3 days 21:46:01  \n",
       "160 2018-09-22 23:09:25+00:00 2018-09-22 23:09:25+00:00 0 days 00:00:00  \n",
       "\n",
       "[5 rows x 26 columns]"
      ]
     },
     "execution_count": 47,
     "metadata": {},
     "output_type": "execute_result"
    }
   ],
   "source": [
    "orders_df[orders_df['final_stage']==2].head()"
   ]
  },
  {
   "cell_type": "code",
   "execution_count": 48,
   "metadata": {},
   "outputs": [],
   "source": [
    "orders_df['total_time'] = orders_df['total_time'].dt.total_seconds()"
   ]
  },
  {
   "cell_type": "code",
   "execution_count": 49,
   "metadata": {},
   "outputs": [
    {
     "data": {
      "text/html": [
       "<div>\n",
       "<style scoped>\n",
       "    .dataframe tbody tr th:only-of-type {\n",
       "        vertical-align: middle;\n",
       "    }\n",
       "\n",
       "    .dataframe tbody tr th {\n",
       "        vertical-align: top;\n",
       "    }\n",
       "\n",
       "    .dataframe thead th {\n",
       "        text-align: right;\n",
       "    }\n",
       "</style>\n",
       "<table border=\"1\" class=\"dataframe\">\n",
       "  <thead>\n",
       "    <tr style=\"text-align: right;\">\n",
       "      <th></th>\n",
       "      <th>ORDER_STATUS_DESC</th>\n",
       "      <th>ORDER_CREATION_DATE</th>\n",
       "      <th>ACTION_STATUS_DESC</th>\n",
       "      <th>ACTION_TYPE</th>\n",
       "      <th>ACTION_TYPE_DESC</th>\n",
       "      <th>ACTION_CREATION_DATE</th>\n",
       "      <th>ORIGINAL_SALES_CHANNEL_DESC</th>\n",
       "      <th>CURRENT_SALES_CHANNEL_DESC</th>\n",
       "      <th>DEAL_DESC</th>\n",
       "      <th>PROV_DATE</th>\n",
       "      <th>...</th>\n",
       "      <th>ORDER_ACTION_ID_ANON</th>\n",
       "      <th>CUSTOMER_NO_ANON</th>\n",
       "      <th>SERVICE_TYPE</th>\n",
       "      <th>CUSTOMER_TYPE_DESC</th>\n",
       "      <th>combo</th>\n",
       "      <th>stage</th>\n",
       "      <th>final_stage</th>\n",
       "      <th>first_date</th>\n",
       "      <th>last_date</th>\n",
       "      <th>total_time</th>\n",
       "    </tr>\n",
       "  </thead>\n",
       "  <tbody>\n",
       "    <tr>\n",
       "      <th>52</th>\n",
       "      <td>Cancelled</td>\n",
       "      <td>2018-09-19 10:20:39+00:00</td>\n",
       "      <td>Cancelled</td>\n",
       "      <td>CI</td>\n",
       "      <td>Cease Part Of Migrate</td>\n",
       "      <td>2018-09-19 00:00:00+00:00</td>\n",
       "      <td>Call Center</td>\n",
       "      <td>Call Center</td>\n",
       "      <td>TBiz BB Capped Advanced</td>\n",
       "      <td>1950-01-01 00:00:00+00:00</td>\n",
       "      <td>...</td>\n",
       "      <td>8269386966561002079</td>\n",
       "      <td>NaN</td>\n",
       "      <td>None</td>\n",
       "      <td>None</td>\n",
       "      <td>-163301983679457663_-798146561363310271</td>\n",
       "      <td>1</td>\n",
       "      <td>2</td>\n",
       "      <td>2018-09-19 10:20:39+00:00</td>\n",
       "      <td>2018-09-19 10:41:39+00:00</td>\n",
       "      <td>0.0</td>\n",
       "    </tr>\n",
       "    <tr>\n",
       "      <th>53</th>\n",
       "      <td>Done</td>\n",
       "      <td>2018-09-19 10:41:39+00:00</td>\n",
       "      <td>Done</td>\n",
       "      <td>CI</td>\n",
       "      <td>Cease Part Of Migrate</td>\n",
       "      <td>2018-09-19 00:00:00+00:00</td>\n",
       "      <td>Call Center</td>\n",
       "      <td>Call Center</td>\n",
       "      <td>TBiz BB Capped Advanced</td>\n",
       "      <td>2018-09-19 12:41:55+00:00</td>\n",
       "      <td>...</td>\n",
       "      <td>-8038438834520941868</td>\n",
       "      <td>NaN</td>\n",
       "      <td>None</td>\n",
       "      <td>None</td>\n",
       "      <td>-163301983679457663_-798146561363310271</td>\n",
       "      <td>2</td>\n",
       "      <td>2</td>\n",
       "      <td>2018-09-19 10:20:39+00:00</td>\n",
       "      <td>2018-09-19 10:41:39+00:00</td>\n",
       "      <td>1260.0</td>\n",
       "    </tr>\n",
       "    <tr>\n",
       "      <th>147</th>\n",
       "      <td>Cancelled</td>\n",
       "      <td>2018-09-21 15:00:41+00:00</td>\n",
       "      <td>Cancelled</td>\n",
       "      <td>CI</td>\n",
       "      <td>Cease Part Of Migrate</td>\n",
       "      <td>2018-09-21 00:00:00+00:00</td>\n",
       "      <td>WNS SMBS Outbound</td>\n",
       "      <td>WNS SMBS Outbound</td>\n",
       "      <td>TBiz BB Capped Advanced</td>\n",
       "      <td>1950-01-01 00:00:00+00:00</td>\n",
       "      <td>...</td>\n",
       "      <td>-6211388984143561759</td>\n",
       "      <td>NaN</td>\n",
       "      <td>None</td>\n",
       "      <td>None</td>\n",
       "      <td>-5476603457303044367_1927791018406881593</td>\n",
       "      <td>1</td>\n",
       "      <td>2</td>\n",
       "      <td>2018-09-21 15:00:41+00:00</td>\n",
       "      <td>2018-09-25 12:46:42+00:00</td>\n",
       "      <td>0.0</td>\n",
       "    </tr>\n",
       "    <tr>\n",
       "      <th>148</th>\n",
       "      <td>Done</td>\n",
       "      <td>2018-09-25 12:46:42+00:00</td>\n",
       "      <td>Done</td>\n",
       "      <td>CI</td>\n",
       "      <td>Cease Part Of Migrate</td>\n",
       "      <td>2018-09-21 00:00:00+00:00</td>\n",
       "      <td>WNS SMBS Outbound</td>\n",
       "      <td>WNS SMBS Outbound</td>\n",
       "      <td>TBiz BB Capped Advanced</td>\n",
       "      <td>2018-09-25 13:18:32+00:00</td>\n",
       "      <td>...</td>\n",
       "      <td>-7765968125154275429</td>\n",
       "      <td>NaN</td>\n",
       "      <td>None</td>\n",
       "      <td>None</td>\n",
       "      <td>-5476603457303044367_1927791018406881593</td>\n",
       "      <td>2</td>\n",
       "      <td>2</td>\n",
       "      <td>2018-09-21 15:00:41+00:00</td>\n",
       "      <td>2018-09-25 12:46:42+00:00</td>\n",
       "      <td>337561.0</td>\n",
       "    </tr>\n",
       "    <tr>\n",
       "      <th>160</th>\n",
       "      <td>Done</td>\n",
       "      <td>2018-09-22 23:09:25+00:00</td>\n",
       "      <td>Done</td>\n",
       "      <td>CR</td>\n",
       "      <td>Resume from Suspension due to Collection</td>\n",
       "      <td>2018-09-22 23:09:25+00:00</td>\n",
       "      <td>Call Center</td>\n",
       "      <td>Call Center</td>\n",
       "      <td>TBiz BB Capped Advanced</td>\n",
       "      <td>2018-09-22 23:59:59+00:00</td>\n",
       "      <td>...</td>\n",
       "      <td>8394661561114069656</td>\n",
       "      <td>3.158067e+18</td>\n",
       "      <td>FIXED</td>\n",
       "      <td>Bus. Default</td>\n",
       "      <td>1753552838791919187_8148727144105914151</td>\n",
       "      <td>1</td>\n",
       "      <td>2</td>\n",
       "      <td>2018-09-22 23:09:25+00:00</td>\n",
       "      <td>2018-09-22 23:09:25+00:00</td>\n",
       "      <td>0.0</td>\n",
       "    </tr>\n",
       "  </tbody>\n",
       "</table>\n",
       "<p>5 rows × 26 columns</p>\n",
       "</div>"
      ],
      "text/plain": [
       "    ORDER_STATUS_DESC       ORDER_CREATION_DATE ACTION_STATUS_DESC  \\\n",
       "52          Cancelled 2018-09-19 10:20:39+00:00          Cancelled   \n",
       "53               Done 2018-09-19 10:41:39+00:00               Done   \n",
       "147         Cancelled 2018-09-21 15:00:41+00:00          Cancelled   \n",
       "148              Done 2018-09-25 12:46:42+00:00               Done   \n",
       "160              Done 2018-09-22 23:09:25+00:00               Done   \n",
       "\n",
       "    ACTION_TYPE                          ACTION_TYPE_DESC  \\\n",
       "52           CI                     Cease Part Of Migrate   \n",
       "53           CI                     Cease Part Of Migrate   \n",
       "147          CI                     Cease Part Of Migrate   \n",
       "148          CI                     Cease Part Of Migrate   \n",
       "160          CR  Resume from Suspension due to Collection   \n",
       "\n",
       "         ACTION_CREATION_DATE ORIGINAL_SALES_CHANNEL_DESC  \\\n",
       "52  2018-09-19 00:00:00+00:00                 Call Center   \n",
       "53  2018-09-19 00:00:00+00:00                 Call Center   \n",
       "147 2018-09-21 00:00:00+00:00           WNS SMBS Outbound   \n",
       "148 2018-09-21 00:00:00+00:00           WNS SMBS Outbound   \n",
       "160 2018-09-22 23:09:25+00:00                 Call Center   \n",
       "\n",
       "    CURRENT_SALES_CHANNEL_DESC                DEAL_DESC  \\\n",
       "52                 Call Center  TBiz BB Capped Advanced   \n",
       "53                 Call Center  TBiz BB Capped Advanced   \n",
       "147          WNS SMBS Outbound  TBiz BB Capped Advanced   \n",
       "148          WNS SMBS Outbound  TBiz BB Capped Advanced   \n",
       "160                Call Center  TBiz BB Capped Advanced   \n",
       "\n",
       "                    PROV_DATE    ...     ORDER_ACTION_ID_ANON  \\\n",
       "52  1950-01-01 00:00:00+00:00    ...      8269386966561002079   \n",
       "53  2018-09-19 12:41:55+00:00    ...     -8038438834520941868   \n",
       "147 1950-01-01 00:00:00+00:00    ...     -6211388984143561759   \n",
       "148 2018-09-25 13:18:32+00:00    ...     -7765968125154275429   \n",
       "160 2018-09-22 23:59:59+00:00    ...      8394661561114069656   \n",
       "\n",
       "    CUSTOMER_NO_ANON SERVICE_TYPE CUSTOMER_TYPE_DESC  \\\n",
       "52               NaN         None               None   \n",
       "53               NaN         None               None   \n",
       "147              NaN         None               None   \n",
       "148              NaN         None               None   \n",
       "160     3.158067e+18        FIXED       Bus. Default   \n",
       "\n",
       "                                        combo stage  final_stage  \\\n",
       "52    -163301983679457663_-798146561363310271     1            2   \n",
       "53    -163301983679457663_-798146561363310271     2            2   \n",
       "147  -5476603457303044367_1927791018406881593     1            2   \n",
       "148  -5476603457303044367_1927791018406881593     2            2   \n",
       "160   1753552838791919187_8148727144105914151     1            2   \n",
       "\n",
       "                   first_date                 last_date total_time  \n",
       "52  2018-09-19 10:20:39+00:00 2018-09-19 10:41:39+00:00        0.0  \n",
       "53  2018-09-19 10:20:39+00:00 2018-09-19 10:41:39+00:00     1260.0  \n",
       "147 2018-09-21 15:00:41+00:00 2018-09-25 12:46:42+00:00        0.0  \n",
       "148 2018-09-21 15:00:41+00:00 2018-09-25 12:46:42+00:00   337561.0  \n",
       "160 2018-09-22 23:09:25+00:00 2018-09-22 23:09:25+00:00        0.0  \n",
       "\n",
       "[5 rows x 26 columns]"
      ]
     },
     "execution_count": 49,
     "metadata": {},
     "output_type": "execute_result"
    }
   ],
   "source": [
    "orders_df[orders_df['final_stage']==2].head()"
   ]
  },
  {
   "cell_type": "code",
   "execution_count": 50,
   "metadata": {},
   "outputs": [],
   "source": [
    "# filters on final (number of) stage"
   ]
  },
  {
   "cell_type": "code",
   "execution_count": 51,
   "metadata": {},
   "outputs": [],
   "source": [
    "number_of_stages = 1"
   ]
  },
  {
   "cell_type": "code",
   "execution_count": 52,
   "metadata": {},
   "outputs": [],
   "source": [
    "orders_df = orders_df[orders_df['final_stage'] >= number_of_stages]"
   ]
  },
  {
   "cell_type": "code",
   "execution_count": 53,
   "metadata": {},
   "outputs": [
    {
     "data": {
      "text/plain": [
       "6851"
      ]
     },
     "execution_count": 53,
     "metadata": {},
     "output_type": "execute_result"
    }
   ],
   "source": [
    "len(orders_df)"
   ]
  },
  {
   "cell_type": "code",
   "execution_count": 54,
   "metadata": {},
   "outputs": [],
   "source": [
    "# filter on total time"
   ]
  },
  {
   "cell_type": "code",
   "execution_count": 55,
   "metadata": {},
   "outputs": [],
   "source": [
    "time_filter = -1"
   ]
  },
  {
   "cell_type": "code",
   "execution_count": 56,
   "metadata": {},
   "outputs": [],
   "source": [
    "orders_df = orders_df[orders_df['total_time'] > time_filter]"
   ]
  },
  {
   "cell_type": "code",
   "execution_count": 57,
   "metadata": {},
   "outputs": [
    {
     "data": {
      "text/plain": [
       "6851"
      ]
     },
     "execution_count": 57,
     "metadata": {},
     "output_type": "execute_result"
    }
   ],
   "source": [
    "len(orders_df)"
   ]
  },
  {
   "cell_type": "code",
   "execution_count": 58,
   "metadata": {},
   "outputs": [],
   "source": [
    "# filter on last stage"
   ]
  },
  {
   "cell_type": "code",
   "execution_count": null,
   "metadata": {},
   "outputs": [],
   "source": []
  },
  {
   "cell_type": "code",
   "execution_count": 59,
   "metadata": {},
   "outputs": [],
   "source": [
    "# filter on contains stage"
   ]
  },
  {
   "cell_type": "code",
   "execution_count": 60,
   "metadata": {},
   "outputs": [
    {
     "data": {
      "text/plain": [
       "array(['Resume from Suspension due to Collection',\n",
       "       'Cease due to Collection', 'Soft Suspend', 'Hard Suspend',\n",
       "       'Change - Dispatchable', 'Receive  Ownership',\n",
       "       'Change - No Dispatch', 'Cease Part Of Migrate', 'Cease',\n",
       "       'Provide Part Of Migrate', 'Provide', 'Move Outdoor Same Exchange',\n",
       "       'Change', 'Move Outdoor Other Exchange', 'Cease Part Of Move',\n",
       "       'Provide Part Of Move', 'Indoor transfer', 'Modify Address',\n",
       "       'Re-establish', 'Change BAN To BAN', 'Change SN',\n",
       "       'Change - T&M Dispatch', 'Provide Same As'], dtype=object)"
      ]
     },
     "execution_count": 60,
     "metadata": {},
     "output_type": "execute_result"
    }
   ],
   "source": [
    "orders_df['ACTION_TYPE_DESC'].unique()"
   ]
  },
  {
   "cell_type": "code",
   "execution_count": 61,
   "metadata": {},
   "outputs": [],
   "source": [
    "contains_action = ['Cease Part Of Migrate', 'Change', 'Move Outdoor Same Exchange',\n",
    "       'Cease Part Of Move', 'Move Outdoor Other Exchange',\n",
    "       'Provide Part Of Move', 'Provide', 'Provide Part Of Migrate',\n",
    "       'Change - No Dispatch', 'Receive  Ownership', 'Indoor transfer',\n",
    "       'Change - Dispatchable', 'Cease', 'Change - T&M Dispatch',\n",
    "       'Re-establish']"
   ]
  },
  {
   "cell_type": "code",
   "execution_count": 62,
   "metadata": {},
   "outputs": [],
   "source": [
    "orders_df['match_action'] = orders_df['ACTION_TYPE_DESC'].isin(contains_action)"
   ]
  },
  {
   "cell_type": "code",
   "execution_count": 63,
   "metadata": {},
   "outputs": [
    {
     "data": {
      "text/html": [
       "<div>\n",
       "<style scoped>\n",
       "    .dataframe tbody tr th:only-of-type {\n",
       "        vertical-align: middle;\n",
       "    }\n",
       "\n",
       "    .dataframe tbody tr th {\n",
       "        vertical-align: top;\n",
       "    }\n",
       "\n",
       "    .dataframe thead th {\n",
       "        text-align: right;\n",
       "    }\n",
       "</style>\n",
       "<table border=\"1\" class=\"dataframe\">\n",
       "  <thead>\n",
       "    <tr style=\"text-align: right;\">\n",
       "      <th></th>\n",
       "      <th>ORDER_STATUS_DESC</th>\n",
       "      <th>ORDER_CREATION_DATE</th>\n",
       "      <th>ACTION_STATUS_DESC</th>\n",
       "      <th>ACTION_TYPE</th>\n",
       "      <th>ACTION_TYPE_DESC</th>\n",
       "      <th>ACTION_CREATION_DATE</th>\n",
       "      <th>ORIGINAL_SALES_CHANNEL_DESC</th>\n",
       "      <th>CURRENT_SALES_CHANNEL_DESC</th>\n",
       "      <th>DEAL_DESC</th>\n",
       "      <th>PROV_DATE</th>\n",
       "      <th>...</th>\n",
       "      <th>CUSTOMER_NO_ANON</th>\n",
       "      <th>SERVICE_TYPE</th>\n",
       "      <th>CUSTOMER_TYPE_DESC</th>\n",
       "      <th>combo</th>\n",
       "      <th>stage</th>\n",
       "      <th>final_stage</th>\n",
       "      <th>first_date</th>\n",
       "      <th>last_date</th>\n",
       "      <th>total_time</th>\n",
       "      <th>match_action</th>\n",
       "    </tr>\n",
       "  </thead>\n",
       "  <tbody>\n",
       "    <tr>\n",
       "      <th>0</th>\n",
       "      <td>Done</td>\n",
       "      <td>2018-09-19 00:01:40+00:00</td>\n",
       "      <td>Done</td>\n",
       "      <td>CR</td>\n",
       "      <td>Resume from Suspension due to Collection</td>\n",
       "      <td>2018-09-19 00:00:34+00:00</td>\n",
       "      <td>Call Center</td>\n",
       "      <td>Call Center</td>\n",
       "      <td>TBiz BB Capped Advanced</td>\n",
       "      <td>2018-09-19 23:59:59+00:00</td>\n",
       "      <td>...</td>\n",
       "      <td>NaN</td>\n",
       "      <td>None</td>\n",
       "      <td>None</td>\n",
       "      <td>8267334465643049670_8014743664010143874</td>\n",
       "      <td>1</td>\n",
       "      <td>1</td>\n",
       "      <td>2018-09-19 00:01:40+00:00</td>\n",
       "      <td>2018-09-19 00:01:40+00:00</td>\n",
       "      <td>0.0</td>\n",
       "      <td>False</td>\n",
       "    </tr>\n",
       "    <tr>\n",
       "      <th>1</th>\n",
       "      <td>Done</td>\n",
       "      <td>2018-09-19 00:08:19+00:00</td>\n",
       "      <td>Done</td>\n",
       "      <td>CR</td>\n",
       "      <td>Resume from Suspension due to Collection</td>\n",
       "      <td>2018-09-19 00:02:30+00:00</td>\n",
       "      <td>Call Center</td>\n",
       "      <td>Call Center</td>\n",
       "      <td>TBiz BB Capped Advanced</td>\n",
       "      <td>2018-09-19 23:59:59+00:00</td>\n",
       "      <td>...</td>\n",
       "      <td>NaN</td>\n",
       "      <td>None</td>\n",
       "      <td>None</td>\n",
       "      <td>5883010122451860359_4896610020755115874</td>\n",
       "      <td>1</td>\n",
       "      <td>1</td>\n",
       "      <td>2018-09-19 00:08:19+00:00</td>\n",
       "      <td>2018-09-19 00:08:19+00:00</td>\n",
       "      <td>0.0</td>\n",
       "      <td>False</td>\n",
       "    </tr>\n",
       "    <tr>\n",
       "      <th>2</th>\n",
       "      <td>Done</td>\n",
       "      <td>2018-09-19 00:08:22+00:00</td>\n",
       "      <td>Done</td>\n",
       "      <td>CR</td>\n",
       "      <td>Resume from Suspension due to Collection</td>\n",
       "      <td>2018-09-19 00:08:04+00:00</td>\n",
       "      <td>Call Center</td>\n",
       "      <td>Call Center</td>\n",
       "      <td>TBiz BB Capped Advanced</td>\n",
       "      <td>2018-09-19 23:59:59+00:00</td>\n",
       "      <td>...</td>\n",
       "      <td>NaN</td>\n",
       "      <td>None</td>\n",
       "      <td>None</td>\n",
       "      <td>6881390640784013810_-7402119597778060068</td>\n",
       "      <td>1</td>\n",
       "      <td>1</td>\n",
       "      <td>2018-09-19 00:08:22+00:00</td>\n",
       "      <td>2018-09-19 00:08:22+00:00</td>\n",
       "      <td>0.0</td>\n",
       "      <td>False</td>\n",
       "    </tr>\n",
       "    <tr>\n",
       "      <th>3</th>\n",
       "      <td>Done</td>\n",
       "      <td>2018-09-19 00:11:18+00:00</td>\n",
       "      <td>Done</td>\n",
       "      <td>CR</td>\n",
       "      <td>Resume from Suspension due to Collection</td>\n",
       "      <td>2018-09-19 00:11:16+00:00</td>\n",
       "      <td>Call Center</td>\n",
       "      <td>Call Center</td>\n",
       "      <td>TBiz BB Capped Advanced</td>\n",
       "      <td>2018-09-19 23:59:59+00:00</td>\n",
       "      <td>...</td>\n",
       "      <td>NaN</td>\n",
       "      <td>None</td>\n",
       "      <td>None</td>\n",
       "      <td>-7917274003366893655_-891254573908734095</td>\n",
       "      <td>1</td>\n",
       "      <td>1</td>\n",
       "      <td>2018-09-19 00:11:18+00:00</td>\n",
       "      <td>2018-09-19 00:11:18+00:00</td>\n",
       "      <td>0.0</td>\n",
       "      <td>False</td>\n",
       "    </tr>\n",
       "    <tr>\n",
       "      <th>4</th>\n",
       "      <td>Done</td>\n",
       "      <td>2018-09-19 00:11:26+00:00</td>\n",
       "      <td>Done</td>\n",
       "      <td>CR</td>\n",
       "      <td>Resume from Suspension due to Collection</td>\n",
       "      <td>2018-09-19 00:11:25+00:00</td>\n",
       "      <td>Call Center</td>\n",
       "      <td>Call Center</td>\n",
       "      <td>TBiz BB Capped Advanced</td>\n",
       "      <td>2018-09-19 23:59:59+00:00</td>\n",
       "      <td>...</td>\n",
       "      <td>NaN</td>\n",
       "      <td>None</td>\n",
       "      <td>None</td>\n",
       "      <td>-3858268071889160291_-4980229336441433325</td>\n",
       "      <td>1</td>\n",
       "      <td>1</td>\n",
       "      <td>2018-09-19 00:11:26+00:00</td>\n",
       "      <td>2018-09-19 00:11:26+00:00</td>\n",
       "      <td>0.0</td>\n",
       "      <td>False</td>\n",
       "    </tr>\n",
       "  </tbody>\n",
       "</table>\n",
       "<p>5 rows × 27 columns</p>\n",
       "</div>"
      ],
      "text/plain": [
       "  ORDER_STATUS_DESC       ORDER_CREATION_DATE ACTION_STATUS_DESC ACTION_TYPE  \\\n",
       "0              Done 2018-09-19 00:01:40+00:00               Done          CR   \n",
       "1              Done 2018-09-19 00:08:19+00:00               Done          CR   \n",
       "2              Done 2018-09-19 00:08:22+00:00               Done          CR   \n",
       "3              Done 2018-09-19 00:11:18+00:00               Done          CR   \n",
       "4              Done 2018-09-19 00:11:26+00:00               Done          CR   \n",
       "\n",
       "                           ACTION_TYPE_DESC      ACTION_CREATION_DATE  \\\n",
       "0  Resume from Suspension due to Collection 2018-09-19 00:00:34+00:00   \n",
       "1  Resume from Suspension due to Collection 2018-09-19 00:02:30+00:00   \n",
       "2  Resume from Suspension due to Collection 2018-09-19 00:08:04+00:00   \n",
       "3  Resume from Suspension due to Collection 2018-09-19 00:11:16+00:00   \n",
       "4  Resume from Suspension due to Collection 2018-09-19 00:11:25+00:00   \n",
       "\n",
       "  ORIGINAL_SALES_CHANNEL_DESC CURRENT_SALES_CHANNEL_DESC  \\\n",
       "0                 Call Center                Call Center   \n",
       "1                 Call Center                Call Center   \n",
       "2                 Call Center                Call Center   \n",
       "3                 Call Center                Call Center   \n",
       "4                 Call Center                Call Center   \n",
       "\n",
       "                 DEAL_DESC                 PROV_DATE     ...       \\\n",
       "0  TBiz BB Capped Advanced 2018-09-19 23:59:59+00:00     ...        \n",
       "1  TBiz BB Capped Advanced 2018-09-19 23:59:59+00:00     ...        \n",
       "2  TBiz BB Capped Advanced 2018-09-19 23:59:59+00:00     ...        \n",
       "3  TBiz BB Capped Advanced 2018-09-19 23:59:59+00:00     ...        \n",
       "4  TBiz BB Capped Advanced 2018-09-19 23:59:59+00:00     ...        \n",
       "\n",
       "  CUSTOMER_NO_ANON SERVICE_TYPE CUSTOMER_TYPE_DESC  \\\n",
       "0              NaN         None               None   \n",
       "1              NaN         None               None   \n",
       "2              NaN         None               None   \n",
       "3              NaN         None               None   \n",
       "4              NaN         None               None   \n",
       "\n",
       "                                       combo  stage final_stage  \\\n",
       "0    8267334465643049670_8014743664010143874      1           1   \n",
       "1    5883010122451860359_4896610020755115874      1           1   \n",
       "2   6881390640784013810_-7402119597778060068      1           1   \n",
       "3   -7917274003366893655_-891254573908734095      1           1   \n",
       "4  -3858268071889160291_-4980229336441433325      1           1   \n",
       "\n",
       "                 first_date                 last_date total_time match_action  \n",
       "0 2018-09-19 00:01:40+00:00 2018-09-19 00:01:40+00:00        0.0        False  \n",
       "1 2018-09-19 00:08:19+00:00 2018-09-19 00:08:19+00:00        0.0        False  \n",
       "2 2018-09-19 00:08:22+00:00 2018-09-19 00:08:22+00:00        0.0        False  \n",
       "3 2018-09-19 00:11:18+00:00 2018-09-19 00:11:18+00:00        0.0        False  \n",
       "4 2018-09-19 00:11:26+00:00 2018-09-19 00:11:26+00:00        0.0        False  \n",
       "\n",
       "[5 rows x 27 columns]"
      ]
     },
     "execution_count": 63,
     "metadata": {},
     "output_type": "execute_result"
    }
   ],
   "source": [
    "orders_df.head()"
   ]
  },
  {
   "cell_type": "code",
   "execution_count": 64,
   "metadata": {},
   "outputs": [],
   "source": [
    "match_max = orders_df[[unique_col,'match_action']].groupby(unique_col)['match_action'].max().reset_index()"
   ]
  },
  {
   "cell_type": "code",
   "execution_count": 65,
   "metadata": {},
   "outputs": [
    {
     "data": {
      "text/plain": [
       "1844"
      ]
     },
     "execution_count": 65,
     "metadata": {},
     "output_type": "execute_result"
    }
   ],
   "source": [
    "len(match_max[match_max['match_action']==True])"
   ]
  },
  {
   "cell_type": "code",
   "execution_count": 66,
   "metadata": {},
   "outputs": [],
   "source": [
    "match_max.rename(columns={'match_action':'contains'}, inplace=True)"
   ]
  },
  {
   "cell_type": "code",
   "execution_count": 67,
   "metadata": {},
   "outputs": [],
   "source": [
    "orders_df = pd.merge(orders_df, match_max, on=unique_col, how='outer')"
   ]
  },
  {
   "cell_type": "code",
   "execution_count": 68,
   "metadata": {},
   "outputs": [],
   "source": [
    "orders_df = orders_df[orders_df['contains']==True]"
   ]
  },
  {
   "cell_type": "code",
   "execution_count": 69,
   "metadata": {},
   "outputs": [],
   "source": [
    "orders_df = orders_df.drop(columns=['match_action','contains'])"
   ]
  },
  {
   "cell_type": "code",
   "execution_count": null,
   "metadata": {},
   "outputs": [],
   "source": []
  },
  {
   "cell_type": "code",
   "execution_count": null,
   "metadata": {},
   "outputs": [],
   "source": []
  },
  {
   "cell_type": "code",
   "execution_count": null,
   "metadata": {},
   "outputs": [],
   "source": []
  },
  {
   "cell_type": "code",
   "execution_count": 70,
   "metadata": {},
   "outputs": [],
   "source": [
    "orders_df['stage'] = orders_df['stage'].astype(str)"
   ]
  },
  {
   "cell_type": "code",
   "execution_count": 71,
   "metadata": {},
   "outputs": [],
   "source": [
    "orders_df['ActionType_OrderStatus'] = orders_df['ACTION_TYPE_DESC'] +' * '+ orders_df['ORDER_STATUS_DESC'] "
   ]
  },
  {
   "cell_type": "code",
   "execution_count": 72,
   "metadata": {},
   "outputs": [],
   "source": [
    "type_status = list(sorted(orders_df['ActionType_OrderStatus'].unique()))"
   ]
  },
  {
   "cell_type": "code",
   "execution_count": 73,
   "metadata": {},
   "outputs": [
    {
     "data": {
      "text/plain": [
       "['Cease * Cancelled',\n",
       " 'Cease * Delivery',\n",
       " 'Cease * Done',\n",
       " 'Cease * Negotiation',\n",
       " 'Cease Part Of Migrate * Cancelled',\n",
       " 'Cease Part Of Migrate * Completion',\n",
       " 'Cease Part Of Migrate * Done',\n",
       " 'Cease Part Of Migrate * Negotiation',\n",
       " 'Cease Part Of Move * Cancelled',\n",
       " 'Cease Part Of Move * Done',\n",
       " 'Cease Part Of Move * Negotiation',\n",
       " 'Change * Cancelled',\n",
       " 'Change * Done',\n",
       " 'Change - Dispatchable * Cancelled',\n",
       " 'Change - Dispatchable * Done',\n",
       " 'Change - No Dispatch * Cancelled',\n",
       " 'Change - No Dispatch * Done',\n",
       " 'Change - T&M Dispatch * Cancelled',\n",
       " 'Change - T&M Dispatch * Done',\n",
       " 'Indoor transfer * Cancelled',\n",
       " 'Indoor transfer * Done',\n",
       " 'Move Outdoor Other Exchange * Cancelled',\n",
       " 'Move Outdoor Other Exchange * Done',\n",
       " 'Move Outdoor Other Exchange * Negotiation',\n",
       " 'Move Outdoor Same Exchange * Cancelled',\n",
       " 'Move Outdoor Same Exchange * Delivery',\n",
       " 'Move Outdoor Same Exchange * Done',\n",
       " 'Provide * Cancelled',\n",
       " 'Provide * Done',\n",
       " 'Provide Part Of Migrate * Amended',\n",
       " 'Provide Part Of Migrate * Cancelled',\n",
       " 'Provide Part Of Migrate * Done',\n",
       " 'Provide Part Of Move * Cancelled',\n",
       " 'Provide Part Of Move * Done',\n",
       " 'Re-establish * Cancelled',\n",
       " 'Re-establish * Done',\n",
       " 'Receive  Ownership * Cancelled',\n",
       " 'Receive  Ownership * Done']"
      ]
     },
     "execution_count": 73,
     "metadata": {},
     "output_type": "execute_result"
    }
   ],
   "source": [
    "type_status"
   ]
  },
  {
   "cell_type": "code",
   "execution_count": 74,
   "metadata": {},
   "outputs": [
    {
     "data": {
      "text/plain": [
       "38"
      ]
     },
     "execution_count": 74,
     "metadata": {},
     "output_type": "execute_result"
    }
   ],
   "source": [
    "len(type_status)"
   ]
  },
  {
   "cell_type": "code",
   "execution_count": 75,
   "metadata": {},
   "outputs": [
    {
     "data": {
      "text/plain": [
       "41"
      ]
     },
     "execution_count": 75,
     "metadata": {},
     "output_type": "execute_result"
    }
   ],
   "source": [
    "max_string_len = len(max(type_status, key=len))\n",
    "max_string_len"
   ]
  },
  {
   "cell_type": "code",
   "execution_count": 76,
   "metadata": {},
   "outputs": [],
   "source": [
    "orders_df['stage_ActionType_OrderStatus'] = orders_df['stage'] +') * '+ orders_df['ACTION_TYPE_DESC'] +' * '+ orders_df['ORDER_STATUS_DESC'] "
   ]
  },
  {
   "cell_type": "code",
   "execution_count": 77,
   "metadata": {},
   "outputs": [
    {
     "data": {
      "text/html": [
       "<div>\n",
       "<style scoped>\n",
       "    .dataframe tbody tr th:only-of-type {\n",
       "        vertical-align: middle;\n",
       "    }\n",
       "\n",
       "    .dataframe tbody tr th {\n",
       "        vertical-align: top;\n",
       "    }\n",
       "\n",
       "    .dataframe thead th {\n",
       "        text-align: right;\n",
       "    }\n",
       "</style>\n",
       "<table border=\"1\" class=\"dataframe\">\n",
       "  <thead>\n",
       "    <tr style=\"text-align: right;\">\n",
       "      <th></th>\n",
       "      <th>ORDER_STATUS_DESC</th>\n",
       "      <th>ORDER_CREATION_DATE</th>\n",
       "      <th>ACTION_STATUS_DESC</th>\n",
       "      <th>ACTION_TYPE</th>\n",
       "      <th>ACTION_TYPE_DESC</th>\n",
       "      <th>ACTION_CREATION_DATE</th>\n",
       "      <th>ORIGINAL_SALES_CHANNEL_DESC</th>\n",
       "      <th>CURRENT_SALES_CHANNEL_DESC</th>\n",
       "      <th>DEAL_DESC</th>\n",
       "      <th>PROV_DATE</th>\n",
       "      <th>...</th>\n",
       "      <th>SERVICE_TYPE</th>\n",
       "      <th>CUSTOMER_TYPE_DESC</th>\n",
       "      <th>combo</th>\n",
       "      <th>stage</th>\n",
       "      <th>final_stage</th>\n",
       "      <th>first_date</th>\n",
       "      <th>last_date</th>\n",
       "      <th>total_time</th>\n",
       "      <th>ActionType_OrderStatus</th>\n",
       "      <th>stage_ActionType_OrderStatus</th>\n",
       "    </tr>\n",
       "  </thead>\n",
       "  <tbody>\n",
       "    <tr>\n",
       "      <th>6826</th>\n",
       "      <td>Done</td>\n",
       "      <td>2019-09-17 14:47:20+00:00</td>\n",
       "      <td>Done</td>\n",
       "      <td>CE</td>\n",
       "      <td>Cease</td>\n",
       "      <td>2019-09-17 00:00:00+00:00</td>\n",
       "      <td>Telkom Direct Shop</td>\n",
       "      <td>Telkom Direct Shop</td>\n",
       "      <td>TBiz BB Capped Advanced</td>\n",
       "      <td>2019-09-17 14:59:16+00:00</td>\n",
       "      <td>...</td>\n",
       "      <td>None</td>\n",
       "      <td>Small</td>\n",
       "      <td>6076150216499066653_2674119506241389658</td>\n",
       "      <td>1</td>\n",
       "      <td>1</td>\n",
       "      <td>2019-09-17 14:47:20+00:00</td>\n",
       "      <td>2019-09-17 14:47:20+00:00</td>\n",
       "      <td>0.0</td>\n",
       "      <td>Cease * Done</td>\n",
       "      <td>1) * Cease * Done</td>\n",
       "    </tr>\n",
       "    <tr>\n",
       "      <th>6827</th>\n",
       "      <td>Done</td>\n",
       "      <td>2019-09-17 14:47:21+00:00</td>\n",
       "      <td>Done</td>\n",
       "      <td>CE</td>\n",
       "      <td>Cease</td>\n",
       "      <td>2019-09-17 00:00:00+00:00</td>\n",
       "      <td>Telkom Direct Shop</td>\n",
       "      <td>Telkom Direct Shop</td>\n",
       "      <td>TBiz BB Capped Advanced</td>\n",
       "      <td>2019-09-17 23:59:59+00:00</td>\n",
       "      <td>...</td>\n",
       "      <td>None</td>\n",
       "      <td>Small</td>\n",
       "      <td>8551270563082250674_2674119506241389658</td>\n",
       "      <td>1</td>\n",
       "      <td>1</td>\n",
       "      <td>2019-09-17 14:47:21+00:00</td>\n",
       "      <td>2019-09-17 14:47:21+00:00</td>\n",
       "      <td>0.0</td>\n",
       "      <td>Cease * Done</td>\n",
       "      <td>1) * Cease * Done</td>\n",
       "    </tr>\n",
       "    <tr>\n",
       "      <th>6828</th>\n",
       "      <td>Done</td>\n",
       "      <td>2019-09-17 14:47:21+00:00</td>\n",
       "      <td>Done</td>\n",
       "      <td>CE</td>\n",
       "      <td>Cease</td>\n",
       "      <td>2019-09-17 00:00:00+00:00</td>\n",
       "      <td>Telkom Direct Shop</td>\n",
       "      <td>Telkom Direct Shop</td>\n",
       "      <td>TBiz BB Capped Advanced</td>\n",
       "      <td>2019-09-17 23:59:59+00:00</td>\n",
       "      <td>...</td>\n",
       "      <td>None</td>\n",
       "      <td>Small</td>\n",
       "      <td>2349405019545791832_2674119506241389658</td>\n",
       "      <td>1</td>\n",
       "      <td>1</td>\n",
       "      <td>2019-09-17 14:47:21+00:00</td>\n",
       "      <td>2019-09-17 14:47:21+00:00</td>\n",
       "      <td>0.0</td>\n",
       "      <td>Cease * Done</td>\n",
       "      <td>1) * Cease * Done</td>\n",
       "    </tr>\n",
       "  </tbody>\n",
       "</table>\n",
       "<p>3 rows × 28 columns</p>\n",
       "</div>"
      ],
      "text/plain": [
       "     ORDER_STATUS_DESC       ORDER_CREATION_DATE ACTION_STATUS_DESC  \\\n",
       "6826              Done 2019-09-17 14:47:20+00:00               Done   \n",
       "6827              Done 2019-09-17 14:47:21+00:00               Done   \n",
       "6828              Done 2019-09-17 14:47:21+00:00               Done   \n",
       "\n",
       "     ACTION_TYPE ACTION_TYPE_DESC      ACTION_CREATION_DATE  \\\n",
       "6826          CE            Cease 2019-09-17 00:00:00+00:00   \n",
       "6827          CE            Cease 2019-09-17 00:00:00+00:00   \n",
       "6828          CE            Cease 2019-09-17 00:00:00+00:00   \n",
       "\n",
       "     ORIGINAL_SALES_CHANNEL_DESC CURRENT_SALES_CHANNEL_DESC  \\\n",
       "6826          Telkom Direct Shop         Telkom Direct Shop   \n",
       "6827          Telkom Direct Shop         Telkom Direct Shop   \n",
       "6828          Telkom Direct Shop         Telkom Direct Shop   \n",
       "\n",
       "                    DEAL_DESC                 PROV_DATE  \\\n",
       "6826  TBiz BB Capped Advanced 2019-09-17 14:59:16+00:00   \n",
       "6827  TBiz BB Capped Advanced 2019-09-17 23:59:59+00:00   \n",
       "6828  TBiz BB Capped Advanced 2019-09-17 23:59:59+00:00   \n",
       "\n",
       "                 ...              SERVICE_TYPE CUSTOMER_TYPE_DESC  \\\n",
       "6826             ...                      None              Small   \n",
       "6827             ...                      None              Small   \n",
       "6828             ...                      None              Small   \n",
       "\n",
       "                                        combo stage  final_stage  \\\n",
       "6826  6076150216499066653_2674119506241389658     1            1   \n",
       "6827  8551270563082250674_2674119506241389658     1            1   \n",
       "6828  2349405019545791832_2674119506241389658     1            1   \n",
       "\n",
       "                    first_date                 last_date  total_time  \\\n",
       "6826 2019-09-17 14:47:20+00:00 2019-09-17 14:47:20+00:00         0.0   \n",
       "6827 2019-09-17 14:47:21+00:00 2019-09-17 14:47:21+00:00         0.0   \n",
       "6828 2019-09-17 14:47:21+00:00 2019-09-17 14:47:21+00:00         0.0   \n",
       "\n",
       "     ActionType_OrderStatus stage_ActionType_OrderStatus  \n",
       "6826           Cease * Done            1) * Cease * Done  \n",
       "6827           Cease * Done            1) * Cease * Done  \n",
       "6828           Cease * Done            1) * Cease * Done  \n",
       "\n",
       "[3 rows x 28 columns]"
      ]
     },
     "execution_count": 77,
     "metadata": {},
     "output_type": "execute_result"
    }
   ],
   "source": [
    "orders_df.tail(3)"
   ]
  },
  {
   "cell_type": "code",
   "execution_count": null,
   "metadata": {},
   "outputs": [],
   "source": []
  },
  {
   "cell_type": "code",
   "execution_count": 78,
   "metadata": {},
   "outputs": [],
   "source": [
    "customers = list(orders_df[unique_col].unique())"
   ]
  },
  {
   "cell_type": "code",
   "execution_count": 79,
   "metadata": {},
   "outputs": [
    {
     "data": {
      "text/html": [
       "<div>\n",
       "<style scoped>\n",
       "    .dataframe tbody tr th:only-of-type {\n",
       "        vertical-align: middle;\n",
       "    }\n",
       "\n",
       "    .dataframe tbody tr th {\n",
       "        vertical-align: top;\n",
       "    }\n",
       "\n",
       "    .dataframe thead th {\n",
       "        text-align: right;\n",
       "    }\n",
       "</style>\n",
       "<table border=\"1\" class=\"dataframe\">\n",
       "  <thead>\n",
       "    <tr style=\"text-align: right;\">\n",
       "      <th></th>\n",
       "      <th>ORDER_STATUS_DESC</th>\n",
       "      <th>ORDER_CREATION_DATE</th>\n",
       "      <th>ACTION_STATUS_DESC</th>\n",
       "      <th>ACTION_TYPE</th>\n",
       "      <th>ACTION_TYPE_DESC</th>\n",
       "      <th>ACTION_CREATION_DATE</th>\n",
       "      <th>ORIGINAL_SALES_CHANNEL_DESC</th>\n",
       "      <th>CURRENT_SALES_CHANNEL_DESC</th>\n",
       "      <th>DEAL_DESC</th>\n",
       "      <th>PROV_DATE</th>\n",
       "      <th>...</th>\n",
       "      <th>SERVICE_TYPE</th>\n",
       "      <th>CUSTOMER_TYPE_DESC</th>\n",
       "      <th>combo</th>\n",
       "      <th>stage</th>\n",
       "      <th>final_stage</th>\n",
       "      <th>first_date</th>\n",
       "      <th>last_date</th>\n",
       "      <th>total_time</th>\n",
       "      <th>ActionType_OrderStatus</th>\n",
       "      <th>stage_ActionType_OrderStatus</th>\n",
       "    </tr>\n",
       "  </thead>\n",
       "  <tbody>\n",
       "    <tr>\n",
       "      <th>413</th>\n",
       "      <td>Done</td>\n",
       "      <td>2018-10-09 14:54:01+00:00</td>\n",
       "      <td>Done</td>\n",
       "      <td>CM</td>\n",
       "      <td>Cease Part Of Move</td>\n",
       "      <td>2018-10-02 00:00:00+00:00</td>\n",
       "      <td>Consumer Sales</td>\n",
       "      <td>Consumer Sales</td>\n",
       "      <td>TBiz BB Capped Advanced</td>\n",
       "      <td>2018-10-09 14:56:35+00:00</td>\n",
       "      <td>...</td>\n",
       "      <td>None</td>\n",
       "      <td>None</td>\n",
       "      <td>3842282672409691663_4834273730448523809</td>\n",
       "      <td>4</td>\n",
       "      <td>4</td>\n",
       "      <td>2018-10-02 14:54:19+00:00</td>\n",
       "      <td>2018-10-09 14:54:01+00:00</td>\n",
       "      <td>604782.0</td>\n",
       "      <td>Cease Part Of Move * Done</td>\n",
       "      <td>4) * Cease Part Of Move * Done</td>\n",
       "    </tr>\n",
       "    <tr>\n",
       "      <th>339</th>\n",
       "      <td>Done</td>\n",
       "      <td>2018-11-20 10:10:17+00:00</td>\n",
       "      <td>Done</td>\n",
       "      <td>MS</td>\n",
       "      <td>Move Outdoor Same Exchange</td>\n",
       "      <td>2018-08-27 00:00:00+00:00</td>\n",
       "      <td>Call Center</td>\n",
       "      <td>Call Center</td>\n",
       "      <td>TBiz BB Capped Advanced</td>\n",
       "      <td>2018-11-20 10:11:40+00:00</td>\n",
       "      <td>...</td>\n",
       "      <td>None</td>\n",
       "      <td>None</td>\n",
       "      <td>-5358406379613644979_4892878901532782903</td>\n",
       "      <td>4</td>\n",
       "      <td>4</td>\n",
       "      <td>2018-09-28 10:44:38+00:00</td>\n",
       "      <td>2018-11-20 10:10:17+00:00</td>\n",
       "      <td>4577139.0</td>\n",
       "      <td>Move Outdoor Same Exchange * Done</td>\n",
       "      <td>4) * Move Outdoor Same Exchange * Done</td>\n",
       "    </tr>\n",
       "    <tr>\n",
       "      <th>591</th>\n",
       "      <td>Done</td>\n",
       "      <td>2018-10-10 13:54:29+00:00</td>\n",
       "      <td>Done</td>\n",
       "      <td>PR</td>\n",
       "      <td>Provide</td>\n",
       "      <td>2018-10-10 00:00:00+00:00</td>\n",
       "      <td>Deregulated PABX Suppliers</td>\n",
       "      <td>Deregulated PABX Suppliers</td>\n",
       "      <td>TBiz BB Capped Advanced</td>\n",
       "      <td>2018-10-10 13:55:44+00:00</td>\n",
       "      <td>...</td>\n",
       "      <td>None</td>\n",
       "      <td>None</td>\n",
       "      <td>5100925659296341771_-152669041816858573</td>\n",
       "      <td>4</td>\n",
       "      <td>4</td>\n",
       "      <td>2018-10-10 13:43:57+00:00</td>\n",
       "      <td>2018-10-10 13:54:29+00:00</td>\n",
       "      <td>632.0</td>\n",
       "      <td>Provide * Done</td>\n",
       "      <td>4) * Provide * Done</td>\n",
       "    </tr>\n",
       "  </tbody>\n",
       "</table>\n",
       "<p>3 rows × 28 columns</p>\n",
       "</div>"
      ],
      "text/plain": [
       "    ORDER_STATUS_DESC       ORDER_CREATION_DATE ACTION_STATUS_DESC  \\\n",
       "413              Done 2018-10-09 14:54:01+00:00               Done   \n",
       "339              Done 2018-11-20 10:10:17+00:00               Done   \n",
       "591              Done 2018-10-10 13:54:29+00:00               Done   \n",
       "\n",
       "    ACTION_TYPE            ACTION_TYPE_DESC      ACTION_CREATION_DATE  \\\n",
       "413          CM          Cease Part Of Move 2018-10-02 00:00:00+00:00   \n",
       "339          MS  Move Outdoor Same Exchange 2018-08-27 00:00:00+00:00   \n",
       "591          PR                     Provide 2018-10-10 00:00:00+00:00   \n",
       "\n",
       "    ORIGINAL_SALES_CHANNEL_DESC  CURRENT_SALES_CHANNEL_DESC  \\\n",
       "413              Consumer Sales              Consumer Sales   \n",
       "339                 Call Center                 Call Center   \n",
       "591  Deregulated PABX Suppliers  Deregulated PABX Suppliers   \n",
       "\n",
       "                   DEAL_DESC                 PROV_DATE  \\\n",
       "413  TBiz BB Capped Advanced 2018-10-09 14:56:35+00:00   \n",
       "339  TBiz BB Capped Advanced 2018-11-20 10:11:40+00:00   \n",
       "591  TBiz BB Capped Advanced 2018-10-10 13:55:44+00:00   \n",
       "\n",
       "                      ...                   SERVICE_TYPE CUSTOMER_TYPE_DESC  \\\n",
       "413                   ...                           None               None   \n",
       "339                   ...                           None               None   \n",
       "591                   ...                           None               None   \n",
       "\n",
       "                                        combo stage  final_stage  \\\n",
       "413   3842282672409691663_4834273730448523809     4            4   \n",
       "339  -5358406379613644979_4892878901532782903     4            4   \n",
       "591   5100925659296341771_-152669041816858573     4            4   \n",
       "\n",
       "                   first_date                 last_date  total_time  \\\n",
       "413 2018-10-02 14:54:19+00:00 2018-10-09 14:54:01+00:00    604782.0   \n",
       "339 2018-09-28 10:44:38+00:00 2018-11-20 10:10:17+00:00   4577139.0   \n",
       "591 2018-10-10 13:43:57+00:00 2018-10-10 13:54:29+00:00       632.0   \n",
       "\n",
       "                ActionType_OrderStatus            stage_ActionType_OrderStatus  \n",
       "413          Cease Part Of Move * Done          4) * Cease Part Of Move * Done  \n",
       "339  Move Outdoor Same Exchange * Done  4) * Move Outdoor Same Exchange * Done  \n",
       "591                     Provide * Done                     4) * Provide * Done  \n",
       "\n",
       "[3 rows x 28 columns]"
      ]
     },
     "execution_count": 79,
     "metadata": {},
     "output_type": "execute_result"
    }
   ],
   "source": [
    "sorted_df = orders_df.sort_values('stage', ascending=False)\n",
    "sorted_df.head(3)"
   ]
  },
  {
   "cell_type": "code",
   "execution_count": null,
   "metadata": {},
   "outputs": [],
   "source": []
  },
  {
   "cell_type": "code",
   "execution_count": 80,
   "metadata": {},
   "outputs": [
    {
     "data": {
      "text/plain": [
       "164"
      ]
     },
     "execution_count": 80,
     "metadata": {},
     "output_type": "execute_result"
    }
   ],
   "source": [
    "len(orders_df[orders_df['stage']=='2'])"
   ]
  },
  {
   "cell_type": "code",
   "execution_count": 81,
   "metadata": {},
   "outputs": [
    {
     "data": {
      "text/plain": [
       "1844"
      ]
     },
     "execution_count": 81,
     "metadata": {},
     "output_type": "execute_result"
    }
   ],
   "source": [
    "len(customers)"
   ]
  },
  {
   "cell_type": "markdown",
   "metadata": {},
   "source": [
    "## Create graph components"
   ]
  },
  {
   "cell_type": "code",
   "execution_count": 82,
   "metadata": {},
   "outputs": [],
   "source": [
    "#setting notebook figuure size\n",
    "%matplotlib inline\n",
    "plt.rcParams['figure.figsize'] = [20, 20]"
   ]
  },
  {
   "cell_type": "code",
   "execution_count": 83,
   "metadata": {},
   "outputs": [],
   "source": [
    "# Create a networkx graph object\n",
    "J = nx.Graph()"
   ]
  },
  {
   "cell_type": "code",
   "execution_count": 84,
   "metadata": {},
   "outputs": [],
   "source": [
    "J.clear()"
   ]
  },
  {
   "cell_type": "code",
   "execution_count": 85,
   "metadata": {},
   "outputs": [
    {
     "data": {
      "text/plain": [
       "4"
      ]
     },
     "execution_count": 85,
     "metadata": {},
     "output_type": "execute_result"
    }
   ],
   "source": [
    "max_stage=max(orders_df['stage'].astype(int))\n",
    "max_stage"
   ]
  },
  {
   "cell_type": "code",
   "execution_count": 86,
   "metadata": {},
   "outputs": [],
   "source": [
    "actions = list(orders_df['stage_ActionType_OrderStatus'].unique())"
   ]
  },
  {
   "cell_type": "code",
   "execution_count": 87,
   "metadata": {},
   "outputs": [],
   "source": [
    "for i in range(1,max_stage+1):\n",
    "  \n",
    "  stage_actions = list(orders_df[orders_df['stage']==str(i)]['stage_ActionType_OrderStatus'].unique())\n",
    "  #print(stage_actions)\n",
    "  for k in range(len(stage_actions)):\n",
    "    label = stage_actions[k]\n",
    "    #print(label)\n",
    "    #print(len(orders_df[orders_df['stage_ActionType_OrderStatus']==label]))\n",
    "    label = label.split('* ',1)\n",
    "    label = label[1]\n",
    "    #print(label)\n",
    "    height =  type_status.index(label) +1\n",
    "    #print(height)\n",
    "    #print(height)\n",
    "    J.add_node(stage_actions[k],posi=((max_string_len*0.01)+(max_stage*0.01)+(i*1.25),height), acc_time = 0, node_count = len(orders_df[orders_df['stage_ActionType_OrderStatus']==stage_actions[k]]))\n",
    "    #print(stage_actions[k])\n",
    "    #print((i,k+1))"
   ]
  },
  {
   "cell_type": "code",
   "execution_count": 88,
   "metadata": {},
   "outputs": [
    {
     "data": {
      "text/plain": [
       "NodeDataView({'2) * Change * Done': {'posi': (2.95, 13), 'acc_time': 0, 'node_count': 3}, '1) * Cease Part Of Migrate * Cancelled': {'posi': (1.7, 5), 'acc_time': 0, 'node_count': 199}, '1) * Cease Part Of Migrate * Done': {'posi': (1.7, 7), 'acc_time': 0, 'node_count': 526}, '2) * Cease Part Of Move * Cancelled': {'posi': (2.95, 9), 'acc_time': 0, 'node_count': 2}, '2) * Provide * Done': {'posi': (2.95, 29), 'acc_time': 0, 'node_count': 14}, '2) * Provide Part Of Migrate * Done': {'posi': (2.95, 32), 'acc_time': 0, 'node_count': 10}, '1) * Provide Part Of Migrate * Cancelled': {'posi': (1.7, 31), 'acc_time': 0, 'node_count': 14}, '1) * Cease Part Of Move * Done': {'posi': (1.7, 10), 'acc_time': 0, 'node_count': 1}, '1) * Change - No Dispatch * Cancelled': {'posi': (1.7, 16), 'acc_time': 0, 'node_count': 15}, '1) * Move Outdoor Other Exchange * Negotiation': {'posi': (1.7, 24), 'acc_time': 0, 'node_count': 1}, '1) * Move Outdoor Same Exchange * Done': {'posi': (1.7, 27), 'acc_time': 0, 'node_count': 25}, '3) * Provide * Cancelled': {'posi': (4.2, 28), 'acc_time': 0, 'node_count': 2}, '1) * Receive  Ownership * Cancelled': {'posi': (1.7, 37), 'acc_time': 0, 'node_count': 5}, '2) * Provide Part Of Move * Done': {'posi': (2.95, 34), 'acc_time': 0, 'node_count': 3}, '2) * Move Outdoor Same Exchange * Done': {'posi': (2.95, 27), 'acc_time': 0, 'node_count': 3}, '1) * Change - Dispatchable * Done': {'posi': (1.7, 15), 'acc_time': 0, 'node_count': 2}, '1) * Provide Part Of Migrate * Amended': {'posi': (1.7, 30), 'acc_time': 0, 'node_count': 1}, '3) * Move Outdoor Same Exchange * Cancelled': {'posi': (4.2, 25), 'acc_time': 0, 'node_count': 1}, '1) * Provide * Done': {'posi': (1.7, 29), 'acc_time': 0, 'node_count': 51}, '2) * Change - Dispatchable * Done': {'posi': (2.95, 15), 'acc_time': 0, 'node_count': 1}, '1) * Cease * Negotiation': {'posi': (1.7, 4), 'acc_time': 0, 'node_count': 8}, '1) * Cease * Done': {'posi': (1.7, 3), 'acc_time': 0, 'node_count': 615}, '1) * Cease Part Of Migrate * Negotiation': {'posi': (1.7, 8), 'acc_time': 0, 'node_count': 6}, '2) * Change - No Dispatch * Done': {'posi': (2.95, 17), 'acc_time': 0, 'node_count': 3}, '2) * Re-establish * Done': {'posi': (2.95, 36), 'acc_time': 0, 'node_count': 1}, '1) * Receive  Ownership * Done': {'posi': (1.7, 38), 'acc_time': 0, 'node_count': 30}, '2) * Cease Part Of Move * Negotiation': {'posi': (2.95, 11), 'acc_time': 0, 'node_count': 1}, '1) * Provide Part Of Move * Done': {'posi': (1.7, 34), 'acc_time': 0, 'node_count': 3}, '1) * Provide Part Of Migrate * Done': {'posi': (1.7, 32), 'acc_time': 0, 'node_count': 70}, '1) * Change - Dispatchable * Cancelled': {'posi': (1.7, 14), 'acc_time': 0, 'node_count': 16}, '4) * Move Outdoor Same Exchange * Done': {'posi': (5.45, 27), 'acc_time': 0, 'node_count': 1}, '1) * Indoor transfer * Done': {'posi': (1.7, 21), 'acc_time': 0, 'node_count': 4}, '1) * Move Outdoor Same Exchange * Delivery': {'posi': (1.7, 26), 'acc_time': 0, 'node_count': 2}, '2) * Indoor transfer * Done': {'posi': (2.95, 21), 'acc_time': 0, 'node_count': 1}, '2) * Move Outdoor Same Exchange * Cancelled': {'posi': (2.95, 25), 'acc_time': 0, 'node_count': 2}, '1) * Change * Done': {'posi': (1.7, 13), 'acc_time': 0, 'node_count': 14}, '1) * Cease * Delivery': {'posi': (1.7, 2), 'acc_time': 0, 'node_count': 4}, '1) * Change * Cancelled': {'posi': (1.7, 12), 'acc_time': 0, 'node_count': 7}, '2) * Receive  Ownership * Done': {'posi': (2.95, 38), 'acc_time': 0, 'node_count': 2}, '2) * Provide * Cancelled': {'posi': (2.95, 28), 'acc_time': 0, 'node_count': 5}, '3) * Move Outdoor Same Exchange * Done': {'posi': (4.2, 27), 'acc_time': 0, 'node_count': 1}, '1) * Move Outdoor Other Exchange * Done': {'posi': (1.7, 23), 'acc_time': 0, 'node_count': 4}, '1) * Change - No Dispatch * Done': {'posi': (1.7, 17), 'acc_time': 0, 'node_count': 143}, '2) * Cease Part Of Migrate * Done': {'posi': (2.95, 7), 'acc_time': 0, 'node_count': 107}, '1) * Cease Part Of Migrate * Completion': {'posi': (1.7, 6), 'acc_time': 0, 'node_count': 2}, '1) * Re-establish * Done': {'posi': (1.7, 36), 'acc_time': 0, 'node_count': 2}, '1) * Provide * Cancelled': {'posi': (1.7, 28), 'acc_time': 0, 'node_count': 22}, '1) * Cease * Cancelled': {'posi': (1.7, 1), 'acc_time': 0, 'node_count': 29}, '1) * Re-establish * Cancelled': {'posi': (1.7, 35), 'acc_time': 0, 'node_count': 1}, '1) * Move Outdoor Same Exchange * Cancelled': {'posi': (1.7, 25), 'acc_time': 0, 'node_count': 12}, '4) * Cease Part Of Move * Done': {'posi': (5.45, 10), 'acc_time': 0, 'node_count': 1}, '2) * Change - T&M Dispatch * Done': {'posi': (2.95, 19), 'acc_time': 0, 'node_count': 1}, '2) * Cease Part Of Move * Done': {'posi': (2.95, 10), 'acc_time': 0, 'node_count': 3}, '1) * Provide Part Of Move * Cancelled': {'posi': (1.7, 33), 'acc_time': 0, 'node_count': 4}, '1) * Move Outdoor Other Exchange * Cancelled': {'posi': (1.7, 22), 'acc_time': 0, 'node_count': 2}, '4) * Provide * Done': {'posi': (5.45, 29), 'acc_time': 0, 'node_count': 1}, '3) * Move Outdoor Other Exchange * Done': {'posi': (4.2, 23), 'acc_time': 0, 'node_count': 1}, '3) * Provide * Done': {'posi': (4.2, 29), 'acc_time': 0, 'node_count': 1}, '1) * Change - T&M Dispatch * Cancelled': {'posi': (1.7, 18), 'acc_time': 0, 'node_count': 3}, '2) * Cease * Done': {'posi': (2.95, 3), 'acc_time': 0, 'node_count': 2}, '1) * Indoor transfer * Cancelled': {'posi': (1.7, 20), 'acc_time': 0, 'node_count': 1}})"
      ]
     },
     "execution_count": 88,
     "metadata": {},
     "output_type": "execute_result"
    }
   ],
   "source": [
    "J.nodes(data = True)"
   ]
  },
  {
   "cell_type": "code",
   "execution_count": 89,
   "metadata": {},
   "outputs": [],
   "source": [
    "#Create label nodes\n",
    "L = nx.Graph()"
   ]
  },
  {
   "cell_type": "code",
   "execution_count": 90,
   "metadata": {},
   "outputs": [],
   "source": [
    "for l in range(len(type_status)):\n",
    "    label_start = type_status[l]\n",
    "    height =  type_status.index(label_start) +1\n",
    "    L.add_node(label_start,posi=(0.15,height))\n",
    "    #print(label_start)"
   ]
  },
  {
   "cell_type": "code",
   "execution_count": 91,
   "metadata": {},
   "outputs": [
    {
     "data": {
      "image/png": "[encoded data removed]",
      "text/plain": [
       "<Figure size 1440x1440 with 1 Axes>"
      ]
     },
     "metadata": {},
     "output_type": "display_data"
    }
   ],
   "source": [
    "# Draw the resulting graph\n",
    "pos = nx.get_node_attributes(J,'posi')\n",
    "nx.draw(J, pos ,with_labels=True, font_weight='bold', font_size = 7)\n",
    "plt.show()"
   ]
  },
  {
   "cell_type": "code",
   "execution_count": 92,
   "metadata": {},
   "outputs": [],
   "source": [
    "# clear edges\n",
    "J.remove_edges_from(list(J.edges()))"
   ]
  },
  {
   "cell_type": "code",
   "execution_count": 93,
   "metadata": {},
   "outputs": [],
   "source": [
    "#create edges with data (count, days, ave_days)\n",
    "# accumulated time for nodes\n",
    "\n",
    "date_col = orders_df.columns.get_loc('ORDER_CREATION_DATE')\n",
    "kpi = 5\n",
    "\n",
    "for c in customers:\n",
    "\n",
    "    temp_df = orders_df[orders_df[unique_col] == c]\n",
    "  \n",
    "    for i in range(len(temp_df)-1):\n",
    "        #print(i, c)\n",
    "        if J.has_edge(temp_df.iloc[i, -1], temp_df.iloc[(i+1),-1]) == False:\n",
    "            #print(temp_df.iloc[i, -1], temp_df.iloc[(i+1),-1])\n",
    "            #print(temp_df.iloc[i,-4], temp_df.iloc[(i+1),-4])\n",
    "            J.add_edge(temp_df.iloc[i, -1], temp_df.iloc[(i+1),-1])\n",
    "            J.edges[temp_df.iloc[i, -1],temp_df.iloc[(i+1),-1]]['count'] = 1\n",
    "            difference = (temp_df.iloc[(i+1),date_col]-temp_df.iloc[i, date_col])\n",
    "            J.edges[temp_df.iloc[i, -1],temp_df.iloc[(i+1),-1]]['days'] = round(difference.total_seconds()/(60*60*24),1)\n",
    "            J.edges[temp_df.iloc[i, -1],temp_df.iloc[(i+1),-1]]['ave_days'] = round(J.edges[temp_df.iloc[i, -1],temp_df.iloc[(i+1),-1]]['days']/ J.edges[temp_df.iloc[i, -1],temp_df.iloc[(i+1),-1]]['count'],1)\n",
    "            \n",
    "            acc_current = J.nodes[temp_df.iloc[(i+1),-1]]['acc_time']\n",
    "            J.nodes[temp_df.iloc[(i+1),-1]]['acc_time'] = round(acc_current + temp_df.iloc[(i+1),-3]/(60*60*24),1) #-3 is total_time\n",
    "            #J.nodes[temp_df.iloc[(i+1),-1]]['node_count'] += 1\n",
    "            \n",
    "            \n",
    "            if J.edges[temp_df.iloc[i, -1],temp_df.iloc[(i+1),-1]]['ave_days'] > kpi:\n",
    "                J.edges[temp_df.iloc[i, -1],temp_df.iloc[(i+1),-1]]['color'] = 'red'\n",
    "            else:\n",
    "                J.edges[temp_df.iloc[i, -1],temp_df.iloc[(i+1),-1]]['color'] = 'green'\n",
    "\n",
    "        else:\n",
    "            current_count = J.edges[temp_df.iloc[i, -1],temp_df.iloc[(i+1),-1]]['count']\n",
    "            J.edges[temp_df.iloc[i, -1],temp_df.iloc[(i+1),-1]]['count'] = current_count + 1\n",
    "\n",
    "            current_days =  J.edges[temp_df.iloc[i, -1],temp_df.iloc[(i+1),-1]]['days']\n",
    "            difference = (temp_df.iloc[(i+1),date_col]-temp_df.iloc[i, date_col])\n",
    "            J.edges[temp_df.iloc[i, -1],temp_df.iloc[(i+1),-1]]['days'] = round(current_days + difference.total_seconds()/(60*60*24),1)\n",
    "\n",
    "            J.edges[temp_df.iloc[i, -1],temp_df.iloc[(i+1),-1]]['ave_days'] = round(J.edges[temp_df.iloc[i, -1],temp_df.iloc[(i+1),-1]]['days']/ J.edges[temp_df.iloc[i, -1],temp_df.iloc[(i+1),-1]]['count'],1)\n",
    "            \n",
    "            acc_current = J.nodes[temp_df.iloc[(i+1),-1]]['acc_time']\n",
    "            J.nodes[temp_df.iloc[(i+1),-1]]['acc_time'] = round(acc_current + temp_df.iloc[(i+1),-3]/(60*60*24),1) #-3 is total_time         \n",
    "            #J.nodes[temp_df.iloc[(i+1),-1]]['node_count'] += 1\n",
    "            \n",
    "            if J.edges[temp_df.iloc[i, -1],temp_df.iloc[(i+1),-1]]['ave_days'] > kpi:\n",
    "                J.edges[temp_df.iloc[i, -1],temp_df.iloc[(i+1),-1]]['color'] = 'red'\n",
    "            else:\n",
    "                J.edges[temp_df.iloc[i, -1],temp_df.iloc[(i+1),-1]]['color'] = 'green'\n"
   ]
  },
  {
   "cell_type": "code",
   "execution_count": 94,
   "metadata": {},
   "outputs": [],
   "source": [
    "for j in J.nodes:\n",
    "    #print(j)\n",
    "    #print(J.nodes[j]['acc_time'])\n",
    "    #print(J.nodes[j]['node_count'])\n",
    "    J.nodes[j]['ave_journey'] = round(J.nodes[j]['acc_time']/J.nodes[j]['node_count'],1)\n",
    "    "
   ]
  },
  {
   "cell_type": "code",
   "execution_count": 95,
   "metadata": {},
   "outputs": [
    {
     "name": "stdout",
     "output_type": "stream",
     "text": [
      "Total Counts 173\n",
      "Total Counts 173\n",
      "Max Count 102\n",
      "Min Count 1\n",
      "Ave Count 5.766666666666667\n"
     ]
    }
   ],
   "source": [
    "# add edge weight attribute\n",
    "\n",
    "all_counts = []\n",
    "\n",
    "#Iterate through the graph edges to gather all the weights\n",
    "for (node1,node2,data) in J.edges(data=True):\n",
    "    all_counts.append(data['count']) \n",
    "\n",
    "    \n",
    "total_count = sum(all_counts)\n",
    "print('Total Counts',total_count)\n",
    "\n",
    "if total_count > 0:\n",
    "    max_count = max(all_counts)\n",
    "    min_count = min(all_counts)\n",
    "    ave_count = total_count/len(all_counts)\n",
    "    scale = 10\n",
    "\n",
    "    print('Total Counts',total_count)\n",
    "    print('Max Count',max_count)\n",
    "    print('Min Count', min_count)\n",
    "    print('Ave Count',ave_count)\n",
    "\n",
    "\n",
    "    if (max_count-min_count) == 0:\n",
    "        for (node1,node2,data) in J.edges(data=True):\n",
    "            J.edges[node1,node2]['weight'] = round(J.edges[node1,node2]['count'],1)\n",
    "\n",
    "    else:                                                \n",
    "        for (node1,node2,data) in J.edges(data=True):\n",
    "            J.edges[node1,node2]['weight'] = round(((J.edges[node1,node2]['count']-min_count)/(max_count-min_count))*scale+1,1)\n",
    "    "
   ]
  },
  {
   "cell_type": "code",
   "execution_count": 96,
   "metadata": {},
   "outputs": [
    {
     "data": {
      "text/plain": [
       "EdgeDataView([('2) * Change * Done', '1) * Change * Cancelled', {'color': 'red', 'days': 18.0, 'ave_days': 6.0, 'weight': 1.2, 'count': 3}), ('1) * Cease Part Of Migrate * Cancelled', '2) * Cease Part Of Migrate * Done', {'color': 'red', 'days': 771.5, 'ave_days': 7.6, 'weight': 11.0, 'count': 102}), ('1) * Cease Part Of Migrate * Done', '2) * Provide Part Of Migrate * Done', {'color': 'green', 'days': 0.0, 'ave_days': 0.0, 'weight': 1.1, 'count': 2}), ('1) * Cease Part Of Migrate * Done', '2) * Cease Part Of Migrate * Done', {'color': 'green', 'days': 0.0, 'ave_days': 0.0, 'weight': 1.4, 'count': 5}), ('2) * Cease * Done', '1) * Cease * Cancelled', {'color': 'green', 'days': 0.1, 'ave_days': 0.1, 'weight': 1.1, 'count': 2}), ('2) * Provide * Done', '1) * Provide * Cancelled', {'color': 'green', 'days': 17.7, 'ave_days': 1.3, 'weight': 2.3, 'count': 14}), ('2) * Provide Part Of Migrate * Done', '1) * Provide Part Of Migrate * Amended', {'color': 'red', 'days': 11.0, 'ave_days': 11.0, 'weight': 1.0, 'count': 1}), ('2) * Provide Part Of Migrate * Done', '1) * Provide Part Of Migrate * Cancelled', {'color': 'green', 'days': 12.1, 'ave_days': 1.7, 'weight': 1.6, 'count': 7}), ('1) * Change - No Dispatch * Done', '2) * Change - No Dispatch * Done', {'color': 'green', 'days': 0.0, 'ave_days': 0.0, 'weight': 1.1, 'count': 2}), ('2) * Indoor transfer * Done', '1) * Indoor transfer * Cancelled', {'color': 'red', 'days': 6.9, 'ave_days': 6.9, 'weight': 1.0, 'count': 1}), ('2) * Receive  Ownership * Done', '1) * Receive  Ownership * Cancelled', {'color': 'red', 'days': 32.0, 'ave_days': 16.0, 'weight': 1.1, 'count': 2}), ('3) * Move Outdoor Same Exchange * Done', '2) * Move Outdoor Same Exchange * Cancelled', {'color': 'red', 'days': 239.0, 'ave_days': 239.0, 'weight': 1.0, 'count': 1}), ('1) * Change - No Dispatch * Cancelled', '2) * Change - No Dispatch * Done', {'color': 'red', 'days': 101.0, 'ave_days': 101.0, 'weight': 1.0, 'count': 1}), ('2) * Move Outdoor Same Exchange * Done', '1) * Move Outdoor Same Exchange * Cancelled', {'color': 'red', 'days': 89.9, 'ave_days': 30.0, 'weight': 1.2, 'count': 3}), ('3) * Move Outdoor Same Exchange * Cancelled', '4) * Move Outdoor Same Exchange * Done', {'color': 'red', 'days': 41.8, 'ave_days': 41.8, 'weight': 1.0, 'count': 1}), ('3) * Move Outdoor Same Exchange * Cancelled', '2) * Move Outdoor Same Exchange * Cancelled', {'color': 'green', 'days': 4.9, 'ave_days': 4.9, 'weight': 1.0, 'count': 1}), ('2) * Change - Dispatchable * Done', '1) * Change - Dispatchable * Cancelled', {'color': 'green', 'days': 2.9, 'ave_days': 2.9, 'weight': 1.0, 'count': 1}), ('2) * Re-establish * Done', '1) * Re-establish * Cancelled', {'color': 'green', 'days': 1.7, 'ave_days': 1.7, 'weight': 1.0, 'count': 1}), ('2) * Move Outdoor Same Exchange * Cancelled', '1) * Move Outdoor Same Exchange * Cancelled', {'color': 'red', 'days': 21.0, 'ave_days': 10.5, 'weight': 1.1, 'count': 2}), ('2) * Cease Part Of Move * Negotiation', '1) * Move Outdoor Other Exchange * Negotiation', {'color': 'green', 'days': 0.0, 'ave_days': 0.0, 'weight': 1.0, 'count': 1}), ('1) * Provide Part Of Move * Cancelled', '2) * Provide Part Of Move * Done', {'color': 'red', 'days': 128.2, 'ave_days': 42.7, 'weight': 1.2, 'count': 3}), ('2) * Provide * Cancelled', '3) * Provide * Cancelled', {'color': 'green', 'days': 0.0, 'ave_days': 0.0, 'weight': 1.1, 'count': 2}), ('2) * Provide * Cancelled', '1) * Provide * Cancelled', {'color': 'green', 'days': 0.0, 'ave_days': 0.0, 'weight': 1.4, 'count': 5}), ('2) * Provide * Cancelled', '3) * Provide * Done', {'color': 'green', 'days': 0.0, 'ave_days': 0.0, 'weight': 1.0, 'count': 1}), ('2) * Cease Part Of Move * Cancelled', '1) * Move Outdoor Other Exchange * Cancelled', {'color': 'green', 'days': 0.0, 'ave_days': 0.0, 'weight': 1.1, 'count': 2}), ('2) * Cease Part Of Move * Cancelled', '3) * Move Outdoor Other Exchange * Done', {'color': 'red', 'days': 7.0, 'ave_days': 7.0, 'weight': 1.0, 'count': 1}), ('1) * Move Outdoor Other Exchange * Done', '2) * Cease Part Of Move * Done', {'color': 'green', 'days': 4.1, 'ave_days': 1.4, 'weight': 1.2, 'count': 3}), ('4) * Cease Part Of Move * Done', '3) * Move Outdoor Other Exchange * Done', {'color': 'green', 'days': 0.0, 'ave_days': 0.0, 'weight': 1.0, 'count': 1}), ('2) * Change - T&M Dispatch * Done', '1) * Change - T&M Dispatch * Cancelled', {'color': 'green', 'days': 3.7, 'ave_days': 3.7, 'weight': 1.0, 'count': 1}), ('4) * Provide * Done', '3) * Provide * Done', {'color': 'green', 'days': 0.0, 'ave_days': 0.0, 'weight': 1.0, 'count': 1})])"
      ]
     },
     "execution_count": 96,
     "metadata": {},
     "output_type": "execute_result"
    }
   ],
   "source": [
    "J.edges(data=True)"
   ]
  },
  {
   "cell_type": "code",
   "execution_count": 97,
   "metadata": {},
   "outputs": [
    {
     "data": {
      "text/plain": [
       "NodeDataView({'2) * Change * Done': {'posi': (2.95, 13), 'acc_time': 18.0, 'node_count': 3, 'ave_journey': 6.0}, '1) * Cease Part Of Migrate * Cancelled': {'posi': (1.7, 5), 'acc_time': 0, 'node_count': 199, 'ave_journey': 0.0}, '1) * Cease Part Of Migrate * Done': {'posi': (1.7, 7), 'acc_time': 0, 'node_count': 526, 'ave_journey': 0.0}, '2) * Cease Part Of Move * Cancelled': {'posi': (2.95, 9), 'acc_time': 0.0, 'node_count': 2, 'ave_journey': 0.0}, '2) * Provide * Done': {'posi': (2.95, 29), 'acc_time': 17.7, 'node_count': 14, 'ave_journey': 1.3}, '2) * Provide Part Of Migrate * Done': {'posi': (2.95, 32), 'acc_time': 23.1, 'node_count': 10, 'ave_journey': 2.3}, '1) * Provide Part Of Migrate * Cancelled': {'posi': (1.7, 31), 'acc_time': 0, 'node_count': 14, 'ave_journey': 0.0}, '1) * Cease Part Of Move * Done': {'posi': (1.7, 10), 'acc_time': 0, 'node_count': 1, 'ave_journey': 0.0}, '1) * Change - No Dispatch * Cancelled': {'posi': (1.7, 16), 'acc_time': 0, 'node_count': 15, 'ave_journey': 0.0}, '1) * Move Outdoor Other Exchange * Negotiation': {'posi': (1.7, 24), 'acc_time': 0, 'node_count': 1, 'ave_journey': 0.0}, '1) * Move Outdoor Same Exchange * Done': {'posi': (1.7, 27), 'acc_time': 0, 'node_count': 25, 'ave_journey': 0.0}, '3) * Provide * Cancelled': {'posi': (4.2, 28), 'acc_time': 0.0, 'node_count': 2, 'ave_journey': 0.0}, '1) * Receive  Ownership * Cancelled': {'posi': (1.7, 37), 'acc_time': 0, 'node_count': 5, 'ave_journey': 0.0}, '2) * Provide Part Of Move * Done': {'posi': (2.95, 34), 'acc_time': 128.2, 'node_count': 3, 'ave_journey': 42.7}, '2) * Move Outdoor Same Exchange * Done': {'posi': (2.95, 27), 'acc_time': 89.9, 'node_count': 3, 'ave_journey': 30.0}, '1) * Change - Dispatchable * Done': {'posi': (1.7, 15), 'acc_time': 0, 'node_count': 2, 'ave_journey': 0.0}, '1) * Provide Part Of Migrate * Amended': {'posi': (1.7, 30), 'acc_time': 0, 'node_count': 1, 'ave_journey': 0.0}, '3) * Move Outdoor Same Exchange * Cancelled': {'posi': (4.2, 25), 'acc_time': 11.1, 'node_count': 1, 'ave_journey': 11.1}, '1) * Provide * Done': {'posi': (1.7, 29), 'acc_time': 0, 'node_count': 51, 'ave_journey': 0.0}, '2) * Change - Dispatchable * Done': {'posi': (2.95, 15), 'acc_time': 2.9, 'node_count': 1, 'ave_journey': 2.9}, '1) * Cease * Negotiation': {'posi': (1.7, 4), 'acc_time': 0, 'node_count': 8, 'ave_journey': 0.0}, '1) * Cease * Done': {'posi': (1.7, 3), 'acc_time': 0, 'node_count': 615, 'ave_journey': 0.0}, '1) * Cease Part Of Migrate * Negotiation': {'posi': (1.7, 8), 'acc_time': 0, 'node_count': 6, 'ave_journey': 0.0}, '2) * Change - No Dispatch * Done': {'posi': (2.95, 17), 'acc_time': 101.0, 'node_count': 3, 'ave_journey': 33.7}, '2) * Re-establish * Done': {'posi': (2.95, 36), 'acc_time': 1.7, 'node_count': 1, 'ave_journey': 1.7}, '1) * Receive  Ownership * Done': {'posi': (1.7, 38), 'acc_time': 0, 'node_count': 30, 'ave_journey': 0.0}, '2) * Cease Part Of Move * Negotiation': {'posi': (2.95, 11), 'acc_time': 0.0, 'node_count': 1, 'ave_journey': 0.0}, '1) * Provide Part Of Move * Done': {'posi': (1.7, 34), 'acc_time': 0, 'node_count': 3, 'ave_journey': 0.0}, '1) * Provide Part Of Migrate * Done': {'posi': (1.7, 32), 'acc_time': 0, 'node_count': 70, 'ave_journey': 0.0}, '1) * Change - Dispatchable * Cancelled': {'posi': (1.7, 14), 'acc_time': 0, 'node_count': 16, 'ave_journey': 0.0}, '4) * Move Outdoor Same Exchange * Done': {'posi': (5.45, 27), 'acc_time': 53.0, 'node_count': 1, 'ave_journey': 53.0}, '1) * Indoor transfer * Done': {'posi': (1.7, 21), 'acc_time': 0, 'node_count': 4, 'ave_journey': 0.0}, '1) * Move Outdoor Same Exchange * Delivery': {'posi': (1.7, 26), 'acc_time': 0, 'node_count': 2, 'ave_journey': 0.0}, '2) * Indoor transfer * Done': {'posi': (2.95, 21), 'acc_time': 6.9, 'node_count': 1, 'ave_journey': 6.9}, '2) * Move Outdoor Same Exchange * Cancelled': {'posi': (2.95, 25), 'acc_time': 21.0, 'node_count': 2, 'ave_journey': 10.5}, '1) * Change * Done': {'posi': (1.7, 13), 'acc_time': 0, 'node_count': 14, 'ave_journey': 0.0}, '1) * Cease * Delivery': {'posi': (1.7, 2), 'acc_time': 0, 'node_count': 4, 'ave_journey': 0.0}, '1) * Change * Cancelled': {'posi': (1.7, 12), 'acc_time': 0, 'node_count': 7, 'ave_journey': 0.0}, '2) * Receive  Ownership * Done': {'posi': (2.95, 38), 'acc_time': 32.0, 'node_count': 2, 'ave_journey': 16.0}, '2) * Provide * Cancelled': {'posi': (2.95, 28), 'acc_time': 0.0, 'node_count': 5, 'ave_journey': 0.0}, '3) * Move Outdoor Same Exchange * Done': {'posi': (4.2, 27), 'acc_time': 253.9, 'node_count': 1, 'ave_journey': 253.9}, '1) * Move Outdoor Other Exchange * Done': {'posi': (1.7, 23), 'acc_time': 0, 'node_count': 4, 'ave_journey': 0.0}, '1) * Change - No Dispatch * Done': {'posi': (1.7, 17), 'acc_time': 0, 'node_count': 143, 'ave_journey': 0.0}, '2) * Cease Part Of Migrate * Done': {'posi': (2.95, 7), 'acc_time': 771.5, 'node_count': 107, 'ave_journey': 7.2}, '1) * Cease Part Of Migrate * Completion': {'posi': (1.7, 6), 'acc_time': 0, 'node_count': 2, 'ave_journey': 0.0}, '1) * Re-establish * Done': {'posi': (1.7, 36), 'acc_time': 0, 'node_count': 2, 'ave_journey': 0.0}, '1) * Provide * Cancelled': {'posi': (1.7, 28), 'acc_time': 0, 'node_count': 22, 'ave_journey': 0.0}, '1) * Cease * Cancelled': {'posi': (1.7, 1), 'acc_time': 0, 'node_count': 29, 'ave_journey': 0.0}, '1) * Re-establish * Cancelled': {'posi': (1.7, 35), 'acc_time': 0, 'node_count': 1, 'ave_journey': 0.0}, '1) * Move Outdoor Same Exchange * Cancelled': {'posi': (1.7, 25), 'acc_time': 0, 'node_count': 12, 'ave_journey': 0.0}, '4) * Cease Part Of Move * Done': {'posi': (5.45, 10), 'acc_time': 7.0, 'node_count': 1, 'ave_journey': 7.0}, '2) * Change - T&M Dispatch * Done': {'posi': (2.95, 19), 'acc_time': 3.7, 'node_count': 1, 'ave_journey': 3.7}, '2) * Cease Part Of Move * Done': {'posi': (2.95, 10), 'acc_time': 4.1, 'node_count': 3, 'ave_journey': 1.4}, '1) * Provide Part Of Move * Cancelled': {'posi': (1.7, 33), 'acc_time': 0, 'node_count': 4, 'ave_journey': 0.0}, '1) * Move Outdoor Other Exchange * Cancelled': {'posi': (1.7, 22), 'acc_time': 0, 'node_count': 2, 'ave_journey': 0.0}, '4) * Provide * Done': {'posi': (5.45, 29), 'acc_time': 0.0, 'node_count': 1, 'ave_journey': 0.0}, '3) * Move Outdoor Other Exchange * Done': {'posi': (4.2, 23), 'acc_time': 7.0, 'node_count': 1, 'ave_journey': 7.0}, '3) * Provide * Done': {'posi': (4.2, 29), 'acc_time': 0.0, 'node_count': 1, 'ave_journey': 0.0}, '1) * Change - T&M Dispatch * Cancelled': {'posi': (1.7, 18), 'acc_time': 0, 'node_count': 3, 'ave_journey': 0.0}, '2) * Cease * Done': {'posi': (2.95, 3), 'acc_time': 0.1, 'node_count': 2, 'ave_journey': 0.0}, '1) * Indoor transfer * Cancelled': {'posi': (1.7, 20), 'acc_time': 0, 'node_count': 1, 'ave_journey': 0.0}})"
      ]
     },
     "execution_count": 97,
     "metadata": {},
     "output_type": "execute_result"
    }
   ],
   "source": [
    "J.nodes(data = True)"
   ]
  },
  {
   "cell_type": "code",
   "execution_count": 98,
   "metadata": {},
   "outputs": [
    {
     "data": {
      "image/png": "[encoded data removed]",
      "text/plain": [
       "<Figure size 1440x1440 with 1 Axes>"
      ]
     },
     "metadata": {},
     "output_type": "display_data"
    }
   ],
   "source": [
    "# Draw the resulting graph\n",
    "\n",
    "#mpl_fig = plt.figure()\n",
    "mpl_fig, ax = plt.subplots(1,1)\n",
    "\n",
    "#pos = nx.circular_layout(J)\n",
    "pos = nx.get_node_attributes(J,'posi')\n",
    "edges,colors = zip(*nx.get_edge_attributes(J,'color').items())\n",
    "edges,width = zip(*nx.get_edge_attributes(J,'weight').items())\n",
    "\n",
    "\n",
    "nx.draw(J,pos, ax=ax, with_labels=True, font_weight='bold', font_size = 8, edgelist=edges, edge_color=colors, width = width\n",
    "       )\n",
    "\n",
    "edge_labels  = nx.get_edge_attributes(J,'ave_days')\n",
    "#label_color  = nx.get_edge_attributes(J,'color').values()\n",
    "\n",
    "#print(pos)\n",
    "\n",
    "for e in J.edges(data=True):\n",
    "    #print(e)\n",
    "    #print(e[0])\n",
    "    #print(e[1])\n",
    "    #print(e[2])\n",
    "    #print(e[2]['color'])\n",
    "    nx.draw_networkx_edge_labels(J,ax=ax, pos=pos,edge_labels={(e[0],e[1]):e[2]['ave_days']}, font_color = e[2]['color'])\n",
    "    \n",
    "\n",
    "pos_attrs = {}\n",
    "for node, coords in pos.items():\n",
    "    pos_attrs[node] = (coords[0] - 0.01, coords[1] - 0.5)\n",
    "\n",
    "node_attrs = nx.get_node_attributes(J, 'ave_journey')\n",
    "custom_node_attrs = {}\n",
    "for node, attr in node_attrs.items():\n",
    "    custom_node_attrs[node] = \"{'Ave': '\" + str(attr) + \"'}\"\n",
    "\n",
    "nx.draw_networkx_labels(J, pos_attrs, labels=custom_node_attrs, font_weight='bold', font_size = 8)\n",
    "\n",
    "plt.savefig('stage_transition_edge_colour')\n",
    "plt.show()"
   ]
  },
  {
   "cell_type": "code",
   "execution_count": null,
   "metadata": {},
   "outputs": [],
   "source": []
  }
 ],
 "metadata": {
  "kernelspec": {
   "display_name": "Python 3",
   "language": "python",
   "name": "python3"
  },
  "language_info": {
   "codemirror_mode": {
    "name": "ipython",
    "version": 3
   },
   "file_extension": ".py",
   "mimetype": "text/x-python",
   "name": "python",
   "nbconvert_exporter": "python",
   "pygments_lexer": "ipython3",
   "version": "3.5.3"
  }
 },
 "nbformat": 4,
 "nbformat_minor": 4
}
