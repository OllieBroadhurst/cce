{
 "cells": [
  {
   "cell_type": "code",
   "execution_count": 1,
   "metadata": {},
   "outputs": [],
   "source": [
    "import pandas as pd\n",
    "import numpy as np\n",
    "import networkx as nx\n",
    "import matplotlib.pyplot as plt\n",
    "import pandas_gbq\n",
    "#pip install pygraphviz\n",
    "#import pygraphviz"
   ]
  },
  {
   "cell_type": "code",
   "execution_count": 2,
   "metadata": {},
   "outputs": [],
   "source": [
    "%matplotlib inline\n",
    "plt.rcParams['figure.figsize'] = [20, 7]"
   ]
  },
  {
   "cell_type": "code",
   "execution_count": 3,
   "metadata": {},
   "outputs": [],
   "source": [
    "Deals = 5156758895250942611"
   ]
  },
  {
   "cell_type": "code",
   "execution_count": 4,
   "metadata": {},
   "outputs": [
    {
     "data": {
      "text/plain": [
       "'\\n-4302568719576920909\\n-8104495516310030976\\n6264202757535876160   - only 2 stages\\n7372411383573846234 - too many stages\\n5179945650881144306\\n1008686653030123082 - nice\\n\\n-799468424400376874\\n\\n5156758895250942611 - very nice\\n\\n'"
      ]
     },
     "execution_count": 4,
     "metadata": {},
     "output_type": "execute_result"
    }
   ],
   "source": [
    "'''\n",
    "-4302568719576920909\n",
    "-8104495516310030976\n",
    "6264202757535876160   - only 2 stages\n",
    "7372411383573846234 - too many stages\n",
    "5179945650881144306\n",
    "1008686653030123082 - nice\n",
    "\n",
    "-799468424400376874\n",
    "\n",
    "5156758895250942611 - very nice\n",
    "\n",
    "'''"
   ]
  },
  {
   "cell_type": "code",
   "execution_count": 5,
   "metadata": {},
   "outputs": [],
   "source": [
    "query = \"\"\"\n",
    "SELECT *\n",
    "FROM `bcx-insights.telkom_customerexperience.orders_20190926_00_anon`\n",
    "WHERE ACCOUNT_NO_ANON = {}\n",
    "ORDER BY ORDER_CREATION_DATE, ACTION_CREATION_DATE, ORDER_ID_ANON\n",
    "\"\"\".format(Deals)"
   ]
  },
  {
   "cell_type": "code",
   "execution_count": 6,
   "metadata": {},
   "outputs": [
    {
     "data": {
      "text/plain": [
       "'\\nSELECT *\\nFROM `bcx-insights.telkom_customerexperience.orders_20190926_00_anon`\\nWHERE ACCOUNT_NO_ANON = 5156758895250942611\\nORDER BY ORDER_CREATION_DATE, ACTION_CREATION_DATE, ORDER_ID_ANON\\n'"
      ]
     },
     "execution_count": 6,
     "metadata": {},
     "output_type": "execute_result"
    }
   ],
   "source": [
    "query"
   ]
  },
  {
   "cell_type": "code",
   "execution_count": 7,
   "metadata": {},
   "outputs": [],
   "source": [
    "orders_df = pd.read_gbq(query,\n",
    "                project_id = 'bcx-insights',\n",
    "                dialect = 'standard')"
   ]
  },
  {
   "cell_type": "code",
   "execution_count": 8,
   "metadata": {},
   "outputs": [
    {
     "data": {
      "text/html": [
       "<div>\n",
       "<style scoped>\n",
       "    .dataframe tbody tr th:only-of-type {\n",
       "        vertical-align: middle;\n",
       "    }\n",
       "\n",
       "    .dataframe tbody tr th {\n",
       "        vertical-align: top;\n",
       "    }\n",
       "\n",
       "    .dataframe thead th {\n",
       "        text-align: right;\n",
       "    }\n",
       "</style>\n",
       "<table border=\"1\" class=\"dataframe\">\n",
       "  <thead>\n",
       "    <tr style=\"text-align: right;\">\n",
       "      <th></th>\n",
       "      <th>ORDER_STATUS_DESC</th>\n",
       "      <th>ORDER_CREATION_DATE</th>\n",
       "      <th>ACTION_STATUS_DESC</th>\n",
       "      <th>ACTION_TYPE</th>\n",
       "      <th>ACTION_TYPE_DESC</th>\n",
       "      <th>ACTION_CREATION_DATE</th>\n",
       "      <th>ORIGINAL_SALES_CHANNEL_DESC</th>\n",
       "      <th>CURRENT_SALES_CHANNEL_DESC</th>\n",
       "      <th>DEAL_DESC</th>\n",
       "      <th>PROV_DATE</th>\n",
       "      <th>CLOSE_DATE</th>\n",
       "      <th>OPEN_CLOSE_INDIC</th>\n",
       "      <th>SOURCE</th>\n",
       "      <th>ORDER_ID_ANON</th>\n",
       "      <th>ACCOUNT_NO_ANON</th>\n",
       "      <th>MSISDN_ANON</th>\n",
       "      <th>ORDER_ACTION_ID_ANON</th>\n",
       "    </tr>\n",
       "  </thead>\n",
       "  <tbody>\n",
       "    <tr>\n",
       "      <td>30</td>\n",
       "      <td>Done</td>\n",
       "      <td>2019-02-23 23:27:25+00:00</td>\n",
       "      <td>Done</td>\n",
       "      <td>CE</td>\n",
       "      <td>Cease</td>\n",
       "      <td>2019-02-23 23:27:25+00:00</td>\n",
       "      <td>Call Center</td>\n",
       "      <td>Call Center</td>\n",
       "      <td>OptiCon Term Contract</td>\n",
       "      <td>2019-02-24 00:52:12+00:00</td>\n",
       "      <td>2019-02-24 02:05:21+00:00</td>\n",
       "      <td>C</td>\n",
       "      <td>F</td>\n",
       "      <td>-8577925185420972425</td>\n",
       "      <td>5156758895250942611</td>\n",
       "      <td>1756325591274441815</td>\n",
       "      <td>1086250673076155801</td>\n",
       "    </tr>\n",
       "    <tr>\n",
       "      <td>31</td>\n",
       "      <td>Done</td>\n",
       "      <td>2019-03-14 14:41:02+00:00</td>\n",
       "      <td>Done</td>\n",
       "      <td>MA</td>\n",
       "      <td>Modify Address</td>\n",
       "      <td>2019-03-14 00:00:00+00:00</td>\n",
       "      <td>Business Sales</td>\n",
       "      <td>Business Sales</td>\n",
       "      <td>OptiCon eMG Rental</td>\n",
       "      <td>2019-03-14 14:53:29+00:00</td>\n",
       "      <td>2019-03-14 14:53:36+00:00</td>\n",
       "      <td>C</td>\n",
       "      <td>F</td>\n",
       "      <td>-6837999586639569785</td>\n",
       "      <td>5156758895250942611</td>\n",
       "      <td>2710482545510557508</td>\n",
       "      <td>-1580293360493113035</td>\n",
       "    </tr>\n",
       "    <tr>\n",
       "      <td>32</td>\n",
       "      <td>Done</td>\n",
       "      <td>2019-03-14 14:59:16+00:00</td>\n",
       "      <td>Done</td>\n",
       "      <td>CE</td>\n",
       "      <td>Cease</td>\n",
       "      <td>2019-03-14 00:00:00+00:00</td>\n",
       "      <td>Business Sales</td>\n",
       "      <td>Business Sales</td>\n",
       "      <td>OptiCon eMG Rental</td>\n",
       "      <td>2019-03-14 23:59:59+00:00</td>\n",
       "      <td>2019-04-01 13:48:26+00:00</td>\n",
       "      <td>C</td>\n",
       "      <td>F</td>\n",
       "      <td>3400600444351100232</td>\n",
       "      <td>5156758895250942611</td>\n",
       "      <td>2710482545510557508</td>\n",
       "      <td>-8302224469961967151</td>\n",
       "    </tr>\n",
       "  </tbody>\n",
       "</table>\n",
       "</div>"
      ],
      "text/plain": [
       "   ORDER_STATUS_DESC       ORDER_CREATION_DATE ACTION_STATUS_DESC ACTION_TYPE  \\\n",
       "30              Done 2019-02-23 23:27:25+00:00               Done          CE   \n",
       "31              Done 2019-03-14 14:41:02+00:00               Done          MA   \n",
       "32              Done 2019-03-14 14:59:16+00:00               Done          CE   \n",
       "\n",
       "   ACTION_TYPE_DESC      ACTION_CREATION_DATE ORIGINAL_SALES_CHANNEL_DESC  \\\n",
       "30            Cease 2019-02-23 23:27:25+00:00                 Call Center   \n",
       "31   Modify Address 2019-03-14 00:00:00+00:00              Business Sales   \n",
       "32            Cease 2019-03-14 00:00:00+00:00              Business Sales   \n",
       "\n",
       "   CURRENT_SALES_CHANNEL_DESC              DEAL_DESC  \\\n",
       "30                Call Center  OptiCon Term Contract   \n",
       "31             Business Sales     OptiCon eMG Rental   \n",
       "32             Business Sales     OptiCon eMG Rental   \n",
       "\n",
       "                   PROV_DATE                CLOSE_DATE OPEN_CLOSE_INDIC  \\\n",
       "30 2019-02-24 00:52:12+00:00 2019-02-24 02:05:21+00:00                C   \n",
       "31 2019-03-14 14:53:29+00:00 2019-03-14 14:53:36+00:00                C   \n",
       "32 2019-03-14 23:59:59+00:00 2019-04-01 13:48:26+00:00                C   \n",
       "\n",
       "   SOURCE        ORDER_ID_ANON      ACCOUNT_NO_ANON          MSISDN_ANON  \\\n",
       "30      F -8577925185420972425  5156758895250942611  1756325591274441815   \n",
       "31      F -6837999586639569785  5156758895250942611  2710482545510557508   \n",
       "32      F  3400600444351100232  5156758895250942611  2710482545510557508   \n",
       "\n",
       "    ORDER_ACTION_ID_ANON  \n",
       "30   1086250673076155801  \n",
       "31  -1580293360493113035  \n",
       "32  -8302224469961967151  "
      ]
     },
     "execution_count": 8,
     "metadata": {},
     "output_type": "execute_result"
    }
   ],
   "source": [
    "orders_df.tail(3)"
   ]
  },
  {
   "cell_type": "code",
   "execution_count": 9,
   "metadata": {},
   "outputs": [
    {
     "data": {
      "text/plain": [
       "33"
      ]
     },
     "execution_count": 9,
     "metadata": {},
     "output_type": "execute_result"
    }
   ],
   "source": [
    "len(orders_df)"
   ]
  },
  {
   "cell_type": "code",
   "execution_count": 10,
   "metadata": {},
   "outputs": [],
   "source": [
    "orders_df = orders_df.drop_duplicates()"
   ]
  },
  {
   "cell_type": "code",
   "execution_count": 11,
   "metadata": {},
   "outputs": [
    {
     "data": {
      "text/plain": [
       "32"
      ]
     },
     "execution_count": 11,
     "metadata": {},
     "output_type": "execute_result"
    }
   ],
   "source": [
    "len(orders_df)"
   ]
  },
  {
   "cell_type": "code",
   "execution_count": 12,
   "metadata": {},
   "outputs": [],
   "source": [
    "orders_df['MSISDN_ANON'] = orders_df['MSISDN_ANON'].astype(str)"
   ]
  },
  {
   "cell_type": "code",
   "execution_count": 13,
   "metadata": {},
   "outputs": [],
   "source": [
    "orders_df['ORDER_ID_ANON'] = orders_df['ORDER_ID_ANON'].astype(str)"
   ]
  },
  {
   "cell_type": "code",
   "execution_count": 14,
   "metadata": {},
   "outputs": [],
   "source": [
    "unique_col = 'combo'"
   ]
  },
  {
   "cell_type": "code",
   "execution_count": 15,
   "metadata": {},
   "outputs": [],
   "source": [
    "orders_df[unique_col] = orders_df['MSISDN_ANON']+'_'+orders_df['ORDER_ID_ANON']"
   ]
  },
  {
   "cell_type": "code",
   "execution_count": 16,
   "metadata": {},
   "outputs": [],
   "source": [
    "orders_df['stage'] = orders_df.groupby(unique_col).cumcount()+1"
   ]
  },
  {
   "cell_type": "code",
   "execution_count": 17,
   "metadata": {},
   "outputs": [],
   "source": [
    "final_stage = orders_df[[unique_col,'stage']].groupby(unique_col).max()"
   ]
  },
  {
   "cell_type": "code",
   "execution_count": 18,
   "metadata": {},
   "outputs": [],
   "source": [
    "final_stage.rename(columns={'stage':'final_stage'}, inplace=True)"
   ]
  },
  {
   "cell_type": "code",
   "execution_count": 19,
   "metadata": {},
   "outputs": [
    {
     "data": {
      "text/html": [
       "<div>\n",
       "<style scoped>\n",
       "    .dataframe tbody tr th:only-of-type {\n",
       "        vertical-align: middle;\n",
       "    }\n",
       "\n",
       "    .dataframe tbody tr th {\n",
       "        vertical-align: top;\n",
       "    }\n",
       "\n",
       "    .dataframe thead th {\n",
       "        text-align: right;\n",
       "    }\n",
       "</style>\n",
       "<table border=\"1\" class=\"dataframe\">\n",
       "  <thead>\n",
       "    <tr style=\"text-align: right;\">\n",
       "      <th></th>\n",
       "      <th>final_stage</th>\n",
       "    </tr>\n",
       "    <tr>\n",
       "      <th>combo</th>\n",
       "      <th></th>\n",
       "    </tr>\n",
       "  </thead>\n",
       "  <tbody>\n",
       "    <tr>\n",
       "      <td>-3886247749847034272_4834273730448523809</td>\n",
       "      <td>5</td>\n",
       "    </tr>\n",
       "    <tr>\n",
       "      <td>-4402699703705702704_3691872926838036956</td>\n",
       "      <td>1</td>\n",
       "    </tr>\n",
       "    <tr>\n",
       "      <td>-5402505769298551697_4834273730448523809</td>\n",
       "      <td>2</td>\n",
       "    </tr>\n",
       "    <tr>\n",
       "      <td>-8528343569355859671_4834273730448523809</td>\n",
       "      <td>2</td>\n",
       "    </tr>\n",
       "    <tr>\n",
       "      <td>-9164339062333871665_4834273730448523809</td>\n",
       "      <td>2</td>\n",
       "    </tr>\n",
       "  </tbody>\n",
       "</table>\n",
       "</div>"
      ],
      "text/plain": [
       "                                          final_stage\n",
       "combo                                                \n",
       "-3886247749847034272_4834273730448523809            5\n",
       "-4402699703705702704_3691872926838036956            1\n",
       "-5402505769298551697_4834273730448523809            2\n",
       "-8528343569355859671_4834273730448523809            2\n",
       "-9164339062333871665_4834273730448523809            2"
      ]
     },
     "execution_count": 19,
     "metadata": {},
     "output_type": "execute_result"
    }
   ],
   "source": [
    "final_stage.head()"
   ]
  },
  {
   "cell_type": "code",
   "execution_count": 20,
   "metadata": {},
   "outputs": [],
   "source": [
    "orders_df = pd.merge(orders_df, final_stage, on=unique_col, how='outer')"
   ]
  },
  {
   "cell_type": "code",
   "execution_count": 21,
   "metadata": {},
   "outputs": [
    {
     "data": {
      "text/html": [
       "<div>\n",
       "<style scoped>\n",
       "    .dataframe tbody tr th:only-of-type {\n",
       "        vertical-align: middle;\n",
       "    }\n",
       "\n",
       "    .dataframe tbody tr th {\n",
       "        vertical-align: top;\n",
       "    }\n",
       "\n",
       "    .dataframe thead th {\n",
       "        text-align: right;\n",
       "    }\n",
       "</style>\n",
       "<table border=\"1\" class=\"dataframe\">\n",
       "  <thead>\n",
       "    <tr style=\"text-align: right;\">\n",
       "      <th></th>\n",
       "      <th>ORDER_STATUS_DESC</th>\n",
       "      <th>ORDER_CREATION_DATE</th>\n",
       "      <th>ACTION_STATUS_DESC</th>\n",
       "      <th>ACTION_TYPE</th>\n",
       "      <th>ACTION_TYPE_DESC</th>\n",
       "      <th>ACTION_CREATION_DATE</th>\n",
       "      <th>ORIGINAL_SALES_CHANNEL_DESC</th>\n",
       "      <th>CURRENT_SALES_CHANNEL_DESC</th>\n",
       "      <th>DEAL_DESC</th>\n",
       "      <th>PROV_DATE</th>\n",
       "      <th>CLOSE_DATE</th>\n",
       "      <th>OPEN_CLOSE_INDIC</th>\n",
       "      <th>SOURCE</th>\n",
       "      <th>ORDER_ID_ANON</th>\n",
       "      <th>ACCOUNT_NO_ANON</th>\n",
       "      <th>MSISDN_ANON</th>\n",
       "      <th>ORDER_ACTION_ID_ANON</th>\n",
       "      <th>combo</th>\n",
       "      <th>stage</th>\n",
       "      <th>final_stage</th>\n",
       "    </tr>\n",
       "  </thead>\n",
       "  <tbody>\n",
       "    <tr>\n",
       "      <td>0</td>\n",
       "      <td>Cancelled</td>\n",
       "      <td>2018-10-02 14:53:57+00:00</td>\n",
       "      <td>Cancelled</td>\n",
       "      <td>OT</td>\n",
       "      <td>Outdoor Transfer</td>\n",
       "      <td>2018-10-02 00:00:00+00:00</td>\n",
       "      <td>Consumer Sales</td>\n",
       "      <td>Consumer Sales</td>\n",
       "      <td>OptiCon eMG Rental</td>\n",
       "      <td>1950-01-01 00:00:00+00:00</td>\n",
       "      <td>1950-01-01 00:00:00+00:00</td>\n",
       "      <td>C</td>\n",
       "      <td>F</td>\n",
       "      <td>4834273730448523809</td>\n",
       "      <td>5156758895250942611</td>\n",
       "      <td>2710482545510557508</td>\n",
       "      <td>8289055179477593263</td>\n",
       "      <td>2710482545510557508_4834273730448523809</td>\n",
       "      <td>1</td>\n",
       "      <td>2</td>\n",
       "    </tr>\n",
       "    <tr>\n",
       "      <td>1</td>\n",
       "      <td>Done</td>\n",
       "      <td>2018-10-09 14:54:01+00:00</td>\n",
       "      <td>Done</td>\n",
       "      <td>OT</td>\n",
       "      <td>Outdoor Transfer</td>\n",
       "      <td>2018-10-02 00:00:00+00:00</td>\n",
       "      <td>Consumer Sales</td>\n",
       "      <td>Consumer Sales</td>\n",
       "      <td>OptiCon eMG Rental</td>\n",
       "      <td>2018-10-10 15:48:40+00:00</td>\n",
       "      <td>1950-01-01 00:00:00+00:00</td>\n",
       "      <td>C</td>\n",
       "      <td>F</td>\n",
       "      <td>4834273730448523809</td>\n",
       "      <td>5156758895250942611</td>\n",
       "      <td>2710482545510557508</td>\n",
       "      <td>6497314512581554733</td>\n",
       "      <td>2710482545510557508_4834273730448523809</td>\n",
       "      <td>2</td>\n",
       "      <td>2</td>\n",
       "    </tr>\n",
       "    <tr>\n",
       "      <td>2</td>\n",
       "      <td>Cancelled</td>\n",
       "      <td>2018-10-02 14:54:19+00:00</td>\n",
       "      <td>Cancelled</td>\n",
       "      <td>MV</td>\n",
       "      <td>Move Outdoor Other Exchange</td>\n",
       "      <td>2018-10-02 00:00:00+00:00</td>\n",
       "      <td>Consumer Sales</td>\n",
       "      <td>Consumer Sales</td>\n",
       "      <td>TBiz BB Capped Advanced</td>\n",
       "      <td>1950-01-01 00:00:00+00:00</td>\n",
       "      <td>1950-01-01 00:00:00+00:00</td>\n",
       "      <td>C</td>\n",
       "      <td>F</td>\n",
       "      <td>4834273730448523809</td>\n",
       "      <td>5156758895250942611</td>\n",
       "      <td>3842282672409691663</td>\n",
       "      <td>-2368358014249335978</td>\n",
       "      <td>3842282672409691663_4834273730448523809</td>\n",
       "      <td>1</td>\n",
       "      <td>4</td>\n",
       "    </tr>\n",
       "    <tr>\n",
       "      <td>3</td>\n",
       "      <td>Cancelled</td>\n",
       "      <td>2018-10-02 15:02:26+00:00</td>\n",
       "      <td>Cancelled</td>\n",
       "      <td>CM</td>\n",
       "      <td>Cease Part Of Move</td>\n",
       "      <td>2018-10-02 00:00:00+00:00</td>\n",
       "      <td>Consumer Sales</td>\n",
       "      <td>Consumer Sales</td>\n",
       "      <td>TBiz BB Capped Advanced</td>\n",
       "      <td>1950-01-01 00:00:00+00:00</td>\n",
       "      <td>1950-01-01 00:00:00+00:00</td>\n",
       "      <td>C</td>\n",
       "      <td>F</td>\n",
       "      <td>4834273730448523809</td>\n",
       "      <td>5156758895250942611</td>\n",
       "      <td>3842282672409691663</td>\n",
       "      <td>-3678093612542590147</td>\n",
       "      <td>3842282672409691663_4834273730448523809</td>\n",
       "      <td>2</td>\n",
       "      <td>4</td>\n",
       "    </tr>\n",
       "    <tr>\n",
       "      <td>4</td>\n",
       "      <td>Done</td>\n",
       "      <td>2018-10-09 14:54:01+00:00</td>\n",
       "      <td>Done</td>\n",
       "      <td>CM</td>\n",
       "      <td>Cease Part Of Move</td>\n",
       "      <td>2018-10-02 00:00:00+00:00</td>\n",
       "      <td>Consumer Sales</td>\n",
       "      <td>Consumer Sales</td>\n",
       "      <td>TBiz BB Capped Advanced</td>\n",
       "      <td>2018-10-09 14:56:35+00:00</td>\n",
       "      <td>1950-01-01 00:00:00+00:00</td>\n",
       "      <td>C</td>\n",
       "      <td>F</td>\n",
       "      <td>4834273730448523809</td>\n",
       "      <td>5156758895250942611</td>\n",
       "      <td>3842282672409691663</td>\n",
       "      <td>-6243901908868668088</td>\n",
       "      <td>3842282672409691663_4834273730448523809</td>\n",
       "      <td>3</td>\n",
       "      <td>4</td>\n",
       "    </tr>\n",
       "  </tbody>\n",
       "</table>\n",
       "</div>"
      ],
      "text/plain": [
       "  ORDER_STATUS_DESC       ORDER_CREATION_DATE ACTION_STATUS_DESC ACTION_TYPE  \\\n",
       "0         Cancelled 2018-10-02 14:53:57+00:00          Cancelled          OT   \n",
       "1              Done 2018-10-09 14:54:01+00:00               Done          OT   \n",
       "2         Cancelled 2018-10-02 14:54:19+00:00          Cancelled          MV   \n",
       "3         Cancelled 2018-10-02 15:02:26+00:00          Cancelled          CM   \n",
       "4              Done 2018-10-09 14:54:01+00:00               Done          CM   \n",
       "\n",
       "              ACTION_TYPE_DESC      ACTION_CREATION_DATE  \\\n",
       "0             Outdoor Transfer 2018-10-02 00:00:00+00:00   \n",
       "1             Outdoor Transfer 2018-10-02 00:00:00+00:00   \n",
       "2  Move Outdoor Other Exchange 2018-10-02 00:00:00+00:00   \n",
       "3           Cease Part Of Move 2018-10-02 00:00:00+00:00   \n",
       "4           Cease Part Of Move 2018-10-02 00:00:00+00:00   \n",
       "\n",
       "  ORIGINAL_SALES_CHANNEL_DESC CURRENT_SALES_CHANNEL_DESC  \\\n",
       "0              Consumer Sales             Consumer Sales   \n",
       "1              Consumer Sales             Consumer Sales   \n",
       "2              Consumer Sales             Consumer Sales   \n",
       "3              Consumer Sales             Consumer Sales   \n",
       "4              Consumer Sales             Consumer Sales   \n",
       "\n",
       "                 DEAL_DESC                 PROV_DATE  \\\n",
       "0       OptiCon eMG Rental 1950-01-01 00:00:00+00:00   \n",
       "1       OptiCon eMG Rental 2018-10-10 15:48:40+00:00   \n",
       "2  TBiz BB Capped Advanced 1950-01-01 00:00:00+00:00   \n",
       "3  TBiz BB Capped Advanced 1950-01-01 00:00:00+00:00   \n",
       "4  TBiz BB Capped Advanced 2018-10-09 14:56:35+00:00   \n",
       "\n",
       "                 CLOSE_DATE OPEN_CLOSE_INDIC SOURCE        ORDER_ID_ANON  \\\n",
       "0 1950-01-01 00:00:00+00:00                C      F  4834273730448523809   \n",
       "1 1950-01-01 00:00:00+00:00                C      F  4834273730448523809   \n",
       "2 1950-01-01 00:00:00+00:00                C      F  4834273730448523809   \n",
       "3 1950-01-01 00:00:00+00:00                C      F  4834273730448523809   \n",
       "4 1950-01-01 00:00:00+00:00                C      F  4834273730448523809   \n",
       "\n",
       "       ACCOUNT_NO_ANON          MSISDN_ANON  ORDER_ACTION_ID_ANON  \\\n",
       "0  5156758895250942611  2710482545510557508   8289055179477593263   \n",
       "1  5156758895250942611  2710482545510557508   6497314512581554733   \n",
       "2  5156758895250942611  3842282672409691663  -2368358014249335978   \n",
       "3  5156758895250942611  3842282672409691663  -3678093612542590147   \n",
       "4  5156758895250942611  3842282672409691663  -6243901908868668088   \n",
       "\n",
       "                                     combo  stage  final_stage  \n",
       "0  2710482545510557508_4834273730448523809      1            2  \n",
       "1  2710482545510557508_4834273730448523809      2            2  \n",
       "2  3842282672409691663_4834273730448523809      1            4  \n",
       "3  3842282672409691663_4834273730448523809      2            4  \n",
       "4  3842282672409691663_4834273730448523809      3            4  "
      ]
     },
     "execution_count": 21,
     "metadata": {},
     "output_type": "execute_result"
    }
   ],
   "source": [
    "orders_df.head()"
   ]
  },
  {
   "cell_type": "code",
   "execution_count": 22,
   "metadata": {},
   "outputs": [],
   "source": [
    "orders_df['stage'] = orders_df['stage'].astype(str)"
   ]
  },
  {
   "cell_type": "code",
   "execution_count": 23,
   "metadata": {},
   "outputs": [],
   "source": [
    "orders_df['ActionType_OrderStatus'] = orders_df['ACTION_TYPE_DESC'] +' * '+ orders_df['ORDER_STATUS_DESC'] "
   ]
  },
  {
   "cell_type": "code",
   "execution_count": 24,
   "metadata": {},
   "outputs": [],
   "source": [
    "type_status = list(orders_df['ActionType_OrderStatus'].unique())"
   ]
  },
  {
   "cell_type": "code",
   "execution_count": 25,
   "metadata": {},
   "outputs": [],
   "source": [
    "orders_df['stage_ActionType_OrderStatus'] = orders_df['stage'] +') * '+ orders_df['ACTION_TYPE_DESC'] +' * '+ orders_df['ORDER_STATUS_DESC'] "
   ]
  },
  {
   "cell_type": "code",
   "execution_count": 26,
   "metadata": {},
   "outputs": [
    {
     "data": {
      "text/html": [
       "<div>\n",
       "<style scoped>\n",
       "    .dataframe tbody tr th:only-of-type {\n",
       "        vertical-align: middle;\n",
       "    }\n",
       "\n",
       "    .dataframe tbody tr th {\n",
       "        vertical-align: top;\n",
       "    }\n",
       "\n",
       "    .dataframe thead th {\n",
       "        text-align: right;\n",
       "    }\n",
       "</style>\n",
       "<table border=\"1\" class=\"dataframe\">\n",
       "  <thead>\n",
       "    <tr style=\"text-align: right;\">\n",
       "      <th></th>\n",
       "      <th>ORDER_STATUS_DESC</th>\n",
       "      <th>ORDER_CREATION_DATE</th>\n",
       "      <th>ACTION_STATUS_DESC</th>\n",
       "      <th>ACTION_TYPE</th>\n",
       "      <th>ACTION_TYPE_DESC</th>\n",
       "      <th>ACTION_CREATION_DATE</th>\n",
       "      <th>ORIGINAL_SALES_CHANNEL_DESC</th>\n",
       "      <th>CURRENT_SALES_CHANNEL_DESC</th>\n",
       "      <th>DEAL_DESC</th>\n",
       "      <th>PROV_DATE</th>\n",
       "      <th>...</th>\n",
       "      <th>SOURCE</th>\n",
       "      <th>ORDER_ID_ANON</th>\n",
       "      <th>ACCOUNT_NO_ANON</th>\n",
       "      <th>MSISDN_ANON</th>\n",
       "      <th>ORDER_ACTION_ID_ANON</th>\n",
       "      <th>combo</th>\n",
       "      <th>stage</th>\n",
       "      <th>final_stage</th>\n",
       "      <th>ActionType_OrderStatus</th>\n",
       "      <th>stage_ActionType_OrderStatus</th>\n",
       "    </tr>\n",
       "  </thead>\n",
       "  <tbody>\n",
       "    <tr>\n",
       "      <td>29</td>\n",
       "      <td>Done</td>\n",
       "      <td>2019-02-23 23:27:25+00:00</td>\n",
       "      <td>Done</td>\n",
       "      <td>CE</td>\n",
       "      <td>Cease</td>\n",
       "      <td>2019-02-23 23:27:25+00:00</td>\n",
       "      <td>Call Center</td>\n",
       "      <td>Call Center</td>\n",
       "      <td>OptiCon Term Contract</td>\n",
       "      <td>2019-02-24 00:52:12+00:00</td>\n",
       "      <td>...</td>\n",
       "      <td>F</td>\n",
       "      <td>-8577925185420972425</td>\n",
       "      <td>5156758895250942611</td>\n",
       "      <td>1756325591274441815</td>\n",
       "      <td>1086250673076155801</td>\n",
       "      <td>1756325591274441815_-8577925185420972425</td>\n",
       "      <td>1</td>\n",
       "      <td>1</td>\n",
       "      <td>Cease * Done</td>\n",
       "      <td>1) * Cease * Done</td>\n",
       "    </tr>\n",
       "    <tr>\n",
       "      <td>30</td>\n",
       "      <td>Done</td>\n",
       "      <td>2019-03-14 14:41:02+00:00</td>\n",
       "      <td>Done</td>\n",
       "      <td>MA</td>\n",
       "      <td>Modify Address</td>\n",
       "      <td>2019-03-14 00:00:00+00:00</td>\n",
       "      <td>Business Sales</td>\n",
       "      <td>Business Sales</td>\n",
       "      <td>OptiCon eMG Rental</td>\n",
       "      <td>2019-03-14 14:53:29+00:00</td>\n",
       "      <td>...</td>\n",
       "      <td>F</td>\n",
       "      <td>-6837999586639569785</td>\n",
       "      <td>5156758895250942611</td>\n",
       "      <td>2710482545510557508</td>\n",
       "      <td>-1580293360493113035</td>\n",
       "      <td>2710482545510557508_-6837999586639569785</td>\n",
       "      <td>1</td>\n",
       "      <td>1</td>\n",
       "      <td>Modify Address * Done</td>\n",
       "      <td>1) * Modify Address * Done</td>\n",
       "    </tr>\n",
       "    <tr>\n",
       "      <td>31</td>\n",
       "      <td>Done</td>\n",
       "      <td>2019-03-14 14:59:16+00:00</td>\n",
       "      <td>Done</td>\n",
       "      <td>CE</td>\n",
       "      <td>Cease</td>\n",
       "      <td>2019-03-14 00:00:00+00:00</td>\n",
       "      <td>Business Sales</td>\n",
       "      <td>Business Sales</td>\n",
       "      <td>OptiCon eMG Rental</td>\n",
       "      <td>2019-03-14 23:59:59+00:00</td>\n",
       "      <td>...</td>\n",
       "      <td>F</td>\n",
       "      <td>3400600444351100232</td>\n",
       "      <td>5156758895250942611</td>\n",
       "      <td>2710482545510557508</td>\n",
       "      <td>-8302224469961967151</td>\n",
       "      <td>2710482545510557508_3400600444351100232</td>\n",
       "      <td>1</td>\n",
       "      <td>1</td>\n",
       "      <td>Cease * Done</td>\n",
       "      <td>1) * Cease * Done</td>\n",
       "    </tr>\n",
       "  </tbody>\n",
       "</table>\n",
       "<p>3 rows × 22 columns</p>\n",
       "</div>"
      ],
      "text/plain": [
       "   ORDER_STATUS_DESC       ORDER_CREATION_DATE ACTION_STATUS_DESC ACTION_TYPE  \\\n",
       "29              Done 2019-02-23 23:27:25+00:00               Done          CE   \n",
       "30              Done 2019-03-14 14:41:02+00:00               Done          MA   \n",
       "31              Done 2019-03-14 14:59:16+00:00               Done          CE   \n",
       "\n",
       "   ACTION_TYPE_DESC      ACTION_CREATION_DATE ORIGINAL_SALES_CHANNEL_DESC  \\\n",
       "29            Cease 2019-02-23 23:27:25+00:00                 Call Center   \n",
       "30   Modify Address 2019-03-14 00:00:00+00:00              Business Sales   \n",
       "31            Cease 2019-03-14 00:00:00+00:00              Business Sales   \n",
       "\n",
       "   CURRENT_SALES_CHANNEL_DESC              DEAL_DESC  \\\n",
       "29                Call Center  OptiCon Term Contract   \n",
       "30             Business Sales     OptiCon eMG Rental   \n",
       "31             Business Sales     OptiCon eMG Rental   \n",
       "\n",
       "                   PROV_DATE  ... SOURCE         ORDER_ID_ANON  \\\n",
       "29 2019-02-24 00:52:12+00:00  ...      F  -8577925185420972425   \n",
       "30 2019-03-14 14:53:29+00:00  ...      F  -6837999586639569785   \n",
       "31 2019-03-14 23:59:59+00:00  ...      F   3400600444351100232   \n",
       "\n",
       "        ACCOUNT_NO_ANON          MSISDN_ANON  ORDER_ACTION_ID_ANON  \\\n",
       "29  5156758895250942611  1756325591274441815   1086250673076155801   \n",
       "30  5156758895250942611  2710482545510557508  -1580293360493113035   \n",
       "31  5156758895250942611  2710482545510557508  -8302224469961967151   \n",
       "\n",
       "                                       combo  stage final_stage  \\\n",
       "29  1756325591274441815_-8577925185420972425      1           1   \n",
       "30  2710482545510557508_-6837999586639569785      1           1   \n",
       "31   2710482545510557508_3400600444351100232      1           1   \n",
       "\n",
       "   ActionType_OrderStatus  stage_ActionType_OrderStatus  \n",
       "29           Cease * Done             1) * Cease * Done  \n",
       "30  Modify Address * Done    1) * Modify Address * Done  \n",
       "31           Cease * Done             1) * Cease * Done  \n",
       "\n",
       "[3 rows x 22 columns]"
      ]
     },
     "execution_count": 26,
     "metadata": {},
     "output_type": "execute_result"
    }
   ],
   "source": [
    "orders_df.tail(3)"
   ]
  },
  {
   "cell_type": "code",
   "execution_count": 27,
   "metadata": {},
   "outputs": [],
   "source": [
    "#orders_df.groupby(unique_col)"
   ]
  },
  {
   "cell_type": "code",
   "execution_count": 28,
   "metadata": {},
   "outputs": [],
   "source": [
    "customers = list(orders_df[unique_col].unique())"
   ]
  },
  {
   "cell_type": "code",
   "execution_count": 29,
   "metadata": {},
   "outputs": [
    {
     "data": {
      "text/html": [
       "<div>\n",
       "<style scoped>\n",
       "    .dataframe tbody tr th:only-of-type {\n",
       "        vertical-align: middle;\n",
       "    }\n",
       "\n",
       "    .dataframe tbody tr th {\n",
       "        vertical-align: top;\n",
       "    }\n",
       "\n",
       "    .dataframe thead th {\n",
       "        text-align: right;\n",
       "    }\n",
       "</style>\n",
       "<table border=\"1\" class=\"dataframe\">\n",
       "  <thead>\n",
       "    <tr style=\"text-align: right;\">\n",
       "      <th></th>\n",
       "      <th>ORDER_STATUS_DESC</th>\n",
       "      <th>ORDER_CREATION_DATE</th>\n",
       "      <th>ACTION_STATUS_DESC</th>\n",
       "      <th>ACTION_TYPE</th>\n",
       "      <th>ACTION_TYPE_DESC</th>\n",
       "      <th>ACTION_CREATION_DATE</th>\n",
       "      <th>ORIGINAL_SALES_CHANNEL_DESC</th>\n",
       "      <th>CURRENT_SALES_CHANNEL_DESC</th>\n",
       "      <th>DEAL_DESC</th>\n",
       "      <th>PROV_DATE</th>\n",
       "      <th>...</th>\n",
       "      <th>SOURCE</th>\n",
       "      <th>ORDER_ID_ANON</th>\n",
       "      <th>ACCOUNT_NO_ANON</th>\n",
       "      <th>MSISDN_ANON</th>\n",
       "      <th>ORDER_ACTION_ID_ANON</th>\n",
       "      <th>combo</th>\n",
       "      <th>stage</th>\n",
       "      <th>final_stage</th>\n",
       "      <th>ActionType_OrderStatus</th>\n",
       "      <th>stage_ActionType_OrderStatus</th>\n",
       "    </tr>\n",
       "  </thead>\n",
       "  <tbody>\n",
       "    <tr>\n",
       "      <td>14</td>\n",
       "      <td>Done</td>\n",
       "      <td>2018-10-09 14:54:01+00:00</td>\n",
       "      <td>Done</td>\n",
       "      <td>CM</td>\n",
       "      <td>Cease Part Of Move</td>\n",
       "      <td>2018-10-02 00:00:00+00:00</td>\n",
       "      <td>Consumer Sales</td>\n",
       "      <td>Consumer Sales</td>\n",
       "      <td>PSTN Junction Lines - Business</td>\n",
       "      <td>2018-10-09 14:56:39+00:00</td>\n",
       "      <td>...</td>\n",
       "      <td>F</td>\n",
       "      <td>4834273730448523809</td>\n",
       "      <td>5156758895250942611</td>\n",
       "      <td>-3886247749847034272</td>\n",
       "      <td>-2600238453859420086</td>\n",
       "      <td>-3886247749847034272_4834273730448523809</td>\n",
       "      <td>5</td>\n",
       "      <td>5</td>\n",
       "      <td>Cease Part Of Move * Done</td>\n",
       "      <td>5) * Cease Part Of Move * Done</td>\n",
       "    </tr>\n",
       "    <tr>\n",
       "      <td>5</td>\n",
       "      <td>Done</td>\n",
       "      <td>2018-10-09 14:54:01+00:00</td>\n",
       "      <td>Done</td>\n",
       "      <td>MV</td>\n",
       "      <td>Move Outdoor Other Exchange</td>\n",
       "      <td>2018-10-02 00:00:00+00:00</td>\n",
       "      <td>Consumer Sales</td>\n",
       "      <td>Consumer Sales</td>\n",
       "      <td>TBiz BB Capped Advanced</td>\n",
       "      <td>2018-10-09 14:56:37+00:00</td>\n",
       "      <td>...</td>\n",
       "      <td>F</td>\n",
       "      <td>4834273730448523809</td>\n",
       "      <td>5156758895250942611</td>\n",
       "      <td>3842282672409691663</td>\n",
       "      <td>-4311406567201441950</td>\n",
       "      <td>3842282672409691663_4834273730448523809</td>\n",
       "      <td>4</td>\n",
       "      <td>4</td>\n",
       "      <td>Move Outdoor Other Exchange * Done</td>\n",
       "      <td>4) * Move Outdoor Other Exchange * Done</td>\n",
       "    </tr>\n",
       "    <tr>\n",
       "      <td>9</td>\n",
       "      <td>Done</td>\n",
       "      <td>2018-10-09 14:54:01+00:00</td>\n",
       "      <td>Done</td>\n",
       "      <td>CM</td>\n",
       "      <td>Cease Part Of Move</td>\n",
       "      <td>2018-10-02 00:00:00+00:00</td>\n",
       "      <td>Consumer Sales</td>\n",
       "      <td>Consumer Sales</td>\n",
       "      <td>PSTN Junction Lines - Business</td>\n",
       "      <td>2018-10-09 14:56:50+00:00</td>\n",
       "      <td>...</td>\n",
       "      <td>F</td>\n",
       "      <td>4834273730448523809</td>\n",
       "      <td>5156758895250942611</td>\n",
       "      <td>4025061503049276343</td>\n",
       "      <td>-1094888384259571697</td>\n",
       "      <td>4025061503049276343_4834273730448523809</td>\n",
       "      <td>4</td>\n",
       "      <td>4</td>\n",
       "      <td>Cease Part Of Move * Done</td>\n",
       "      <td>4) * Cease Part Of Move * Done</td>\n",
       "    </tr>\n",
       "  </tbody>\n",
       "</table>\n",
       "<p>3 rows × 22 columns</p>\n",
       "</div>"
      ],
      "text/plain": [
       "   ORDER_STATUS_DESC       ORDER_CREATION_DATE ACTION_STATUS_DESC ACTION_TYPE  \\\n",
       "14              Done 2018-10-09 14:54:01+00:00               Done          CM   \n",
       "5               Done 2018-10-09 14:54:01+00:00               Done          MV   \n",
       "9               Done 2018-10-09 14:54:01+00:00               Done          CM   \n",
       "\n",
       "               ACTION_TYPE_DESC      ACTION_CREATION_DATE  \\\n",
       "14           Cease Part Of Move 2018-10-02 00:00:00+00:00   \n",
       "5   Move Outdoor Other Exchange 2018-10-02 00:00:00+00:00   \n",
       "9            Cease Part Of Move 2018-10-02 00:00:00+00:00   \n",
       "\n",
       "   ORIGINAL_SALES_CHANNEL_DESC CURRENT_SALES_CHANNEL_DESC  \\\n",
       "14              Consumer Sales             Consumer Sales   \n",
       "5               Consumer Sales             Consumer Sales   \n",
       "9               Consumer Sales             Consumer Sales   \n",
       "\n",
       "                         DEAL_DESC                 PROV_DATE  ... SOURCE  \\\n",
       "14  PSTN Junction Lines - Business 2018-10-09 14:56:39+00:00  ...      F   \n",
       "5          TBiz BB Capped Advanced 2018-10-09 14:56:37+00:00  ...      F   \n",
       "9   PSTN Junction Lines - Business 2018-10-09 14:56:50+00:00  ...      F   \n",
       "\n",
       "          ORDER_ID_ANON      ACCOUNT_NO_ANON           MSISDN_ANON  \\\n",
       "14  4834273730448523809  5156758895250942611  -3886247749847034272   \n",
       "5   4834273730448523809  5156758895250942611   3842282672409691663   \n",
       "9   4834273730448523809  5156758895250942611   4025061503049276343   \n",
       "\n",
       "    ORDER_ACTION_ID_ANON                                     combo  stage  \\\n",
       "14  -2600238453859420086  -3886247749847034272_4834273730448523809      5   \n",
       "5   -4311406567201441950   3842282672409691663_4834273730448523809      4   \n",
       "9   -1094888384259571697   4025061503049276343_4834273730448523809      4   \n",
       "\n",
       "   final_stage              ActionType_OrderStatus  \\\n",
       "14           5           Cease Part Of Move * Done   \n",
       "5            4  Move Outdoor Other Exchange * Done   \n",
       "9            4           Cease Part Of Move * Done   \n",
       "\n",
       "               stage_ActionType_OrderStatus  \n",
       "14           5) * Cease Part Of Move * Done  \n",
       "5   4) * Move Outdoor Other Exchange * Done  \n",
       "9            4) * Cease Part Of Move * Done  \n",
       "\n",
       "[3 rows x 22 columns]"
      ]
     },
     "execution_count": 29,
     "metadata": {},
     "output_type": "execute_result"
    }
   ],
   "source": [
    "sorted_df = orders_df.sort_values('stage', ascending=False)\n",
    "sorted_df.head(3)"
   ]
  },
  {
   "cell_type": "code",
   "execution_count": 30,
   "metadata": {},
   "outputs": [
    {
     "data": {
      "text/plain": [
       "9"
      ]
     },
     "execution_count": 30,
     "metadata": {},
     "output_type": "execute_result"
    }
   ],
   "source": [
    "len(orders_df[orders_df['stage']=='2'])"
   ]
  },
  {
   "cell_type": "code",
   "execution_count": 31,
   "metadata": {},
   "outputs": [
    {
     "data": {
      "text/plain": [
       "16"
      ]
     },
     "execution_count": 31,
     "metadata": {},
     "output_type": "execute_result"
    }
   ],
   "source": [
    "len(customers)"
   ]
  },
  {
   "cell_type": "code",
   "execution_count": 32,
   "metadata": {},
   "outputs": [],
   "source": [
    "# Create a networkx graph object\n",
    "J = nx.Graph()"
   ]
  },
  {
   "cell_type": "code",
   "execution_count": 33,
   "metadata": {},
   "outputs": [],
   "source": [
    "J.clear()"
   ]
  },
  {
   "cell_type": "code",
   "execution_count": 34,
   "metadata": {},
   "outputs": [
    {
     "data": {
      "text/plain": [
       "5"
      ]
     },
     "execution_count": 34,
     "metadata": {},
     "output_type": "execute_result"
    }
   ],
   "source": [
    "max_stage=max(orders_df['stage'].astype(int))\n",
    "max_stage"
   ]
  },
  {
   "cell_type": "code",
   "execution_count": 35,
   "metadata": {},
   "outputs": [],
   "source": [
    "actions = list(orders_df['stage_ActionType_OrderStatus'].unique())"
   ]
  },
  {
   "cell_type": "code",
   "execution_count": 36,
   "metadata": {},
   "outputs": [],
   "source": [
    "J.add_node(Deals,posi=(0.8,10), color = 'purple')"
   ]
  },
  {
   "cell_type": "code",
   "execution_count": 37,
   "metadata": {},
   "outputs": [],
   "source": [
    "for i in range(1,max_stage+1):\n",
    "  \n",
    "  stage_actions = list(orders_df[orders_df['stage']==str(i)]['stage_ActionType_OrderStatus'].unique())\n",
    "  #print(stage_actions)\n",
    "  for k in range(len(stage_actions)):\n",
    "    label = stage_actions[k]\n",
    "    #print(label)\n",
    "    label = label.split('* ',1)\n",
    "    label = label[1]\n",
    "    #print(label)\n",
    "    height =  type_status.index(label) +1\n",
    "    #print(height)\n",
    "    J.add_node(stage_actions[k],posi=(i*1.25,height))\n",
    "    #print(stage_actions[k])\n",
    "    #print((i,k+1))"
   ]
  },
  {
   "cell_type": "code",
   "execution_count": 38,
   "metadata": {},
   "outputs": [
    {
     "data": {
      "text/plain": [
       "NodeDataView({'2) * Cease Part Of Move * Cancelled': {'posi': (2.5, 4)}, '2) * Provide Part Of Move * Done': {'posi': (2.5, 8)}, '3) * Cease Part Of Move * Cancelled': {'posi': (3.75, 4)}, '1) * Soft Suspend * Done': {'posi': (1.25, 12)}, '1) * Outdoor Transfer * Cancelled': {'posi': (1.25, 1)}, '2) * Outdoor Transfer * Done': {'posi': (2.5, 2)}, '2) * Cease * Done': {'posi': (2.5, 11)}, '1) * Move Outdoor Other Exchange * Cancelled': {'posi': (1.25, 3)}, '4) * Move Outdoor Other Exchange * Done': {'posi': (5.0, 6)}, '1) * Modify Address * Done': {'posi': (1.25, 14)}, '3) * Move Outdoor Other Exchange * Done': {'posi': (3.75, 6)}, '1) * Provide Part Of Move * Cancelled': {'posi': (1.25, 7)}, '1) * Provide * Cancelled': {'posi': (1.25, 9)}, '1) * Cease * Done': {'posi': (1.25, 11)}, '1) * Resume from Suspension due to Collection * Done': {'posi': (1.25, 13)}, '4) * Cease Part Of Move * Done': {'posi': (5.0, 5)}, '5) * Cease Part Of Move * Done': {'posi': (6.25, 5)}, '3) * Cease Part Of Move * Done': {'posi': (3.75, 5)}, '2) * Provide * Done': {'posi': (2.5, 10)}, 5156758895250942611: {'posi': (0.8, 10), 'color': 'purple'}})"
      ]
     },
     "execution_count": 38,
     "metadata": {},
     "output_type": "execute_result"
    }
   ],
   "source": [
    "J.nodes(data = True)"
   ]
  },
  {
   "cell_type": "code",
   "execution_count": 39,
   "metadata": {},
   "outputs": [
    {
     "data": {
      "image/png": "[encoded data removed]",
      "text/plain": [
       "<Figure size 1440x504 with 1 Axes>"
      ]
     },
     "metadata": {},
     "output_type": "display_data"
    }
   ],
   "source": [
    "# Draw the resulting graph\n",
    "pos = nx.get_node_attributes(J,'posi')\n",
    "nx.draw(J, pos ,with_labels=True, font_weight='bold', font_size = 7)\n",
    "plt.show()"
   ]
  },
  {
   "cell_type": "code",
   "execution_count": 40,
   "metadata": {},
   "outputs": [],
   "source": [
    "# clear edges\n",
    "J.remove_edges_from(list(J.edges()))"
   ]
  },
  {
   "cell_type": "code",
   "execution_count": 41,
   "metadata": {},
   "outputs": [],
   "source": [
    "#create edges with data (count, days, ave_days)\n",
    "\n",
    "date_col = orders_df.columns.get_loc('ORDER_CREATION_DATE')\n",
    "kpi = 5\n",
    "\n",
    "for c in customers:\n",
    "\n",
    "    temp_df = orders_df[orders_df[unique_col] == c]\n",
    "  \n",
    "    for i in range(len(temp_df)-1):\n",
    "        #print(i, c)\n",
    "        if J.has_edge(temp_df.iloc[i, -1], temp_df.iloc[(i+1),-1]) == False:\n",
    "            #print(temp_df.iloc[i, -1], temp_df.iloc[(i+1),-1])\n",
    "            #print(temp_df.iloc[i,-4], temp_df.iloc[(i+1),-4])\n",
    "            J.add_edge(temp_df.iloc[i, -1], temp_df.iloc[(i+1),-1])\n",
    "            J.edges[temp_df.iloc[i, -1],temp_df.iloc[(i+1),-1]]['count'] = 1\n",
    "            difference = (temp_df.iloc[(i+1),date_col]-temp_df.iloc[i, date_col])\n",
    "            J.edges[temp_df.iloc[i, -1],temp_df.iloc[(i+1),-1]]['days'] = round(difference.total_seconds()/(60*60*24),1)\n",
    "            J.edges[temp_df.iloc[i, -1],temp_df.iloc[(i+1),-1]]['ave_days'] = round(J.edges[temp_df.iloc[i, -1],temp_df.iloc[(i+1),-1]]['days']/ J.edges[temp_df.iloc[i, -1],temp_df.iloc[(i+1),-1]]['count'],1)\n",
    "            \n",
    "            if J.edges[temp_df.iloc[i, -1],temp_df.iloc[(i+1),-1]]['ave_days'] > kpi:\n",
    "                J.edges[temp_df.iloc[i, -1],temp_df.iloc[(i+1),-1]]['color'] = 'red'\n",
    "            else:\n",
    "                J.edges[temp_df.iloc[i, -1],temp_df.iloc[(i+1),-1]]['color'] = 'green'\n",
    "\n",
    "        else:\n",
    "            current_count = J.edges[temp_df.iloc[i, -1],temp_df.iloc[(i+1),-1]]['count']\n",
    "            J.edges[temp_df.iloc[i, -1],temp_df.iloc[(i+1),-1]]['count'] = current_count + 1\n",
    "\n",
    "            current_days =  J.edges[temp_df.iloc[i, -1],temp_df.iloc[(i+1),-1]]['days']\n",
    "            difference = (temp_df.iloc[(i+1),date_col]-temp_df.iloc[i, date_col])\n",
    "            J.edges[temp_df.iloc[i, -1],temp_df.iloc[(i+1),-1]]['days'] = round(current_days + difference.total_seconds()/(60*60*24),1)\n",
    "\n",
    "            J.edges[temp_df.iloc[i, -1],temp_df.iloc[(i+1),-1]]['ave_days'] = round(J.edges[temp_df.iloc[i, -1],temp_df.iloc[(i+1),-1]]['days']/ J.edges[temp_df.iloc[i, -1],temp_df.iloc[(i+1),-1]]['count'],1)\n",
    "            \n",
    "            if J.edges[temp_df.iloc[i, -1],temp_df.iloc[(i+1),-1]]['ave_days'] > kpi:\n",
    "                J.edges[temp_df.iloc[i, -1],temp_df.iloc[(i+1),-1]]['color'] = 'red'\n",
    "            else:\n",
    "                J.edges[temp_df.iloc[i, -1],temp_df.iloc[(i+1),-1]]['color'] = 'green'\n"
   ]
  },
  {
   "cell_type": "code",
   "execution_count": 42,
   "metadata": {},
   "outputs": [
    {
     "name": "stdout",
     "output_type": "stream",
     "text": [
      "16\n",
      "3\n",
      "1\n",
      "1.3333333333333333\n"
     ]
    }
   ],
   "source": [
    "# add edge weight attribute\n",
    "\n",
    "all_counts = []\n",
    "\n",
    "#Iterate through the graph edges to gather all the weights\n",
    "for (node1,node2,data) in J.edges(data=True):\n",
    "    all_counts.append(data['count']) \n",
    "\n",
    "    \n",
    "total_count = sum(all_counts)\n",
    "max_count = max(all_counts)\n",
    "min_count = min(all_counts)\n",
    "ave_count = total_count/len(all_counts)\n",
    "scale = 14\n",
    "\n",
    "print(total_count)\n",
    "print(max_count)\n",
    "print(min_count)\n",
    "print(ave_count)\n",
    "\n",
    "\n",
    "if (max_count-min_count) == 0:\n",
    "    for (node1,node2,data) in J.edges(data=True):\n",
    "        J.edges[node1,node2]['weight'] = round(J.edges[node1,node2]['count'],1)\n",
    "\n",
    "else:                                                \n",
    "    for (node1,node2,data) in J.edges(data=True):\n",
    "        J.edges[node1,node2]['weight'] = round(((J.edges[node1,node2]['count']-min_count)/(max_count-min_count))*scale+1,1)\n",
    "    "
   ]
  },
  {
   "cell_type": "code",
   "execution_count": 43,
   "metadata": {},
   "outputs": [
    {
     "data": {
      "text/plain": [
       "EdgeDataView([('2) * Cease Part Of Move * Cancelled', '3) * Cease Part Of Move * Done', {'ave_days': 7.0, 'count': 1, 'color': 'red', 'weight': 1.0, 'days': 7.0}), ('2) * Cease Part Of Move * Cancelled', '1) * Move Outdoor Other Exchange * Cancelled', {'ave_days': 0.0, 'count': 3, 'color': 'green', 'weight': 15.0, 'days': 0.0}), ('2) * Cease Part Of Move * Cancelled', '3) * Cease Part Of Move * Cancelled', {'ave_days': 6.0, 'count': 1, 'color': 'red', 'weight': 1.0, 'days': 6.0}), ('2) * Cease Part Of Move * Cancelled', '3) * Move Outdoor Other Exchange * Done', {'ave_days': 7.0, 'count': 1, 'color': 'red', 'weight': 1.0, 'days': 7.0}), ('3) * Cease Part Of Move * Cancelled', '4) * Move Outdoor Other Exchange * Done', {'ave_days': 1.0, 'count': 1, 'color': 'green', 'weight': 1.0, 'days': 1.0}), ('2) * Provide Part Of Move * Done', '1) * Provide Part Of Move * Cancelled', {'ave_days': 7.0, 'count': 3, 'color': 'red', 'weight': 15.0, 'days': 21.0}), ('1) * Provide * Cancelled', '2) * Provide * Done', {'ave_days': 7.0, 'count': 1, 'color': 'red', 'weight': 1.0, 'days': 7.0}), ('1) * Outdoor Transfer * Cancelled', '2) * Outdoor Transfer * Done', {'ave_days': 7.0, 'count': 1, 'color': 'red', 'weight': 1.0, 'days': 7.0}), ('3) * Move Outdoor Other Exchange * Done', '4) * Cease Part Of Move * Done', {'ave_days': 0.0, 'count': 1, 'color': 'green', 'weight': 1.0, 'days': 0.0}), ('2) * Cease * Done', '1) * Cease * Done', {'ave_days': 0.0, 'count': 1, 'color': 'green', 'weight': 1.0, 'days': 0.0}), ('4) * Move Outdoor Other Exchange * Done', '3) * Cease Part Of Move * Done', {'ave_days': 0.0, 'count': 1, 'color': 'green', 'weight': 1.0, 'days': 0.0}), ('4) * Move Outdoor Other Exchange * Done', '5) * Cease Part Of Move * Done', {'ave_days': 0.0, 'count': 1, 'color': 'green', 'weight': 1.0, 'days': 0.0})])"
      ]
     },
     "execution_count": 43,
     "metadata": {},
     "output_type": "execute_result"
    }
   ],
   "source": [
    "J.edges(data=True)"
   ]
  },
  {
   "cell_type": "code",
   "execution_count": 47,
   "metadata": {},
   "outputs": [
    {
     "data": {
      "image/png": "[encoded data removed]",
      "text/plain": [
       "<Figure size 1440x504 with 1 Axes>"
      ]
     },
     "metadata": {},
     "output_type": "display_data"
    }
   ],
   "source": [
    "# Draw the resulting graph\n",
    "#pos = nx.circular_layout(J)\n",
    "pos = nx.get_node_attributes(J,'posi')\n",
    "nx.draw(J,pos, with_labels=True, font_size = 7\n",
    "        #, arrowstyle='->',arrowsize=15\n",
    "       )\n",
    "\n",
    "edge_labels = nx.get_edge_attributes(J, 'count')\n",
    "nx.draw_networkx_edge_labels(J,pos,edge_labels=edge_labels,font_color='red')\n",
    "\n",
    "plt.show()"
   ]
  },
  {
   "cell_type": "code",
   "execution_count": 44,
   "metadata": {},
   "outputs": [
    {
     "data": {
      "image/png": "[encoded data removed]",
      "text/plain": [
       "<Figure size 1440x504 with 1 Axes>"
      ]
     },
     "metadata": {},
     "output_type": "display_data"
    }
   ],
   "source": [
    "# Draw the resulting graph\n",
    "#pos = nx.circular_layout(J)\n",
    "pos = nx.get_node_attributes(J,'posi')\n",
    "edges,colors = zip(*nx.get_edge_attributes(J,'color').items())\n",
    "edges,width = zip(*nx.get_edge_attributes(J,'weight').items())\n",
    "\n",
    "\n",
    "nx.draw(J,pos, with_labels=True, font_weight='bold', font_size = 11, edgelist=edges, edge_color=colors, width = width\n",
    "       )\n",
    "\n",
    "edge_labels  = nx.get_edge_attributes(J,'ave_days')\n",
    "#label_color  = nx.get_edge_attributes(J,'color').values()\n",
    "\n",
    "#print(pos)\n",
    "\n",
    "for e in J.edges(data=True):\n",
    "    #print(e)\n",
    "    #print(e[0])\n",
    "    #print(e[1])\n",
    "    #print(e[2])\n",
    "    #print(e[2]['color'])\n",
    "    nx.draw_networkx_edge_labels(J,pos=pos,edge_labels={(e[0],e[1]):e[2]['ave_days']}, font_color = e[2]['color'])\n",
    "\n",
    "plt.savefig('stage_transition_on_acc')\n",
    "plt.show()"
   ]
  },
  {
   "cell_type": "code",
   "execution_count": 45,
   "metadata": {},
   "outputs": [
    {
     "data": {
      "text/plain": [
       "array(['3842282672409691663', '4025061503049276343',\n",
       "       '-3886247749847034272'], dtype=object)"
      ]
     },
     "execution_count": 45,
     "metadata": {},
     "output_type": "execute_result"
    }
   ],
   "source": [
    "orders_df[orders_df['stage_ActionType_OrderStatus']=='2) * Cease Part Of Move * Cancelled']['MSISDN_ANON'].unique()"
   ]
  },
  {
   "cell_type": "code",
   "execution_count": 46,
   "metadata": {},
   "outputs": [],
   "source": [
    "#orders_df[orders_df['ACCOUNT_NO_ANON']==5156758895250942611]"
   ]
  },
  {
   "cell_type": "code",
   "execution_count": null,
   "metadata": {},
   "outputs": [],
   "source": []
  }
 ],
 "metadata": {
  "kernelspec": {
   "display_name": "Python 3",
   "language": "python",
   "name": "python3"
  },
  "language_info": {
   "codemirror_mode": {
    "name": "ipython",
    "version": 3
   },
   "file_extension": ".py",
   "mimetype": "text/x-python",
   "name": "python",
   "nbconvert_exporter": "python",
   "pygments_lexer": "ipython3",
   "version": "3.5.3"
  }
 },
 "nbformat": 4,
 "nbformat_minor": 4
}
