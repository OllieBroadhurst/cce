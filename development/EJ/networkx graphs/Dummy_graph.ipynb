{
 "cells": [
  {
   "cell_type": "code",
   "execution_count": 1,
   "metadata": {},
   "outputs": [],
   "source": [
    "import pandas as pd\n",
    "import numpy as np\n",
    "import networkx as nx\n",
    "import matplotlib.pyplot as plt\n",
    "import pandas_gbq\n",
    "import plotly.graph_objs as go\n",
    "import plotly as ply\n",
    "import chart_studio.plotly as py"
   ]
  },
  {
   "cell_type": "code",
   "execution_count": 2,
   "metadata": {},
   "outputs": [],
   "source": [
    "# Create a networkx graph object\n",
    "G = nx.Graph()"
   ]
  },
  {
   "cell_type": "code",
   "execution_count": 3,
   "metadata": {},
   "outputs": [],
   "source": [
    "G.add_node('One',posi=(1,1), acc_time = 10, node_count = 5)\n",
    "G.add_node('Two',posi=(3,1), acc_time = 18, node_count = 3)\n",
    "G.add_node('Three',posi=(3,3), acc_time = 2, node_count = 2)"
   ]
  },
  {
   "cell_type": "code",
   "execution_count": 4,
   "metadata": {},
   "outputs": [],
   "source": [
    "G.add_edge('One','Two')\n",
    "G.add_edge('One','Three')\n",
    "G.add_edge('Two','Three')"
   ]
  },
  {
   "cell_type": "code",
   "execution_count": 5,
   "metadata": {},
   "outputs": [],
   "source": [
    "G.edges['One','Two']['count'] = 5\n",
    "G.edges['One','Three']['count'] = 3\n",
    "G.edges['Two','Three']['count'] = 1\n",
    "\n",
    "G.edges['One','Two']['days'] = 15\n",
    "G.edges['One','Three']['days'] = 3\n",
    "G.edges['Two','Three']['days'] = 4\n",
    "\n",
    "G.edges['One','Two']['color'] = 'red'\n",
    "G.edges['One','Three']['color'] = 'green'\n",
    "G.edges['Two','Three']['color'] = 'red'"
   ]
  },
  {
   "cell_type": "code",
   "execution_count": 6,
   "metadata": {},
   "outputs": [
    {
     "data": {
      "image/png": "[encoded data removed]",
      "text/plain": [
       "<Figure size 432x288 with 1 Axes>"
      ]
     },
     "metadata": {},
     "output_type": "display_data"
    }
   ],
   "source": [
    "# Draw the resulting graph\n",
    "pos = nx.get_node_attributes(G,'posi')\n",
    "nx.draw(G, pos ,with_labels=True, font_weight='bold', font_size = 7)\n",
    "plt.show()"
   ]
  },
  {
   "cell_type": "code",
   "execution_count": 7,
   "metadata": {},
   "outputs": [],
   "source": [
    "width = [1,5]\n",
    "color = ['red', 'green', 'blue']"
   ]
  },
  {
   "cell_type": "code",
   "execution_count": 8,
   "metadata": {},
   "outputs": [],
   "source": [
    "#Create Edges\n",
    "def make_edge(x, y, width, color):\n",
    "    \"\"\"\n",
    "    Args:\n",
    "        x: a tuple of the x from and to, in the form: tuple([x0, x1, None])\n",
    "        y: a tuple of the y from and to, in the form: tuple([y0, y1, None])\n",
    "        width: The width of the line\n",
    "\n",
    "    Returns:\n",
    "        a Scatter plot which represents a line between the two points given. \n",
    "    \"\"\"\n",
    "    return  go.Scatter(\n",
    "                x=x,\n",
    "                y=y,\n",
    "                text = hover_txt,\n",
    "                line=dict(width=width,color=color),\n",
    "                hoverinfo=None,\n",
    "                mode='lines')"
   ]
  },
  {
   "cell_type": "code",
   "execution_count": 9,
   "metadata": {},
   "outputs": [],
   "source": [
    "#Create Edges hpver text\n",
    "def edge_hover(x, y, hover_txt, color):\n",
    "    \"\"\"\n",
    "    Args:\n",
    "        x: a tuple of the x from and to, in the form: tuple([x0, x1, None])\n",
    "        y: a tuple of the y from and to, in the form: tuple([y0, y1, None])\n",
    "        width: The width of the line\n",
    "\n",
    "    Returns:\n",
    "        a Scatter plot which represents a line between the two points given. \n",
    "    \"\"\"\n",
    "    return  go.Scatter(\n",
    "                x=x,\n",
    "                y=y,\n",
    "                text = hover_txt,\n",
    "                mode='markers',\n",
    "                hoverinfo='text',\n",
    "                hoverlabel = dict(\n",
    "                            bgcolor = color,\n",
    "                            font =  dict(color = 'white')\n",
    "                            ),\n",
    "                marker=go.Marker(opacity=0.1, symbol = 'triangle-left')\n",
    "                )"
   ]
  },
  {
   "cell_type": "code",
   "execution_count": 10,
   "metadata": {},
   "outputs": [],
   "source": [
    "data_edge = []"
   ]
  },
  {
   "cell_type": "code",
   "execution_count": 11,
   "metadata": {},
   "outputs": [
    {
     "name": "stdout",
     "output_type": "stream",
     "text": [
      "('Two', 'Three', {'count': 1, 'color': 'red', 'days': 4})\n",
      "1\n",
      "('Two', 'One', {'count': 5, 'color': 'red', 'days': 15})\n",
      "5\n",
      "('One', 'Three', {'count': 3, 'color': 'green', 'days': 3})\n",
      "3\n"
     ]
    },
    {
     "name": "stderr",
     "output_type": "stream",
     "text": [
      "/usr/local/lib/python3.5/dist-packages/plotly/graph_objs/_deprecations.py:441: DeprecationWarning:\n",
      "\n",
      "plotly.graph_objs.Marker is deprecated.\n",
      "Please replace it with one of the following more specific types\n",
      "  - plotly.graph_objs.scatter.Marker\n",
      "  - plotly.graph_objs.histogram.selected.Marker\n",
      "  - etc.\n",
      "\n",
      "\n"
     ]
    }
   ],
   "source": [
    "for edge in G.edges(data=True):\n",
    "    x0, y0 = G.node[edge[0]]['posi']\n",
    "    x1, y1 = G.node[edge[1]]['posi']\n",
    "    \n",
    "    x=tuple([x0, x1, None])\n",
    "    y=tuple([y0, y1, None])\n",
    "    \n",
    "    xh = tuple([(x0/3*2+x1/3),None])\n",
    "    yh = tuple([(y0/3*2+y1/3),None])\n",
    "    \n",
    "    print(edge)\n",
    "    \n",
    "    width = edge[2]['count']\n",
    "    color = edge[2]['color']\n",
    "    hover_txt = 'Ave_days:' + str(round(edge[2]['days']/edge[2]['count'],1))\n",
    "    \n",
    "    print(width)\n",
    "    \n",
    "    data_edge.append(make_edge(x,y,width,color))\n",
    "    #if else\n",
    "    data_edge.append(edge_hover(xh,yh,hover_txt,color))\n",
    "    \n",
    "    "
   ]
  },
  {
   "cell_type": "code",
   "execution_count": 12,
   "metadata": {},
   "outputs": [
    {
     "data": {
      "text/plain": [
       "[Scatter({\n",
       "     'line': {'color': 'red', 'width': 1}, 'mode': 'lines', 'text': 'Ave_days:4.0', 'x': [3, 3, None], 'y': [1, 3, None]\n",
       " }), Scatter({\n",
       "     'hoverinfo': 'text',\n",
       "     'hoverlabel': {'bgcolor': 'red', 'font': {'color': 'white'}},\n",
       "     'marker': {'opacity': 0.1, 'symbol': 'triangle-left'},\n",
       "     'mode': 'markers',\n",
       "     'text': 'Ave_days:4.0',\n",
       "     'x': [3.0, None],\n",
       "     'y': [1.6666666666666665, None]\n",
       " }), Scatter({\n",
       "     'line': {'color': 'red', 'width': 5}, 'mode': 'lines', 'text': 'Ave_days:3.0', 'x': [3, 1, None], 'y': [1, 1, None]\n",
       " }), Scatter({\n",
       "     'hoverinfo': 'text',\n",
       "     'hoverlabel': {'bgcolor': 'red', 'font': {'color': 'white'}},\n",
       "     'marker': {'opacity': 0.1, 'symbol': 'triangle-left'},\n",
       "     'mode': 'markers',\n",
       "     'text': 'Ave_days:3.0',\n",
       "     'x': [2.3333333333333335, None],\n",
       "     'y': [1.0, None]\n",
       " }), Scatter({\n",
       "     'line': {'color': 'green', 'width': 3}, 'mode': 'lines', 'text': 'Ave_days:1.0', 'x': [1, 3, None], 'y': [1, 3, None]\n",
       " }), Scatter({\n",
       "     'hoverinfo': 'text',\n",
       "     'hoverlabel': {'bgcolor': 'green', 'font': {'color': 'white'}},\n",
       "     'marker': {'opacity': 0.1, 'symbol': 'triangle-left'},\n",
       "     'mode': 'markers',\n",
       "     'text': 'Ave_days:1.0',\n",
       "     'x': [1.6666666666666665, None],\n",
       "     'y': [1.6666666666666665, None]\n",
       " })]"
      ]
     },
     "execution_count": 12,
     "metadata": {},
     "output_type": "execute_result"
    }
   ],
   "source": [
    "data_edge"
   ]
  },
  {
   "cell_type": "code",
   "execution_count": 13,
   "metadata": {},
   "outputs": [
    {
     "data": {
      "text/plain": [
       "\"\\nedge_trace = go.Scatter(\\n    x=[],\\n    y=[],\\n    line=dict(width=0.5,color='#888'),\\n    hoverinfo='none',\\n    mode='lines')\\n\\nfor edge in J.edges():\\n    x0, y0 = J.node[edge[0]]['posi']\\n    x1, y1 = J.node[edge[1]]['posi']\\n    edge_trace['x'] += tuple([x0, x1, None])\\n    edge_trace['y'] += tuple([y0, y1, None]) \\n\""
      ]
     },
     "execution_count": 13,
     "metadata": {},
     "output_type": "execute_result"
    }
   ],
   "source": [
    "    \n",
    "    \n",
    "'''\n",
    "edge_trace = go.Scatter(\n",
    "    x=[],\n",
    "    y=[],\n",
    "    line=dict(width=0.5,color='#888'),\n",
    "    hoverinfo='none',\n",
    "    mode='lines')\n",
    "\n",
    "for edge in J.edges():\n",
    "    x0, y0 = J.node[edge[0]]['posi']\n",
    "    x1, y1 = J.node[edge[1]]['posi']\n",
    "    edge_trace['x'] += tuple([x0, x1, None])\n",
    "    edge_trace['y'] += tuple([y0, y1, None]) \n",
    "'''"
   ]
  },
  {
   "cell_type": "code",
   "execution_count": 14,
   "metadata": {},
   "outputs": [],
   "source": [
    "node_trace = go.Scatter(\n",
    "    x=[],\n",
    "    y=[],\n",
    "    text=[],\n",
    "    mode='markers',\n",
    "    hoverinfo='text',\n",
    "    marker=dict(\n",
    "        showscale=True,\n",
    "        # colorscale options\n",
    "        #'Greys' | 'YlGnBu' | 'Greens' | 'YlOrRd' | 'Bluered' | 'RdBu' |\n",
    "        #'Reds' | 'Blues' | 'Picnic' | 'Rainbow' | 'Portland' | 'Jet' |\n",
    "        #'Hot' | 'Blackbody' | 'Earth' | 'Electric' | 'Viridis' |\n",
    "        colorscale='YlGnBu',\n",
    "        reversescale=True,\n",
    "        color=[],\n",
    "        size=10,\n",
    "        colorbar=dict(\n",
    "            thickness=15,\n",
    "            title='Node Connections',\n",
    "            xanchor='left',\n",
    "            titleside='right'\n",
    "        ),\n",
    "        line=dict(width=2)))\n",
    "\n",
    "for node in G.nodes():\n",
    "    x, y = G.node[node]['posi']\n",
    "    node_trace['x'] += tuple([x])\n",
    "    node_trace['y'] += tuple([y])"
   ]
  },
  {
   "cell_type": "code",
   "execution_count": null,
   "metadata": {},
   "outputs": [],
   "source": []
  },
  {
   "cell_type": "code",
   "execution_count": 15,
   "metadata": {},
   "outputs": [],
   "source": [
    "for node in G.nodes(data=True):\n",
    "    #print(node)\n",
    "    node_trace['marker']['color']+=tuple([node[1]['node_count']])\n",
    "    node_info = 'Ave_journey: '+str(round(node[1]['acc_time']/node[1]['node_count'],1)) + '<br />Journeys:' +str(node[1]['node_count'])\n",
    "    node_trace['text']+=tuple([node_info])"
   ]
  },
  {
   "cell_type": "code",
   "execution_count": 16,
   "metadata": {},
   "outputs": [
    {
     "data": {
      "text/plain": [
       "\"\\nfor node, adjacencies in enumerate(G.adjacency()):\\n    print(node, adjacencies)\\n    node_trace['marker']['color']+=tuple([len(adjacencies[1])])\\n    node_info = '# of connections: '+str(len(adjacencies[1]))\\n    node_trace['text']+=tuple([node_info])\\n\\n\""
      ]
     },
     "execution_count": 16,
     "metadata": {},
     "output_type": "execute_result"
    }
   ],
   "source": [
    "'''\n",
    "for node, adjacencies in enumerate(G.adjacency()):\n",
    "    print(node, adjacencies)\n",
    "    node_trace['marker']['color']+=tuple([len(adjacencies[1])])\n",
    "    node_info = '# of connections: '+str(len(adjacencies[1]))\n",
    "    node_trace['text']+=tuple([node_info])\n",
    "\n",
    "'''"
   ]
  },
  {
   "cell_type": "code",
   "execution_count": 17,
   "metadata": {},
   "outputs": [
    {
     "data": {
      "text/plain": [
       "\"\\nfor node in G.nodes():\\n    node_info = 'Ave_journey: '+str(round(node['acc_time']/node['node_count'],1))\\n\\n\""
      ]
     },
     "execution_count": 17,
     "metadata": {},
     "output_type": "execute_result"
    }
   ],
   "source": [
    "'''\n",
    "for node in G.nodes():\n",
    "    node_info = 'Ave_journey: '+str(round(node['acc_time']/node['node_count'],1))\n",
    "\n",
    "'''"
   ]
  },
  {
   "cell_type": "code",
   "execution_count": 18,
   "metadata": {},
   "outputs": [],
   "source": [
    "data_edge.append(node_trace)"
   ]
  },
  {
   "cell_type": "code",
   "execution_count": 19,
   "metadata": {},
   "outputs": [
    {
     "data": {
      "text/plain": [
       "[Scatter({\n",
       "     'line': {'color': 'red', 'width': 1}, 'mode': 'lines', 'text': 'Ave_days:4.0', 'x': [3, 3, None], 'y': [1, 3, None]\n",
       " }), Scatter({\n",
       "     'hoverinfo': 'text',\n",
       "     'hoverlabel': {'bgcolor': 'red', 'font': {'color': 'white'}},\n",
       "     'marker': {'opacity': 0.1, 'symbol': 'triangle-left'},\n",
       "     'mode': 'markers',\n",
       "     'text': 'Ave_days:4.0',\n",
       "     'x': [3.0, None],\n",
       "     'y': [1.6666666666666665, None]\n",
       " }), Scatter({\n",
       "     'line': {'color': 'red', 'width': 5}, 'mode': 'lines', 'text': 'Ave_days:3.0', 'x': [3, 1, None], 'y': [1, 1, None]\n",
       " }), Scatter({\n",
       "     'hoverinfo': 'text',\n",
       "     'hoverlabel': {'bgcolor': 'red', 'font': {'color': 'white'}},\n",
       "     'marker': {'opacity': 0.1, 'symbol': 'triangle-left'},\n",
       "     'mode': 'markers',\n",
       "     'text': 'Ave_days:3.0',\n",
       "     'x': [2.3333333333333335, None],\n",
       "     'y': [1.0, None]\n",
       " }), Scatter({\n",
       "     'line': {'color': 'green', 'width': 3}, 'mode': 'lines', 'text': 'Ave_days:1.0', 'x': [1, 3, None], 'y': [1, 3, None]\n",
       " }), Scatter({\n",
       "     'hoverinfo': 'text',\n",
       "     'hoverlabel': {'bgcolor': 'green', 'font': {'color': 'white'}},\n",
       "     'marker': {'opacity': 0.1, 'symbol': 'triangle-left'},\n",
       "     'mode': 'markers',\n",
       "     'text': 'Ave_days:1.0',\n",
       "     'x': [1.6666666666666665, None],\n",
       "     'y': [1.6666666666666665, None]\n",
       " }), Scatter({\n",
       "     'hoverinfo': 'text',\n",
       "     'marker': {'color': [3, 5, 2],\n",
       "                'colorbar': {'thickness': 15, 'title': {'side': 'right', 'text': 'Node Connections'}, 'xanchor': 'left'},\n",
       "                'colorscale': [[0.0, 'rgb(255,255,217)'], [0.125,\n",
       "                               'rgb(237,248,177)'], [0.25, 'rgb(199,233,180)'],\n",
       "                               [0.375, 'rgb(127,205,187)'], [0.5,\n",
       "                               'rgb(65,182,196)'], [0.625, 'rgb(29,145,192)'],\n",
       "                               [0.75, 'rgb(34,94,168)'], [0.875, 'rgb(37,52,148)'],\n",
       "                               [1.0, 'rgb(8,29,88)']],\n",
       "                'line': {'width': 2},\n",
       "                'reversescale': True,\n",
       "                'showscale': True,\n",
       "                'size': 10},\n",
       "     'mode': 'markers',\n",
       "     'text': [Ave_journey: 6.0<br />Journeys:3, Ave_journey: 2.0<br />Journeys:5,\n",
       "              Ave_journey: 1.0<br />Journeys:2],\n",
       "     'x': [3, 1, 3],\n",
       "     'y': [1, 1, 3]\n",
       " })]"
      ]
     },
     "execution_count": 19,
     "metadata": {},
     "output_type": "execute_result"
    }
   ],
   "source": [
    "data_edge"
   ]
  },
  {
   "cell_type": "code",
   "execution_count": 20,
   "metadata": {},
   "outputs": [
    {
     "data": {
      "text/plain": [
       "'dummy.html'"
      ]
     },
     "execution_count": 20,
     "metadata": {},
     "output_type": "execute_result"
    }
   ],
   "source": [
    "fig = go.Figure(data=data_edge,\n",
    "             layout=go.Layout(\n",
    "                title='<br>Network graph made with Python',\n",
    "                titlefont=dict(size=16),\n",
    "                showlegend=False,\n",
    "                hovermode='closest',\n",
    "                margin=dict(b=20,l=5,r=5,t=40),\n",
    "                annotations=[ dict(\n",
    "                    text=\"Python code: <a href='https://plot.ly/ipython-notebooks/network-graphs/'> https://plot.ly/ipython-notebooks/network-graphs/</a>\",\n",
    "                    showarrow=False,\n",
    "                    xref=\"paper\", yref=\"paper\",\n",
    "                    x=0.005, y=-0.002 ) ],\n",
    "                xaxis=dict(showgrid=False, zeroline=False, showticklabels=False),\n",
    "                yaxis=dict(showgrid=False, zeroline=False, showticklabels=False)))\n",
    "\n",
    "ply.offline.plot(fig, filename='dummy.html')"
   ]
  },
  {
   "cell_type": "code",
   "execution_count": null,
   "metadata": {},
   "outputs": [],
   "source": []
  },
  {
   "cell_type": "code",
   "execution_count": null,
   "metadata": {},
   "outputs": [],
   "source": []
  }
 ],
 "metadata": {
  "kernelspec": {
   "display_name": "Python 3",
   "language": "python",
   "name": "python3"
  },
  "language_info": {
   "codemirror_mode": {
    "name": "ipython",
    "version": 3
   },
   "file_extension": ".py",
   "mimetype": "text/x-python",
   "name": "python",
   "nbconvert_exporter": "python",
   "pygments_lexer": "ipython3",
   "version": "3.5.3"
  }
 },
 "nbformat": 4,
 "nbformat_minor": 4
}
