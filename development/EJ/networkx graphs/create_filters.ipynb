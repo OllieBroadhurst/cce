{
 "cells": [
  {
   "cell_type": "code",
   "execution_count": 1,
   "metadata": {},
   "outputs": [],
   "source": [
    "import dash_core_components as dcc\n",
    "import pandas as pd"
   ]
  },
  {
   "cell_type": "code",
   "execution_count": 1,
   "metadata": {},
   "outputs": [],
   "source": [
    "def service_options():\n",
    "    service_sql = \"\"\"SELECT DISTINCT SERVICE_TYPE value FROM\n",
    "    `bcx-insights.telkom_customerexperience.customerdata_20190902_00_anon`\n",
    "    WHERE SERVICE_TYPE is not NULL AND CUSTOMER_NO_ANON in\n",
    "    (SELECT DISTINCT ACCOUNT_NO_ANON FROM\n",
    "    `bcx-insights.telkom_customerexperience.orders_20190903_00_anon`)\"\"\"\n",
    "\n",
    "    options = pd.io.gbq.read_gbq(service_sql,\n",
    "                                    project_id='bcx-insights',\n",
    "                                    dialect='standard').fillna('N/A')\n",
    "\n",
    "    options['label'] = options['value'].str.title()\n",
    "\n",
    "    options = [{'label': x['label'],\n",
    "                'value': x['value']} for _, x in options.iterrows()]\n",
    "\n",
    "    return options"
   ]
  },
  {
   "cell_type": "code",
   "execution_count": 1,
   "metadata": {},
   "outputs": [],
   "source": [
    "def customer_type():\n",
    "    type_sql = \"\"\"SELECT DISTINCT CUSTOMER_TYPE_DESC value FROM\n",
    "    `bcx-insights.telkom_customerexperience.customerdata_20190902_00_anon`\n",
    "    WHERE CUSTOMER_TYPE_DESC is not NULL AND CUSTOMER_NO_ANON in\n",
    "    (SELECT DISTINCT ACCOUNT_NO_ANON FROM\n",
    "    `bcx-insights.telkom_customerexperience.orders_20190903_00_anon`)\n",
    "    ORDER BY CUSTOMER_TYPE_DESC\"\"\"\n",
    "\n",
    "    types = pd.io.gbq.read_gbq(type_sql,\n",
    "                                    project_id='bcx-insights',\n",
    "                                    dialect='standard').fillna('N/A')\n",
    "\n",
    "    types['label'] = types['value'].str.title()\n",
    "\n",
    "    types = [{'label': x['label'],\n",
    "                'value': x['value']} for _, x in types.iterrows()]\n",
    "\n",
    "    return types"
   ]
  },
  {
   "cell_type": "code",
   "execution_count": 1,
   "metadata": {},
   "outputs": [],
   "source": [
    "def has_dispute():\n",
    "    return [{'label': 'Either', 'value': 'Either'},\n",
    "            {'label': 'Yes', 'value': 'Yes'},\n",
    "            {'label': 'No', 'value': 'No'}]"
   ]
  },
  {
   "cell_type": "code",
   "execution_count": 1,
   "metadata": {},
   "outputs": [],
   "source": [
    "def has_fault():\n",
    "    return [{'label': 'Either', 'value': 'Either'},\n",
    "            {'label': 'Yes', 'value': 'Yes'},\n",
    "            {'label': 'No', 'value': 'No'}]"
   ]
  },
  {
   "cell_type": "code",
   "execution_count": 1,
   "metadata": {},
   "outputs": [],
   "source": [
    "def deal_desc():\n",
    "    type_sql = r\"\"\"SELECT distinct DEAL_DESC,\n",
    "    TRIM(REGEXP_REPLACE(DEAL_DESC, '(\\\\(|\\\\)|\\\\bR\\\\d*|\\\\d*(GB|MB|@|Mbps)|\\\\s\\\\d|\\\\+|\\\\b\\\\d\\\\b)', '')) DEAL\n",
    "    FROM `bcx-insights.telkom_customerexperience.orders_20190926_00_anon`\"\"\"\n",
    "\n",
    "    df = pd.io.gbq.read_gbq(type_sql,\n",
    "                            project_id='bcx-insights',\n",
    "                            dialect='standard').dropna().drop_duplicates()\n",
    "\n",
    "\n",
    "    df['DEAL']  = df['DEAL'].str.split(' on')\n",
    "\n",
    "    options = []\n",
    "    for r in df['DEAL'] :\n",
    "      options.append(r[-1].strip())\n",
    "\n",
    "    df['DEAL'] = options\n",
    "    deal_map = df.groupby('DEAL')['DEAL_DESC'].apply(list)\n",
    "    deal_map = deal_map.to_dict()\n",
    "\n",
    "    options = [{'label': k, 'value': str(v)} for k, v in deal_map.items()]\n",
    "\n",
    "    return options"
   ]
  },
  {
   "cell_type": "code",
   "execution_count": 1,
   "metadata": {},
   "outputs": [],
   "source": [
    "def action_status():\n",
    "    type_sql = r\"\"\"SELECT distinct ACTION_STATUS_DESC\n",
    "    FROM `bcx-insights.telkom_customerexperience.orders_20190926_00_anon`\n",
    "    ORDER BY ACTION_STATUS_DESC\"\"\"\n",
    "\n",
    "    df = pd.io.gbq.read_gbq(type_sql,\n",
    "                            project_id='bcx-insights',\n",
    "                            dialect='standard').dropna().drop_duplicates()\n",
    "\n",
    "    df = df['ACTION_STATUS_DESC'].tolist()\n",
    "\n",
    "    options = [{'label': v, 'value': v} for v in df]\n",
    "\n",
    "    return options"
   ]
  },
  {
   "cell_type": "code",
   "execution_count": 1,
   "metadata": {},
   "outputs": [
    {
     "name": "stdout",
     "output_type": "stream",
     "text": [
      "[{'value': 'FIXED', 'label': 'Fixed'}, {'value': 'MOBILE', 'label': 'Mobile'}]\n"
     ]
    }
   ],
   "source": [
    "def action_type():\n",
    "    type_sql = r\"\"\"SELECT distinct ACTION_TYPE_DESC\n",
    "    FROM `bcx-insights.telkom_customerexperience.orders_20190926_00_anon`\n",
    "    order by ACTION_TYPE_DESC\"\"\"\n",
    "\n",
    "    df = pd.io.gbq.read_gbq(type_sql,\n",
    "                            project_id='bcx-insights',\n",
    "                            dialect='standard')\n",
    "\n",
    "    df['ACTION_TYPE_DESC'] = df['ACTION_TYPE_DESC'].str.title().drop_duplicates()\n",
    "\n",
    "    df = df['ACTION_TYPE_DESC'].dropna().tolist()\n",
    "\n",
    "    options = [{'label': v, 'value': v} for v in df]\n",
    "\n",
    "    return options\n",
    "\n",
    "if __name__ == '__main__':\n",
    "    print(service_options())"
   ]
  },
  {
   "cell_type": "code",
   "execution_count": 2,
   "metadata": {},
   "outputs": [
    {
     "data": {
      "text/plain": [
       "[{'label': 'Automatic Update Billing', 'value': 'Automatic Update Billing'},\n",
       " {'label': 'Cease', 'value': 'Cease'},\n",
       " {'label': 'Cease Part Of Migrate', 'value': 'Cease Part Of Migrate'},\n",
       " {'label': 'Cease Part Of Move', 'value': 'Cease Part Of Move'},\n",
       " {'label': 'Cease Part Of Replace Offer',\n",
       "  'value': 'Cease Part Of Replace Offer'},\n",
       " {'label': 'Cease Due To Collection', 'value': 'Cease Due To Collection'},\n",
       " {'label': 'Change', 'value': 'Change'},\n",
       " {'label': 'Change - Dispatchable', 'value': 'Change - Dispatchable'},\n",
       " {'label': 'Change - No Dispatch', 'value': 'Change - No Dispatch'},\n",
       " {'label': 'Change - T&M Dispatch', 'value': 'Change - T&M Dispatch'},\n",
       " {'label': 'Change Ban To Ban', 'value': 'Change Ban To Ban'},\n",
       " {'label': 'Change Network', 'value': 'Change Network'},\n",
       " {'label': 'Change Ownership', 'value': 'Change Ownership'},\n",
       " {'label': 'Change Part Of Replace Offer',\n",
       "  'value': 'Change Part Of Replace Offer'},\n",
       " {'label': 'Change Sn', 'value': 'Change Sn'},\n",
       " {'label': 'Collection Cease', 'value': 'Collection Cease'},\n",
       " {'label': 'Collection Resume', 'value': 'Collection Resume'},\n",
       " {'label': 'Collection Suspend', 'value': 'Collection Suspend'},\n",
       " {'label': 'Hard Suspend', 'value': 'Hard Suspend'},\n",
       " {'label': 'Indoor Transfer', 'value': 'Indoor Transfer'},\n",
       " {'label': 'Migrate', 'value': 'Migrate'},\n",
       " {'label': 'Modify Address', 'value': 'Modify Address'},\n",
       " {'label': 'Move', 'value': 'Move'},\n",
       " {'label': 'Move And Migrate', 'value': 'Move And Migrate'},\n",
       " {'label': 'Move Outdoor Other Exchange',\n",
       "  'value': 'Move Outdoor Other Exchange'},\n",
       " {'label': 'Move Outdoor Same Exchange',\n",
       "  'value': 'Move Outdoor Same Exchange'},\n",
       " {'label': 'Outdoor Transfer', 'value': 'Outdoor Transfer'},\n",
       " {'label': 'Provide', 'value': 'Provide'},\n",
       " {'label': 'Provide Part Of Migrate', 'value': 'Provide Part Of Migrate'},\n",
       " {'label': 'Provide Part Of Move', 'value': 'Provide Part Of Move'},\n",
       " {'label': 'Provide Part Of Move And Migrate',\n",
       "  'value': 'Provide Part Of Move And Migrate'},\n",
       " {'label': 'Provide Same As', 'value': 'Provide Same As'},\n",
       " {'label': 'Re-Establish', 'value': 'Re-Establish'},\n",
       " {'label': 'Receive  Ownership', 'value': 'Receive  Ownership'},\n",
       " {'label': 'Reestablish', 'value': 'Reestablish'},\n",
       " {'label': 'Replace Offer', 'value': 'Replace Offer'},\n",
       " {'label': 'Resume', 'value': 'Resume'},\n",
       " {'label': 'Resume From Suspension Due To Collection',\n",
       "  'value': 'Resume From Suspension Due To Collection'},\n",
       " {'label': 'Soft Suspend', 'value': 'Soft Suspend'},\n",
       " {'label': 'Suspend', 'value': 'Suspend'},\n",
       " {'label': 'Update Billing Attribute', 'value': 'Update Billing Attribute'},\n",
       " {'label': 'Update Pis', 'value': 'Update Pis'}]"
      ]
     },
     "execution_count": 2,
     "metadata": {},
     "output_type": "execute_result"
    }
   ],
   "source": [
    "action_type()"
   ]
  },
  {
   "cell_type": "code",
   "execution_count": null,
   "metadata": {},
   "outputs": [],
   "source": []
  }
 ],
 "metadata": {
  "kernelspec": {
   "display_name": "Python 3",
   "language": "python",
   "name": "python3"
  },
  "language_info": {
   "codemirror_mode": {
    "name": "ipython",
    "version": 3
   },
   "file_extension": ".py",
   "mimetype": "text/x-python",
   "name": "python",
   "nbconvert_exporter": "python",
   "pygments_lexer": "ipython3",
   "version": "3.5.3"
  }
 },
 "nbformat": 4,
 "nbformat_minor": 4
}
