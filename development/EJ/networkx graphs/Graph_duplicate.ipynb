{
 "cells": [
  {
   "cell_type": "code",
   "execution_count": 123,
   "metadata": {},
   "outputs": [],
   "source": [
    "#import required packages\n",
    "import pandas as pd\n",
    "import numpy as np\n",
    "import networkx as nx\n",
    "import matplotlib.pyplot as plt\n",
    "import pandas_gbq\n",
    "import plotly.graph_objs as go\n",
    "import plotly as ply\n",
    "import chart_studio.plotly as py\n",
    "import dash\n",
    "import dash_html_components as html\n",
    "import dash_core_components as dcc\n",
    "from dash.dependencies import Input, Output\n",
    "from datetime import datetime as dt, timedelta"
   ]
  },
  {
   "cell_type": "code",
   "execution_count": 2,
   "metadata": {},
   "outputs": [],
   "source": [
    "def service_options():\n",
    "    service_sql = \"\"\"SELECT DISTINCT SERVICE_TYPE value FROM\n",
    "    `bcx-insights.telkom_customerexperience.customerdata_20190902_00_anon`\n",
    "    WHERE SERVICE_TYPE is not NULL AND CUSTOMER_NO_ANON in\n",
    "    (SELECT DISTINCT ACCOUNT_NO_ANON FROM\n",
    "    `bcx-insights.telkom_customerexperience.orders_20190903_00_anon`)\"\"\"\n",
    "\n",
    "    options = pd.io.gbq.read_gbq(service_sql,\n",
    "                                    project_id='bcx-insights',\n",
    "                                    dialect='standard').fillna('N/A')\n",
    "\n",
    "    options['label'] = options['value'].str.title()\n",
    "\n",
    "    #options = [{'label': x['label'],\n",
    "    #            'value': x['value']} for _, x in options.iterrows()]\n",
    "\n",
    "    return options['label']\n"
   ]
  },
  {
   "cell_type": "code",
   "execution_count": 3,
   "metadata": {},
   "outputs": [
    {
     "data": {
      "text/plain": [
       "0     Fixed\n",
       "1    Mobile\n",
       "Name: label, dtype: object"
      ]
     },
     "execution_count": 3,
     "metadata": {},
     "output_type": "execute_result"
    }
   ],
   "source": [
    "service_options()"
   ]
  },
  {
   "cell_type": "code",
   "execution_count": 4,
   "metadata": {},
   "outputs": [],
   "source": [
    "def customer_type():\n",
    "    type_sql = \"\"\"SELECT DISTINCT CUSTOMER_TYPE_DESC value FROM\n",
    "    `bcx-insights.telkom_customerexperience.customerdata_20190902_00_anon`\n",
    "    WHERE CUSTOMER_TYPE_DESC is not NULL AND CUSTOMER_NO_ANON in\n",
    "    (SELECT DISTINCT ACCOUNT_NO_ANON FROM\n",
    "    `bcx-insights.telkom_customerexperience.orders_20190903_00_anon`)\n",
    "    ORDER BY CUSTOMER_TYPE_DESC\"\"\"\n",
    "\n",
    "    types = pd.io.gbq.read_gbq(type_sql,\n",
    "                                    project_id='bcx-insights',\n",
    "                                    dialect='standard').fillna('N/A')\n",
    "\n",
    "    types['label'] = types['value'].str.title()\n",
    "\n",
    "    types = [{'label': x['label'],\n",
    "                'value': x['value']} for _, x in types.iterrows()]\n",
    "\n",
    "    return types"
   ]
  },
  {
   "cell_type": "code",
   "execution_count": 5,
   "metadata": {},
   "outputs": [
    {
     "data": {
      "text/plain": [
       "[{'label': 'Bcx Provincial Government', 'value': 'BCX Provincial Government'},\n",
       " {'label': 'Budget Control', 'value': 'Budget Control'},\n",
       " {'label': 'Bus. Default', 'value': 'Bus. Default'},\n",
       " {'label': 'Central', 'value': 'Central'},\n",
       " {'label': 'Central Sales Gp L Fs', 'value': 'Central Sales GP L FS'},\n",
       " {'label': 'Combined Service Use', 'value': 'Combined Service Use'},\n",
       " {'label': 'Direct Sales Force Midmarket',\n",
       "  'value': 'Direct Sales Force Midmarket'},\n",
       " {'label': 'East Coast Region', 'value': 'East Coast Region'},\n",
       " {'label': 'East Sales Kzn Ec Mp', 'value': 'East Sales KZN EC MP'},\n",
       " {'label': 'Economic And Social Cluster',\n",
       "  'value': 'Economic and Social Cluster'},\n",
       " {'label': 'Financial', 'value': 'Financial'},\n",
       " {'label': 'Gauteng Region', 'value': 'Gauteng Region'},\n",
       " {'label': 'Gauteng Sales', 'value': 'Gauteng Sales'},\n",
       " {'label': 'Internal Consumption', 'value': 'Internal Consumption'},\n",
       " {'label': 'Large', 'value': 'Large'},\n",
       " {'label': 'Medical Practitioner', 'value': 'Medical Practitioner'},\n",
       " {'label': 'Medium', 'value': 'Medium'},\n",
       " {'label': 'Mining, Industrial And Resources',\n",
       "  'value': 'Mining, Industrial and Resources'},\n",
       " {'label': 'National Sales Desk Midmarket',\n",
       "  'value': 'National Sales Desk Midmarket'},\n",
       " {'label': 'Network', 'value': 'Network'},\n",
       " {'label': 'Payphone', 'value': 'Payphone'},\n",
       " {'label': 'Pensioner Over 70 Years', 'value': 'Pensioner over 70 years'},\n",
       " {'label': 'Pilot', 'value': 'Pilot'},\n",
       " {'label': 'Prepaid', 'value': 'Prepaid'},\n",
       " {'label': 'Provincial Government', 'value': 'Provincial Government'},\n",
       " {'label': 'Res. Default', 'value': 'Res. Default'},\n",
       " {'label': 'Res. Hvc', 'value': 'Res. HVC'},\n",
       " {'label': 'Residential Vip (Other)', 'value': 'Residential VIP (Other)'},\n",
       " {'label': 'Retail', 'value': 'Retail'},\n",
       " {'label': 'Sapos Pensioner', 'value': 'SAPOS Pensioner'},\n",
       " {'label': 'Soc And Utility', 'value': 'SOC and Utility'},\n",
       " {'label': 'School', 'value': 'School'},\n",
       " {'label': 'Senior Official', 'value': 'Senior Official'},\n",
       " {'label': 'Small', 'value': 'Small'},\n",
       " {'label': 'Social Pensioner', 'value': 'Social Pensioner'},\n",
       " {'label': 'Special External Customer', 'value': 'Special External Customer'},\n",
       " {'label': 'Telkom Employee Active', 'value': 'Telkom Employee Active'},\n",
       " {'label': 'Telkom Employee Pensioner', 'value': 'Telkom Employee Pensioner'},\n",
       " {'label': 'Voice: Small', 'value': 'Voice: Small'},\n",
       " {'label': 'West Coast Region', 'value': 'West Coast Region'},\n",
       " {'label': 'West Sales Wc Nc Nw', 'value': 'West Sales WC NC NW'},\n",
       " {'label': 'Wholesale', 'value': 'Wholesale'}]"
      ]
     },
     "execution_count": 5,
     "metadata": {},
     "output_type": "execute_result"
    }
   ],
   "source": [
    "customer_type()[:]"
   ]
  },
  {
   "cell_type": "code",
   "execution_count": 6,
   "metadata": {},
   "outputs": [],
   "source": [
    "def has_dispute():\n",
    "    return [{'label': 'Either', 'value': 'Either'},\n",
    "            {'label': 'Yes', 'value': 'Yes'},\n",
    "            {'label': 'No', 'value': 'No'}]"
   ]
  },
  {
   "cell_type": "code",
   "execution_count": 7,
   "metadata": {},
   "outputs": [
    {
     "data": {
      "text/plain": [
       "[{'label': 'Either', 'value': 'Either'},\n",
       " {'label': 'Yes', 'value': 'Yes'},\n",
       " {'label': 'No', 'value': 'No'}]"
      ]
     },
     "execution_count": 7,
     "metadata": {},
     "output_type": "execute_result"
    }
   ],
   "source": [
    "has_dispute()"
   ]
  },
  {
   "cell_type": "code",
   "execution_count": 8,
   "metadata": {},
   "outputs": [],
   "source": [
    "def has_fault():\n",
    "    return [{'label': 'Either', 'value': 'Either'},\n",
    "            {'label': 'Yes', 'value': 'Yes'},\n",
    "            {'label': 'No', 'value': 'No'}]"
   ]
  },
  {
   "cell_type": "code",
   "execution_count": 9,
   "metadata": {},
   "outputs": [
    {
     "data": {
      "text/plain": [
       "[{'label': 'Either', 'value': 'Either'},\n",
       " {'label': 'Yes', 'value': 'Yes'},\n",
       " {'label': 'No', 'value': 'No'}]"
      ]
     },
     "execution_count": 9,
     "metadata": {},
     "output_type": "execute_result"
    }
   ],
   "source": [
    "has_fault()"
   ]
  },
  {
   "cell_type": "code",
   "execution_count": 10,
   "metadata": {},
   "outputs": [],
   "source": [
    "def time_measure():\n",
    "    return [{'label': 'days', 'value': 'days'},\n",
    "            {'label': 'hours', 'value': 'hours'},\n",
    "            {'label': 'minutes', 'value': 'minutes'},\n",
    "            {'label': 'seconds', 'value': 'seconds'}]"
   ]
  },
  {
   "cell_type": "code",
   "execution_count": 11,
   "metadata": {},
   "outputs": [
    {
     "data": {
      "text/plain": [
       "[{'label': 'days', 'value': 'days'},\n",
       " {'label': 'hours', 'value': 'hours'},\n",
       " {'label': 'minutes', 'value': 'minutes'},\n",
       " {'label': 'seconds', 'value': 'seconds'}]"
      ]
     },
     "execution_count": 11,
     "metadata": {},
     "output_type": "execute_result"
    }
   ],
   "source": [
    "time_measure()"
   ]
  },
  {
   "cell_type": "code",
   "execution_count": 12,
   "metadata": {},
   "outputs": [],
   "source": [
    "def deal_desc():\n",
    "    type_sql = r\"\"\"SELECT distinct DEAL_DESC,\n",
    "    TRIM(REGEXP_REPLACE(DEAL_DESC, '(\\\\(|\\\\)|\\\\bR\\\\d*|\\\\d*(GB|MB|@|Mbps)|\\\\s\\\\d|\\\\+|\\\\b\\\\d\\\\b)', '')) DEAL\n",
    "    FROM `bcx-insights.telkom_customerexperience.orders_20190926_00_anon`\"\"\"\n",
    "\n",
    "    df = pd.io.gbq.read_gbq(type_sql,\n",
    "                            project_id='bcx-insights',\n",
    "                            dialect='standard').dropna().drop_duplicates()\n",
    "\n",
    "\n",
    "    df['DEAL']  = df['DEAL'].str.split(' on')\n",
    "\n",
    "    options = []\n",
    "    for r in df['DEAL'] :\n",
    "      options.append(r[-1].strip())\n",
    "\n",
    "    df['DEAL'] = options\n",
    "    deal_map = df.groupby('DEAL')['DEAL_DESC'].apply(list)\n",
    "    deal_map = deal_map.to_dict()\n",
    "\n",
    "    options = [{'label': k, 'value': str(v)} for k, v in deal_map.items()]\n",
    "\n",
    "    return options"
   ]
  },
  {
   "cell_type": "code",
   "execution_count": 13,
   "metadata": {},
   "outputs": [
    {
     "data": {
      "text/plain": [
       "[{'label': 'SmartInternet - Deal TMI1604035',\n",
       "  'value': \"['SmartInternet - 500MB Deal TMI1604035']\"},\n",
       " {'label': 'FreeMe 00 FreeMe Promo-Net Minutes  x4 Months',\n",
       "  'value': \"['Samsung Galaxy S10e 128GB Black + S10e OPTIGLASS Screen Protector + S10e Black SILICON Case + Free SIM & Connection on FreeMe 5GB + 500 FreeMe Promo-Net Minutes@ R929 x 24 Months', 'Samsung Galaxy A9 128GB Black + Free SIM & Connection on FreeMe 5GB + 200 FreeMe Promo-Net Minutes@ R609 x 24 Months', 'Samsung Galaxy S10e 128GB Black + Free SIM & Connection on FreeMe 5GB + 200 FreeMe Promo-Net Minutes@ R829 x 24 Months', 'Samsung Galaxy S10 128GB Black + S10 OPTIGUARD Screen Protector + S10 Navy SILICON Case + Free SIM & Connection on FreeMe 5GB + 200 FreeMe Promo-Net Minutes@ R959 x 24 Months', 'Samsung Galaxy S10 Plus 128GB Black + Free SIM & Connection on FreeMe 5GB + 200 FreeMe Promo-Net Minutes@ R1029 x 24 Months', 'Samsung Galaxy S10e 128GB Black + S10e OPTIGLASS Screen Protector + S10e Black SILICON Case + Free SIM & Connection on FreeMe 5GB + 300 FreeMe Promo-Net Minutes@ R879 x 24 Months', 'Samsung Galaxy S10 Plus 128GB Black + S10P OPTIGLASS Screen Protector + S10 Plus Black SILICON Case + Free SIM & Connection on FreeMe 5GB + 500 FreeMe Promo-Net Minutes@ R1129 x 24 Months', 'iPhone XS 256GB Space Grey + Free SIM & Connection on FreeMe 5GB + 200 FreeMe Promo-Net Minutes@ R1229 x 24 Months', 'iPhone XR 128GB Black + Free SIM & Connection on FreeMe 5GB + 200 FreeMe Promo-Net Minutes@ R929 x 24 Months', 'Huawei Mate 20 Lite Black + Free SIM & Connection on FreeMe 2GB + 100 FreeMe Promo-Net Minutes@ R359 x 24 Months', 'Samsung Galaxy S10 128GB Black + Free SIM & Connection on FreeMe 5GB + 200 FreeMe Promo-Net Minutes@ R929 x 24 Months', 'Samsung Galaxy S10 Plus 128GB Black + S10P OPTIGLASS Screen Protector + S10 Plus Black SILICON Case + Free SIM & Connection on FreeMe 5GB + 300 FreeMe Promo-Net Minutes@ R1079 x 24 Months', 'Huawei P30 lite Midnight Black + Free SIM & Connection on FreeMe 2GB + 100 FreeMe Promo-Net Minutes@ R309 x 24 Months', 'iPhone XR 128GB Black + Free SIM & Connection on FreeMe 10GB + 200 FreeMe Promo-Net Minutes@ R979 x 24 Months', 'Samsung Galaxy S10 128GB Black + Free SIM & Connection on FreeMe 2GB + 100 FreeMe Promo-Net Minutes@ R809 x 24 Months']\"},\n",
       " {'label': 'Do Bundle Basic', 'value': \"['Do Bundle Basic']\"},\n",
       " {'label': 'SmartPlan00   AllNet Data Additional x4 Months,  Unlimited On-Net Calls x4 Months, CLIP and E-Mail Itemised Billing',\n",
       "  'value': \"['iPhone 6 64GB Space Gray + Free R200 SIM & Connection Fee on SmartPlan 100 @R549 + 1GB AllNet Data Additional x 24 Months, + Unlimited On-Net Calls x 24 Months, CLIP and E-Mail Itemised Billing', 'iPhone 6 64GB Space Gray + Free R200 SIM & Connection Fee on SmartPlan 500 @R899 + 1GB AllNet Data Additional x 24 Months, + Unlimited On-Net Calls x 24 Months, CLIP and E-Mail Itemised Billing']\"},\n",
       " {'label': 'Sell Thru CSS', 'value': \"['Sell Thru CSS']\"}]"
      ]
     },
     "execution_count": 13,
     "metadata": {},
     "output_type": "execute_result"
    }
   ],
   "source": [
    "deal_desc()[:5]"
   ]
  },
  {
   "cell_type": "code",
   "execution_count": 14,
   "metadata": {},
   "outputs": [],
   "source": [
    "def action_status():\n",
    "    type_sql = r\"\"\"SELECT distinct ACTION_STATUS_DESC\n",
    "    FROM `bcx-insights.telkom_customerexperience.orders_20190926_00_anon`\n",
    "    ORDER BY ACTION_STATUS_DESC\"\"\"\n",
    "\n",
    "    df = pd.io.gbq.read_gbq(type_sql,\n",
    "                            project_id='bcx-insights',\n",
    "                            dialect='standard').dropna().drop_duplicates()\n",
    "\n",
    "    df = df['ACTION_STATUS_DESC'].tolist()\n",
    "\n",
    "    options = [{'label': v, 'value': v} for v in df]\n",
    "\n",
    "    return options"
   ]
  },
  {
   "cell_type": "code",
   "execution_count": 15,
   "metadata": {},
   "outputs": [
    {
     "data": {
      "text/plain": [
       "[{'label': 'Amended', 'value': 'Amended'},\n",
       " {'label': 'Being Amended', 'value': 'Being Amended'},\n",
       " {'label': 'Cancelled', 'value': 'Cancelled'},\n",
       " {'label': 'Completion', 'value': 'Completion'},\n",
       " {'label': 'Delivery', 'value': 'Delivery'},\n",
       " {'label': 'Discontinued', 'value': 'Discontinued'},\n",
       " {'label': 'Done', 'value': 'Done'},\n",
       " {'label': 'Initial', 'value': 'Initial'},\n",
       " {'label': 'Negotiation', 'value': 'Negotiation'},\n",
       " {'label': 'To Be Cancelled', 'value': 'To Be Cancelled'}]"
      ]
     },
     "execution_count": 15,
     "metadata": {},
     "output_type": "execute_result"
    }
   ],
   "source": [
    "action_status()"
   ]
  },
  {
   "cell_type": "code",
   "execution_count": 16,
   "metadata": {},
   "outputs": [
    {
     "name": "stdout",
     "output_type": "stream",
     "text": [
      "0     Fixed\n",
      "1    Mobile\n",
      "Name: label, dtype: object\n"
     ]
    }
   ],
   "source": [
    "def action_type():\n",
    "    type_sql = r\"\"\"SELECT distinct ACTION_TYPE_DESC\n",
    "    FROM `bcx-insights.telkom_customerexperience.orders_20190926_00_anon`\n",
    "    order by ACTION_TYPE_DESC\"\"\"\n",
    "\n",
    "    df = pd.io.gbq.read_gbq(type_sql,\n",
    "                            project_id='bcx-insights',\n",
    "                            dialect='standard')\n",
    "\n",
    "    df['ACTION_TYPE_DESC'] = df['ACTION_TYPE_DESC'].str.title().drop_duplicates()\n",
    "\n",
    "    df = df['ACTION_TYPE_DESC'].dropna().tolist()\n",
    "\n",
    "    options = [{'label': v, 'value': v} for v in df]\n",
    "\n",
    "    return options\n",
    "\n",
    "if __name__ == '__main__':\n",
    "    print(service_options())"
   ]
  },
  {
   "cell_type": "code",
   "execution_count": 17,
   "metadata": {},
   "outputs": [
    {
     "data": {
      "text/plain": [
       "[{'label': 'Automatic Update Billing', 'value': 'Automatic Update Billing'},\n",
       " {'label': 'Cease', 'value': 'Cease'},\n",
       " {'label': 'Cease Part Of Migrate', 'value': 'Cease Part Of Migrate'},\n",
       " {'label': 'Cease Part Of Move', 'value': 'Cease Part Of Move'},\n",
       " {'label': 'Cease Part Of Replace Offer',\n",
       "  'value': 'Cease Part Of Replace Offer'},\n",
       " {'label': 'Cease Due To Collection', 'value': 'Cease Due To Collection'},\n",
       " {'label': 'Change', 'value': 'Change'},\n",
       " {'label': 'Change - Dispatchable', 'value': 'Change - Dispatchable'},\n",
       " {'label': 'Change - No Dispatch', 'value': 'Change - No Dispatch'},\n",
       " {'label': 'Change - T&M Dispatch', 'value': 'Change - T&M Dispatch'},\n",
       " {'label': 'Change Ban To Ban', 'value': 'Change Ban To Ban'},\n",
       " {'label': 'Change Network', 'value': 'Change Network'},\n",
       " {'label': 'Change Ownership', 'value': 'Change Ownership'},\n",
       " {'label': 'Change Part Of Replace Offer',\n",
       "  'value': 'Change Part Of Replace Offer'},\n",
       " {'label': 'Change Sn', 'value': 'Change Sn'},\n",
       " {'label': 'Collection Cease', 'value': 'Collection Cease'},\n",
       " {'label': 'Collection Resume', 'value': 'Collection Resume'},\n",
       " {'label': 'Collection Suspend', 'value': 'Collection Suspend'},\n",
       " {'label': 'Hard Suspend', 'value': 'Hard Suspend'},\n",
       " {'label': 'Indoor Transfer', 'value': 'Indoor Transfer'},\n",
       " {'label': 'Migrate', 'value': 'Migrate'},\n",
       " {'label': 'Modify Address', 'value': 'Modify Address'},\n",
       " {'label': 'Move', 'value': 'Move'},\n",
       " {'label': 'Move And Migrate', 'value': 'Move And Migrate'},\n",
       " {'label': 'Move Outdoor Other Exchange',\n",
       "  'value': 'Move Outdoor Other Exchange'},\n",
       " {'label': 'Move Outdoor Same Exchange',\n",
       "  'value': 'Move Outdoor Same Exchange'},\n",
       " {'label': 'Outdoor Transfer', 'value': 'Outdoor Transfer'},\n",
       " {'label': 'Provide', 'value': 'Provide'},\n",
       " {'label': 'Provide Part Of Migrate', 'value': 'Provide Part Of Migrate'},\n",
       " {'label': 'Provide Part Of Move', 'value': 'Provide Part Of Move'},\n",
       " {'label': 'Provide Part Of Move And Migrate',\n",
       "  'value': 'Provide Part Of Move And Migrate'},\n",
       " {'label': 'Provide Same As', 'value': 'Provide Same As'},\n",
       " {'label': 'Re-Establish', 'value': 'Re-Establish'},\n",
       " {'label': 'Receive  Ownership', 'value': 'Receive  Ownership'},\n",
       " {'label': 'Reestablish', 'value': 'Reestablish'},\n",
       " {'label': 'Replace Offer', 'value': 'Replace Offer'},\n",
       " {'label': 'Resume', 'value': 'Resume'},\n",
       " {'label': 'Resume From Suspension Due To Collection',\n",
       "  'value': 'Resume From Suspension Due To Collection'},\n",
       " {'label': 'Soft Suspend', 'value': 'Soft Suspend'},\n",
       " {'label': 'Suspend', 'value': 'Suspend'},\n",
       " {'label': 'Update Billing Attribute', 'value': 'Update Billing Attribute'},\n",
       " {'label': 'Update Pis', 'value': 'Update Pis'}]"
      ]
     },
     "execution_count": 17,
     "metadata": {},
     "output_type": "execute_result"
    }
   ],
   "source": [
    "action_type()"
   ]
  },
  {
   "cell_type": "code",
   "execution_count": 18,
   "metadata": {},
   "outputs": [],
   "source": [
    "def build_query(iterable, field_name):\n",
    "    if iterable is not None:\n",
    "        if len(iterable) > 0:\n",
    "            iterable = ','.join([\"'\" + s + \"'\" for s in iterable])\n",
    "            iterable = 'and {} IN ({})'.format(field_name, iterable)\n",
    "            return iterable\n",
    "        else:\n",
    "            return ''\n",
    "    else:\n",
    "        return ''"
   ]
  },
  {
   "cell_type": "code",
   "execution_count": 19,
   "metadata": {},
   "outputs": [],
   "source": [
    "def dispute_query(dispute_val, start_date_val, end_date_val):\n",
    "    sql = \"\"\"\n",
    "        (SELECT DISTINCT ACCOUNT_NO_ANON dispute_id FROM\n",
    "        `bcx-insights.telkom_customerexperience.disputes_20190903_00_anon`\n",
    "        WHERE RESOLUTION_DATE BETWEEN '{}' AND '{}') as disputes\n",
    "        on orders.ACCOUNT_NO_ANON = disputes.dispute_id\"\"\".format(start_date_val, end_date_val)\n",
    "\n",
    "    if dispute_val == 'Yes':\n",
    "        join_type = 'JOIN '\n",
    "        return join_type + sql, ''\n",
    "    elif dispute_val == 'No':\n",
    "        join_type = 'LEFT JOIN '\n",
    "\n",
    "        return join_type + sql, \"AND dispute_id is Null\"\n",
    "    else:\n",
    "        return '', ''"
   ]
  },
  {
   "cell_type": "code",
   "execution_count": 20,
   "metadata": {},
   "outputs": [
    {
     "data": {
      "text/plain": [
       "('', '')"
      ]
     },
     "execution_count": 20,
     "metadata": {},
     "output_type": "execute_result"
    }
   ],
   "source": [
    "dispute_query(None, None, None)"
   ]
  },
  {
   "cell_type": "code",
   "execution_count": 21,
   "metadata": {},
   "outputs": [],
   "source": [
    "def fault_query(fault_val, start_date_val, end_date_val):\n",
    "    sql = \"\"\"\n",
    "        (SELECT DISTINCT SERVICE_KEY_ANON fault_id FROM\n",
    "        `bcx-insights.telkom_customerexperience.faults_20190903_00_anon`\n",
    "        WHERE DATDRGT BETWEEN '{}' AND '{}') as faults\n",
    "        on orders.ACCOUNT_NO_ANON = faults.fault_id\"\"\".format(start_date_val, end_date_val)\n",
    "\n",
    "    if fault_val == 'Yes':\n",
    "        join_type = 'JOIN '\n",
    "        return join_type + sql, ''\n",
    "    elif fault_val == 'No':\n",
    "        join_type = 'LEFT JOIN '\n",
    "\n",
    "        return join_type + sql, \"AND fault_id is Null\"\n",
    "    else:\n",
    "        return '', ''"
   ]
  },
  {
   "cell_type": "code",
   "execution_count": 22,
   "metadata": {},
   "outputs": [
    {
     "data": {
      "text/plain": [
       "('', '')"
      ]
     },
     "execution_count": 22,
     "metadata": {},
     "output_type": "execute_result"
    }
   ],
   "source": [
    "fault_query(None, None, None)"
   ]
  },
  {
   "cell_type": "code",
   "execution_count": 23,
   "metadata": {},
   "outputs": [],
   "source": [
    "def between_date_query(start_date_val, end_date_val):\n",
    "    date_range = \"\"\"AND orders.ORDER_CREATION_DATE BETWEEN '{}' AND '{}'\"\"\".format(start_date_val, end_date_val)\n",
    "\n",
    "    return \"{}\".format(date_range)"
   ]
  },
  {
   "cell_type": "markdown",
   "metadata": {},
   "source": [
    "## Calling SQL"
   ]
  },
  {
   "cell_type": "code",
   "execution_count": 24,
   "metadata": {},
   "outputs": [],
   "source": [
    "def sql_query_call(service_type, \n",
    "                   customer_type, \n",
    "                   deal_desc, \n",
    "                   action_status,\n",
    "                   start_date_val, \n",
    "                   end_date_val, \n",
    "                   dispute_val,\n",
    "                   fault_val,\n",
    "                   #action_filter,\n",
    "                   #min_hours, \n",
    "                   #has_action\n",
    "                  ):\n",
    "    \n",
    "    service_type = build_query(service_type, 'SERVICE_TYPE')\n",
    "    customer_type = build_query(customer_type, 'CUSTOMER_TYPE_DESC')\n",
    "    deal_desc = build_query(deal_desc, 'DEAL_DESC')                           #add add hoc deal\n",
    "    #deal_type = \"'TBiz BB Capped Advanced'\"\n",
    "    #has_action = includes_action(has_action, start_date_val, end_date_val)\n",
    "\n",
    "    dispute_join, dispute_where = dispute_query(dispute_val, start_date_val, end_date_val)\n",
    "    fault_join, fault_where = fault_query(fault_val, start_date_val, end_date_val)\n",
    "    #hours_sql_field, hours_where = build_min_hours(min_hours)\n",
    "    #action_status_subquery, action_status_where = last_status_or_action_query(action_status, action_filter)\n",
    "\n",
    "    if start_date_val is not None and end_date_val is not None:\n",
    "        date_range = between_date_query(start_date_val, end_date_val)\n",
    "    else:\n",
    "        date_range = ''\n",
    "\n",
    "        \n",
    "    query = \"\"\"\n",
    "    SELECT *\n",
    "    FROM `bcx-insights.telkom_customerexperience.orders_20190926_00_anon` as orders\n",
    "    LEFT JOIN\n",
    "    (SELECT DISTINCT CUSTOMER_NO_ANON, SERVICE_TYPE, CUSTOMER_TYPE_DESC FROM\n",
    "    `bcx-insights.telkom_customerexperience.customerdata_20190902_00_anon`) as custs\n",
    "    ON custs.CUSTOMER_NO_ANON = orders.ACCOUNT_NO_ANON\n",
    "    WHERE 1=1\n",
    "    --AND orders.SOURCE = \"F\"\n",
    "    {}\n",
    "    {}\n",
    "    {}\n",
    "    {}\n",
    "    {}\n",
    "    {}\n",
    "    ORDER BY ORDER_CREATION_DATE, ACTION_CREATION_DATE, ORDER_ID_ANON\n",
    "    \"\"\".format(deal_desc,customer_type, service_type, dispute_where, fault_where, date_range)\n",
    "    \n",
    "    return query"
   ]
  },
  {
   "cell_type": "code",
   "execution_count": 25,
   "metadata": {},
   "outputs": [],
   "source": [
    "def one_function:\n",
    "\n",
    "    query_called = sql_query_call(None,                      # service type ['FIXED']\n",
    "                    None,                                    # customer type ['Small']\n",
    "                    ['TBiz BB Capped Advanced'],                  # deal type ['TBiz BB Capped Advanced']\n",
    "                    None,                        #not used        # action status ['Done']\n",
    "                    None,    # start date\n",
    "                    None,                            # end date\n",
    "                    None,                                         # has dispute\n",
    "                    None                                          # has fault\n",
    "                    )\n",
    "    #create order dataframe\n",
    "    orders_df = pd.read_gbq(query_called,\n",
    "                project_id = 'bcx-insights',\n",
    "                dialect = 'standard')\n",
    "    \n",
    "    orders_df = orders_df.drop_duplicates()\n",
    "    \n",
    "    orders_df['MSISDN_ANON'] = orders_df['MSISDN_ANON'].astype(str)\n",
    "    \n",
    "    orders_df['ORDER_ID_ANON'] = orders_df['ORDER_ID_ANON'].astype(str)\n",
    "    \n",
    "    unique_col = 'combo'\n",
    "    \n",
    "    orders_df[unique_col] = orders_df['MSISDN_ANON']+'_'+orders_df['ORDER_ID_ANON']\n",
    "    \n",
    "    orders_df['stage'] = orders_df.groupby(unique_col).cumcount()+1\n",
    "    \n",
    "    final_stage = orders_df[[unique_col,'stage', 'ORDER_CREATION_DATE']].groupby(unique_col).agg({'stage': 'max', 'ORDER_CREATION_DATE': ['min', 'max']})\n",
    "    \n",
    "    final_stage.columns = [\"_\".join(pair) for pair in final_stage.columns]\n",
    "    \n",
    "    final_stage.rename(columns={'stage_max':'final_stage', 'ORDER_CREATION_DATE_min':'first_date', 'ORDER_CREATION_DATE_max':'last_date'}, inplace=True)\n",
    "    \n",
    "    orders_df = pd.merge(orders_df, final_stage, on=unique_col, how='outer')\n",
    "    \n",
    "    orders_df['accumulated_time'] = orders_df['ORDER_CREATION_DATE']-orders_df['first_date'] \n",
    "    \n",
    "    orders_df['total_journey_time'] = orders_df['last_date']-orders_df['first_date'] \n",
    "    \n",
    "    orders_df['accumulated_time'] = orders_df['accumulated_time'].dt.total_seconds()\n",
    "    \n",
    "    orders_df['total_journey_time'] = orders_df['total_journey_time'].dt.total_seconds()\n",
    "    \n",
    "    # filters on final (number of) stage\n",
    "    \n",
    "    # call back stages\n",
    "    \n",
    "    number_of_stages_min = max(min(orders_df['final_stage']),1)\n",
    "    \n",
    "    number_of_stages_max = min(max(orders_df['final_stage']),1000)\n",
    "    \n",
    "    orders_df = orders_df[(orders_df['final_stage'] >= number_of_stages_min) & (orders_df['final_stage'] <= number_of_stages_max)]\n",
    "    \n",
    "    # filter on total time\n",
    "    \n",
    "    def journey_duration_query(time_filter_min, time_filter_max, time_measure, min_total_journey_time, max_total_journey_time):\n",
    "    \n",
    "        if time_filter_max is None:\n",
    "            time_filter_max = max_total_journey_time\n",
    "        \n",
    "        if time_filter_min is None:\n",
    "            time_filter_min = min_total_journey_time\n",
    "        \n",
    "        if time_measure == 'minutes':\n",
    "            multiplier = 60\n",
    "        \n",
    "        elif time_measure == 'hours':\n",
    "            multiplier = 60*60\n",
    "        \n",
    "        elif (time_measure == 'days' or time_measure is None): #default is days\n",
    "            multiplier = 60*60*24\n",
    "            time_measue = 'days'\n",
    "        \n",
    "        else:\n",
    "            multiplier = 1\n",
    "    \n",
    "        min_val = time_filter_min*multiplier\n",
    "        max_val = time_filter_max*multiplier\n",
    "        \n",
    "        \n",
    "        return min_val, max_val, time_measure, multiplier\n",
    "    \n",
    "    # call back journey time\n",
    "    time_filter_min = None\n",
    "    time_filter_max = None\n",
    "    time_measure = 'hours'\n",
    "    \n",
    "    min_time_val, max_time_val, time_measure, time_multiplier = journey_duration_query(time_filter_min, time_filter_max, time_measure, min(orders_df['total_journey_time']), max(orders_df['total_journey_time']) )\n",
    "    \n",
    "    orders_df = orders_df[(orders_df['total_journey_time'] >= min_time_val) & (orders_df['total_journey_time'] <= max_time_val)]\n",
    "    \n",
    "    # filter on contains stage\n",
    "    \n",
    "    contains_action = [\n",
    "       'Cease due to Collection', 'Receive  Ownership',\n",
    "        'Cease Part Of Migrate', 'Cease',\n",
    "       'Provide', 'Provide Part Of Migrate',  'Cease Part Of Move',\n",
    "       'Provide Part Of Move', 'Provide Same As']\n",
    "    \n",
    "    all_stages = orders_df['ACTION_TYPE_DESC'].unique()\n",
    "    \n",
    "    if contains_action is None:\n",
    "        contains_action = all_stages\n",
    "    else:\n",
    "        contains_action = contains_action\n",
    "    "
   ]
  },
  {
   "cell_type": "code",
   "execution_count": 66,
   "metadata": {},
   "outputs": [],
   "source": [
    "# filter on contains stage"
   ]
  },
  {
   "cell_type": "code",
   "execution_count": 67,
   "metadata": {},
   "outputs": [
    {
     "data": {
      "text/plain": [
       "array(['Resume from Suspension due to Collection',\n",
       "       'Cease due to Collection', 'Soft Suspend', 'Hard Suspend',\n",
       "       'Change - Dispatchable', 'Receive  Ownership',\n",
       "       'Change - No Dispatch', 'Cease Part Of Migrate', 'Cease',\n",
       "       'Provide', 'Provide Part Of Migrate', 'Move Outdoor Same Exchange',\n",
       "       'Change', 'Move Outdoor Other Exchange', 'Cease Part Of Move',\n",
       "       'Provide Part Of Move', 'Indoor transfer', 'Modify Address',\n",
       "       'Re-establish', 'Change BAN To BAN', 'Change SN',\n",
       "       'Change - T&M Dispatch', 'Provide Same As'], dtype=object)"
      ]
     },
     "execution_count": 67,
     "metadata": {},
     "output_type": "execute_result"
    }
   ],
   "source": [
    "orders_df['ACTION_TYPE_DESC'].unique()"
   ]
  },
  {
   "cell_type": "code",
   "execution_count": 68,
   "metadata": {},
   "outputs": [],
   "source": [
    "contains_action = [\n",
    "       'Cease due to Collection', 'Receive  Ownership',\n",
    "        'Cease Part Of Migrate', 'Cease',\n",
    "       'Provide', 'Provide Part Of Migrate',  'Cease Part Of Move',\n",
    "       'Provide Part Of Move', 'Provide Same As']"
   ]
  },
  {
   "cell_type": "code",
   "execution_count": 69,
   "metadata": {},
   "outputs": [],
   "source": [
    "orders_df['match_action'] = orders_df['ACTION_TYPE_DESC'].isin(contains_action)"
   ]
  },
  {
   "cell_type": "code",
   "execution_count": 70,
   "metadata": {},
   "outputs": [
    {
     "data": {
      "text/html": [
       "<div>\n",
       "<style scoped>\n",
       "    .dataframe tbody tr th:only-of-type {\n",
       "        vertical-align: middle;\n",
       "    }\n",
       "\n",
       "    .dataframe tbody tr th {\n",
       "        vertical-align: top;\n",
       "    }\n",
       "\n",
       "    .dataframe thead th {\n",
       "        text-align: right;\n",
       "    }\n",
       "</style>\n",
       "<table border=\"1\" class=\"dataframe\">\n",
       "  <thead>\n",
       "    <tr style=\"text-align: right;\">\n",
       "      <th></th>\n",
       "      <th>ORDER_STATUS_DESC</th>\n",
       "      <th>ORDER_CREATION_DATE</th>\n",
       "      <th>ACTION_STATUS_DESC</th>\n",
       "      <th>ACTION_TYPE</th>\n",
       "      <th>ACTION_TYPE_DESC</th>\n",
       "      <th>ACTION_CREATION_DATE</th>\n",
       "      <th>ORIGINAL_SALES_CHANNEL_DESC</th>\n",
       "      <th>CURRENT_SALES_CHANNEL_DESC</th>\n",
       "      <th>DEAL_DESC</th>\n",
       "      <th>PROV_DATE</th>\n",
       "      <th>...</th>\n",
       "      <th>SERVICE_TYPE</th>\n",
       "      <th>CUSTOMER_TYPE_DESC</th>\n",
       "      <th>combo</th>\n",
       "      <th>stage</th>\n",
       "      <th>first_date</th>\n",
       "      <th>last_date</th>\n",
       "      <th>final_stage</th>\n",
       "      <th>accumulated_time</th>\n",
       "      <th>total_journey_time</th>\n",
       "      <th>match_action</th>\n",
       "    </tr>\n",
       "  </thead>\n",
       "  <tbody>\n",
       "    <tr>\n",
       "      <th>0</th>\n",
       "      <td>Done</td>\n",
       "      <td>2018-09-19 00:01:40+00:00</td>\n",
       "      <td>Done</td>\n",
       "      <td>CR</td>\n",
       "      <td>Resume from Suspension due to Collection</td>\n",
       "      <td>2018-09-19 00:00:34+00:00</td>\n",
       "      <td>Call Center</td>\n",
       "      <td>Call Center</td>\n",
       "      <td>TBiz BB Capped Advanced</td>\n",
       "      <td>2018-09-19 23:59:59+00:00</td>\n",
       "      <td>...</td>\n",
       "      <td>None</td>\n",
       "      <td>None</td>\n",
       "      <td>8267334465643049670_8014743664010143874</td>\n",
       "      <td>1</td>\n",
       "      <td>2018-09-19 00:01:40+00:00</td>\n",
       "      <td>2018-09-19 00:01:40+00:00</td>\n",
       "      <td>1</td>\n",
       "      <td>0.0</td>\n",
       "      <td>0.0</td>\n",
       "      <td>False</td>\n",
       "    </tr>\n",
       "    <tr>\n",
       "      <th>1</th>\n",
       "      <td>Done</td>\n",
       "      <td>2018-09-19 00:08:19+00:00</td>\n",
       "      <td>Done</td>\n",
       "      <td>CR</td>\n",
       "      <td>Resume from Suspension due to Collection</td>\n",
       "      <td>2018-09-19 00:02:30+00:00</td>\n",
       "      <td>Call Center</td>\n",
       "      <td>Call Center</td>\n",
       "      <td>TBiz BB Capped Advanced</td>\n",
       "      <td>2018-09-19 23:59:59+00:00</td>\n",
       "      <td>...</td>\n",
       "      <td>None</td>\n",
       "      <td>None</td>\n",
       "      <td>5883010122451860359_4896610020755115874</td>\n",
       "      <td>1</td>\n",
       "      <td>2018-09-19 00:08:19+00:00</td>\n",
       "      <td>2018-09-19 00:08:19+00:00</td>\n",
       "      <td>1</td>\n",
       "      <td>0.0</td>\n",
       "      <td>0.0</td>\n",
       "      <td>False</td>\n",
       "    </tr>\n",
       "    <tr>\n",
       "      <th>2</th>\n",
       "      <td>Done</td>\n",
       "      <td>2018-09-19 00:08:22+00:00</td>\n",
       "      <td>Done</td>\n",
       "      <td>CR</td>\n",
       "      <td>Resume from Suspension due to Collection</td>\n",
       "      <td>2018-09-19 00:08:04+00:00</td>\n",
       "      <td>Call Center</td>\n",
       "      <td>Call Center</td>\n",
       "      <td>TBiz BB Capped Advanced</td>\n",
       "      <td>2018-09-19 23:59:59+00:00</td>\n",
       "      <td>...</td>\n",
       "      <td>None</td>\n",
       "      <td>None</td>\n",
       "      <td>6881390640784013810_-7402119597778060068</td>\n",
       "      <td>1</td>\n",
       "      <td>2018-09-19 00:08:22+00:00</td>\n",
       "      <td>2018-09-19 00:08:22+00:00</td>\n",
       "      <td>1</td>\n",
       "      <td>0.0</td>\n",
       "      <td>0.0</td>\n",
       "      <td>False</td>\n",
       "    </tr>\n",
       "    <tr>\n",
       "      <th>3</th>\n",
       "      <td>Done</td>\n",
       "      <td>2018-09-19 00:11:18+00:00</td>\n",
       "      <td>Done</td>\n",
       "      <td>CR</td>\n",
       "      <td>Resume from Suspension due to Collection</td>\n",
       "      <td>2018-09-19 00:11:16+00:00</td>\n",
       "      <td>Call Center</td>\n",
       "      <td>Call Center</td>\n",
       "      <td>TBiz BB Capped Advanced</td>\n",
       "      <td>2018-09-19 23:59:59+00:00</td>\n",
       "      <td>...</td>\n",
       "      <td>None</td>\n",
       "      <td>None</td>\n",
       "      <td>-7917274003366893655_-891254573908734095</td>\n",
       "      <td>1</td>\n",
       "      <td>2018-09-19 00:11:18+00:00</td>\n",
       "      <td>2018-09-19 00:11:18+00:00</td>\n",
       "      <td>1</td>\n",
       "      <td>0.0</td>\n",
       "      <td>0.0</td>\n",
       "      <td>False</td>\n",
       "    </tr>\n",
       "    <tr>\n",
       "      <th>4</th>\n",
       "      <td>Done</td>\n",
       "      <td>2018-09-19 00:11:26+00:00</td>\n",
       "      <td>Done</td>\n",
       "      <td>CR</td>\n",
       "      <td>Resume from Suspension due to Collection</td>\n",
       "      <td>2018-09-19 00:11:25+00:00</td>\n",
       "      <td>Call Center</td>\n",
       "      <td>Call Center</td>\n",
       "      <td>TBiz BB Capped Advanced</td>\n",
       "      <td>2018-09-19 23:59:59+00:00</td>\n",
       "      <td>...</td>\n",
       "      <td>None</td>\n",
       "      <td>None</td>\n",
       "      <td>-3858268071889160291_-4980229336441433325</td>\n",
       "      <td>1</td>\n",
       "      <td>2018-09-19 00:11:26+00:00</td>\n",
       "      <td>2018-09-19 00:11:26+00:00</td>\n",
       "      <td>1</td>\n",
       "      <td>0.0</td>\n",
       "      <td>0.0</td>\n",
       "      <td>False</td>\n",
       "    </tr>\n",
       "  </tbody>\n",
       "</table>\n",
       "<p>5 rows × 28 columns</p>\n",
       "</div>"
      ],
      "text/plain": [
       "  ORDER_STATUS_DESC       ORDER_CREATION_DATE ACTION_STATUS_DESC ACTION_TYPE  \\\n",
       "0              Done 2018-09-19 00:01:40+00:00               Done          CR   \n",
       "1              Done 2018-09-19 00:08:19+00:00               Done          CR   \n",
       "2              Done 2018-09-19 00:08:22+00:00               Done          CR   \n",
       "3              Done 2018-09-19 00:11:18+00:00               Done          CR   \n",
       "4              Done 2018-09-19 00:11:26+00:00               Done          CR   \n",
       "\n",
       "                           ACTION_TYPE_DESC      ACTION_CREATION_DATE  \\\n",
       "0  Resume from Suspension due to Collection 2018-09-19 00:00:34+00:00   \n",
       "1  Resume from Suspension due to Collection 2018-09-19 00:02:30+00:00   \n",
       "2  Resume from Suspension due to Collection 2018-09-19 00:08:04+00:00   \n",
       "3  Resume from Suspension due to Collection 2018-09-19 00:11:16+00:00   \n",
       "4  Resume from Suspension due to Collection 2018-09-19 00:11:25+00:00   \n",
       "\n",
       "  ORIGINAL_SALES_CHANNEL_DESC CURRENT_SALES_CHANNEL_DESC  \\\n",
       "0                 Call Center                Call Center   \n",
       "1                 Call Center                Call Center   \n",
       "2                 Call Center                Call Center   \n",
       "3                 Call Center                Call Center   \n",
       "4                 Call Center                Call Center   \n",
       "\n",
       "                 DEAL_DESC                 PROV_DATE     ...       \\\n",
       "0  TBiz BB Capped Advanced 2018-09-19 23:59:59+00:00     ...        \n",
       "1  TBiz BB Capped Advanced 2018-09-19 23:59:59+00:00     ...        \n",
       "2  TBiz BB Capped Advanced 2018-09-19 23:59:59+00:00     ...        \n",
       "3  TBiz BB Capped Advanced 2018-09-19 23:59:59+00:00     ...        \n",
       "4  TBiz BB Capped Advanced 2018-09-19 23:59:59+00:00     ...        \n",
       "\n",
       "  SERVICE_TYPE CUSTOMER_TYPE_DESC                                      combo  \\\n",
       "0         None               None    8267334465643049670_8014743664010143874   \n",
       "1         None               None    5883010122451860359_4896610020755115874   \n",
       "2         None               None   6881390640784013810_-7402119597778060068   \n",
       "3         None               None   -7917274003366893655_-891254573908734095   \n",
       "4         None               None  -3858268071889160291_-4980229336441433325   \n",
       "\n",
       "  stage                first_date                 last_date  final_stage  \\\n",
       "0     1 2018-09-19 00:01:40+00:00 2018-09-19 00:01:40+00:00            1   \n",
       "1     1 2018-09-19 00:08:19+00:00 2018-09-19 00:08:19+00:00            1   \n",
       "2     1 2018-09-19 00:08:22+00:00 2018-09-19 00:08:22+00:00            1   \n",
       "3     1 2018-09-19 00:11:18+00:00 2018-09-19 00:11:18+00:00            1   \n",
       "4     1 2018-09-19 00:11:26+00:00 2018-09-19 00:11:26+00:00            1   \n",
       "\n",
       "   accumulated_time total_journey_time match_action  \n",
       "0               0.0                0.0        False  \n",
       "1               0.0                0.0        False  \n",
       "2               0.0                0.0        False  \n",
       "3               0.0                0.0        False  \n",
       "4               0.0                0.0        False  \n",
       "\n",
       "[5 rows x 28 columns]"
      ]
     },
     "execution_count": 70,
     "metadata": {},
     "output_type": "execute_result"
    }
   ],
   "source": [
    "orders_df.head()"
   ]
  },
  {
   "cell_type": "code",
   "execution_count": 71,
   "metadata": {},
   "outputs": [],
   "source": [
    "match_max = orders_df[[unique_col,'match_action']].groupby(unique_col)['match_action'].max().reset_index()"
   ]
  },
  {
   "cell_type": "code",
   "execution_count": 72,
   "metadata": {},
   "outputs": [
    {
     "data": {
      "text/plain": [
       "1862"
      ]
     },
     "execution_count": 72,
     "metadata": {},
     "output_type": "execute_result"
    }
   ],
   "source": [
    "len(match_max[match_max['match_action']==True])"
   ]
  },
  {
   "cell_type": "code",
   "execution_count": 73,
   "metadata": {},
   "outputs": [],
   "source": [
    "match_max.rename(columns={'match_action':'contains'}, inplace=True)"
   ]
  },
  {
   "cell_type": "code",
   "execution_count": 74,
   "metadata": {},
   "outputs": [],
   "source": [
    "orders_df = pd.merge(orders_df, match_max, on=unique_col, how='outer')"
   ]
  },
  {
   "cell_type": "code",
   "execution_count": 75,
   "metadata": {},
   "outputs": [],
   "source": [
    "orders_df = orders_df[orders_df['contains']==True]"
   ]
  },
  {
   "cell_type": "code",
   "execution_count": 76,
   "metadata": {},
   "outputs": [],
   "source": [
    "orders_df = orders_df.drop(columns=['match_action','contains'])"
   ]
  },
  {
   "cell_type": "code",
   "execution_count": 77,
   "metadata": {},
   "outputs": [],
   "source": [
    "orders_df['stage'] = orders_df['stage'].astype(str)"
   ]
  },
  {
   "cell_type": "code",
   "execution_count": 78,
   "metadata": {},
   "outputs": [],
   "source": [
    "orders_df['ActionType_OrderStatus'] = orders_df['ACTION_TYPE_DESC'] +' * '+ orders_df['ORDER_STATUS_DESC'] "
   ]
  },
  {
   "cell_type": "code",
   "execution_count": 79,
   "metadata": {},
   "outputs": [],
   "source": [
    "type_status = list(sorted(orders_df['ActionType_OrderStatus'].unique()))"
   ]
  },
  {
   "cell_type": "code",
   "execution_count": 80,
   "metadata": {},
   "outputs": [
    {
     "data": {
      "text/plain": [
       "['Cease * Cancelled',\n",
       " 'Cease * Delivery',\n",
       " 'Cease * Done',\n",
       " 'Cease * Negotiation',\n",
       " 'Cease Part Of Migrate * Cancelled',\n",
       " 'Cease Part Of Migrate * Completion',\n",
       " 'Cease Part Of Migrate * Done',\n",
       " 'Cease Part Of Migrate * Negotiation',\n",
       " 'Cease Part Of Move * Cancelled',\n",
       " 'Cease Part Of Move * Done',\n",
       " 'Cease Part Of Move * Negotiation',\n",
       " 'Cease due to Collection * Cancelled',\n",
       " 'Cease due to Collection * Done',\n",
       " 'Move Outdoor Other Exchange * Cancelled',\n",
       " 'Move Outdoor Other Exchange * Done',\n",
       " 'Move Outdoor Other Exchange * Negotiation',\n",
       " 'Provide * Cancelled',\n",
       " 'Provide * Done',\n",
       " 'Provide Part Of Migrate * Amended',\n",
       " 'Provide Part Of Migrate * Cancelled',\n",
       " 'Provide Part Of Migrate * Done',\n",
       " 'Provide Part Of Move * Cancelled',\n",
       " 'Provide Part Of Move * Done',\n",
       " 'Provide Same As * Cancelled',\n",
       " 'Receive  Ownership * Cancelled',\n",
       " 'Receive  Ownership * Done']"
      ]
     },
     "execution_count": 80,
     "metadata": {},
     "output_type": "execute_result"
    }
   ],
   "source": [
    "type_status"
   ]
  },
  {
   "cell_type": "code",
   "execution_count": 81,
   "metadata": {},
   "outputs": [
    {
     "data": {
      "text/plain": [
       "26"
      ]
     },
     "execution_count": 81,
     "metadata": {},
     "output_type": "execute_result"
    }
   ],
   "source": [
    "len(type_status)"
   ]
  },
  {
   "cell_type": "code",
   "execution_count": 82,
   "metadata": {},
   "outputs": [
    {
     "data": {
      "text/plain": [
       "41"
      ]
     },
     "execution_count": 82,
     "metadata": {},
     "output_type": "execute_result"
    }
   ],
   "source": [
    "max_string_len = len(max(type_status, key=len))\n",
    "max_string_len"
   ]
  },
  {
   "cell_type": "code",
   "execution_count": 83,
   "metadata": {},
   "outputs": [],
   "source": [
    "orders_df['stage_ActionType_OrderStatus'] = orders_df['stage'] +') * '+ orders_df['ACTION_TYPE_DESC'] +' * '+ orders_df['ORDER_STATUS_DESC'] "
   ]
  },
  {
   "cell_type": "code",
   "execution_count": 84,
   "metadata": {},
   "outputs": [
    {
     "data": {
      "text/html": [
       "<div>\n",
       "<style scoped>\n",
       "    .dataframe tbody tr th:only-of-type {\n",
       "        vertical-align: middle;\n",
       "    }\n",
       "\n",
       "    .dataframe tbody tr th {\n",
       "        vertical-align: top;\n",
       "    }\n",
       "\n",
       "    .dataframe thead th {\n",
       "        text-align: right;\n",
       "    }\n",
       "</style>\n",
       "<table border=\"1\" class=\"dataframe\">\n",
       "  <thead>\n",
       "    <tr style=\"text-align: right;\">\n",
       "      <th></th>\n",
       "      <th>ORDER_STATUS_DESC</th>\n",
       "      <th>ORDER_CREATION_DATE</th>\n",
       "      <th>ACTION_STATUS_DESC</th>\n",
       "      <th>ACTION_TYPE</th>\n",
       "      <th>ACTION_TYPE_DESC</th>\n",
       "      <th>ACTION_CREATION_DATE</th>\n",
       "      <th>ORIGINAL_SALES_CHANNEL_DESC</th>\n",
       "      <th>CURRENT_SALES_CHANNEL_DESC</th>\n",
       "      <th>DEAL_DESC</th>\n",
       "      <th>PROV_DATE</th>\n",
       "      <th>...</th>\n",
       "      <th>CUSTOMER_TYPE_DESC</th>\n",
       "      <th>combo</th>\n",
       "      <th>stage</th>\n",
       "      <th>first_date</th>\n",
       "      <th>last_date</th>\n",
       "      <th>final_stage</th>\n",
       "      <th>accumulated_time</th>\n",
       "      <th>total_journey_time</th>\n",
       "      <th>ActionType_OrderStatus</th>\n",
       "      <th>stage_ActionType_OrderStatus</th>\n",
       "    </tr>\n",
       "  </thead>\n",
       "  <tbody>\n",
       "    <tr>\n",
       "      <th>6826</th>\n",
       "      <td>Done</td>\n",
       "      <td>2019-09-17 14:47:20+00:00</td>\n",
       "      <td>Done</td>\n",
       "      <td>CE</td>\n",
       "      <td>Cease</td>\n",
       "      <td>2019-09-17 00:00:00+00:00</td>\n",
       "      <td>Telkom Direct Shop</td>\n",
       "      <td>Telkom Direct Shop</td>\n",
       "      <td>TBiz BB Capped Advanced</td>\n",
       "      <td>2019-09-17 14:59:16+00:00</td>\n",
       "      <td>...</td>\n",
       "      <td>Small</td>\n",
       "      <td>6076150216499066653_2674119506241389658</td>\n",
       "      <td>1</td>\n",
       "      <td>2019-09-17 14:47:20+00:00</td>\n",
       "      <td>2019-09-17 14:47:20+00:00</td>\n",
       "      <td>1</td>\n",
       "      <td>0.0</td>\n",
       "      <td>0.0</td>\n",
       "      <td>Cease * Done</td>\n",
       "      <td>1) * Cease * Done</td>\n",
       "    </tr>\n",
       "    <tr>\n",
       "      <th>6827</th>\n",
       "      <td>Done</td>\n",
       "      <td>2019-09-17 14:47:21+00:00</td>\n",
       "      <td>Done</td>\n",
       "      <td>CE</td>\n",
       "      <td>Cease</td>\n",
       "      <td>2019-09-17 00:00:00+00:00</td>\n",
       "      <td>Telkom Direct Shop</td>\n",
       "      <td>Telkom Direct Shop</td>\n",
       "      <td>TBiz BB Capped Advanced</td>\n",
       "      <td>2019-09-17 23:59:59+00:00</td>\n",
       "      <td>...</td>\n",
       "      <td>Small</td>\n",
       "      <td>2349405019545791832_2674119506241389658</td>\n",
       "      <td>1</td>\n",
       "      <td>2019-09-17 14:47:21+00:00</td>\n",
       "      <td>2019-09-17 14:47:21+00:00</td>\n",
       "      <td>1</td>\n",
       "      <td>0.0</td>\n",
       "      <td>0.0</td>\n",
       "      <td>Cease * Done</td>\n",
       "      <td>1) * Cease * Done</td>\n",
       "    </tr>\n",
       "    <tr>\n",
       "      <th>6828</th>\n",
       "      <td>Done</td>\n",
       "      <td>2019-09-17 14:47:21+00:00</td>\n",
       "      <td>Done</td>\n",
       "      <td>CE</td>\n",
       "      <td>Cease</td>\n",
       "      <td>2019-09-17 00:00:00+00:00</td>\n",
       "      <td>Telkom Direct Shop</td>\n",
       "      <td>Telkom Direct Shop</td>\n",
       "      <td>TBiz BB Capped Advanced</td>\n",
       "      <td>2019-09-17 23:59:59+00:00</td>\n",
       "      <td>...</td>\n",
       "      <td>Small</td>\n",
       "      <td>8551270563082250674_2674119506241389658</td>\n",
       "      <td>1</td>\n",
       "      <td>2019-09-17 14:47:21+00:00</td>\n",
       "      <td>2019-09-17 14:47:21+00:00</td>\n",
       "      <td>1</td>\n",
       "      <td>0.0</td>\n",
       "      <td>0.0</td>\n",
       "      <td>Cease * Done</td>\n",
       "      <td>1) * Cease * Done</td>\n",
       "    </tr>\n",
       "  </tbody>\n",
       "</table>\n",
       "<p>3 rows × 29 columns</p>\n",
       "</div>"
      ],
      "text/plain": [
       "     ORDER_STATUS_DESC       ORDER_CREATION_DATE ACTION_STATUS_DESC  \\\n",
       "6826              Done 2019-09-17 14:47:20+00:00               Done   \n",
       "6827              Done 2019-09-17 14:47:21+00:00               Done   \n",
       "6828              Done 2019-09-17 14:47:21+00:00               Done   \n",
       "\n",
       "     ACTION_TYPE ACTION_TYPE_DESC      ACTION_CREATION_DATE  \\\n",
       "6826          CE            Cease 2019-09-17 00:00:00+00:00   \n",
       "6827          CE            Cease 2019-09-17 00:00:00+00:00   \n",
       "6828          CE            Cease 2019-09-17 00:00:00+00:00   \n",
       "\n",
       "     ORIGINAL_SALES_CHANNEL_DESC CURRENT_SALES_CHANNEL_DESC  \\\n",
       "6826          Telkom Direct Shop         Telkom Direct Shop   \n",
       "6827          Telkom Direct Shop         Telkom Direct Shop   \n",
       "6828          Telkom Direct Shop         Telkom Direct Shop   \n",
       "\n",
       "                    DEAL_DESC                 PROV_DATE  \\\n",
       "6826  TBiz BB Capped Advanced 2019-09-17 14:59:16+00:00   \n",
       "6827  TBiz BB Capped Advanced 2019-09-17 23:59:59+00:00   \n",
       "6828  TBiz BB Capped Advanced 2019-09-17 23:59:59+00:00   \n",
       "\n",
       "                 ...              CUSTOMER_TYPE_DESC  \\\n",
       "6826             ...                           Small   \n",
       "6827             ...                           Small   \n",
       "6828             ...                           Small   \n",
       "\n",
       "                                        combo stage                first_date  \\\n",
       "6826  6076150216499066653_2674119506241389658     1 2019-09-17 14:47:20+00:00   \n",
       "6827  2349405019545791832_2674119506241389658     1 2019-09-17 14:47:21+00:00   \n",
       "6828  8551270563082250674_2674119506241389658     1 2019-09-17 14:47:21+00:00   \n",
       "\n",
       "                     last_date final_stage  accumulated_time  \\\n",
       "6826 2019-09-17 14:47:20+00:00           1               0.0   \n",
       "6827 2019-09-17 14:47:21+00:00           1               0.0   \n",
       "6828 2019-09-17 14:47:21+00:00           1               0.0   \n",
       "\n",
       "      total_journey_time ActionType_OrderStatus stage_ActionType_OrderStatus  \n",
       "6826                 0.0           Cease * Done            1) * Cease * Done  \n",
       "6827                 0.0           Cease * Done            1) * Cease * Done  \n",
       "6828                 0.0           Cease * Done            1) * Cease * Done  \n",
       "\n",
       "[3 rows x 29 columns]"
      ]
     },
     "execution_count": 84,
     "metadata": {},
     "output_type": "execute_result"
    }
   ],
   "source": [
    "orders_df.tail(3)"
   ]
  },
  {
   "cell_type": "code",
   "execution_count": null,
   "metadata": {},
   "outputs": [],
   "source": []
  },
  {
   "cell_type": "code",
   "execution_count": 85,
   "metadata": {},
   "outputs": [],
   "source": [
    "customers = list(orders_df[unique_col].unique())"
   ]
  },
  {
   "cell_type": "code",
   "execution_count": 86,
   "metadata": {},
   "outputs": [
    {
     "data": {
      "text/html": [
       "<div>\n",
       "<style scoped>\n",
       "    .dataframe tbody tr th:only-of-type {\n",
       "        vertical-align: middle;\n",
       "    }\n",
       "\n",
       "    .dataframe tbody tr th {\n",
       "        vertical-align: top;\n",
       "    }\n",
       "\n",
       "    .dataframe thead th {\n",
       "        text-align: right;\n",
       "    }\n",
       "</style>\n",
       "<table border=\"1\" class=\"dataframe\">\n",
       "  <thead>\n",
       "    <tr style=\"text-align: right;\">\n",
       "      <th></th>\n",
       "      <th>ORDER_STATUS_DESC</th>\n",
       "      <th>ORDER_CREATION_DATE</th>\n",
       "      <th>ACTION_STATUS_DESC</th>\n",
       "      <th>ACTION_TYPE</th>\n",
       "      <th>ACTION_TYPE_DESC</th>\n",
       "      <th>ACTION_CREATION_DATE</th>\n",
       "      <th>ORIGINAL_SALES_CHANNEL_DESC</th>\n",
       "      <th>CURRENT_SALES_CHANNEL_DESC</th>\n",
       "      <th>DEAL_DESC</th>\n",
       "      <th>PROV_DATE</th>\n",
       "      <th>...</th>\n",
       "      <th>CUSTOMER_TYPE_DESC</th>\n",
       "      <th>combo</th>\n",
       "      <th>stage</th>\n",
       "      <th>first_date</th>\n",
       "      <th>last_date</th>\n",
       "      <th>final_stage</th>\n",
       "      <th>accumulated_time</th>\n",
       "      <th>total_journey_time</th>\n",
       "      <th>ActionType_OrderStatus</th>\n",
       "      <th>stage_ActionType_OrderStatus</th>\n",
       "    </tr>\n",
       "  </thead>\n",
       "  <tbody>\n",
       "    <tr>\n",
       "      <th>591</th>\n",
       "      <td>Done</td>\n",
       "      <td>2018-10-10 13:54:29+00:00</td>\n",
       "      <td>Done</td>\n",
       "      <td>PR</td>\n",
       "      <td>Provide</td>\n",
       "      <td>2018-10-10 00:00:00+00:00</td>\n",
       "      <td>Deregulated PABX Suppliers</td>\n",
       "      <td>Deregulated PABX Suppliers</td>\n",
       "      <td>TBiz BB Capped Advanced</td>\n",
       "      <td>2018-10-10 13:55:44+00:00</td>\n",
       "      <td>...</td>\n",
       "      <td>None</td>\n",
       "      <td>5100925659296341771_-152669041816858573</td>\n",
       "      <td>4</td>\n",
       "      <td>2018-10-10 13:43:57+00:00</td>\n",
       "      <td>2018-10-10 13:54:29+00:00</td>\n",
       "      <td>4</td>\n",
       "      <td>632.0</td>\n",
       "      <td>632.0</td>\n",
       "      <td>Provide * Done</td>\n",
       "      <td>4) * Provide * Done</td>\n",
       "    </tr>\n",
       "    <tr>\n",
       "      <th>413</th>\n",
       "      <td>Done</td>\n",
       "      <td>2018-10-09 14:54:01+00:00</td>\n",
       "      <td>Done</td>\n",
       "      <td>CM</td>\n",
       "      <td>Cease Part Of Move</td>\n",
       "      <td>2018-10-02 00:00:00+00:00</td>\n",
       "      <td>Consumer Sales</td>\n",
       "      <td>Consumer Sales</td>\n",
       "      <td>TBiz BB Capped Advanced</td>\n",
       "      <td>2018-10-09 14:56:35+00:00</td>\n",
       "      <td>...</td>\n",
       "      <td>None</td>\n",
       "      <td>3842282672409691663_4834273730448523809</td>\n",
       "      <td>4</td>\n",
       "      <td>2018-10-02 14:54:19+00:00</td>\n",
       "      <td>2018-10-09 14:54:01+00:00</td>\n",
       "      <td>4</td>\n",
       "      <td>604782.0</td>\n",
       "      <td>604782.0</td>\n",
       "      <td>Cease Part Of Move * Done</td>\n",
       "      <td>4) * Cease Part Of Move * Done</td>\n",
       "    </tr>\n",
       "    <tr>\n",
       "      <th>590</th>\n",
       "      <td>Done</td>\n",
       "      <td>2018-10-10 13:54:29+00:00</td>\n",
       "      <td>Done</td>\n",
       "      <td>PR</td>\n",
       "      <td>Provide</td>\n",
       "      <td>2018-10-10 00:00:00+00:00</td>\n",
       "      <td>Deregulated PABX Suppliers</td>\n",
       "      <td>Deregulated PABX Suppliers</td>\n",
       "      <td>TBiz BB Capped Advanced</td>\n",
       "      <td>2018-10-10 13:55:45+00:00</td>\n",
       "      <td>...</td>\n",
       "      <td>None</td>\n",
       "      <td>5100925659296341771_-152669041816858573</td>\n",
       "      <td>3</td>\n",
       "      <td>2018-10-10 13:43:57+00:00</td>\n",
       "      <td>2018-10-10 13:54:29+00:00</td>\n",
       "      <td>4</td>\n",
       "      <td>632.0</td>\n",
       "      <td>632.0</td>\n",
       "      <td>Provide * Done</td>\n",
       "      <td>3) * Provide * Done</td>\n",
       "    </tr>\n",
       "  </tbody>\n",
       "</table>\n",
       "<p>3 rows × 29 columns</p>\n",
       "</div>"
      ],
      "text/plain": [
       "    ORDER_STATUS_DESC       ORDER_CREATION_DATE ACTION_STATUS_DESC  \\\n",
       "591              Done 2018-10-10 13:54:29+00:00               Done   \n",
       "413              Done 2018-10-09 14:54:01+00:00               Done   \n",
       "590              Done 2018-10-10 13:54:29+00:00               Done   \n",
       "\n",
       "    ACTION_TYPE    ACTION_TYPE_DESC      ACTION_CREATION_DATE  \\\n",
       "591          PR             Provide 2018-10-10 00:00:00+00:00   \n",
       "413          CM  Cease Part Of Move 2018-10-02 00:00:00+00:00   \n",
       "590          PR             Provide 2018-10-10 00:00:00+00:00   \n",
       "\n",
       "    ORIGINAL_SALES_CHANNEL_DESC  CURRENT_SALES_CHANNEL_DESC  \\\n",
       "591  Deregulated PABX Suppliers  Deregulated PABX Suppliers   \n",
       "413              Consumer Sales              Consumer Sales   \n",
       "590  Deregulated PABX Suppliers  Deregulated PABX Suppliers   \n",
       "\n",
       "                   DEAL_DESC                 PROV_DATE  \\\n",
       "591  TBiz BB Capped Advanced 2018-10-10 13:55:44+00:00   \n",
       "413  TBiz BB Capped Advanced 2018-10-09 14:56:35+00:00   \n",
       "590  TBiz BB Capped Advanced 2018-10-10 13:55:45+00:00   \n",
       "\n",
       "                  ...               CUSTOMER_TYPE_DESC  \\\n",
       "591               ...                             None   \n",
       "413               ...                             None   \n",
       "590               ...                             None   \n",
       "\n",
       "                                       combo stage                first_date  \\\n",
       "591  5100925659296341771_-152669041816858573     4 2018-10-10 13:43:57+00:00   \n",
       "413  3842282672409691663_4834273730448523809     4 2018-10-02 14:54:19+00:00   \n",
       "590  5100925659296341771_-152669041816858573     3 2018-10-10 13:43:57+00:00   \n",
       "\n",
       "                    last_date final_stage  accumulated_time  \\\n",
       "591 2018-10-10 13:54:29+00:00           4             632.0   \n",
       "413 2018-10-09 14:54:01+00:00           4          604782.0   \n",
       "590 2018-10-10 13:54:29+00:00           4             632.0   \n",
       "\n",
       "     total_journey_time     ActionType_OrderStatus  \\\n",
       "591               632.0             Provide * Done   \n",
       "413            604782.0  Cease Part Of Move * Done   \n",
       "590               632.0             Provide * Done   \n",
       "\n",
       "       stage_ActionType_OrderStatus  \n",
       "591             4) * Provide * Done  \n",
       "413  4) * Cease Part Of Move * Done  \n",
       "590             3) * Provide * Done  \n",
       "\n",
       "[3 rows x 29 columns]"
      ]
     },
     "execution_count": 86,
     "metadata": {},
     "output_type": "execute_result"
    }
   ],
   "source": [
    "sorted_df = orders_df.sort_values('stage', ascending=False)\n",
    "sorted_df.head(3)"
   ]
  },
  {
   "cell_type": "code",
   "execution_count": null,
   "metadata": {},
   "outputs": [],
   "source": []
  },
  {
   "cell_type": "code",
   "execution_count": 87,
   "metadata": {},
   "outputs": [
    {
     "data": {
      "text/plain": [
       "149"
      ]
     },
     "execution_count": 87,
     "metadata": {},
     "output_type": "execute_result"
    }
   ],
   "source": [
    "len(orders_df[orders_df['stage']=='2'])"
   ]
  },
  {
   "cell_type": "code",
   "execution_count": 88,
   "metadata": {},
   "outputs": [
    {
     "data": {
      "text/plain": [
       "1862"
      ]
     },
     "execution_count": 88,
     "metadata": {},
     "output_type": "execute_result"
    }
   ],
   "source": [
    "len(customers)"
   ]
  },
  {
   "cell_type": "markdown",
   "metadata": {},
   "source": [
    "## Create graph components"
   ]
  },
  {
   "cell_type": "code",
   "execution_count": 89,
   "metadata": {},
   "outputs": [],
   "source": [
    "#setting notebook figuure size\n",
    "%matplotlib inline\n",
    "plt.rcParams['figure.figsize'] = [20, 20]"
   ]
  },
  {
   "cell_type": "code",
   "execution_count": 90,
   "metadata": {},
   "outputs": [],
   "source": [
    "# Create a networkx graph object\n",
    "J = nx.Graph()"
   ]
  },
  {
   "cell_type": "code",
   "execution_count": 91,
   "metadata": {},
   "outputs": [],
   "source": [
    "J.clear()"
   ]
  },
  {
   "cell_type": "code",
   "execution_count": 92,
   "metadata": {},
   "outputs": [
    {
     "data": {
      "text/plain": [
       "4"
      ]
     },
     "execution_count": 92,
     "metadata": {},
     "output_type": "execute_result"
    }
   ],
   "source": [
    "max_stage=max(orders_df['stage'].astype(int))\n",
    "max_stage"
   ]
  },
  {
   "cell_type": "code",
   "execution_count": 93,
   "metadata": {},
   "outputs": [],
   "source": [
    "actions = list(orders_df['stage_ActionType_OrderStatus'].unique())"
   ]
  },
  {
   "cell_type": "code",
   "execution_count": 94,
   "metadata": {},
   "outputs": [],
   "source": [
    "for i in range(1,max_stage+1):\n",
    "  \n",
    "  stage_actions = list(orders_df[orders_df['stage']==str(i)]['stage_ActionType_OrderStatus'].unique())\n",
    "  #print(stage_actions)\n",
    "  for k in range(len(stage_actions)):\n",
    "    label = stage_actions[k]\n",
    "    #print(label)\n",
    "    #print(len(orders_df[orders_df['stage_ActionType_OrderStatus']==label]))\n",
    "    label = label.split('* ',1)\n",
    "    label = label[1]\n",
    "    #print(label)\n",
    "    height =  type_status.index(label) +1\n",
    "    #print(height)\n",
    "    #print(height)\n",
    "    J.add_node(stage_actions[k],posi=((max_string_len*0.01)+(max_stage*0.01)+(i*1.25),height), acc_time = 0, node_count = len(orders_df[orders_df['stage_ActionType_OrderStatus']==stage_actions[k]]))\n",
    "    #print(stage_actions[k])\n",
    "    #print((i,k+1))"
   ]
  },
  {
   "cell_type": "code",
   "execution_count": 95,
   "metadata": {},
   "outputs": [
    {
     "data": {
      "text/plain": [
       "NodeDataView({'4) * Provide * Done': {'node_count': 1, 'posi': (5.45, 18), 'acc_time': 0}, '1) * Cease Part Of Migrate * Done': {'node_count': 526, 'posi': (1.7, 7), 'acc_time': 0}, '2) * Cease * Done': {'node_count': 2, 'posi': (2.95, 3), 'acc_time': 0}, '1) * Move Outdoor Other Exchange * Cancelled': {'node_count': 2, 'posi': (1.7, 14), 'acc_time': 0}, '1) * Cease Part Of Migrate * Cancelled': {'node_count': 199, 'posi': (1.7, 5), 'acc_time': 0}, '3) * Move Outdoor Other Exchange * Done': {'node_count': 1, 'posi': (4.2, 15), 'acc_time': 0}, '1) * Cease * Negotiation': {'node_count': 8, 'posi': (1.7, 4), 'acc_time': 0}, '1) * Provide Part Of Move * Cancelled': {'node_count': 4, 'posi': (1.7, 22), 'acc_time': 0}, '1) * Cease due to Collection * Cancelled': {'node_count': 2, 'posi': (1.7, 12), 'acc_time': 0}, '2) * Cease Part Of Migrate * Done': {'node_count': 107, 'posi': (2.95, 7), 'acc_time': 0}, '2) * Provide Part Of Migrate * Done': {'node_count': 10, 'posi': (2.95, 21), 'acc_time': 0}, '1) * Cease Part Of Move * Done': {'node_count': 1, 'posi': (1.7, 10), 'acc_time': 0}, '1) * Cease due to Collection * Done': {'node_count': 262, 'posi': (1.7, 13), 'acc_time': 0}, '1) * Cease * Delivery': {'node_count': 4, 'posi': (1.7, 2), 'acc_time': 0}, '1) * Cease Part Of Migrate * Completion': {'node_count': 2, 'posi': (1.7, 6), 'acc_time': 0}, '1) * Provide Same As * Cancelled': {'node_count': 2, 'posi': (1.7, 24), 'acc_time': 0}, '1) * Move Outdoor Other Exchange * Negotiation': {'node_count': 1, 'posi': (1.7, 16), 'acc_time': 0}, '1) * Cease * Cancelled': {'node_count': 29, 'posi': (1.7, 1), 'acc_time': 0}, '2) * Cease Part Of Move * Cancelled': {'node_count': 2, 'posi': (2.95, 9), 'acc_time': 0}, '1) * Provide Part Of Move * Done': {'node_count': 3, 'posi': (1.7, 23), 'acc_time': 0}, '2) * Receive  Ownership * Done': {'node_count': 2, 'posi': (2.95, 26), 'acc_time': 0}, '2) * Cease Part Of Move * Negotiation': {'node_count': 1, 'posi': (2.95, 11), 'acc_time': 0}, '1) * Cease * Done': {'node_count': 615, 'posi': (1.7, 3), 'acc_time': 0}, '1) * Provide * Done': {'node_count': 51, 'posi': (1.7, 18), 'acc_time': 0}, '1) * Provide * Cancelled': {'node_count': 22, 'posi': (1.7, 17), 'acc_time': 0}, '1) * Receive  Ownership * Done': {'node_count': 30, 'posi': (1.7, 26), 'acc_time': 0}, '1) * Cease Part Of Migrate * Negotiation': {'node_count': 6, 'posi': (1.7, 8), 'acc_time': 0}, '2) * Provide * Cancelled': {'node_count': 5, 'posi': (2.95, 17), 'acc_time': 0}, '2) * Provide * Done': {'node_count': 14, 'posi': (2.95, 18), 'acc_time': 0}, '4) * Cease Part Of Move * Done': {'node_count': 1, 'posi': (5.45, 10), 'acc_time': 0}, '1) * Provide Part Of Migrate * Amended': {'node_count': 1, 'posi': (1.7, 19), 'acc_time': 0}, '1) * Provide Part Of Migrate * Cancelled': {'node_count': 14, 'posi': (1.7, 20), 'acc_time': 0}, '3) * Provide * Done': {'node_count': 1, 'posi': (4.2, 18), 'acc_time': 0}, '1) * Move Outdoor Other Exchange * Done': {'node_count': 3, 'posi': (1.7, 15), 'acc_time': 0}, '3) * Provide * Cancelled': {'node_count': 2, 'posi': (4.2, 17), 'acc_time': 0}, '2) * Provide Part Of Move * Done': {'node_count': 3, 'posi': (2.95, 23), 'acc_time': 0}, '1) * Provide Part Of Migrate * Done': {'node_count': 70, 'posi': (1.7, 21), 'acc_time': 0}, '1) * Receive  Ownership * Cancelled': {'node_count': 5, 'posi': (1.7, 25), 'acc_time': 0}, '2) * Cease Part Of Move * Done': {'node_count': 3, 'posi': (2.95, 10), 'acc_time': 0}})"
      ]
     },
     "execution_count": 95,
     "metadata": {},
     "output_type": "execute_result"
    }
   ],
   "source": [
    "J.nodes(data = True)"
   ]
  },
  {
   "cell_type": "code",
   "execution_count": 96,
   "metadata": {},
   "outputs": [],
   "source": [
    "#Create label nodes\n",
    "L = nx.Graph()"
   ]
  },
  {
   "cell_type": "code",
   "execution_count": 97,
   "metadata": {},
   "outputs": [],
   "source": [
    "for l in range(len(type_status)):\n",
    "    label_start = type_status[l]\n",
    "    height =  type_status.index(label_start) +1\n",
    "    L.add_node(label_start,posi=(0.15,height))\n",
    "    #print(label_start)"
   ]
  },
  {
   "cell_type": "code",
   "execution_count": 98,
   "metadata": {},
   "outputs": [
    {
     "data": {
      "image/png": "[encoded data removed]",
      "text/plain": [
       "<Figure size 1440x1440 with 1 Axes>"
      ]
     },
     "metadata": {},
     "output_type": "display_data"
    }
   ],
   "source": [
    "# Draw the resulting graph\n",
    "pos = nx.get_node_attributes(J,'posi')\n",
    "nx.draw(J, pos ,with_labels=True, font_weight='bold', font_size = 7)\n",
    "plt.show()"
   ]
  },
  {
   "cell_type": "code",
   "execution_count": 99,
   "metadata": {},
   "outputs": [],
   "source": [
    "# clear edges\n",
    "J.remove_edges_from(list(J.edges()))"
   ]
  },
  {
   "cell_type": "code",
   "execution_count": 100,
   "metadata": {},
   "outputs": [],
   "source": [
    "#create edges with data (count, days, ave_days)\n",
    "# accumulated time for nodes\n",
    "\n",
    "date_col = orders_df.columns.get_loc('ORDER_CREATION_DATE')\n",
    "acc_col = orders_df.columns.get_loc('accumulated_time')\n",
    "kpi = 5*((60*60*24)/time_multiplier)\n",
    "\n",
    "for c in customers:\n",
    "\n",
    "    temp_df = orders_df[orders_df[unique_col] == c]\n",
    "  \n",
    "    for i in range(len(temp_df)-1):\n",
    "        #print(i, c)\n",
    "        if J.has_edge(temp_df.iloc[i, -1], temp_df.iloc[(i+1),-1]) == False:\n",
    "            #print(temp_df.iloc[i, -1], temp_df.iloc[(i+1),-1])\n",
    "            #print(temp_df.iloc[i,-4], temp_df.iloc[(i+1),-4])\n",
    "            J.add_edge(temp_df.iloc[i, -1], temp_df.iloc[(i+1),-1])\n",
    "            J.edges[temp_df.iloc[i, -1],temp_df.iloc[(i+1),-1]]['count'] = 1\n",
    "            difference = (temp_df.iloc[(i+1),date_col]-temp_df.iloc[i, date_col])\n",
    "            J.edges[temp_df.iloc[i, -1],temp_df.iloc[(i+1),-1]]['days'] = round(difference.total_seconds()/(time_multiplier),1)\n",
    "            J.edges[temp_df.iloc[i, -1],temp_df.iloc[(i+1),-1]]['ave_days'] = round(J.edges[temp_df.iloc[i, -1],temp_df.iloc[(i+1),-1]]['days']/ J.edges[temp_df.iloc[i, -1],temp_df.iloc[(i+1),-1]]['count'],1)\n",
    "            \n",
    "            acc_current = J.nodes[temp_df.iloc[(i+1),-1]]['acc_time']\n",
    "            J.nodes[temp_df.iloc[(i+1),-1]]['acc_time'] = round(acc_current + temp_df.iloc[(i+1),acc_col]/(time_multiplier),1) #acc_col is accumulated_time\n",
    "            #J.nodes[temp_df.iloc[(i+1),-1]]['node_count'] += 1\n",
    "            \n",
    "            \n",
    "            if J.edges[temp_df.iloc[i, -1],temp_df.iloc[(i+1),-1]]['ave_days'] > kpi:\n",
    "                J.edges[temp_df.iloc[i, -1],temp_df.iloc[(i+1),-1]]['color'] = 'red'\n",
    "            else:\n",
    "                J.edges[temp_df.iloc[i, -1],temp_df.iloc[(i+1),-1]]['color'] = 'green'\n",
    "\n",
    "        else:\n",
    "            current_count = J.edges[temp_df.iloc[i, -1],temp_df.iloc[(i+1),-1]]['count']\n",
    "            J.edges[temp_df.iloc[i, -1],temp_df.iloc[(i+1),-1]]['count'] = current_count + 1\n",
    "\n",
    "            current_days =  J.edges[temp_df.iloc[i, -1],temp_df.iloc[(i+1),-1]]['days']\n",
    "            difference = (temp_df.iloc[(i+1),date_col]-temp_df.iloc[i, date_col])\n",
    "            J.edges[temp_df.iloc[i, -1],temp_df.iloc[(i+1),-1]]['days'] = round(current_days + difference.total_seconds()/(time_multiplier),1)\n",
    "\n",
    "            J.edges[temp_df.iloc[i, -1],temp_df.iloc[(i+1),-1]]['ave_days'] = round(J.edges[temp_df.iloc[i, -1],temp_df.iloc[(i+1),-1]]['days']/ J.edges[temp_df.iloc[i, -1],temp_df.iloc[(i+1),-1]]['count'],1)\n",
    "            \n",
    "            acc_current = J.nodes[temp_df.iloc[(i+1),-1]]['acc_time']\n",
    "            J.nodes[temp_df.iloc[(i+1),-1]]['acc_time'] = round(acc_current + temp_df.iloc[(i+1),acc_col]/(time_multiplier),1) #acc_col is accumulated_time         \n",
    "            #J.nodes[temp_df.iloc[(i+1),-1]]['node_count'] += 1\n",
    "            \n",
    "            if J.edges[temp_df.iloc[i, -1],temp_df.iloc[(i+1),-1]]['ave_days'] > kpi:\n",
    "                J.edges[temp_df.iloc[i, -1],temp_df.iloc[(i+1),-1]]['color'] = 'red'\n",
    "            else:\n",
    "                J.edges[temp_df.iloc[i, -1],temp_df.iloc[(i+1),-1]]['color'] = 'green'\n"
   ]
  },
  {
   "cell_type": "code",
   "execution_count": 101,
   "metadata": {},
   "outputs": [],
   "source": [
    "for j in J.nodes:\n",
    "    #print(j)\n",
    "    #print(J.nodes[j]['acc_time'])\n",
    "    #print(J.nodes[j]['node_count'])\n",
    "    J.nodes[j]['ave_journey'] = round(J.nodes[j]['acc_time']/J.nodes[j]['node_count'],1)\n",
    "    "
   ]
  },
  {
   "cell_type": "code",
   "execution_count": 102,
   "metadata": {},
   "outputs": [
    {
     "name": "stdout",
     "output_type": "stream",
     "text": [
      "Total Counts 155\n",
      "Total Counts 155\n",
      "Max Count 102\n",
      "Min Count 1\n",
      "Ave Count 8.61111111111111\n"
     ]
    }
   ],
   "source": [
    "# add edge weight attribute\n",
    "\n",
    "all_counts = []\n",
    "\n",
    "#Iterate through the graph edges to gather all the weights\n",
    "for (node1,node2,data) in J.edges(data=True):\n",
    "    all_counts.append(data['count']) \n",
    "\n",
    "    \n",
    "total_count = sum(all_counts)\n",
    "print('Total Counts',total_count)\n",
    "\n",
    "if total_count > 0:\n",
    "    max_count = max(all_counts)\n",
    "    min_count = min(all_counts)\n",
    "    ave_count = total_count/len(all_counts)\n",
    "    scale = 10\n",
    "\n",
    "    print('Total Counts',total_count)\n",
    "    print('Max Count',max_count)\n",
    "    print('Min Count', min_count)\n",
    "    print('Ave Count',ave_count)\n",
    "\n",
    "\n",
    "    if (max_count-min_count) == 0:\n",
    "        for (node1,node2,data) in J.edges(data=True):\n",
    "            J.edges[node1,node2]['weight'] = round(J.edges[node1,node2]['count'],1)\n",
    "\n",
    "    else:                                                \n",
    "        for (node1,node2,data) in J.edges(data=True):\n",
    "            J.edges[node1,node2]['weight'] = round(((J.edges[node1,node2]['count']-min_count)/(max_count-min_count))*scale+1,1)\n",
    "    "
   ]
  },
  {
   "cell_type": "code",
   "execution_count": 103,
   "metadata": {},
   "outputs": [
    {
     "data": {
      "text/plain": [
       "EdgeDataView([('4) * Provide * Done', '3) * Provide * Done', {'weight': 1.0, 'color': 'green', 'ave_days': 0.0, 'days': 0.0, 'count': 1}), ('1) * Cease Part Of Migrate * Done', '2) * Cease Part Of Migrate * Done', {'weight': 1.4, 'color': 'green', 'ave_days': 0.0, 'days': 0.0, 'count': 5}), ('1) * Cease Part Of Migrate * Done', '2) * Provide Part Of Migrate * Done', {'weight': 1.1, 'color': 'green', 'ave_days': 0.0, 'days': 0.0, 'count': 2}), ('1) * Provide Part Of Move * Cancelled', '2) * Provide Part Of Move * Done', {'weight': 1.2, 'color': 'red', 'ave_days': 1025.6, 'days': 3076.8, 'count': 3}), ('2) * Cease * Done', '1) * Cease * Cancelled', {'weight': 1.1, 'color': 'green', 'ave_days': 2.1, 'days': 4.2, 'count': 2}), ('2) * Receive  Ownership * Done', '1) * Receive  Ownership * Cancelled', {'weight': 1.1, 'color': 'red', 'ave_days': 384.6, 'days': 769.3, 'count': 2}), ('2) * Cease Part Of Move * Done', '1) * Move Outdoor Other Exchange * Done', {'weight': 1.2, 'color': 'green', 'ave_days': 33.0, 'days': 98.9, 'count': 3}), ('2) * Provide * Done', '1) * Provide * Cancelled', {'weight': 2.3, 'color': 'green', 'ave_days': 30.5, 'days': 427.0, 'count': 14}), ('1) * Cease Part Of Migrate * Cancelled', '2) * Cease Part Of Migrate * Done', {'weight': 11.0, 'color': 'red', 'ave_days': 181.6, 'days': 18526.7, 'count': 102}), ('3) * Move Outdoor Other Exchange * Done', '2) * Cease Part Of Move * Cancelled', {'weight': 1.0, 'color': 'red', 'ave_days': 167.9, 'days': 167.9, 'count': 1}), ('3) * Move Outdoor Other Exchange * Done', '4) * Cease Part Of Move * Done', {'weight': 1.0, 'color': 'green', 'ave_days': 0.0, 'days': 0.0, 'count': 1}), ('1) * Provide Part Of Migrate * Cancelled', '2) * Provide Part Of Migrate * Done', {'weight': 1.6, 'color': 'green', 'ave_days': 41.9, 'days': 293.1, 'count': 7}), ('2) * Provide Part Of Migrate * Done', '1) * Provide Part Of Migrate * Amended', {'weight': 1.0, 'color': 'red', 'ave_days': 263.8, 'days': 263.8, 'count': 1}), ('1) * Move Outdoor Other Exchange * Negotiation', '2) * Cease Part Of Move * Negotiation', {'weight': 1.0, 'color': 'green', 'ave_days': 0.0, 'days': 0.0, 'count': 1}), ('2) * Cease Part Of Move * Cancelled', '1) * Move Outdoor Other Exchange * Cancelled', {'weight': 1.1, 'color': 'green', 'ave_days': 0.1, 'days': 0.1, 'count': 2}), ('3) * Provide * Cancelled', '2) * Provide * Cancelled', {'weight': 1.1, 'color': 'green', 'ave_days': 0.0, 'days': 0.0, 'count': 2}), ('2) * Provide * Cancelled', '3) * Provide * Done', {'weight': 1.0, 'color': 'green', 'ave_days': 0.2, 'days': 0.2, 'count': 1}), ('2) * Provide * Cancelled', '1) * Provide * Cancelled', {'weight': 1.4, 'color': 'green', 'ave_days': 0.0, 'days': 0.0, 'count': 5})])"
      ]
     },
     "execution_count": 103,
     "metadata": {},
     "output_type": "execute_result"
    }
   ],
   "source": [
    "J.edges(data=True)"
   ]
  },
  {
   "cell_type": "code",
   "execution_count": 104,
   "metadata": {},
   "outputs": [
    {
     "data": {
      "text/plain": [
       "NodeDataView({'4) * Provide * Done': {'node_count': 1, 'posi': (5.45, 18), 'ave_journey': 0.2, 'acc_time': 0.2}, '1) * Cease Part Of Migrate * Done': {'node_count': 526, 'posi': (1.7, 7), 'ave_journey': 0.0, 'acc_time': 0}, '2) * Cease * Done': {'node_count': 2, 'posi': (2.95, 3), 'ave_journey': 2.1, 'acc_time': 4.2}, '1) * Move Outdoor Other Exchange * Cancelled': {'node_count': 2, 'posi': (1.7, 14), 'ave_journey': 0.0, 'acc_time': 0}, '1) * Cease Part Of Migrate * Cancelled': {'node_count': 199, 'posi': (1.7, 5), 'ave_journey': 0.0, 'acc_time': 0}, '3) * Move Outdoor Other Exchange * Done': {'node_count': 1, 'posi': (4.2, 15), 'ave_journey': 168.0, 'acc_time': 168.0}, '1) * Cease * Negotiation': {'node_count': 8, 'posi': (1.7, 4), 'ave_journey': 0.0, 'acc_time': 0}, '1) * Provide Part Of Move * Cancelled': {'node_count': 4, 'posi': (1.7, 22), 'ave_journey': 0.0, 'acc_time': 0}, '1) * Cease due to Collection * Cancelled': {'node_count': 2, 'posi': (1.7, 12), 'ave_journey': 0.0, 'acc_time': 0}, '2) * Cease Part Of Migrate * Done': {'node_count': 107, 'posi': (2.95, 7), 'ave_journey': 173.1, 'acc_time': 18526.8}, '2) * Provide Part Of Migrate * Done': {'node_count': 10, 'posi': (2.95, 21), 'ave_journey': 55.7, 'acc_time': 556.9}, '1) * Cease Part Of Move * Done': {'node_count': 1, 'posi': (1.7, 10), 'ave_journey': 0.0, 'acc_time': 0}, '1) * Cease due to Collection * Done': {'node_count': 262, 'posi': (1.7, 13), 'ave_journey': 0.0, 'acc_time': 0}, '1) * Cease * Delivery': {'node_count': 4, 'posi': (1.7, 2), 'ave_journey': 0.0, 'acc_time': 0}, '1) * Cease Part Of Migrate * Completion': {'node_count': 2, 'posi': (1.7, 6), 'ave_journey': 0.0, 'acc_time': 0}, '1) * Provide Same As * Cancelled': {'node_count': 2, 'posi': (1.7, 24), 'ave_journey': 0.0, 'acc_time': 0}, '1) * Move Outdoor Other Exchange * Negotiation': {'node_count': 1, 'posi': (1.7, 16), 'ave_journey': 0.0, 'acc_time': 0}, '1) * Cease * Cancelled': {'node_count': 29, 'posi': (1.7, 1), 'ave_journey': 0.0, 'acc_time': 0}, '2) * Cease Part Of Move * Cancelled': {'node_count': 2, 'posi': (2.95, 9), 'ave_journey': 0.0, 'acc_time': 0.1}, '1) * Provide Part Of Move * Done': {'node_count': 3, 'posi': (1.7, 23), 'ave_journey': 0.0, 'acc_time': 0}, '2) * Receive  Ownership * Done': {'node_count': 2, 'posi': (2.95, 26), 'ave_journey': 384.6, 'acc_time': 769.3}, '2) * Cease Part Of Move * Negotiation': {'node_count': 1, 'posi': (2.95, 11), 'ave_journey': 0.0, 'acc_time': 0.0}, '1) * Cease * Done': {'node_count': 615, 'posi': (1.7, 3), 'ave_journey': 0.0, 'acc_time': 0}, '1) * Provide * Done': {'node_count': 51, 'posi': (1.7, 18), 'ave_journey': 0.0, 'acc_time': 0}, '1) * Provide * Cancelled': {'node_count': 22, 'posi': (1.7, 17), 'ave_journey': 0.0, 'acc_time': 0}, '1) * Receive  Ownership * Done': {'node_count': 30, 'posi': (1.7, 26), 'ave_journey': 0.0, 'acc_time': 0}, '1) * Cease Part Of Migrate * Negotiation': {'node_count': 6, 'posi': (1.7, 8), 'ave_journey': 0.0, 'acc_time': 0}, '2) * Provide * Cancelled': {'node_count': 5, 'posi': (2.95, 17), 'ave_journey': 0.0, 'acc_time': 0.0}, '2) * Provide * Done': {'node_count': 14, 'posi': (2.95, 18), 'ave_journey': 30.5, 'acc_time': 427.0}, '4) * Cease Part Of Move * Done': {'node_count': 1, 'posi': (5.45, 10), 'ave_journey': 168.0, 'acc_time': 168.0}, '1) * Provide Part Of Migrate * Amended': {'node_count': 1, 'posi': (1.7, 19), 'ave_journey': 0.0, 'acc_time': 0}, '1) * Provide Part Of Migrate * Cancelled': {'node_count': 14, 'posi': (1.7, 20), 'ave_journey': 0.0, 'acc_time': 0}, '3) * Provide * Done': {'node_count': 1, 'posi': (4.2, 18), 'ave_journey': 0.2, 'acc_time': 0.2}, '1) * Move Outdoor Other Exchange * Done': {'node_count': 3, 'posi': (1.7, 15), 'ave_journey': 0.0, 'acc_time': 0}, '3) * Provide * Cancelled': {'node_count': 2, 'posi': (4.2, 17), 'ave_journey': 0.0, 'acc_time': 0.0}, '2) * Provide Part Of Move * Done': {'node_count': 3, 'posi': (2.95, 23), 'ave_journey': 1025.6, 'acc_time': 3076.8}, '1) * Provide Part Of Migrate * Done': {'node_count': 70, 'posi': (1.7, 21), 'ave_journey': 0.0, 'acc_time': 0}, '1) * Receive  Ownership * Cancelled': {'node_count': 5, 'posi': (1.7, 25), 'ave_journey': 0.0, 'acc_time': 0}, '2) * Cease Part Of Move * Done': {'node_count': 3, 'posi': (2.95, 10), 'ave_journey': 33.0, 'acc_time': 98.9}})"
      ]
     },
     "execution_count": 104,
     "metadata": {},
     "output_type": "execute_result"
    }
   ],
   "source": [
    "J.nodes(data = True)"
   ]
  },
  {
   "cell_type": "code",
   "execution_count": 105,
   "metadata": {},
   "outputs": [
    {
     "data": {
      "image/png": "[encoded data removed]",
      "text/plain": [
       "<Figure size 1440x1440 with 1 Axes>"
      ]
     },
     "metadata": {},
     "output_type": "display_data"
    }
   ],
   "source": [
    "# Draw the resulting graph\n",
    "\n",
    "#mpl_fig = plt.figure()\n",
    "mpl_fig, ax = plt.subplots(1,1)\n",
    "\n",
    "#pos = nx.circular_layout(J)\n",
    "pos = nx.get_node_attributes(J,'posi')\n",
    "edges,colors = zip(*nx.get_edge_attributes(J,'color').items())\n",
    "edges,width = zip(*nx.get_edge_attributes(J,'weight').items())\n",
    "\n",
    "\n",
    "nx.draw(J,pos, ax=ax, with_labels=True, font_weight='bold', font_size = 8, edgelist=edges, edge_color=colors, width = width\n",
    "       )\n",
    "\n",
    "edge_labels  = nx.get_edge_attributes(J,'ave_days')\n",
    "#label_color  = nx.get_edge_attributes(J,'color').values()\n",
    "\n",
    "#print(pos)\n",
    "\n",
    "for e in J.edges(data=True):\n",
    "    #print(e)\n",
    "    #print(e[0])\n",
    "    #print(e[1])\n",
    "    #print(e[2])\n",
    "    #print(e[2]['color'])\n",
    "    nx.draw_networkx_edge_labels(J,ax=ax, pos=pos,edge_labels={(e[0],e[1]):e[2]['ave_days']}, font_color = e[2]['color'])\n",
    "    \n",
    "\n",
    "pos_attrs = {}\n",
    "for node, coords in pos.items():\n",
    "    pos_attrs[node] = (coords[0] - 0.01, coords[1] - 0.5)\n",
    "\n",
    "node_attrs = nx.get_node_attributes(J, 'ave_journey')\n",
    "custom_node_attrs = {}\n",
    "for node, attr in node_attrs.items():\n",
    "    custom_node_attrs[node] = \"{'Ave': '\" + str(attr) + \"'}\"\n",
    "\n",
    "nx.draw_networkx_labels(J, pos_attrs, labels=custom_node_attrs, font_weight='bold', font_size = 8)\n",
    "\n",
    "plt.savefig('stage_transition_edge_colour')\n",
    "plt.show()"
   ]
  },
  {
   "cell_type": "markdown",
   "metadata": {},
   "source": [
    "## Create plotly go figure"
   ]
  },
  {
   "cell_type": "code",
   "execution_count": 106,
   "metadata": {},
   "outputs": [],
   "source": [
    "#Create Edges\n",
    "def make_edge(x, y, width, color):\n",
    "    \"\"\"\n",
    "    Args:\n",
    "        x: a tuple of the x from and to, in the form: tuple([x0, x1, None])\n",
    "        y: a tuple of the y from and to, in the form: tuple([y0, y1, None])\n",
    "        width: The width of the line\n",
    "\n",
    "    Returns:\n",
    "        a Scatter plot which represents a line between the two points given. \n",
    "    \"\"\"\n",
    "    return  go.Scatter(\n",
    "                x=x,\n",
    "                y=y,\n",
    "                text = hover_txt,\n",
    "                line=dict(width=width,color=color),\n",
    "                hoverinfo=None,\n",
    "                mode='lines')"
   ]
  },
  {
   "cell_type": "code",
   "execution_count": 107,
   "metadata": {},
   "outputs": [],
   "source": [
    "#Create Edges hover text\n",
    "def edge_hover(x, y, hover_txt, color):\n",
    "    \"\"\"\n",
    "    Args:\n",
    "        x: a tuple of the x from and to, in the form: tuple([x0, x1, None])\n",
    "        y: a tuple of the y from and to, in the form: tuple([y0, y1, None])\n",
    "        width: The width of the line\n",
    "\n",
    "    Returns:\n",
    "        a Scatter plot which represents a line between the two points given. \n",
    "    \"\"\"\n",
    "    return  go.Scatter(\n",
    "                x=x,\n",
    "                y=y,\n",
    "                text = hover_txt,\n",
    "                mode='markers',\n",
    "                hoverinfo='text',\n",
    "                hoverlabel = dict(\n",
    "                            bgcolor = color,\n",
    "                            font =  dict(color = 'white')\n",
    "                            ),\n",
    "                marker=go.Marker(opacity=0.1, symbol = 'triangle-left')\n",
    "                )"
   ]
  },
  {
   "cell_type": "code",
   "execution_count": 108,
   "metadata": {},
   "outputs": [],
   "source": [
    "data_trace = []"
   ]
  },
  {
   "cell_type": "code",
   "execution_count": 109,
   "metadata": {},
   "outputs": [],
   "source": [
    "p_0=5\n",
    "p_1=4"
   ]
  },
  {
   "cell_type": "code",
   "execution_count": 110,
   "metadata": {},
   "outputs": [
    {
     "name": "stderr",
     "output_type": "stream",
     "text": [
      "/usr/local/lib/python3.5/dist-packages/plotly/graph_objs/_deprecations.py:441: DeprecationWarning:\n",
      "\n",
      "plotly.graph_objs.Marker is deprecated.\n",
      "Please replace it with one of the following more specific types\n",
      "  - plotly.graph_objs.scatter.Marker\n",
      "  - plotly.graph_objs.histogram.selected.Marker\n",
      "  - etc.\n",
      "\n",
      "\n"
     ]
    }
   ],
   "source": [
    "for edge in J.edges(data=True):\n",
    "    x0, y0 = J.nodes[edge[0]]['posi']\n",
    "    x1, y1 = J.nodes[edge[1]]['posi']\n",
    "    \n",
    "    x=tuple([x0, x1, None])\n",
    "    y=tuple([y0, y1, None])\n",
    "    \n",
    "    xh = tuple([(x0/(p_0+p_1)*p_0+x1/(p_0+p_1)*p_1),None])\n",
    "    yh = tuple([(y0/(p_0+p_1)*p_0+y1/(p_0+p_1)*p_1),None])\n",
    "    \n",
    "    #print(edge)\n",
    "    \n",
    "    width = edge[2]['weight']\n",
    "    color = edge[2]['color']\n",
    "    hover_txt = 'Count: '+ str(round(edge[2]['count'],1)) + '<br />Ave '+time_measure+': ' + str(round(edge[2]['days']/edge[2]['count'],1))\n",
    "    \n",
    "    #print(width)\n",
    "    \n",
    "    data_trace.append(make_edge(x,y,width,color))\n",
    "    #if else\n",
    "    data_trace.append(edge_hover(xh,yh,hover_txt,color))"
   ]
  },
  {
   "cell_type": "code",
   "execution_count": 111,
   "metadata": {},
   "outputs": [],
   "source": [
    "#data_trace"
   ]
  },
  {
   "cell_type": "code",
   "execution_count": 112,
   "metadata": {},
   "outputs": [],
   "source": [
    "node_trace = go.Scatter(\n",
    "    x=[],\n",
    "    y=[],\n",
    "    text=[],\n",
    "    mode='markers',\n",
    "    hoverinfo='text',\n",
    "    marker=dict(\n",
    "        showscale=True,\n",
    "        # colorscale options\n",
    "        #'Greys' | 'YlGnBu' | 'Greens' | 'YlOrRd' | 'Bluered' | 'RdBu' |\n",
    "        #'Reds' | 'Blues' | 'Picnic' | 'Rainbow' | 'Portland' | 'Jet' |\n",
    "        #'Hot' | 'Blackbody' | 'Earth' | 'Electric' | 'Viridis' |\n",
    "        colorscale='Blackbody',\n",
    "        reversescale=True,\n",
    "        color=[],\n",
    "        size=10,\n",
    "        colorbar=dict(\n",
    "            thickness=15,\n",
    "            title='Node Connections',\n",
    "            xanchor='left',\n",
    "            titleside='right'\n",
    "        ),\n",
    "        line=dict(width=2)))\n",
    "\n",
    "for node in J.nodes():\n",
    "    x, y = J.nodes[node]['posi']\n",
    "    node_trace['x'] += tuple([x])\n",
    "    node_trace['y'] += tuple([y])"
   ]
  },
  {
   "cell_type": "code",
   "execution_count": 113,
   "metadata": {},
   "outputs": [],
   "source": [
    "for node in J.nodes(data=True):\n",
    "    #print(node)\n",
    "    node_trace['marker']['color']+=tuple([node[1]['node_count']])\n",
    "    node_info = node[0]+ '<br />Journeys: ' +str(node[1]['node_count']) + '<br />Ave journey '+ time_measure + ': ' +str(round(node[1]['acc_time']/node[1]['node_count'],1))\n",
    "    node_trace['text']+=tuple([node_info])"
   ]
  },
  {
   "cell_type": "code",
   "execution_count": 114,
   "metadata": {},
   "outputs": [],
   "source": [
    "data_trace.append(node_trace)"
   ]
  },
  {
   "cell_type": "code",
   "execution_count": 115,
   "metadata": {},
   "outputs": [],
   "source": [
    "label_size = max(round(16-(len(type_status)/6),0),4)"
   ]
  },
  {
   "cell_type": "code",
   "execution_count": 116,
   "metadata": {},
   "outputs": [],
   "source": [
    "label_trace = go.Scatter(\n",
    "    x=[],\n",
    "    y=[],\n",
    "    text=[],\n",
    "    mode='text',\n",
    "    hoverinfo='none',\n",
    "    opacity=0.8,\n",
    "    textposition='middle right',\n",
    "    textfont=dict( size = label_size,\n",
    "                  color='#888'\n",
    "                 )\n",
    "    )\n",
    "\n",
    "for label in L.nodes():\n",
    "    x, y = L.nodes[label]['posi']\n",
    "    #print(L.nodes[label]['posi'])\n",
    "    label_trace['x'] += tuple([x])\n",
    "    label_trace['y'] += tuple([y])\n",
    "    label_trace['text']+= tuple([label])\n"
   ]
  },
  {
   "cell_type": "code",
   "execution_count": null,
   "metadata": {},
   "outputs": [],
   "source": []
  },
  {
   "cell_type": "code",
   "execution_count": null,
   "metadata": {},
   "outputs": [],
   "source": []
  },
  {
   "cell_type": "code",
   "execution_count": 117,
   "metadata": {},
   "outputs": [],
   "source": [
    "data_trace.append(label_trace)"
   ]
  },
  {
   "cell_type": "code",
   "execution_count": 118,
   "metadata": {},
   "outputs": [],
   "source": [
    "fig = go.Figure(data=data_trace,\n",
    "             layout=go.Layout(\n",
    "                title='Order-Prime resource ',\n",
    "                titlefont=dict(size=16),\n",
    "                showlegend=False,\n",
    "                hovermode='closest',\n",
    "                margin=dict(b=20,l=5,r=5,t=40),\n",
    "                annotations=[ dict(\n",
    "                    text=\"Python code: <a href='https://plot.ly/ipython-notebooks/network-graphs/'> https://plot.ly/ipython-notebooks/network-graphs/</a>\",\n",
    "                    showarrow=False,\n",
    "                    xref=\"paper\", yref=\"paper\",\n",
    "                    x=0.005, y=-0.002 ) ],\n",
    "                xaxis=dict(showgrid=False, zeroline=False, showticklabels=False),\n",
    "                yaxis=dict(showgrid=False, zeroline=False, showticklabels=False)))"
   ]
  },
  {
   "cell_type": "code",
   "execution_count": 119,
   "metadata": {},
   "outputs": [
    {
     "data": {
      "text/plain": [
       "'Graph_for_app.html'"
      ]
     },
     "execution_count": 119,
     "metadata": {},
     "output_type": "execute_result"
    }
   ],
   "source": [
    "ply.offline.plot(fig, filename='Graph_for_app.html')"
   ]
  },
  {
   "cell_type": "code",
   "execution_count": 120,
   "metadata": {},
   "outputs": [],
   "source": [
    "app = dash.Dash()"
   ]
  },
  {
   "cell_type": "code",
   "execution_count": 121,
   "metadata": {},
   "outputs": [],
   "source": [
    "app.layout = html.Div([\n",
    "    html.Div([html.H1(\"Networkx Stage Graph\")], className=\"row\", style={'textAlign': \"center\"}),\n",
    "    html.Div([dcc.Graph(id=\"my-graph\", figure = fig)]),\n",
    "], className=\"container\")"
   ]
  },
  {
   "cell_type": "code",
   "execution_count": 122,
   "metadata": {},
   "outputs": [
    {
     "name": "stdout",
     "output_type": "stream",
     "text": [
      "Running on http://127.0.0.1:8050/\n",
      "Debugger PIN: 919-804-432\n",
      " * Serving Flask app \"__main__\" (lazy loading)\n",
      " * Environment: production\n",
      "   WARNING: This is a development server. Do not use it in a production deployment.\n",
      "   Use a production WSGI server instead.\n",
      " * Debug mode: on\n"
     ]
    },
    {
     "ename": "SystemExit",
     "evalue": "1",
     "output_type": "error",
     "traceback": [
      "An exception has occurred, use %tb to see the full traceback.\n",
      "\u001b[0;31mSystemExit\u001b[0m\u001b[0;31m:\u001b[0m 1\n"
     ]
    },
    {
     "name": "stderr",
     "output_type": "stream",
     "text": [
      "/usr/local/lib/python3.5/dist-packages/IPython/core/interactiveshell.py:3334: UserWarning:\n",
      "\n",
      "To exit: use 'exit', 'quit', or Ctrl-D.\n",
      "\n"
     ]
    }
   ],
   "source": [
    "if __name__ == '__main__':\n",
    "    app.run_server(debug=True)"
   ]
  },
  {
   "cell_type": "code",
   "execution_count": null,
   "metadata": {},
   "outputs": [],
   "source": []
  },
  {
   "cell_type": "code",
   "execution_count": null,
   "metadata": {},
   "outputs": [],
   "source": []
  },
  {
   "cell_type": "code",
   "execution_count": null,
   "metadata": {},
   "outputs": [],
   "source": []
  },
  {
   "cell_type": "code",
   "execution_count": null,
   "metadata": {},
   "outputs": [],
   "source": []
  },
  {
   "cell_type": "code",
   "execution_count": null,
   "metadata": {},
   "outputs": [],
   "source": []
  },
  {
   "cell_type": "code",
   "execution_count": null,
   "metadata": {},
   "outputs": [],
   "source": []
  },
  {
   "cell_type": "code",
   "execution_count": null,
   "metadata": {},
   "outputs": [],
   "source": []
  },
  {
   "cell_type": "code",
   "execution_count": null,
   "metadata": {},
   "outputs": [],
   "source": [
    "n_clicks,\n",
    "service_type_DD,\n",
    "customer_type_DD,\n",
    "action_type_DD,\n",
    "has_dispute_DD,\n",
    "has_fault_DD,\n",
    "    total_journey_time_DD,\n",
    "                        start_date,\n",
    "                        end_date,\n",
    "                        stages_slider,\n",
    "                        journey_duration_min,\n",
    "                        journey_duration_max,"
   ]
  },
  {
   "cell_type": "code",
   "execution_count": 124,
   "metadata": {},
   "outputs": [],
   "source": [
    "def render_stages_graph(n_clicks,\n",
    "                        service_type_DD,\n",
    "                        customer_type_DD,\n",
    "                        action_type_DD,\n",
    "                        has_dispute_DD,\n",
    "                        has_fault_DD,\n",
    "                        total_journey_time_DD,\n",
    "                        start_date,\n",
    "                        end_date,\n",
    "                        stages_slider,\n",
    "                        journey_duration_min,\n",
    "                        journey_duration_max,\n",
    "                        ):\n",
    "    if n_clicks:\n",
    "        deal_desc = ['TBiz BB Capped Advanced']\n",
    "        query_called = sql_query_call(service_type_DD,\n",
    "                       customer_type_DD,\n",
    "                       deal_desc,\n",
    "                       0,\n",
    "                       start_date,\n",
    "                       end_date,\n",
    "                       has_dispute_DD,\n",
    "                       has_fault_DD\n",
    "                       )\n",
    "        #create order dataframe\n",
    "        orders_df = pd.read_gbq(query_called,\n",
    "                project_id = 'bcx-insights',\n",
    "                dialect = 'standard')\n",
    "        orders_df = orders_df.drop_duplicates()\n",
    "        orders_df['MSISDN_ANON'] = orders_df['MSISDN_ANON'].astype(str)\n",
    "        orders_df['ORDER_ID_ANON'] = orders_df['ORDER_ID_ANON'].astype(str)\n",
    "        unique_col = 'combo'\n",
    "        orders_df[unique_col] = orders_df['MSISDN_ANON']+'_'+orders_df['ORDER_ID_ANON']\n",
    "        orders_df['stage'] = orders_df.groupby(unique_col).cumcount()+1\n",
    "        final_stage = orders_df[[unique_col,'stage', 'ORDER_CREATION_DATE']].groupby(unique_col).agg({'stage': 'max', 'ORDER_CREATION_DATE': ['min', 'max']})\n",
    "        final_stage.columns = [\"_\".join(pair) for pair in final_stage.columns]\n",
    "        final_stage.rename(columns={'stage_max':'final_stage', 'ORDER_CREATION_DATE_min':'first_date', 'ORDER_CREATION_DATE_max':'last_date'}, inplace=True)\n",
    "        \n",
    "        orders_df = pd.merge(orders_df, final_stage, on=unique_col, how='outer')\n",
    "        orders_df['accumulated_time'] = orders_df['ORDER_CREATION_DATE']-orders_df['first_date'] \n",
    "        orders_df['total_journey_time'] = orders_df['last_date']-orders_df['first_date'] \n",
    "        orders_df['accumulated_time'] = orders_df['accumulated_time'].dt.total_seconds()\n",
    "        orders_df['total_journey_time'] = orders_df['total_journey_time'].dt.total_seconds()\n",
    "        \n",
    "        number_of_stages_min = max(min(orders_df['final_stage']),stages_slider[0])\n",
    "        number_of_stages_max = min(max(orders_df['final_stage']),stages_slider[1])\n",
    "        \n",
    "        orders_df = orders_df[(orders_df['final_stage'] >= number_of_stages_min) & (orders_df['final_stage'] <= number_of_stages_max)]\n",
    "        \n",
    "        time_filter_min = journey_duration_min\n",
    "        time_filter_max = journey_duration_max\n",
    "        time_measure = total_journey_time_DD\n",
    "        \n",
    "        min_total_journey_time = min(orders_df['total_journey_time'])\n",
    "        max_total_journey_time = max(orders_df['total_journey_time'])\n",
    "        \n",
    "        min_time_val, max_time_val, time_measure, time_multiplier =  between_date_query2(time_filter_min, time_filter_max, total_journey_time_DD, min_total_journey_time, max_total_journey_time )\n",
    "        \n",
    "        orders_df = orders_df[(orders_df['total_journey_time'] >= min_time_val) & (orders_df['total_journey_time'] <= max_time_val)]\n",
    "        \n",
    "        \n",
    "        contains_action = action_type_DD\n",
    "        orders_df['match_action'] = orders_df['ACTION_TYPE_DESC'].isin(contains_action)\n",
    "        \n",
    "        match_max = orders_df[[unique_col,'match_action']].groupby(unique_col)['match_action'].max().reset_index()\n",
    "        \n",
    "        match_max.rename(columns={'match_action':'contains'}, inplace=True)\n",
    "        orders_df = pd.merge(orders_df, match_max, on=unique_col, how='outer')\n",
    "        orders_df = orders_df[orders_df['contains']==True]\n",
    "        orders_df = orders_df.drop(columns=['match_action','contains'])\n",
    "        orders_df['stage'] = orders_df['stage'].astype(str)\n",
    "        orders_df['ActionType_OrderStatus'] = orders_df['ACTION_TYPE_DESC'] +' * '+ orders_df['ORDER_STATUS_DESC'] \n",
    "        \n",
    "        type_status = list(sorted(orders_df['ActionType_OrderStatus'].unique()))\n",
    "        \n",
    "        max_string_len = 0#len(max(type_status, key=len))\n",
    "        \n",
    "        orders_df['stage_ActionType_OrderStatus'] = orders_df['stage'] +') * '+ orders_df['ACTION_TYPE_DESC'] +' * '+ orders_df['ORDER_STATUS_DESC'] \n",
    "        \n",
    "        customers = list(orders_df[unique_col].unique())\n",
    "        \n",
    "        sorted_df = orders_df.sort_values('stage', ascending=False)\n",
    "        \n",
    "        ## Create Graph Components (NetworkX)\n",
    "        J = nx.Graph()\n",
    "        J.clear()\n",
    "        max_stage= 0#max(orders_df['stage'].astype(int))\n",
    "        actions = list(orders_df['stage_ActionType_OrderStatus'].unique())\n",
    "        \n",
    "        for i in range(1,max_stage+1):\n",
    "  \n",
    "            stage_actions = list(orders_df[orders_df['stage']==str(i)]['stage_ActionType_OrderStatus'].unique())\n",
    "            #print(stage_actions)\n",
    "            for k in range(len(stage_actions)):\n",
    "                label = stage_actions[k]\n",
    "                #print(label)\n",
    "                #print(len(orders_df[orders_df['stage_ActionType_OrderStatus']==label]))\n",
    "                label = label.split('* ',1)\n",
    "                label = label[1]\n",
    "                #print(label)\n",
    "                height =  type_status.index(label) +1\n",
    "                #print(height)\n",
    "                #print(height)\n",
    "                J.add_node(stage_actions[k],posi=((max_string_len*0.01)+(max_stage*0.01)+(i*1.25),height), acc_time = 0, node_count = len(orders_df[orders_df['stage_ActionType_OrderStatus']==stage_actions[k]]))\n",
    "                #print(stage_actions[k])\n",
    "                #print((i,k+1))\n",
    "                \n",
    "        #Create label nodes\n",
    "        L = nx.Graph()\n",
    "        \n",
    "        for l in range(len(type_status)):\n",
    "            label_start = type_status[l]\n",
    "            height =  type_status.index(label_start) +1\n",
    "            L.add_node(label_start,posi=(0.15,height))\n",
    "            #print(label_start)\n",
    "            \n",
    "        # Draw the resulting graph\n",
    "        pos = nx.get_node_attributes(J,'posi')\n",
    "        nx.draw(J, pos ,with_labels=True, font_weight='bold', font_size = 7)\n",
    "        \n",
    "        # clear edges\n",
    "        J.remove_edges_from(list(J.edges()))\n",
    "        \n",
    "        \n",
    "        #create edges with data (count, days, ave_days)\n",
    "        # accumulated time for nodes\n",
    "\n",
    "        date_col = orders_df.columns.get_loc('ORDER_CREATION_DATE')\n",
    "        acc_col = orders_df.columns.get_loc('accumulated_time')\n",
    "        kpi = 5*((60*60*24)/time_multiplier)\n",
    "\n",
    "        for c in customers:\n",
    "\n",
    "            temp_df = orders_df[orders_df[unique_col] == c]\n",
    "  \n",
    "            for i in range(len(temp_df)-1):\n",
    "                #print(i, c)\n",
    "                if J.has_edge(temp_df.iloc[i, -1], temp_df.iloc[(i+1),-1]) == False:\n",
    "                    #print(temp_df.iloc[i, -1], temp_df.iloc[(i+1),-1])\n",
    "                    #print(temp_df.iloc[i,-4], temp_df.iloc[(i+1),-4])\n",
    "                    J.add_edge(temp_df.iloc[i, -1], temp_df.iloc[(i+1),-1])\n",
    "                    J.edges[temp_df.iloc[i, -1],temp_df.iloc[(i+1),-1]]['count'] = 1\n",
    "                    difference = (temp_df.iloc[(i+1),date_col]-temp_df.iloc[i, date_col])\n",
    "                    J.edges[temp_df.iloc[i, -1],temp_df.iloc[(i+1),-1]]['days'] = round(difference.total_seconds()/(time_multiplier),1)\n",
    "                    J.edges[temp_df.iloc[i, -1],temp_df.iloc[(i+1),-1]]['ave_days'] = round(J.edges[temp_df.iloc[i, -1],temp_df.iloc[(i+1),-1]]['days']/ J.edges[temp_df.iloc[i, -1],temp_df.iloc[(i+1),-1]]['count'],1)\n",
    "            \n",
    "                    acc_current = J.nodes[temp_df.iloc[(i+1),-1]]['acc_time']\n",
    "                    J.nodes[temp_df.iloc[(i+1),-1]]['acc_time'] = round(acc_current + temp_df.iloc[(i+1),acc_col]/(time_multiplier),1) #acc_col is accumulated_time\n",
    "                    #J.nodes[temp_df.iloc[(i+1),-1]]['node_count'] += 1\n",
    "            \n",
    "            \n",
    "                    if J.edges[temp_df.iloc[i, -1],temp_df.iloc[(i+1),-1]]['ave_days'] > kpi:\n",
    "                        J.edges[temp_df.iloc[i, -1],temp_df.iloc[(i+1),-1]]['color'] = 'red'\n",
    "                    else:\n",
    "                        J.edges[temp_df.iloc[i, -1],temp_df.iloc[(i+1),-1]]['color'] = 'green'\n",
    "\n",
    "                else:\n",
    "                    current_count = J.edges[temp_df.iloc[i, -1],temp_df.iloc[(i+1),-1]]['count']\n",
    "                    J.edges[temp_df.iloc[i, -1],temp_df.iloc[(i+1),-1]]['count'] = current_count + 1\n",
    "\n",
    "                    current_days =  J.edges[temp_df.iloc[i, -1],temp_df.iloc[(i+1),-1]]['days']\n",
    "                    difference = (temp_df.iloc[(i+1),date_col]-temp_df.iloc[i, date_col])\n",
    "                    J.edges[temp_df.iloc[i, -1],temp_df.iloc[(i+1),-1]]['days'] = round(current_days + difference.total_seconds()/(time_multiplier),1)\n",
    "\n",
    "                    J.edges[temp_df.iloc[i, -1],temp_df.iloc[(i+1),-1]]['ave_days'] = round(J.edges[temp_df.iloc[i, -1],temp_df.iloc[(i+1),-1]]['days']/ J.edges[temp_df.iloc[i, -1],temp_df.iloc[(i+1),-1]]['count'],1)\n",
    "            \n",
    "                    acc_current = J.nodes[temp_df.iloc[(i+1),-1]]['acc_time']\n",
    "                    J.nodes[temp_df.iloc[(i+1),-1]]['acc_time'] = round(acc_current + temp_df.iloc[(i+1),acc_col]/(time_multiplier),1) #acc_col is accumulated_time         \n",
    "                    #J.nodes[temp_df.iloc[(i+1),-1]]['node_count'] += 1\n",
    "            \n",
    "                    if J.edges[temp_df.iloc[i, -1],temp_df.iloc[(i+1),-1]]['ave_days'] > kpi:\n",
    "                        J.edges[temp_df.iloc[i, -1],temp_df.iloc[(i+1),-1]]['color'] = 'red'\n",
    "                    else:\n",
    "                        J.edges[temp_df.iloc[i, -1],temp_df.iloc[(i+1),-1]]['color'] = 'green'\n",
    "\n",
    "        \n",
    "        \n",
    "        \n",
    "        \n",
    "        for j in J.nodes:\n",
    "            #print(j)\n",
    "            #print(J.nodes[j]['acc_time'])\n",
    "            #print(J.nodes[j]['node_count'])\n",
    "            J.nodes[j]['ave_journey'] = round(J.nodes[j]['acc_time']/J.nodes[j]['node_count'],1)\n",
    "        \n",
    "        \n",
    "        # add edge weight attribute\n",
    "\n",
    "        all_counts = []\n",
    "\n",
    "        #Iterate through the graph edges to gather all the weights\n",
    "        for (node1,node2,data) in J.edges(data=True):\n",
    "            all_counts.append(data['count']) \n",
    "\n",
    "    \n",
    "        total_count = sum(all_counts)\n",
    "        #print('Total Counts',total_count)\n",
    "\n",
    "        if total_count > 0:\n",
    "            max_count = max(all_counts)\n",
    "            min_count = min(all_counts)\n",
    "            ave_count = total_count/len(all_counts)\n",
    "            scale = 10\n",
    "\n",
    "            #print('Total Counts',total_count)\n",
    "            #print('Max Count',max_count)\n",
    "            #print('Min Count', min_count)\n",
    "            #print('Ave Count',ave_count)\n",
    "\n",
    "\n",
    "            if (max_count-min_count) == 0:\n",
    "                for (node1,node2,data) in J.edges(data=True):\n",
    "                    J.edges[node1,node2]['weight'] = round(J.edges[node1,node2]['count'],1)\n",
    "\n",
    "            else:                                                \n",
    "                for (node1,node2,data) in J.edges(data=True):\n",
    "                    J.edges[node1,node2]['weight'] = round(((J.edges[node1,node2]['count']-min_count)/(max_count-min_count))*scale+1,1)\n",
    "    \n",
    "        \n",
    "        \n",
    "        #Create Edges hover text\n",
    "        def edge_hover(x, y, hover_txt, color):\n",
    "            \"\"\"\n",
    "            Args:\n",
    "                x: a tuple of the x from and to, in the form: tuple([x0, x1, None])\n",
    "                y: a tuple of the y from and to, in the form: tuple([y0, y1, None])\n",
    "                width: The width of the line\n",
    "\n",
    "            Returns:\n",
    "                a Scatter plot which represents a line between the two points given. \n",
    "            \"\"\"\n",
    "            return  go.Scatter(\n",
    "                        x=x,\n",
    "                        y=y,\n",
    "                        text = hover_txt,\n",
    "                        mode='markers',\n",
    "                        hoverinfo='text',\n",
    "                        hoverlabel = dict(\n",
    "                                    bgcolor = color,\n",
    "                                    font =  dict(color = 'white')\n",
    "                                    ),\n",
    "                        marker=go.Marker(opacity=0.1, symbol = 'triangle-left')\n",
    "                        )\n",
    "        \n",
    "        \n",
    "        #Create Edges\n",
    "        def make_edge(x, y, width, color):\n",
    "            \"\"\"\n",
    "            Args:\n",
    "                x: a tuple of the x from and to, in the form: tuple([x0, x1, None])\n",
    "                y: a tuple of the y from and to, in the form: tuple([y0, y1, None])\n",
    "                width: The width of the line\n",
    "\n",
    "            Returns:\n",
    "                a Scatter plot which represents a line between the two points given. \n",
    "            \"\"\"\n",
    "            return  go.Scatter(\n",
    "                        x=x,\n",
    "                        y=y,\n",
    "                        text = hover_txt,\n",
    "                        line=dict(width=width,color=color),\n",
    "                        hoverinfo=None,\n",
    "                        mode='lines')\n",
    "        \n",
    "        data_trace = []\n",
    "        \n",
    "        p_0=5\n",
    "        p_1=4\n",
    "        \n",
    "        for edge in J.edges(data=True):\n",
    "            x0, y0 = J.nodes[edge[0]]['posi']\n",
    "            x1, y1 = J.nodes[edge[1]]['posi']\n",
    "    \n",
    "            x=tuple([x0, x1, None])\n",
    "            y=tuple([y0, y1, None])\n",
    "    \n",
    "            xh = tuple([(x0/(p_0+p_1)*p_0+x1/(p_0+p_1)*p_1),None])\n",
    "            yh = tuple([(y0/(p_0+p_1)*p_0+y1/(p_0+p_1)*p_1),None])\n",
    "    \n",
    "            #print(edge)\n",
    "    \n",
    "            width = edge[2]['weight']\n",
    "            color = edge[2]['color']\n",
    "            hover_txt = 'Count: '+ str(round(edge[2]['count'],1)) + '<br />Ave '+time_measure+': ' + str(round(edge[2]['days']/edge[2]['count'],1))\n",
    "    \n",
    "            #print(width)\n",
    "    \n",
    "            data_trace.append(make_edge(x,y,width,color))\n",
    "            #if else\n",
    "            data_trace.append(edge_hover(xh,yh,hover_txt,color))\n",
    "        \n",
    "        \n",
    "        \n",
    "        node_trace = go.Scatter(\n",
    "            x=[],\n",
    "            y=[],\n",
    "            text=[],\n",
    "            mode='markers',\n",
    "            hoverinfo='text',\n",
    "            marker=dict(\n",
    "            showscale=True,\n",
    "                # colorscale options\n",
    "                #'Greys' | 'YlGnBu' | 'Greens' | 'YlOrRd' | 'Bluered' | 'RdBu' |\n",
    "                #'Reds' | 'Blues' | 'Picnic' | 'Rainbow' | 'Portland' | 'Jet' |\n",
    "                #'Hot' | 'Blackbody' | 'Earth' | 'Electric' | 'Viridis' |\n",
    "            colorscale='Blackbody',\n",
    "            reversescale=True,\n",
    "            color=[],\n",
    "            size=10,\n",
    "            colorbar=dict(\n",
    "            thickness=15,\n",
    "            title='Node Connections',\n",
    "            xanchor='left',\n",
    "            titleside='right'\n",
    "        ),\n",
    "        line=dict(width=2)))\n",
    "\n",
    "        for node in J.nodes():\n",
    "            x, y = J.nodes[node]['posi']\n",
    "            node_trace['x'] += tuple([x])\n",
    "            node_trace['y'] += tuple([y])\n",
    "        \n",
    "        \n",
    "        for node in J.nodes(data=True):\n",
    "            #print(node)\n",
    "            node_trace['marker']['color']+=tuple([node[1]['node_count']])\n",
    "            node_info = node[0]+ '<br />Journeys: ' +str(node[1]['node_count']) + '<br />Ave journey '+ time_measure + ': ' +str(round(node[1]['acc_time']/node[1]['node_count'],1))\n",
    "            node_trace['text']+=tuple([node_info])\n",
    "        \n",
    "        \n",
    "        data_trace.append(node_trace)\n",
    "        label_size = max(round(16-(len(type_status)/6),0),4)\n",
    "        \n",
    "        label_trace = go.Scatter(\n",
    "            x=[],\n",
    "            y=[],\n",
    "            text=[],\n",
    "            mode='text',\n",
    "            hoverinfo='none',\n",
    "            opacity=0.8,\n",
    "            textposition='middle right',\n",
    "            textfont=dict( size = label_size,\n",
    "                        color='#888'\n",
    "                        )\n",
    "            )\n",
    "\n",
    "        for label in L.nodes():\n",
    "            x, y = L.nodes[label]['posi']\n",
    "            #print(L.nodes[label]['posi'])\n",
    "            label_trace['x'] += tuple([x])\n",
    "            label_trace['y'] += tuple([y])\n",
    "            label_trace['text']+= tuple([label])\n",
    "        \n",
    "        \n",
    "        \n",
    "        data_trace.append(label_trace)\n",
    "        \n",
    "        \n",
    "        return str(data_trace)\n"
   ]
  },
  {
   "cell_type": "code",
   "execution_count": null,
   "metadata": {},
   "outputs": [],
   "source": []
  }
 ],
 "metadata": {
  "kernelspec": {
   "display_name": "Python 3",
   "language": "python",
   "name": "python3"
  },
  "language_info": {
   "codemirror_mode": {
    "name": "ipython",
    "version": 3
   },
   "file_extension": ".py",
   "mimetype": "text/x-python",
   "name": "python",
   "nbconvert_exporter": "python",
   "pygments_lexer": "ipython3",
   "version": "3.5.3"
  }
 },
 "nbformat": 4,
 "nbformat_minor": 4
}
