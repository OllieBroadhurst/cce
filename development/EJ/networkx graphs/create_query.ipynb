{
 "cells": [
  {
   "cell_type": "code",
   "execution_count": null,
   "metadata": {},
   "outputs": [],
   "source": []
  },
  {
   "cell_type": "code",
   "execution_count": 17,
   "metadata": {},
   "outputs": [],
   "source": [
    "def build_query(iterable, field_name):\n",
    "    if iterable is not None:\n",
    "        if len(iterable) > 0:\n",
    "            iterable = ','.join([\"'\" + s + \"'\" for s in iterable])\n",
    "            iterable = 'and {} IN ({})'.format(field_name, iterable)\n",
    "            return iterable\n",
    "        else:\n",
    "            return ''\n",
    "    else:\n",
    "        return ''"
   ]
  },
  {
   "cell_type": "code",
   "execution_count": 18,
   "metadata": {},
   "outputs": [],
   "source": [
    "def dispute_query(dispute_val, start_date_val, end_date_val):\n",
    "    sql = \"\"\"\n",
    "        (SELECT DISTINCT ACCOUNT_NO_ANON dispute_id FROM\n",
    "        `bcx-insights.telkom_customerexperience.disputes_20190903_00_anon`\n",
    "        WHERE RESOLUTION_DATE BETWEEN '{}' AND '{}') as disputes\n",
    "        on orders.ACCOUNT_NO_ANON = disputes.dispute_id\"\"\".format(start_date_val, end_date_val)\n",
    "\n",
    "    if dispute_val == 'Yes':\n",
    "        join_type = 'JOIN '\n",
    "        return join_type + sql, ''\n",
    "    elif dispute_val == 'No':\n",
    "        join_type = 'LEFT JOIN '\n",
    "\n",
    "        return join_type + sql, \"AND dispute_id is Null\"\n",
    "    else:\n",
    "        return '', ''"
   ]
  },
  {
   "cell_type": "code",
   "execution_count": 19,
   "metadata": {},
   "outputs": [],
   "source": [
    "def fault_query(fault_val, start_date_val, end_date_val):\n",
    "    sql = \"\"\"\n",
    "        (SELECT DISTINCT SERVICE_KEY_ANON fault_id FROM\n",
    "        `bcx-insights.telkom_customerexperience.faults_20190903_00_anon`\n",
    "        WHERE DATDRGT BETWEEN '{}' AND '{}') as faults\n",
    "        on orders.ACCOUNT_NO_ANON = faults.fault_id\"\"\".format(start_date_val, end_date_val)\n",
    "\n",
    "    if fault_val == 'Yes':\n",
    "        join_type = 'JOIN '\n",
    "        return join_type + sql, ''\n",
    "    elif fault_val == 'No':\n",
    "        join_type = 'LEFT JOIN '\n",
    "\n",
    "        return join_type + sql, \"AND fault_id is Null\"\n",
    "    else:\n",
    "        return '', ''"
   ]
  },
  {
   "cell_type": "code",
   "execution_count": 20,
   "metadata": {},
   "outputs": [],
   "source": [
    "def date_query(start_date_val, end_date_val):\n",
    "    min_date_field = \"MIN(orders.ORDER_CREATION_DATE)\"\n",
    "    min_date_criteria = \"\"\"GROUP BY orders.ORDER_CREATION_DATE,\n",
    "                        orders.ORDER_ID_ANON, orders.MSISDN_ANON,\n",
    "                        orders.ACTION_TYPE_DESC, ACCOUNT_NO_ANON, ACTION_STATUS_DESC\n",
    "                        HAVING {} BETWEEN '{}' AND '{}'\"\"\".format(min_date_field, start_date_val, end_date_val)\n",
    "\n",
    "    return \"{},\".format(min_date_field), min_date_criteria"
   ]
  },
  {
   "cell_type": "code",
   "execution_count": 21,
   "metadata": {},
   "outputs": [],
   "source": [
    "# do through python df"
   ]
  },
  {
   "cell_type": "code",
   "execution_count": 22,
   "metadata": {},
   "outputs": [],
   "source": [
    "def includes_action(action_list, start_date_val, end_date_val):\n",
    "    if action_list is not None:\n",
    "        if len(action_list) > 0:\n",
    "            action_list = ','.join([\"'\" + a + \"'\" for a in action_list])\n",
    "            sql = \"\"\" AND concat(cast(orders.ORDER_ID_ANON as string), cast(orders.MSISDN_ANON as string))\n",
    "            in (SELECT DISTINCT concat(cast(ORDER_ID_ANON as string), cast(MSISDN_ANON as string)) FROM\n",
    "            `bcx-insights.telkom_customerexperience.orders_20190926_00_anon`\n",
    "            WHERE ACTION_TYPE_DESC IN ({})\n",
    "            AND ORDER_CREATION_DATE BETWEEN '{}' AND '{}')\"\"\".format(action_list,start_date_val,end_date_val)\n",
    "            return sql\n",
    "    return ''"
   ]
  },
  {
   "cell_type": "code",
   "execution_count": 23,
   "metadata": {},
   "outputs": [],
   "source": [
    "# do through python df"
   ]
  },
  {
   "cell_type": "code",
   "execution_count": 24,
   "metadata": {},
   "outputs": [],
   "source": [
    "def last_status_or_action_query(statuses, actions):\n",
    "    status_field, status_where, status_group = '', '', ''\n",
    "    action_field, action_where, action_group = '', '', ''\n",
    "\n",
    "    if statuses is not None:\n",
    "        if len(statuses) > 0:\n",
    "            status_field = \"\"\"LAST_VALUE(ACTION_STATUS_DESC) OVER\n",
    "            (PARTITION BY orders.ACCOUNT_NO_ANON, orders.ORDER_ID_ANON ORDER BY ACCOUNT_NO_ANON, ORDER_ID_ANON, ORDER_CREATION_DATE\n",
    "            ROWS BETWEEN UNBOUNDED PRECEDING AND UNBOUNDED FOLLOWING) last_status_field,\"\"\"\n",
    "            status_where = build_query(statuses, 'last_status_field')\n",
    "            status_group = \"ACTION_STATUS_DESC, \"\n",
    "\n",
    "    if actions is not None:\n",
    "        if len(actions) > 0:\n",
    "            actions = [a.lower() for a in actions]\n",
    "\n",
    "            action_field = \"\"\"LAST_VALUE(ACTION_TYPE_DESC) OVER\n",
    "            (PARTITION BY orders.ACCOUNT_NO_ANON, orders.ORDER_ID_ANON ORDER BY ACCOUNT_NO_ANON, ORDER_ID_ANON, ORDER_CREATION_DATE\n",
    "            ROWS BETWEEN UNBOUNDED PRECEDING AND UNBOUNDED FOLLOWING) last_action_type,\"\"\"\n",
    "\n",
    "            action_group = \"ACTION_TYPE_DESC, \"\n",
    "            action_where = build_query(actions, 'last_action_type')\n",
    "            action_where = action_where.replace('last_action_type', \"lower(last_action_type)\")\n",
    "\n",
    "    if status_field != '' and action_field != '':\n",
    "        sql = \"\"\"LEFT join\n",
    "               (\n",
    "               SELECT DISTINCT ORDER_ID_ANON, {} {} MSISDN_ANON\n",
    "                 FROM\n",
    "                `bcx-insights.telkom_customerexperience.orders_20190926_00_anon`\n",
    "                ) last_status\n",
    "                on last_status.ORDER_ID_ANON = orders.ORDER_ID_ANON and\n",
    "                last_status.MSISDN_ANON = orders.MSISDN_ANON\"\"\".format(action_field, status_field)\n",
    "\n",
    "        return sql, status_where + ' ' + action_where\n",
    "    else:\n",
    "        return '', ''"
   ]
  },
  {
   "cell_type": "code",
   "execution_count": 25,
   "metadata": {},
   "outputs": [],
   "source": [
    "# add total time in df"
   ]
  },
  {
   "cell_type": "code",
   "execution_count": 26,
   "metadata": {},
   "outputs": [],
   "source": [
    "def build_min_hours(min_hours):\n",
    "    if min_hours > 0:\n",
    "        sql = \"\"\"TIMESTAMP_DIFF(MAX(ORDER_CREATION_DATE) OVER (Partition by orders.ACCOUNT_NO_ANON, orders.ORDER_ID_ANON),\n",
    "                MIN(ORDER_CREATION_DATE) OVER (Partition by orders.ACCOUNT_NO_ANON, orders.ORDER_ID_ANON), HOUR) j_duration,\"\"\"\n",
    "\n",
    "        min_hours_where = 'AND j_duration >= {}'.format(min_hours)\n",
    "\n",
    "        return sql, min_hours_where\n",
    "    return '', ''"
   ]
  },
  {
   "cell_type": "code",
   "execution_count": 27,
   "metadata": {},
   "outputs": [
    {
     "ename": "SyntaxError",
     "evalue": "invalid syntax (<ipython-input-27-4681b99e6493>, line 83)",
     "output_type": "error",
     "traceback": [
      "\u001b[0;36m  File \u001b[0;32m\"<ipython-input-27-4681b99e6493>\"\u001b[0;36m, line \u001b[0;32m83\u001b[0m\n\u001b[0;31m    order by STAGES_ADDED.ORDER_ID_ANON, STAGES_ADDED.Stage, STAGES_ADDED.MSISDN_ANON\"\"\"\u001b[0m\n\u001b[0m                                                                                        \n^\u001b[0m\n\u001b[0;31mSyntaxError\u001b[0m\u001b[0;31m:\u001b[0m invalid syntax\n"
     ]
    }
   ],
   "source": [
    "def sql_query_call(service_type, customer_type, deal_desc, action_status,\n",
    "                      start_date_val, end_date_val, dispute_val, action_filter,\n",
    "                      fault_val, min_hours, has_action):\n",
    "    service_type = build_query(service_type, 'SERVICE_TYPE')\n",
    "    customer_type = build_query(customer_type, 'CUSTOMER_TYPE_DESC')\n",
    "    deal_desc = build_query(deal_desc, 'DEAL_DESC')\n",
    "    has_action = includes_action(has_action, start_date_val, end_date_val)\n",
    "\n",
    "    dispute_join, dispute_where = dispute_query(dispute_val, start_date_val, end_date_val)\n",
    "    fault_join, fault_where = fault_query(fault_val, start_date_val, end_date_val)\n",
    "    hours_sql_field, hours_where = build_min_hours(min_hours)\n",
    "\n",
    "    action_status_subquery, action_status_where = last_status_or_action_query(action_status, action_filter)\n",
    "\n",
    "    if start_date_val is not None and end_date_val is not None:\n",
    "        min_date_field, min_date_criteria = date_query(start_date_val, end_date_val)\n",
    "    else:\n",
    "        min_date_field = ''\n",
    "        min_date_criteria = ''\n",
    "\n",
    "    query = f\"\"\"WITH CTE as (\n",
    "          SELECT DISTINCT\n",
    "          orders.ACCOUNT_NO_ANON,\n",
    "          orders.ORDER_CREATION_DATE,\n",
    "          MIN(orders.ORDER_CREATION_DATE),\n",
    "          {min_date_field}\n",
    "          {hours_sql_field}\n",
    "          orders.ORDER_ID_ANON,\n",
    "          orders.MSISDN_ANON,\n",
    "          CONCAT(ACTION_TYPE_DESC, ' (', ACTION_STATUS_DESC, ')') ACTION_TYPE_DESC\n",
    "           FROM `bcx-insights.telkom_customerexperience.orders_20190926_00_anon` orders\n",
    "           LEFT JOIN\n",
    "           (SELECT DISTINCT CUSTOMER_NO_ANON, SERVICE_TYPE, CUSTOMER_TYPE_DESC FROM\n",
    "           `bcx-insights.telkom_customerexperience.customerdata_20190902_00_anon`) custs\n",
    "           ON custs.CUSTOMER_NO_ANON = orders.ACCOUNT_NO_ANON\n",
    "           {dispute_join}\n",
    "           {fault_join}\n",
    "           {action_status_subquery}\n",
    "           WHERE 1 = 1\n",
    "           {customer_type}\n",
    "           {service_type}\n",
    "           {deal_desc}\n",
    "           {has_action}\n",
    "           {action_status_where}\n",
    "           {dispute_where}\n",
    "           {fault_where}\n",
    "           {min_date_criteria}\n",
    "          ),\n",
    "          STAGES_ADDED AS (\n",
    "          SELECT ACCOUNT_NO_ANON, ORDER_CREATION_DATE, ORDER_ID_ANON,\n",
    "          MSISDN_ANON, ACTION_TYPE_DESC,\n",
    "          DENSE_RANK() OVER (PARTITION BY ACCOUNT_NO_ANON, ORDER_ID_ANON ORDER BY\n",
    "          CAST (\n",
    "            CONCAT(\n",
    "              CAST(EXTRACT(YEAR FROM ORDER_CREATION_DATE) as STRING),\n",
    "              CAST(EXTRACT(MONTH FROM ORDER_CREATION_DATE) as STRING),\n",
    "              CAST(EXTRACT(DAY FROM ORDER_CREATION_DATE) as STRING),\n",
    "              CAST(EXTRACT(MINUTE FROM ORDER_CREATION_DATE) as STRING)\n",
    "                  )\n",
    "          as INT64)\n",
    "          ) Stage\n",
    "          FROM CTE WHERE 1 = 1\n",
    "          {hours_where})\n",
    "          SELECT DISTINCT\n",
    "            ACCOUNT_NO_ANON,\n",
    "            ORDER_CREATION_DATE,\n",
    "            STAGES_ADDED.ORDER_ID_ANON,\n",
    "            STAGES_ADDED.MSISDN_ANON,\n",
    "            ACTION_TYPE_DESC,\n",
    "            STAGES_ADDED.Stage,\n",
    "            STAGES_ADDED.Stage + 1 Next_Stage,\n",
    "            IFNULL(Durations.Duration, 0) Duration\n",
    "          FROM STAGES_ADDED\n",
    "          LEFT JOIN\n",
    "          (SELECT * FROM\n",
    "            (SELECT Stage, ORDER_ID_ANON,\n",
    "            timestamp_diff(ORDER_CREATION_DATE, LAG(ORDER_CREATION_DATE) OVER (PARTITION BY ACCOUNT_NO_ANON, ORDER_ID_ANON ORDER BY Stage), HOUR) Duration\n",
    "            FROM STAGES_ADDED)\n",
    "          WHERE Duration is not Null and Duration > 0\n",
    "          ) Durations\n",
    "          on Durations.Stage = STAGES_ADDED.Stage\n",
    "          and Durations.ORDER_ID_ANON = STAGES_ADDED.ORDER_ID_ANON\n",
    "          order by STAGES_ADDED.ORDER_ID_ANON, STAGES_ADDED.Stage, STAGES_ADDED.MSISDN_ANON\"\"\"\n",
    "    \n",
    "    return query"
   ]
  },
  {
   "cell_type": "code",
   "execution_count": null,
   "metadata": {},
   "outputs": [],
   "source": []
  }
 ],
 "metadata": {
  "kernelspec": {
   "display_name": "Python 3",
   "language": "python",
   "name": "python3"
  },
  "language_info": {
   "codemirror_mode": {
    "name": "ipython",
    "version": 3
   },
   "file_extension": ".py",
   "mimetype": "text/x-python",
   "name": "python",
   "nbconvert_exporter": "python",
   "pygments_lexer": "ipython3",
   "version": "3.5.3"
  }
 },
 "nbformat": 4,
 "nbformat_minor": 4
}
