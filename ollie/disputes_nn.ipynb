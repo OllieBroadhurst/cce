{
 "cells": [
  {
   "cell_type": "code",
   "execution_count": 1,
   "metadata": {},
   "outputs": [
    {
     "name": "stderr",
     "output_type": "stream",
     "text": [
      "/home/jupyter/.local/lib/python3.5/site-packages/tensorflow/python/framework/dtypes.py:516: FutureWarning: Passing (type, 1) or '1type' as a synonym of type is deprecated; in a future version of numpy, it will be understood as (type, (1,)) / '(1,)type'.\n",
      "  _np_qint8 = np.dtype([(\"qint8\", np.int8, 1)])\n",
      "/home/jupyter/.local/lib/python3.5/site-packages/tensorflow/python/framework/dtypes.py:517: FutureWarning: Passing (type, 1) or '1type' as a synonym of type is deprecated; in a future version of numpy, it will be understood as (type, (1,)) / '(1,)type'.\n",
      "  _np_quint8 = np.dtype([(\"quint8\", np.uint8, 1)])\n",
      "/home/jupyter/.local/lib/python3.5/site-packages/tensorflow/python/framework/dtypes.py:518: FutureWarning: Passing (type, 1) or '1type' as a synonym of type is deprecated; in a future version of numpy, it will be understood as (type, (1,)) / '(1,)type'.\n",
      "  _np_qint16 = np.dtype([(\"qint16\", np.int16, 1)])\n",
      "/home/jupyter/.local/lib/python3.5/site-packages/tensorflow/python/framework/dtypes.py:519: FutureWarning: Passing (type, 1) or '1type' as a synonym of type is deprecated; in a future version of numpy, it will be understood as (type, (1,)) / '(1,)type'.\n",
      "  _np_quint16 = np.dtype([(\"quint16\", np.uint16, 1)])\n",
      "/home/jupyter/.local/lib/python3.5/site-packages/tensorflow/python/framework/dtypes.py:520: FutureWarning: Passing (type, 1) or '1type' as a synonym of type is deprecated; in a future version of numpy, it will be understood as (type, (1,)) / '(1,)type'.\n",
      "  _np_qint32 = np.dtype([(\"qint32\", np.int32, 1)])\n",
      "/home/jupyter/.local/lib/python3.5/site-packages/tensorflow/python/framework/dtypes.py:525: FutureWarning: Passing (type, 1) or '1type' as a synonym of type is deprecated; in a future version of numpy, it will be understood as (type, (1,)) / '(1,)type'.\n",
      "  np_resource = np.dtype([(\"resource\", np.ubyte, 1)])\n",
      "/home/jupyter/.local/lib/python3.5/site-packages/tensorboard/compat/tensorflow_stub/dtypes.py:541: FutureWarning: Passing (type, 1) or '1type' as a synonym of type is deprecated; in a future version of numpy, it will be understood as (type, (1,)) / '(1,)type'.\n",
      "  _np_qint8 = np.dtype([(\"qint8\", np.int8, 1)])\n",
      "/home/jupyter/.local/lib/python3.5/site-packages/tensorboard/compat/tensorflow_stub/dtypes.py:542: FutureWarning: Passing (type, 1) or '1type' as a synonym of type is deprecated; in a future version of numpy, it will be understood as (type, (1,)) / '(1,)type'.\n",
      "  _np_quint8 = np.dtype([(\"quint8\", np.uint8, 1)])\n",
      "/home/jupyter/.local/lib/python3.5/site-packages/tensorboard/compat/tensorflow_stub/dtypes.py:543: FutureWarning: Passing (type, 1) or '1type' as a synonym of type is deprecated; in a future version of numpy, it will be understood as (type, (1,)) / '(1,)type'.\n",
      "  _np_qint16 = np.dtype([(\"qint16\", np.int16, 1)])\n",
      "/home/jupyter/.local/lib/python3.5/site-packages/tensorboard/compat/tensorflow_stub/dtypes.py:544: FutureWarning: Passing (type, 1) or '1type' as a synonym of type is deprecated; in a future version of numpy, it will be understood as (type, (1,)) / '(1,)type'.\n",
      "  _np_quint16 = np.dtype([(\"quint16\", np.uint16, 1)])\n",
      "/home/jupyter/.local/lib/python3.5/site-packages/tensorboard/compat/tensorflow_stub/dtypes.py:545: FutureWarning: Passing (type, 1) or '1type' as a synonym of type is deprecated; in a future version of numpy, it will be understood as (type, (1,)) / '(1,)type'.\n",
      "  _np_qint32 = np.dtype([(\"qint32\", np.int32, 1)])\n",
      "/home/jupyter/.local/lib/python3.5/site-packages/tensorboard/compat/tensorflow_stub/dtypes.py:550: FutureWarning: Passing (type, 1) or '1type' as a synonym of type is deprecated; in a future version of numpy, it will be understood as (type, (1,)) / '(1,)type'.\n",
      "  np_resource = np.dtype([(\"resource\", np.ubyte, 1)])\n"
     ]
    }
   ],
   "source": [
    "import pandas as pd\n",
    "\n",
    "from tensorflow.keras.models import Sequential;\n",
    "from tensorflow.keras.layers import Dense, Dropout;\n",
    "from tensorflow.keras.callbacks import EarlyStopping;\n",
    "\n",
    "from sklearn.metrics import confusion_matrix, classification_report\n",
    "from sklearn.model_selection import train_test_split\n",
    "from sklearn.preprocessing import StandardScaler\n",
    "\n",
    "import matplotlib.pyplot as plt"
   ]
  },
  {
   "cell_type": "code",
   "execution_count": 2,
   "metadata": {},
   "outputs": [],
   "source": [
    "plt.style.use('seaborn')"
   ]
  },
  {
   "cell_type": "code",
   "execution_count": 3,
   "metadata": {},
   "outputs": [],
   "source": [
    "def get_data(row_limit, from_date_customer, from_date_dispute):\n",
    "    if row_limit > 0:\n",
    "        row_limit = 'limit ' + str(row_limit)\n",
    "    else:\n",
    "        row_limit = ''\n",
    "\n",
    "    query = \"\"\"SELECT DISTINCT\n",
    "            CUSTOMER_NO_ANON,\n",
    "            COUNT(CUSTOMER_NO_ANON) OVER (PARTITION BY CUSTOMER_NO_ANON, OFFER_DESC) Months_With_Offer,\n",
    "            CASE\n",
    "                WHEN CUSTOMER_TYPE_DESC = 'Consumer' THEN 'Consumer'\n",
    "                WHEN CUSTOMER_TYPE_DESC = 'Business' THEN 'Business'\n",
    "            ELSE\n",
    "                'Other'\n",
    "            END as CUSTOMER_TYPE_DESC,\n",
    "            OFFER_DESC,\n",
    "            COMMITMENT_PERIOD,\n",
    "            TOTAL_AMOUNT,\n",
    "            AVG(TOTAL_AMOUNT) OVER (Partition by CUSTOMER_NO_ANON, OFFER_DESC, PRIM_RESOURCE_VAL_ANON) Avg_Amount,\n",
    "            STDDEV_POP(TOTAL_AMOUNT) OVER (Partition by CUSTOMER_NO_ANON, OFFER_DESC, PRIM_RESOURCE_VAL_ANON) Std_Amount,\n",
    "            CASE\n",
    "                WHEN LOWER(CREDIT_CLASS_DESC) = 'spclow' THEN 'special low'\n",
    "                WHEN LOWER(CREDIT_CLASS_DESC) = 'highrisk' THEN 'high'\n",
    "                WHEN LOWER(CREDIT_CLASS_DESC) = 'medrisk' THEN 'medium'\n",
    "                WHEN LOWER(CREDIT_CLASS_DESC) = 'newrisk' THEN 'new'\n",
    "                WHEN LOWER(CREDIT_CLASS_DESC) = 'lowrisk' THEN 'low'\n",
    "            ELSE\n",
    "                LOWER(CREDIT_CLASS_DESC)\n",
    "            END as CREDIT_CLASS_DESC,\n",
    "            SERVICE_TYPE,\n",
    "            BILL_MONTH,\n",
    "             IF(TIMESTAMP_DIFF(Disputes.RESOLUTION_DATE, BILL_MONTH, DAY) < 122 AND TIMESTAMP_DIFF(Disputes.RESOLUTION_DATE, BILL_MONTH, DAY) >=0, 1, 0) Within_Dispute_Period\n",
    "            FROM `bcx-insights.telkom_customerexperience.customerdata_20190902_00_anon` Customers\n",
    "            LEFT JOIN\n",
    "            (SELECT DISTINCT ACCOUNT_NO_ANON, RESOLUTION_DATE FROM `bcx-insights.telkom_customerexperience.disputes_20190903_00_anon`\n",
    "            WHERE STATUS_DESC = 'Justified' and RESOLUTION_DATE >= '{0}') Disputes\n",
    "            on Disputes.ACCOUNT_NO_ANON = Customers.CUSTOMER_NO_ANON\n",
    "            WHERE CUSTOMER_TYPE_DESC <> 'Government' AND\n",
    "            BILL_MONTH >= '{1}'\n",
    "            {2}\"\"\".format(from_date_customer, from_date_dispute, row_limit)\n",
    "\n",
    "    df = pd.io.gbq.read_gbq(query, project_id='bcx-insights', dialect='standard')\n",
    "    \n",
    "    return df"
   ]
  },
  {
   "cell_type": "code",
   "execution_count": 4,
   "metadata": {},
   "outputs": [],
   "source": [
    "def preprocess(df):\n",
    "    columns_to_drop = ['CUSTOMER_NO_ANON', 'BILL_MONTH']\n",
    "    df = df.drop(columns_to_drop, 1)\n",
    "    df['COMMITMENT_PERIOD'] = df['COMMITMENT_PERIOD'].astype(str)  \n",
    "    \n",
    "    types = df.dtypes\n",
    "    \n",
    "    numeric_cols = list(types[types==float].index)    \n",
    "    categorical_cols = list(types[types!=float].index)\n",
    "    \n",
    "    ss = StandardScaler()    \n",
    "    scale_cols = pd.DataFrame(ss.fit_transform(df[numeric_cols]), columns=numeric_cols, index=df.index)\n",
    "        \n",
    "    df = df[categorical_cols].join(scale_cols)    \n",
    "    df = pd.get_dummies(df)\n",
    "    df = df.sort_index(1)\n",
    "        \n",
    "    return df"
   ]
  },
  {
   "cell_type": "code",
   "execution_count": 5,
   "metadata": {},
   "outputs": [],
   "source": [
    "def upsample(data, repetitions):\n",
    "    positive_samples = data[data['Within_Dispute_Period'] == 1]\n",
    "    for _ in range(repetitions):\n",
    "        data = data.append(positive_samples)\n",
    "    return data.reset_index(drop=True)"
   ]
  },
  {
   "cell_type": "code",
   "execution_count": 6,
   "metadata": {},
   "outputs": [],
   "source": [
    "data_limit = 2000000\n",
    "df = get_data(data_limit, '2019-04-01', '2019-01-01')"
   ]
  },
  {
   "cell_type": "code",
   "execution_count": 7,
   "metadata": {},
   "outputs": [
    {
     "data": {
      "text/html": [
       "<div>\n",
       "<style scoped>\n",
       "    .dataframe tbody tr th:only-of-type {\n",
       "        vertical-align: middle;\n",
       "    }\n",
       "\n",
       "    .dataframe tbody tr th {\n",
       "        vertical-align: top;\n",
       "    }\n",
       "\n",
       "    .dataframe thead th {\n",
       "        text-align: right;\n",
       "    }\n",
       "</style>\n",
       "<table border=\"1\" class=\"dataframe\">\n",
       "  <thead>\n",
       "    <tr style=\"text-align: right;\">\n",
       "      <th></th>\n",
       "      <th>CUSTOMER_NO_ANON</th>\n",
       "      <th>Months_With_Offer</th>\n",
       "      <th>CUSTOMER_TYPE_DESC</th>\n",
       "      <th>OFFER_DESC</th>\n",
       "      <th>COMMITMENT_PERIOD</th>\n",
       "      <th>TOTAL_AMOUNT</th>\n",
       "      <th>Avg_Amount</th>\n",
       "      <th>Std_Amount</th>\n",
       "      <th>CREDIT_CLASS_DESC</th>\n",
       "      <th>SERVICE_TYPE</th>\n",
       "      <th>BILL_MONTH</th>\n",
       "      <th>RESOLUTION_DATE</th>\n",
       "      <th>Within_Dispute_Period</th>\n",
       "    </tr>\n",
       "  </thead>\n",
       "  <tbody>\n",
       "    <tr>\n",
       "      <th>0</th>\n",
       "      <td>8434707970976031174</td>\n",
       "      <td>23</td>\n",
       "      <td>Business</td>\n",
       "      <td>FreeMe Unlimited Deal</td>\n",
       "      <td>24</td>\n",
       "      <td>1610.26</td>\n",
       "      <td>1408.977500</td>\n",
       "      <td>532.543438</td>\n",
       "      <td>new</td>\n",
       "      <td>MOBILE</td>\n",
       "      <td>2019-06-01 00:00:00+00:00</td>\n",
       "      <td>NaT</td>\n",
       "      <td>0</td>\n",
       "    </tr>\n",
       "    <tr>\n",
       "      <th>1</th>\n",
       "      <td>8435805989213008025</td>\n",
       "      <td>6</td>\n",
       "      <td>Other</td>\n",
       "      <td>GC Unlimited Broadband 10Mbps</td>\n",
       "      <td>24</td>\n",
       "      <td>262.41</td>\n",
       "      <td>274.905000</td>\n",
       "      <td>27.939669</td>\n",
       "      <td>new</td>\n",
       "      <td>FIXED</td>\n",
       "      <td>2019-06-01 00:00:00+00:00</td>\n",
       "      <td>NaT</td>\n",
       "      <td>0</td>\n",
       "    </tr>\n",
       "    <tr>\n",
       "      <th>2</th>\n",
       "      <td>8440657939074637625</td>\n",
       "      <td>8</td>\n",
       "      <td>Other</td>\n",
       "      <td>Unlimited Home DSL 4Mbps (24 month)</td>\n",
       "      <td>24</td>\n",
       "      <td>568.97</td>\n",
       "      <td>627.672500</td>\n",
       "      <td>73.496002</td>\n",
       "      <td>low</td>\n",
       "      <td>FIXED</td>\n",
       "      <td>2019-03-01 00:00:00+00:00</td>\n",
       "      <td>NaT</td>\n",
       "      <td>0</td>\n",
       "    </tr>\n",
       "    <tr>\n",
       "      <th>3</th>\n",
       "      <td>8446369958128414835</td>\n",
       "      <td>8</td>\n",
       "      <td>Other</td>\n",
       "      <td>Unlimited Business DSL (8 Mbps) 24 Months</td>\n",
       "      <td>24</td>\n",
       "      <td>533.88</td>\n",
       "      <td>769.421250</td>\n",
       "      <td>435.180923</td>\n",
       "      <td>special low</td>\n",
       "      <td>FIXED</td>\n",
       "      <td>2019-03-01 00:00:00+00:00</td>\n",
       "      <td>NaT</td>\n",
       "      <td>0</td>\n",
       "    </tr>\n",
       "    <tr>\n",
       "      <th>4</th>\n",
       "      <td>8448380172178352586</td>\n",
       "      <td>3</td>\n",
       "      <td>Consumer</td>\n",
       "      <td>SmartInternet Top-Up 1GB Deal</td>\n",
       "      <td>24</td>\n",
       "      <td>60.00</td>\n",
       "      <td>67.096667</td>\n",
       "      <td>10.036202</td>\n",
       "      <td>new</td>\n",
       "      <td>MOBILE</td>\n",
       "      <td>2019-06-01 00:00:00+00:00</td>\n",
       "      <td>NaT</td>\n",
       "      <td>0</td>\n",
       "    </tr>\n",
       "  </tbody>\n",
       "</table>\n",
       "</div>"
      ],
      "text/plain": [
       "      CUSTOMER_NO_ANON  Months_With_Offer CUSTOMER_TYPE_DESC  \\\n",
       "0  8434707970976031174                 23           Business   \n",
       "1  8435805989213008025                  6              Other   \n",
       "2  8440657939074637625                  8              Other   \n",
       "3  8446369958128414835                  8              Other   \n",
       "4  8448380172178352586                  3           Consumer   \n",
       "\n",
       "                                  OFFER_DESC COMMITMENT_PERIOD  TOTAL_AMOUNT  \\\n",
       "0                      FreeMe Unlimited Deal                24       1610.26   \n",
       "1              GC Unlimited Broadband 10Mbps                24        262.41   \n",
       "2        Unlimited Home DSL 4Mbps (24 month)                24        568.97   \n",
       "3  Unlimited Business DSL (8 Mbps) 24 Months                24        533.88   \n",
       "4              SmartInternet Top-Up 1GB Deal                24         60.00   \n",
       "\n",
       "    Avg_Amount  Std_Amount CREDIT_CLASS_DESC SERVICE_TYPE  \\\n",
       "0  1408.977500  532.543438               new       MOBILE   \n",
       "1   274.905000   27.939669               new        FIXED   \n",
       "2   627.672500   73.496002               low        FIXED   \n",
       "3   769.421250  435.180923       special low        FIXED   \n",
       "4    67.096667   10.036202               new       MOBILE   \n",
       "\n",
       "                 BILL_MONTH RESOLUTION_DATE  Within_Dispute_Period  \n",
       "0 2019-06-01 00:00:00+00:00             NaT                      0  \n",
       "1 2019-06-01 00:00:00+00:00             NaT                      0  \n",
       "2 2019-03-01 00:00:00+00:00             NaT                      0  \n",
       "3 2019-03-01 00:00:00+00:00             NaT                      0  \n",
       "4 2019-06-01 00:00:00+00:00             NaT                      0  "
      ]
     },
     "execution_count": 7,
     "metadata": {},
     "output_type": "execute_result"
    }
   ],
   "source": [
    "df.head()"
   ]
  },
  {
   "cell_type": "code",
   "execution_count": 8,
   "metadata": {},
   "outputs": [
    {
     "name": "stdout",
     "output_type": "stream",
     "text": [
      "Proportion with disputed: 0.005\n"
     ]
    }
   ],
   "source": [
    "dispute_prop = round(df['Within_Dispute_Period'].sum()/df['Within_Dispute_Period'].count(), 3)\n",
    "print('Proportion with disputed:', dispute_prop)"
   ]
  },
  {
   "cell_type": "code",
   "execution_count": 9,
   "metadata": {},
   "outputs": [],
   "source": [
    "df = upsample(df, int(0.3/dispute_prop))\n",
    "accounts = df['CUSTOMER_NO_ANON']\n",
    "X = preprocess(df.drop('Within_Dispute_Period', 1))\n",
    "y = df['Within_Dispute_Period']\n",
    "\n",
    "df = None"
   ]
  },
  {
   "cell_type": "code",
   "execution_count": 10,
   "metadata": {},
   "outputs": [],
   "source": [
    "with open('columns.txt', 'w') as f:\n",
    "    for c in X.columns:\n",
    "        f.write(c + '\\n')"
   ]
  },
  {
   "cell_type": "code",
   "execution_count": 11,
   "metadata": {},
   "outputs": [
    {
     "name": "stdout",
     "output_type": "stream",
     "text": [
      "Proportion with disputed: 0.224\n",
      "Number of samples: 2566100\n"
     ]
    }
   ],
   "source": [
    "print('Proportion with disputed:', round(y.sum()/y.count(), 3))\n",
    "print('Number of samples:', len(X))"
   ]
  },
  {
   "cell_type": "code",
   "execution_count": 12,
   "metadata": {},
   "outputs": [
    {
     "data": {
      "text/html": [
       "<div>\n",
       "<style scoped>\n",
       "    .dataframe tbody tr th:only-of-type {\n",
       "        vertical-align: middle;\n",
       "    }\n",
       "\n",
       "    .dataframe tbody tr th {\n",
       "        vertical-align: top;\n",
       "    }\n",
       "\n",
       "    .dataframe thead th {\n",
       "        text-align: right;\n",
       "    }\n",
       "</style>\n",
       "<table border=\"1\" class=\"dataframe\">\n",
       "  <thead>\n",
       "    <tr style=\"text-align: right;\">\n",
       "      <th></th>\n",
       "      <th>Avg_Amount</th>\n",
       "      <th>COMMITMENT_PERIOD_0</th>\n",
       "      <th>COMMITMENT_PERIOD_12</th>\n",
       "      <th>COMMITMENT_PERIOD_18</th>\n",
       "      <th>COMMITMENT_PERIOD_24</th>\n",
       "      <th>COMMITMENT_PERIOD_3</th>\n",
       "      <th>COMMITMENT_PERIOD_36</th>\n",
       "      <th>COMMITMENT_PERIOD_48</th>\n",
       "      <th>COMMITMENT_PERIOD_6</th>\n",
       "      <th>COMMITMENT_PERIOD_60</th>\n",
       "      <th>...</th>\n",
       "      <th>OFFER_DESC_i-VPN ATM Subrate</th>\n",
       "      <th>SERVICE_TYPE_-</th>\n",
       "      <th>SERVICE_TYPE_BROADBAND</th>\n",
       "      <th>SERVICE_TYPE_FIXED</th>\n",
       "      <th>SERVICE_TYPE_INTERNET</th>\n",
       "      <th>SERVICE_TYPE_MOBILE</th>\n",
       "      <th>SERVICE_TYPE_VAS</th>\n",
       "      <th>SERVICE_TYPE_VOICE</th>\n",
       "      <th>Std_Amount</th>\n",
       "      <th>TOTAL_AMOUNT</th>\n",
       "    </tr>\n",
       "  </thead>\n",
       "  <tbody>\n",
       "    <tr>\n",
       "      <th>0</th>\n",
       "      <td>0.046816</td>\n",
       "      <td>0</td>\n",
       "      <td>0</td>\n",
       "      <td>0</td>\n",
       "      <td>1</td>\n",
       "      <td>0</td>\n",
       "      <td>0</td>\n",
       "      <td>0</td>\n",
       "      <td>0</td>\n",
       "      <td>0</td>\n",
       "      <td>...</td>\n",
       "      <td>0</td>\n",
       "      <td>0</td>\n",
       "      <td>0</td>\n",
       "      <td>0</td>\n",
       "      <td>0</td>\n",
       "      <td>1</td>\n",
       "      <td>0</td>\n",
       "      <td>0</td>\n",
       "      <td>0.038236</td>\n",
       "      <td>0.065388</td>\n",
       "    </tr>\n",
       "    <tr>\n",
       "      <th>1</th>\n",
       "      <td>-0.008600</td>\n",
       "      <td>0</td>\n",
       "      <td>0</td>\n",
       "      <td>0</td>\n",
       "      <td>1</td>\n",
       "      <td>0</td>\n",
       "      <td>0</td>\n",
       "      <td>0</td>\n",
       "      <td>0</td>\n",
       "      <td>0</td>\n",
       "      <td>...</td>\n",
       "      <td>0</td>\n",
       "      <td>0</td>\n",
       "      <td>0</td>\n",
       "      <td>1</td>\n",
       "      <td>0</td>\n",
       "      <td>0</td>\n",
       "      <td>0</td>\n",
       "      <td>0</td>\n",
       "      <td>-0.013762</td>\n",
       "      <td>-0.005778</td>\n",
       "    </tr>\n",
       "    <tr>\n",
       "      <th>2</th>\n",
       "      <td>0.008638</td>\n",
       "      <td>0</td>\n",
       "      <td>0</td>\n",
       "      <td>0</td>\n",
       "      <td>1</td>\n",
       "      <td>0</td>\n",
       "      <td>0</td>\n",
       "      <td>0</td>\n",
       "      <td>0</td>\n",
       "      <td>0</td>\n",
       "      <td>...</td>\n",
       "      <td>0</td>\n",
       "      <td>0</td>\n",
       "      <td>0</td>\n",
       "      <td>1</td>\n",
       "      <td>0</td>\n",
       "      <td>0</td>\n",
       "      <td>0</td>\n",
       "      <td>0</td>\n",
       "      <td>-0.009067</td>\n",
       "      <td>0.010408</td>\n",
       "    </tr>\n",
       "    <tr>\n",
       "      <th>3</th>\n",
       "      <td>0.015564</td>\n",
       "      <td>0</td>\n",
       "      <td>0</td>\n",
       "      <td>0</td>\n",
       "      <td>1</td>\n",
       "      <td>0</td>\n",
       "      <td>0</td>\n",
       "      <td>0</td>\n",
       "      <td>0</td>\n",
       "      <td>0</td>\n",
       "      <td>...</td>\n",
       "      <td>0</td>\n",
       "      <td>0</td>\n",
       "      <td>0</td>\n",
       "      <td>1</td>\n",
       "      <td>0</td>\n",
       "      <td>0</td>\n",
       "      <td>0</td>\n",
       "      <td>0</td>\n",
       "      <td>0.028203</td>\n",
       "      <td>0.008555</td>\n",
       "    </tr>\n",
       "    <tr>\n",
       "      <th>4</th>\n",
       "      <td>-0.018755</td>\n",
       "      <td>0</td>\n",
       "      <td>0</td>\n",
       "      <td>0</td>\n",
       "      <td>1</td>\n",
       "      <td>0</td>\n",
       "      <td>0</td>\n",
       "      <td>0</td>\n",
       "      <td>0</td>\n",
       "      <td>0</td>\n",
       "      <td>...</td>\n",
       "      <td>0</td>\n",
       "      <td>0</td>\n",
       "      <td>0</td>\n",
       "      <td>0</td>\n",
       "      <td>0</td>\n",
       "      <td>1</td>\n",
       "      <td>0</td>\n",
       "      <td>0</td>\n",
       "      <td>-0.015607</td>\n",
       "      <td>-0.016466</td>\n",
       "    </tr>\n",
       "  </tbody>\n",
       "</table>\n",
       "<p>5 rows × 1017 columns</p>\n",
       "</div>"
      ],
      "text/plain": [
       "   Avg_Amount  COMMITMENT_PERIOD_0  COMMITMENT_PERIOD_12  \\\n",
       "0    0.046816                    0                     0   \n",
       "1   -0.008600                    0                     0   \n",
       "2    0.008638                    0                     0   \n",
       "3    0.015564                    0                     0   \n",
       "4   -0.018755                    0                     0   \n",
       "\n",
       "   COMMITMENT_PERIOD_18  COMMITMENT_PERIOD_24  COMMITMENT_PERIOD_3  \\\n",
       "0                     0                     1                    0   \n",
       "1                     0                     1                    0   \n",
       "2                     0                     1                    0   \n",
       "3                     0                     1                    0   \n",
       "4                     0                     1                    0   \n",
       "\n",
       "   COMMITMENT_PERIOD_36  COMMITMENT_PERIOD_48  COMMITMENT_PERIOD_6  \\\n",
       "0                     0                     0                    0   \n",
       "1                     0                     0                    0   \n",
       "2                     0                     0                    0   \n",
       "3                     0                     0                    0   \n",
       "4                     0                     0                    0   \n",
       "\n",
       "   COMMITMENT_PERIOD_60      ...       OFFER_DESC_i-VPN ATM Subrate  \\\n",
       "0                     0      ...                                  0   \n",
       "1                     0      ...                                  0   \n",
       "2                     0      ...                                  0   \n",
       "3                     0      ...                                  0   \n",
       "4                     0      ...                                  0   \n",
       "\n",
       "   SERVICE_TYPE_-  SERVICE_TYPE_BROADBAND  SERVICE_TYPE_FIXED  \\\n",
       "0               0                       0                   0   \n",
       "1               0                       0                   1   \n",
       "2               0                       0                   1   \n",
       "3               0                       0                   1   \n",
       "4               0                       0                   0   \n",
       "\n",
       "   SERVICE_TYPE_INTERNET  SERVICE_TYPE_MOBILE  SERVICE_TYPE_VAS  \\\n",
       "0                      0                    1                 0   \n",
       "1                      0                    0                 0   \n",
       "2                      0                    0                 0   \n",
       "3                      0                    0                 0   \n",
       "4                      0                    1                 0   \n",
       "\n",
       "   SERVICE_TYPE_VOICE  Std_Amount  TOTAL_AMOUNT  \n",
       "0                   0    0.038236      0.065388  \n",
       "1                   0   -0.013762     -0.005778  \n",
       "2                   0   -0.009067      0.010408  \n",
       "3                   0    0.028203      0.008555  \n",
       "4                   0   -0.015607     -0.016466  \n",
       "\n",
       "[5 rows x 1017 columns]"
      ]
     },
     "execution_count": 12,
     "metadata": {},
     "output_type": "execute_result"
    }
   ],
   "source": [
    "X.head()"
   ]
  },
  {
   "cell_type": "code",
   "execution_count": 13,
   "metadata": {},
   "outputs": [
    {
     "name": "stdout",
     "output_type": "stream",
     "text": [
      "(2566100, 1017) (2566100,)\n"
     ]
    }
   ],
   "source": [
    "print(X.shape, y.shape)"
   ]
  },
  {
   "cell_type": "code",
   "execution_count": 14,
   "metadata": {},
   "outputs": [
    {
     "name": "stdout",
     "output_type": "stream",
     "text": [
      "Number of features: 1017\n"
     ]
    }
   ],
   "source": [
    "print('Number of features:', len(X.columns))"
   ]
  },
  {
   "cell_type": "code",
   "execution_count": 15,
   "metadata": {},
   "outputs": [],
   "source": [
    "X_train, X_test, y_train, y_test = train_test_split(X, y, random_state=42, test_size=0.3)"
   ]
  },
  {
   "cell_type": "code",
   "execution_count": 16,
   "metadata": {},
   "outputs": [
    {
     "name": "stdout",
     "output_type": "stream",
     "text": [
      "Proportion with disputed (test): 0.224\n"
     ]
    }
   ],
   "source": [
    "print('Proportion with disputed (test):', round(y_test.sum()/y_test.count(), 3))"
   ]
  },
  {
   "cell_type": "code",
   "execution_count": 46,
   "metadata": {},
   "outputs": [
    {
     "name": "stdout",
     "output_type": "stream",
     "text": [
      "Model: \"sequential_2\"\n",
      "_________________________________________________________________\n",
      "Layer (type)                 Output Shape              Param #   \n",
      "=================================================================\n",
      "dense_6 (Dense)              (None, 8)                 8144      \n",
      "_________________________________________________________________\n",
      "dense_7 (Dense)              (None, 4)                 36        \n",
      "_________________________________________________________________\n",
      "dense_8 (Dense)              (None, 1)                 5         \n",
      "=================================================================\n",
      "Total params: 8,185\n",
      "Trainable params: 8,185\n",
      "Non-trainable params: 0\n",
      "_________________________________________________________________\n",
      "None\n",
      "Train on 1796270 samples, validate on 769830 samples\n",
      "Epoch 1/40\n",
      "1796270/1796270 [==============================] - 117s 65us/sample - loss: 2.4841 - acc: 0.2266 - val_loss: 2.3014 - val_acc: 0.2297\n",
      "Epoch 2/40\n",
      "1796270/1796270 [==============================] - 116s 64us/sample - loss: 2.1654 - acc: 0.2307 - val_loss: 1.9807 - val_acc: 0.2350\n",
      "Epoch 3/40\n",
      "1796270/1796270 [==============================] - 115s 64us/sample - loss: 1.8562 - acc: 0.2424 - val_loss: 1.6790 - val_acc: 0.2544\n",
      "Epoch 4/40\n",
      "1796270/1796270 [==============================] - 116s 65us/sample - loss: 1.5661 - acc: 0.2626 - val_loss: 1.3973 - val_acc: 0.2947\n",
      "Epoch 5/40\n",
      "1796270/1796270 [==============================] - 116s 64us/sample - loss: 1.2911 - acc: 0.3326 - val_loss: 1.1319 - val_acc: 0.4152\n",
      "Epoch 6/40\n",
      "1796270/1796270 [==============================] - 117s 65us/sample - loss: 1.0688 - acc: 0.4928 - val_loss: 1.0296 - val_acc: 0.6295\n",
      "Epoch 7/40\n",
      "1796270/1796270 [==============================] - 116s 64us/sample - loss: 1.0101 - acc: 0.6839 - val_loss: 0.9817 - val_acc: 0.7640\n",
      "Epoch 8/40\n",
      "1796270/1796270 [==============================] - 117s 65us/sample - loss: 0.9589 - acc: 0.7909 - val_loss: 0.9297 - val_acc: 0.8245\n",
      "Epoch 9/40\n",
      "1796270/1796270 [==============================] - 118s 65us/sample - loss: 0.9082 - acc: 0.8416 - val_loss: 0.8791 - val_acc: 0.8587\n",
      "Epoch 10/40\n",
      "1796270/1796270 [==============================] - 116s 65us/sample - loss: 0.8590 - acc: 0.8623 - val_loss: 0.8317 - val_acc: 0.8687\n",
      "Epoch 11/40\n",
      "1796270/1796270 [==============================] - 118s 66us/sample - loss: 0.8143 - acc: 0.8720 - val_loss: 0.7904 - val_acc: 0.8756\n",
      "Epoch 12/40\n",
      "1796270/1796270 [==============================] - 120s 67us/sample - loss: 0.7749 - acc: 0.8772 - val_loss: 0.7527 - val_acc: 0.8778\n",
      "Epoch 13/40\n",
      "1796270/1796270 [==============================] - 118s 66us/sample - loss: 0.7381 - acc: 0.8779 - val_loss: 0.7162 - val_acc: 0.8767\n",
      "Epoch 14/40\n",
      "1796270/1796270 [==============================] - 117s 65us/sample - loss: 0.7031 - acc: 0.8779 - val_loss: 0.6839 - val_acc: 0.8769\n",
      "Epoch 15/40\n",
      "1796270/1796270 [==============================] - 117s 65us/sample - loss: 0.6722 - acc: 0.8780 - val_loss: 0.6536 - val_acc: 0.8775\n",
      "Epoch 16/40\n",
      "1796270/1796270 [==============================] - 118s 66us/sample - loss: 0.6453 - acc: 0.8788 - val_loss: 0.6352 - val_acc: 0.8790\n",
      "Epoch 17/40\n",
      "1796270/1796270 [==============================] - 117s 65us/sample - loss: 0.6299 - acc: 0.8802 - val_loss: 0.6221 - val_acc: 0.8805\n",
      "Epoch 18/40\n",
      "1796270/1796270 [==============================] - 117s 65us/sample - loss: 0.6234 - acc: 0.8818 - val_loss: 0.6229 - val_acc: 0.8818\n",
      "Epoch 19/40\n",
      "1796270/1796270 [==============================] - 119s 66us/sample - loss: 0.6198 - acc: 0.8823 - val_loss: 0.6190 - val_acc: 0.8817\n",
      "Epoch 20/40\n",
      "1796270/1796270 [==============================] - 117s 65us/sample - loss: 0.6201 - acc: 0.8822 - val_loss: 0.6176 - val_acc: 0.8814\n",
      "Epoch 21/40\n",
      "1796270/1796270 [==============================] - 117s 65us/sample - loss: 0.6160 - acc: 0.8826 - val_loss: 0.6136 - val_acc: 0.8831\n",
      "Epoch 22/40\n",
      "1796270/1796270 [==============================] - 118s 66us/sample - loss: 0.6126 - acc: 0.8843 - val_loss: 0.6120 - val_acc: 0.8848\n",
      "Epoch 23/40\n",
      "1796270/1796270 [==============================] - 117s 65us/sample - loss: 0.6108 - acc: 0.8856 - val_loss: 0.6091 - val_acc: 0.8849\n",
      "Epoch 24/40\n",
      "1796270/1796270 [==============================] - 117s 65us/sample - loss: 0.6083 - acc: 0.8854 - val_loss: 0.6074 - val_acc: 0.8844\n",
      "Epoch 25/40\n"
     ]
    },
    {
     "ename": "KeyboardInterrupt",
     "evalue": "",
     "output_type": "error",
     "traceback": [
      "\u001b[0;31m---------------------------------------------------------------------------\u001b[0m",
      "\u001b[0;31mKeyboardInterrupt\u001b[0m                         Traceback (most recent call last)",
      "\u001b[0;32m<ipython-input-46-d2eef72e91bc>\u001b[0m in \u001b[0;36m<module>\u001b[0;34m\u001b[0m\n\u001b[1;32m     18\u001b[0m                     \u001b[0mvalidation_data\u001b[0m\u001b[0;34m=\u001b[0m\u001b[0;34m[\u001b[0m\u001b[0mX_test\u001b[0m\u001b[0;34m,\u001b[0m \u001b[0my_test\u001b[0m\u001b[0;34m]\u001b[0m\u001b[0;34m,\u001b[0m\u001b[0;34m\u001b[0m\u001b[0m\n\u001b[1;32m     19\u001b[0m                     \u001b[0mepochs\u001b[0m\u001b[0;34m=\u001b[0m\u001b[0;36m40\u001b[0m\u001b[0;34m,\u001b[0m \u001b[0mcallbacks\u001b[0m\u001b[0;34m=\u001b[0m\u001b[0;34m[\u001b[0m\u001b[0mes\u001b[0m\u001b[0;34m]\u001b[0m\u001b[0;34m,\u001b[0m\u001b[0;34m\u001b[0m\u001b[0m\n\u001b[0;32m---> 20\u001b[0;31m                    batch_size=data_limit//5)\n\u001b[0m\u001b[1;32m     21\u001b[0m \u001b[0;34m\u001b[0m\u001b[0m\n",
      "\u001b[0;32m~/.local/lib/python3.5/site-packages/tensorflow/python/keras/engine/training.py\u001b[0m in \u001b[0;36mfit\u001b[0;34m(self, x, y, batch_size, epochs, verbose, callbacks, validation_split, validation_data, shuffle, class_weight, sample_weight, initial_epoch, steps_per_epoch, validation_steps, validation_freq, max_queue_size, workers, use_multiprocessing, **kwargs)\u001b[0m\n\u001b[1;32m    778\u001b[0m           \u001b[0mvalidation_steps\u001b[0m\u001b[0;34m=\u001b[0m\u001b[0mvalidation_steps\u001b[0m\u001b[0;34m,\u001b[0m\u001b[0;34m\u001b[0m\u001b[0m\n\u001b[1;32m    779\u001b[0m           \u001b[0mvalidation_freq\u001b[0m\u001b[0;34m=\u001b[0m\u001b[0mvalidation_freq\u001b[0m\u001b[0;34m,\u001b[0m\u001b[0;34m\u001b[0m\u001b[0m\n\u001b[0;32m--> 780\u001b[0;31m           steps_name='steps_per_epoch')\n\u001b[0m\u001b[1;32m    781\u001b[0m \u001b[0;34m\u001b[0m\u001b[0m\n\u001b[1;32m    782\u001b[0m   def evaluate(self,\n",
      "\u001b[0;32m~/.local/lib/python3.5/site-packages/tensorflow/python/keras/engine/training_arrays.py\u001b[0m in \u001b[0;36mmodel_iteration\u001b[0;34m(model, inputs, targets, sample_weights, batch_size, epochs, verbose, callbacks, val_inputs, val_targets, val_sample_weights, shuffle, initial_epoch, steps_per_epoch, validation_steps, validation_freq, mode, validation_in_fit, prepared_feed_values_from_dataset, steps_name, **kwargs)\u001b[0m\n\u001b[1;32m    342\u001b[0m           \u001b[0;32mif\u001b[0m \u001b[0mins\u001b[0m \u001b[0;32mand\u001b[0m \u001b[0misinstance\u001b[0m\u001b[0;34m(\u001b[0m\u001b[0mins\u001b[0m\u001b[0;34m[\u001b[0m\u001b[0;34m-\u001b[0m\u001b[0;36m1\u001b[0m\u001b[0;34m]\u001b[0m\u001b[0;34m,\u001b[0m \u001b[0mint\u001b[0m\u001b[0;34m)\u001b[0m\u001b[0;34m:\u001b[0m\u001b[0;34m\u001b[0m\u001b[0m\n\u001b[1;32m    343\u001b[0m             \u001b[0;31m# Do not slice the training phase flag.\u001b[0m\u001b[0;34m\u001b[0m\u001b[0;34m\u001b[0m\u001b[0m\n\u001b[0;32m--> 344\u001b[0;31m             \u001b[0mins_batch\u001b[0m \u001b[0;34m=\u001b[0m \u001b[0mslice_arrays\u001b[0m\u001b[0;34m(\u001b[0m\u001b[0mins\u001b[0m\u001b[0;34m[\u001b[0m\u001b[0;34m:\u001b[0m\u001b[0;34m-\u001b[0m\u001b[0;36m1\u001b[0m\u001b[0;34m]\u001b[0m\u001b[0;34m,\u001b[0m \u001b[0mbatch_ids\u001b[0m\u001b[0;34m)\u001b[0m \u001b[0;34m+\u001b[0m \u001b[0;34m[\u001b[0m\u001b[0mins\u001b[0m\u001b[0;34m[\u001b[0m\u001b[0;34m-\u001b[0m\u001b[0;36m1\u001b[0m\u001b[0;34m]\u001b[0m\u001b[0;34m]\u001b[0m\u001b[0;34m\u001b[0m\u001b[0m\n\u001b[0m\u001b[1;32m    345\u001b[0m           \u001b[0;32melse\u001b[0m\u001b[0;34m:\u001b[0m\u001b[0;34m\u001b[0m\u001b[0m\n\u001b[1;32m    346\u001b[0m             \u001b[0mins_batch\u001b[0m \u001b[0;34m=\u001b[0m \u001b[0mslice_arrays\u001b[0m\u001b[0;34m(\u001b[0m\u001b[0mins\u001b[0m\u001b[0;34m,\u001b[0m \u001b[0mbatch_ids\u001b[0m\u001b[0;34m)\u001b[0m\u001b[0;34m\u001b[0m\u001b[0m\n",
      "\u001b[0;32m~/.local/lib/python3.5/site-packages/tensorflow/python/keras/utils/generic_utils.py\u001b[0m in \u001b[0;36mslice_arrays\u001b[0;34m(arrays, start, stop)\u001b[0m\n\u001b[1;32m    529\u001b[0m       \u001b[0;32mif\u001b[0m \u001b[0mhasattr\u001b[0m\u001b[0;34m(\u001b[0m\u001b[0mstart\u001b[0m\u001b[0;34m,\u001b[0m \u001b[0;34m'shape'\u001b[0m\u001b[0;34m)\u001b[0m\u001b[0;34m:\u001b[0m\u001b[0;34m\u001b[0m\u001b[0m\n\u001b[1;32m    530\u001b[0m         \u001b[0mstart\u001b[0m \u001b[0;34m=\u001b[0m \u001b[0mstart\u001b[0m\u001b[0;34m.\u001b[0m\u001b[0mtolist\u001b[0m\u001b[0;34m(\u001b[0m\u001b[0;34m)\u001b[0m\u001b[0;34m\u001b[0m\u001b[0m\n\u001b[0;32m--> 531\u001b[0;31m       \u001b[0;32mreturn\u001b[0m \u001b[0;34m[\u001b[0m\u001b[0;32mNone\u001b[0m \u001b[0;32mif\u001b[0m \u001b[0mx\u001b[0m \u001b[0;32mis\u001b[0m \u001b[0;32mNone\u001b[0m \u001b[0;32melse\u001b[0m \u001b[0mx\u001b[0m\u001b[0;34m[\u001b[0m\u001b[0mstart\u001b[0m\u001b[0;34m]\u001b[0m \u001b[0;32mfor\u001b[0m \u001b[0mx\u001b[0m \u001b[0;32min\u001b[0m \u001b[0marrays\u001b[0m\u001b[0;34m]\u001b[0m\u001b[0;34m\u001b[0m\u001b[0m\n\u001b[0m\u001b[1;32m    532\u001b[0m     \u001b[0;32melse\u001b[0m\u001b[0;34m:\u001b[0m\u001b[0;34m\u001b[0m\u001b[0m\n\u001b[1;32m    533\u001b[0m       \u001b[0;32mreturn\u001b[0m \u001b[0;34m[\u001b[0m\u001b[0;32mNone\u001b[0m \u001b[0;32mif\u001b[0m \u001b[0mx\u001b[0m \u001b[0;32mis\u001b[0m \u001b[0;32mNone\u001b[0m \u001b[0;32melse\u001b[0m \u001b[0mx\u001b[0m\u001b[0;34m[\u001b[0m\u001b[0mstart\u001b[0m\u001b[0;34m:\u001b[0m\u001b[0mstop\u001b[0m\u001b[0;34m]\u001b[0m \u001b[0;32mfor\u001b[0m \u001b[0mx\u001b[0m \u001b[0;32min\u001b[0m \u001b[0marrays\u001b[0m\u001b[0;34m]\u001b[0m\u001b[0;34m\u001b[0m\u001b[0m\n",
      "\u001b[0;32m~/.local/lib/python3.5/site-packages/tensorflow/python/keras/utils/generic_utils.py\u001b[0m in \u001b[0;36m<listcomp>\u001b[0;34m(.0)\u001b[0m\n\u001b[1;32m    529\u001b[0m       \u001b[0;32mif\u001b[0m \u001b[0mhasattr\u001b[0m\u001b[0;34m(\u001b[0m\u001b[0mstart\u001b[0m\u001b[0;34m,\u001b[0m \u001b[0;34m'shape'\u001b[0m\u001b[0;34m)\u001b[0m\u001b[0;34m:\u001b[0m\u001b[0;34m\u001b[0m\u001b[0m\n\u001b[1;32m    530\u001b[0m         \u001b[0mstart\u001b[0m \u001b[0;34m=\u001b[0m \u001b[0mstart\u001b[0m\u001b[0;34m.\u001b[0m\u001b[0mtolist\u001b[0m\u001b[0;34m(\u001b[0m\u001b[0;34m)\u001b[0m\u001b[0;34m\u001b[0m\u001b[0m\n\u001b[0;32m--> 531\u001b[0;31m       \u001b[0;32mreturn\u001b[0m \u001b[0;34m[\u001b[0m\u001b[0;32mNone\u001b[0m \u001b[0;32mif\u001b[0m \u001b[0mx\u001b[0m \u001b[0;32mis\u001b[0m \u001b[0;32mNone\u001b[0m \u001b[0;32melse\u001b[0m \u001b[0mx\u001b[0m\u001b[0;34m[\u001b[0m\u001b[0mstart\u001b[0m\u001b[0;34m]\u001b[0m \u001b[0;32mfor\u001b[0m \u001b[0mx\u001b[0m \u001b[0;32min\u001b[0m \u001b[0marrays\u001b[0m\u001b[0;34m]\u001b[0m\u001b[0;34m\u001b[0m\u001b[0m\n\u001b[0m\u001b[1;32m    532\u001b[0m     \u001b[0;32melse\u001b[0m\u001b[0;34m:\u001b[0m\u001b[0;34m\u001b[0m\u001b[0m\n\u001b[1;32m    533\u001b[0m       \u001b[0;32mreturn\u001b[0m \u001b[0;34m[\u001b[0m\u001b[0;32mNone\u001b[0m \u001b[0;32mif\u001b[0m \u001b[0mx\u001b[0m \u001b[0;32mis\u001b[0m \u001b[0;32mNone\u001b[0m \u001b[0;32melse\u001b[0m \u001b[0mx\u001b[0m\u001b[0;34m[\u001b[0m\u001b[0mstart\u001b[0m\u001b[0;34m:\u001b[0m\u001b[0mstop\u001b[0m\u001b[0;34m]\u001b[0m \u001b[0;32mfor\u001b[0m \u001b[0mx\u001b[0m \u001b[0;32min\u001b[0m \u001b[0marrays\u001b[0m\u001b[0;34m]\u001b[0m\u001b[0;34m\u001b[0m\u001b[0m\n",
      "\u001b[0;31mKeyboardInterrupt\u001b[0m: "
     ]
    }
   ],
   "source": [
    "model = Sequential()\n",
    "\n",
    "model.add(Dense(8, input_dim=X.shape[1], activation='relu'))\n",
    "model.add(Dense(8, activation='relu'))\n",
    "model.add(Dense(1, activation='sigmoid'))\n",
    "\n",
    "\n",
    "es = EarlyStopping(monitor='val_loss', patience=15)\n",
    "\n",
    "\n",
    "model.compile(optimizer='adam',\n",
    "              loss='binary_crossentropy',          \n",
    "              metrics=['accuracy']);\n",
    "\n",
    "print(model.summary())\n",
    "\n",
    "history = model.fit(X_train, y_train, \n",
    "                    validation_data=[X_test, y_test], \n",
    "                    epochs=40, callbacks=[es],\n",
    "                   batch_size=data_limit//5)\n",
    "                   "
   ]
  },
  {
   "cell_type": "code",
   "execution_count": null,
   "metadata": {},
   "outputs": [],
   "source": [
    "model.save('dispute_model.h5')"
   ]
  },
  {
   "cell_type": "code",
   "execution_count": null,
   "metadata": {},
   "outputs": [],
   "source": [
    "y_pred = (model.predict(X_test) > 0.5) * 1"
   ]
  },
  {
   "cell_type": "code",
   "execution_count": null,
   "metadata": {},
   "outputs": [],
   "source": [
    "X.head()"
   ]
  },
  {
   "cell_type": "code",
   "execution_count": null,
   "metadata": {},
   "outputs": [],
   "source": [
    "confusion = pd.DataFrame(confusion_matrix(y_test, y_pred, labels=[0, 1]), columns=['no dispute', 'dispute'], index=['no dispute', 'dispute'])"
   ]
  },
  {
   "cell_type": "code",
   "execution_count": null,
   "metadata": {},
   "outputs": [],
   "source": [
    "confusion"
   ]
  },
  {
   "cell_type": "code",
   "execution_count": null,
   "metadata": {},
   "outputs": [],
   "source": [
    "print(classification_report(y_test, y_pred))"
   ]
  },
  {
   "cell_type": "code",
   "execution_count": null,
   "metadata": {},
   "outputs": [],
   "source": [
    "plt.plot(history.history['val_acc']);"
   ]
  },
  {
   "cell_type": "code",
   "execution_count": null,
   "metadata": {},
   "outputs": [],
   "source": [
    "dataset = pd.DataFrame(model.predict(X_test), columns=['probability'], index=X_test.index)\n",
    "dataset = dataset[dataset['probability'] >= 0.3]\n",
    "dataset['category'] = dataset['probability'].apply(lambda x: 'green' if x <= 0.5 else 'orange' if x < 0.75 else 'red')\n",
    "dataset = dataset.join(accounts)\n",
    "dataset = dataset.groupby('CUSTOMER_NO_ANON', as_index=False).max()"
   ]
  },
  {
   "cell_type": "code",
   "execution_count": null,
   "metadata": {},
   "outputs": [],
   "source": [
    "dataset['bin'] = pd.cut(dataset['probability'], bins=15).apply(lambda x: str(x.right) if x.left > dataset['probability'].min() else '{0} - {1}'.format(x.left, x.right))\n",
    "dataset = dataset.sort_values('bin')\n",
    "\n",
    "print(dataset.head())"
   ]
  },
  {
   "cell_type": "code",
   "execution_count": null,
   "metadata": {},
   "outputs": [],
   "source": [
    "dataset = dataset[['bin', 'CUSTOMER_NO_ANON', 'category']].groupby(['bin', 'category'], as_index=False).count()"
   ]
  },
  {
   "cell_type": "code",
   "execution_count": null,
   "metadata": {},
   "outputs": [],
   "source": [
    "for c in ['green', 'orange', 'red']:\n",
    "    data = dataset[dataset['category'] == c]\n",
    "    plt.bar(data['bin'], data['CUSTOMER_NO_ANON'], color=c);\n",
    "plt.show()"
   ]
  },
  {
   "cell_type": "code",
   "execution_count": null,
   "metadata": {},
   "outputs": [],
   "source": []
  }
 ],
 "metadata": {
  "kernelspec": {
   "display_name": "Python 3",
   "language": "python",
   "name": "python3"
  },
  "language_info": {
   "codemirror_mode": {
    "name": "ipython",
    "version": 3
   },
   "file_extension": ".py",
   "mimetype": "text/x-python",
   "name": "python",
   "nbconvert_exporter": "python",
   "pygments_lexer": "ipython3",
   "version": "3.5.3"
  }
 },
 "nbformat": 4,
 "nbformat_minor": 4
}
